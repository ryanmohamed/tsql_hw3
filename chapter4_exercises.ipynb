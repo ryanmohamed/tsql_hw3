{
    "metadata": {
        "kernelspec": {
            "name": "SQL",
            "display_name": "SQL",
            "language": "sql"
        },
        "language_info": {
            "name": "sql",
            "version": ""
        }
    },
    "nbformat_minor": 2,
    "nbformat": 4,
    "cells": [
        {
            "cell_type": "markdown",
            "source": [
                "1) Return **all orders placed on the last day of activity that can be found in the Orders table**"
            ],
            "metadata": {
                "azdata_cell_guid": "8702eb8e-57dc-4952-8e85-01ffe6decaeb"
            },
            "attachments": {}
        },
        {
            "cell_type": "markdown",
            "source": [
                "```\n",
                "orderid     orderdate   custid      empid\n",
                "----------- ----------- ----------- -----------\n",
                "11077       2016-05-06  65          1\n",
                "11076       2016-05-06  9           4\n",
                "11075       2016-05-06  68          8\n",
                "11074       2016-05-06  73          7\n",
                "\n",
                "(4 row(s) affected)\n",
                "```"
            ],
            "metadata": {
                "azdata_cell_guid": "d7d5509f-5642-48e6-979c-53ee7e96946d"
            },
            "attachments": {}
        },
        {
            "cell_type": "code",
            "source": [
                "use Northwinds2022TSQLV7\n",
                "\n",
                "select OrderId as orderid,\n",
                "    OrderDate as orderdate,\n",
                "    CustomerId as custid,\n",
                "    EmployeeId as empid\n",
                "from Sales.[Order] as O1\n",
                "--filter for all orders on same date\n",
                "where O1.OrderDate = (\n",
                "    -- find last day of activity in orders table\n",
                "    select max(OrderDate) --get scalar value of last day \n",
                "    from Sales.[Order]\n",
                ")\n",
                "\n",
                "order by orderid desc"
            ],
            "metadata": {
                "azdata_cell_guid": "3ea21578-5967-4213-bf2a-7c7793c30858",
                "language": "sql"
            },
            "outputs": [
                {
                    "output_type": "display_data",
                    "data": {
                        "text/html": "(4 rows affected)"
                    },
                    "metadata": {}
                },
                {
                    "output_type": "display_data",
                    "data": {
                        "text/html": "Total execution time: 00:00:00.019"
                    },
                    "metadata": {}
                },
                {
                    "output_type": "execute_result",
                    "metadata": {},
                    "execution_count": 6,
                    "data": {
                        "application/vnd.dataresource+json": {
                            "schema": {
                                "fields": [
                                    {
                                        "name": "orderid"
                                    },
                                    {
                                        "name": "orderdate"
                                    },
                                    {
                                        "name": "custid"
                                    },
                                    {
                                        "name": "empid"
                                    }
                                ]
                            },
                            "data": [
                                {
                                    "0": "11077",
                                    "1": "2016-05-06",
                                    "2": "65",
                                    "3": "1"
                                },
                                {
                                    "0": "11076",
                                    "1": "2016-05-06",
                                    "2": "9",
                                    "3": "4"
                                },
                                {
                                    "0": "11075",
                                    "1": "2016-05-06",
                                    "2": "68",
                                    "3": "8"
                                },
                                {
                                    "0": "11074",
                                    "1": "2016-05-06",
                                    "2": "73",
                                    "3": "7"
                                }
                            ]
                        },
                        "text/html": [
                            "<table>",
                            "<tr><th>orderid</th><th>orderdate</th><th>custid</th><th>empid</th></tr>",
                            "<tr><td>11077</td><td>2016-05-06</td><td>65</td><td>1</td></tr>",
                            "<tr><td>11076</td><td>2016-05-06</td><td>9</td><td>4</td></tr>",
                            "<tr><td>11075</td><td>2016-05-06</td><td>68</td><td>8</td></tr>",
                            "<tr><td>11074</td><td>2016-05-06</td><td>73</td><td>7</td></tr>",
                            "</table>"
                        ]
                    }
                }
            ],
            "execution_count": 6
        },
        {
            "cell_type": "markdown",
            "source": [
                "3) **Employees that did not place orders on or after May 1st 2016**"
            ],
            "metadata": {
                "language": "sql",
                "azdata_cell_guid": "1d643262-ece1-432d-a926-80ecd18e74bf"
            },
            "attachments": {}
        },
        {
            "cell_type": "markdown",
            "source": [
                "```\n",
                "empid       FirstName  lastname\n",
                "----------- ---------- --------------------\n",
                "3           Judy       Lew\n",
                "5           Sven       Mortensen\n",
                "6           Paul       Suurs\n",
                "9           Patricia   Doyle\n",
                "\n",
                "(4 row(s) affected)\n",
                "```"
            ],
            "metadata": {
                "language": "sql",
                "azdata_cell_guid": "0f781509-f375-47b5-b7e0-11d6ebda60e2"
            },
            "attachments": {}
        },
        {
            "cell_type": "code",
            "source": [
                "use Northwinds2022TSQLV7\n",
                "\n",
                "select EmployeeId as empid,\n",
                "    EmployeeFirstName as FirstName,\n",
                "    EmployeeLastName as lastname\n",
                "from HumanResources.Employee as E\n",
                "where E.EmployeeId not in (\n",
                "    --find all employees who ordered on or after May 1st 2016\n",
                "    select distinct O.EmployeeId \n",
                "    from Sales.[Order] as O\n",
                "    where O.OrderDate >= '20160501'\n",
                ")\n",
                "order by empid asc"
            ],
            "metadata": {
                "language": "sql",
                "azdata_cell_guid": "24db7b9f-bbeb-47d2-8fb0-c8195f58e4b6",
                "tags": []
            },
            "outputs": [
                {
                    "output_type": "display_data",
                    "data": {
                        "text/html": "(4 rows affected)"
                    },
                    "metadata": {}
                },
                {
                    "output_type": "display_data",
                    "data": {
                        "text/html": "Total execution time: 00:00:00.037"
                    },
                    "metadata": {}
                },
                {
                    "output_type": "execute_result",
                    "metadata": {},
                    "execution_count": 13,
                    "data": {
                        "application/vnd.dataresource+json": {
                            "schema": {
                                "fields": [
                                    {
                                        "name": "empid"
                                    },
                                    {
                                        "name": "FirstName"
                                    },
                                    {
                                        "name": "lastname"
                                    }
                                ]
                            },
                            "data": [
                                {
                                    "0": "3",
                                    "1": "Judy",
                                    "2": "Lew"
                                },
                                {
                                    "0": "5",
                                    "1": "Sven",
                                    "2": "Mortensen"
                                },
                                {
                                    "0": "6",
                                    "1": "Paul",
                                    "2": "Suurs"
                                },
                                {
                                    "0": "9",
                                    "1": "Patricia",
                                    "2": "Doyle"
                                }
                            ]
                        },
                        "text/html": [
                            "<table>",
                            "<tr><th>empid</th><th>FirstName</th><th>lastname</th></tr>",
                            "<tr><td>3</td><td>Judy</td><td>Lew</td></tr>",
                            "<tr><td>5</td><td>Sven</td><td>Mortensen</td></tr>",
                            "<tr><td>6</td><td>Paul</td><td>Suurs</td></tr>",
                            "<tr><td>9</td><td>Patricia</td><td>Doyle</td></tr>",
                            "</table>"
                        ]
                    }
                }
            ],
            "execution_count": 13
        },
        {
            "cell_type": "markdown",
            "source": [
                "4. **Countries where there are customers but NO employees**"
            ],
            "metadata": {
                "language": "sql",
                "azdata_cell_guid": "51de96ae-15c4-4425-a60b-b46625e3db40"
            },
            "attachments": {}
        },
        {
            "cell_type": "markdown",
            "source": [
                "```\n",
                "country\n",
                "---------------\n",
                "Argentina\n",
                "Austria\n",
                "Belgium\n",
                "Brazil\n",
                "Canada\n",
                "Denmark\n",
                "Finland\n",
                "France\n",
                "Germany\n",
                "Ireland\n",
                "Italy\n",
                "Mexico\n",
                "Norway\n",
                "Poland\n",
                "Portugal\n",
                "Spain\n",
                "Sweden\n",
                "Switzerland\n",
                "Venezuela\n",
                "\n",
                "(19 row(s) affected)\n",
                "```"
            ],
            "metadata": {
                "language": "sql",
                "azdata_cell_guid": "c1c3418a-b0ee-4761-97c5-d5a5d966df20"
            },
            "attachments": {}
        },
        {
            "cell_type": "code",
            "source": [
                "use Northwinds2022TSQLV7\n",
                "\n",
                "--countries with customers\n",
                "select distinct CustomerCountry as country\n",
                "from Sales.[Customer] as C\n",
                "where C.CustomerCountry not in ( --remove countries found in employee countries\n",
                "    -- all employee countries\n",
                "    select E.EmployeeCountry\n",
                "    from HumanResources.Employee as E\n",
                ")\n",
                "order by country\n",
                "\n",
                "\n",
                ""
            ],
            "metadata": {
                "language": "sql",
                "azdata_cell_guid": "eaf6a91a-77b3-4721-9a96-b03b11ea1854"
            },
            "outputs": [
                {
                    "output_type": "display_data",
                    "data": {
                        "text/html": "(19 rows affected)"
                    },
                    "metadata": {}
                },
                {
                    "output_type": "display_data",
                    "data": {
                        "text/html": "Total execution time: 00:00:00.048"
                    },
                    "metadata": {}
                },
                {
                    "output_type": "execute_result",
                    "metadata": {},
                    "execution_count": 23,
                    "data": {
                        "application/vnd.dataresource+json": {
                            "schema": {
                                "fields": [
                                    {
                                        "name": "country"
                                    }
                                ]
                            },
                            "data": [
                                {
                                    "0": "Argentina"
                                },
                                {
                                    "0": "Austria"
                                },
                                {
                                    "0": "Belgium"
                                },
                                {
                                    "0": "Brazil"
                                },
                                {
                                    "0": "Canada"
                                },
                                {
                                    "0": "Denmark"
                                },
                                {
                                    "0": "Finland"
                                },
                                {
                                    "0": "France"
                                },
                                {
                                    "0": "Germany"
                                },
                                {
                                    "0": "Ireland"
                                },
                                {
                                    "0": "Italy"
                                },
                                {
                                    "0": "Mexico"
                                },
                                {
                                    "0": "Norway"
                                },
                                {
                                    "0": "Poland"
                                },
                                {
                                    "0": "Portugal"
                                },
                                {
                                    "0": "Spain"
                                },
                                {
                                    "0": "Sweden"
                                },
                                {
                                    "0": "Switzerland"
                                },
                                {
                                    "0": "Venezuela"
                                }
                            ]
                        },
                        "text/html": [
                            "<table>",
                            "<tr><th>country</th></tr>",
                            "<tr><td>Argentina</td></tr>",
                            "<tr><td>Austria</td></tr>",
                            "<tr><td>Belgium</td></tr>",
                            "<tr><td>Brazil</td></tr>",
                            "<tr><td>Canada</td></tr>",
                            "<tr><td>Denmark</td></tr>",
                            "<tr><td>Finland</td></tr>",
                            "<tr><td>France</td></tr>",
                            "<tr><td>Germany</td></tr>",
                            "<tr><td>Ireland</td></tr>",
                            "<tr><td>Italy</td></tr>",
                            "<tr><td>Mexico</td></tr>",
                            "<tr><td>Norway</td></tr>",
                            "<tr><td>Poland</td></tr>",
                            "<tr><td>Portugal</td></tr>",
                            "<tr><td>Spain</td></tr>",
                            "<tr><td>Sweden</td></tr>",
                            "<tr><td>Switzerland</td></tr>",
                            "<tr><td>Venezuela</td></tr>",
                            "</table>"
                        ]
                    }
                }
            ],
            "execution_count": 23
        },
        {
            "cell_type": "markdown",
            "source": [
                "5) **For each customer, all orders placed on customers last day of activity.**"
            ],
            "metadata": {
                "language": "sql",
                "azdata_cell_guid": "62d27627-1e0b-4f31-8456-6f9e68f9808c"
            },
            "attachments": {}
        },
        {
            "cell_type": "markdown",
            "source": [
                "```\n",
                "custid      orderid     orderdate   empid\n",
                "----------- ----------- ----------- -----------\n",
                "1           11011       2016-04-09  3\n",
                "2           10926       2016-03-04  4\n",
                "3           10856       2016-01-28  3\n",
                "4           11016       2016-04-10  9\n",
                "5           10924       2016-03-04  3\n",
                "...\n",
                "87          11025       2016-04-15  6\n",
                "88          10935       2016-03-09  4\n",
                "89          11066       2016-05-01  7\n",
                "90          11005       2016-04-07  2\n",
                "91          11044       2016-04-23  4\n",
                "\n",
                "(90 row(s) affected)\n",
                "```"
            ],
            "metadata": {
                "language": "sql",
                "azdata_cell_guid": "b0d677a0-5415-41f9-b387-a50a009e01f3"
            },
            "attachments": {}
        },
        {
            "cell_type": "code",
            "source": [
                "use Northwinds2022TSQLV7\n",
                "\n",
                "--find a customers last day of activity (scalar value)\n",
                "-- select max(O2.OrderDate)\n",
                "-- from Sales.[Order] as O2\n",
                "-- where O2.CustomerId = 85\n",
                "\n",
                "--get all customers\n",
                "select CustomerId as custid,\n",
                "    OrderId as orderid,\n",
                "    OrderDate as orderdate,\n",
                "    EmployeeId as empid\n",
                "from Sales.[Order] as O1\n",
                "where OrderDate  = (\n",
                "    --find a customers last day of activity\n",
                "    select max(OrderDate)\n",
                "    from Sales.[Order] as O2\n",
                "    where O2.CustomerId = O1.CustomerId\n",
                ")\n",
                "order by custid\n",
                ""
            ],
            "metadata": {
                "language": "sql",
                "azdata_cell_guid": "c74f962d-7fe1-4e70-a3cc-ac88536b2163"
            },
            "outputs": [
                {
                    "output_type": "display_data",
                    "data": {
                        "text/html": "(90 rows affected)"
                    },
                    "metadata": {}
                },
                {
                    "output_type": "display_data",
                    "data": {
                        "text/html": "Total execution time: 00:00:00.044"
                    },
                    "metadata": {}
                },
                {
                    "output_type": "execute_result",
                    "metadata": {},
                    "execution_count": 32,
                    "data": {
                        "application/vnd.dataresource+json": {
                            "schema": {
                                "fields": [
                                    {
                                        "name": "custid"
                                    },
                                    {
                                        "name": "orderid"
                                    },
                                    {
                                        "name": "orderdate"
                                    },
                                    {
                                        "name": "empid"
                                    }
                                ]
                            },
                            "data": [
                                {
                                    "0": "1",
                                    "1": "11011",
                                    "2": "2016-04-09",
                                    "3": "3"
                                },
                                {
                                    "0": "2",
                                    "1": "10926",
                                    "2": "2016-03-04",
                                    "3": "4"
                                },
                                {
                                    "0": "3",
                                    "1": "10856",
                                    "2": "2016-01-28",
                                    "3": "3"
                                },
                                {
                                    "0": "4",
                                    "1": "11016",
                                    "2": "2016-04-10",
                                    "3": "9"
                                },
                                {
                                    "0": "5",
                                    "1": "10924",
                                    "2": "2016-03-04",
                                    "3": "3"
                                },
                                {
                                    "0": "6",
                                    "1": "11058",
                                    "2": "2016-04-29",
                                    "3": "9"
                                },
                                {
                                    "0": "7",
                                    "1": "10826",
                                    "2": "2016-01-12",
                                    "3": "6"
                                },
                                {
                                    "0": "8",
                                    "1": "10970",
                                    "2": "2016-03-24",
                                    "3": "9"
                                },
                                {
                                    "0": "9",
                                    "1": "11076",
                                    "2": "2016-05-06",
                                    "3": "4"
                                },
                                {
                                    "0": "10",
                                    "1": "11048",
                                    "2": "2016-04-24",
                                    "3": "7"
                                },
                                {
                                    "0": "11",
                                    "1": "11023",
                                    "2": "2016-04-14",
                                    "3": "1"
                                },
                                {
                                    "0": "12",
                                    "1": "11054",
                                    "2": "2016-04-28",
                                    "3": "8"
                                },
                                {
                                    "0": "13",
                                    "1": "10259",
                                    "2": "2014-07-18",
                                    "3": "4"
                                },
                                {
                                    "0": "14",
                                    "1": "11041",
                                    "2": "2016-04-22",
                                    "3": "3"
                                },
                                {
                                    "0": "15",
                                    "1": "11042",
                                    "2": "2016-04-22",
                                    "3": "2"
                                },
                                {
                                    "0": "16",
                                    "1": "10848",
                                    "2": "2016-01-23",
                                    "3": "7"
                                },
                                {
                                    "0": "17",
                                    "1": "11067",
                                    "2": "2016-05-04",
                                    "3": "1"
                                },
                                {
                                    "0": "18",
                                    "1": "10890",
                                    "2": "2016-02-16",
                                    "3": "7"
                                },
                                {
                                    "0": "19",
                                    "1": "11056",
                                    "2": "2016-04-28",
                                    "3": "8"
                                },
                                {
                                    "0": "20",
                                    "1": "11072",
                                    "2": "2016-05-05",
                                    "3": "4"
                                },
                                {
                                    "0": "21",
                                    "1": "10725",
                                    "2": "2015-10-31",
                                    "3": "4"
                                },
                                {
                                    "0": "23",
                                    "1": "10789",
                                    "2": "2015-12-22",
                                    "3": "1"
                                },
                                {
                                    "0": "24",
                                    "1": "11050",
                                    "2": "2016-04-27",
                                    "3": "8"
                                },
                                {
                                    "0": "25",
                                    "1": "11012",
                                    "2": "2016-04-09",
                                    "3": "1"
                                },
                                {
                                    "0": "26",
                                    "1": "10971",
                                    "2": "2016-03-24",
                                    "3": "2"
                                },
                                {
                                    "0": "27",
                                    "1": "11060",
                                    "2": "2016-04-30",
                                    "3": "2"
                                },
                                {
                                    "0": "28",
                                    "1": "10963",
                                    "2": "2016-03-19",
                                    "3": "9"
                                },
                                {
                                    "0": "29",
                                    "1": "10928",
                                    "2": "2016-03-05",
                                    "3": "1"
                                },
                                {
                                    "0": "30",
                                    "1": "11037",
                                    "2": "2016-04-21",
                                    "3": "7"
                                },
                                {
                                    "0": "31",
                                    "1": "11049",
                                    "2": "2016-04-24",
                                    "3": "3"
                                },
                                {
                                    "0": "32",
                                    "1": "11061",
                                    "2": "2016-04-30",
                                    "3": "4"
                                },
                                {
                                    "0": "33",
                                    "1": "10785",
                                    "2": "2015-12-18",
                                    "3": "1"
                                },
                                {
                                    "0": "34",
                                    "1": "11052",
                                    "2": "2016-04-27",
                                    "3": "3"
                                },
                                {
                                    "0": "35",
                                    "1": "11055",
                                    "2": "2016-04-28",
                                    "3": "7"
                                },
                                {
                                    "0": "36",
                                    "1": "10660",
                                    "2": "2015-09-08",
                                    "3": "8"
                                },
                                {
                                    "0": "37",
                                    "1": "11063",
                                    "2": "2016-04-30",
                                    "3": "3"
                                },
                                {
                                    "0": "38",
                                    "1": "10933",
                                    "2": "2016-03-06",
                                    "3": "6"
                                },
                                {
                                    "0": "39",
                                    "1": "11028",
                                    "2": "2016-04-16",
                                    "3": "2"
                                },
                                {
                                    "0": "40",
                                    "1": "10972",
                                    "2": "2016-03-24",
                                    "3": "4"
                                },
                                {
                                    "0": "40",
                                    "1": "10973",
                                    "2": "2016-03-24",
                                    "3": "6"
                                },
                                {
                                    "0": "41",
                                    "1": "11051",
                                    "2": "2016-04-27",
                                    "3": "7"
                                },
                                {
                                    "0": "42",
                                    "1": "10810",
                                    "2": "2016-01-01",
                                    "3": "2"
                                },
                                {
                                    "0": "43",
                                    "1": "10545",
                                    "2": "2015-05-22",
                                    "3": "8"
                                },
                                {
                                    "0": "44",
                                    "1": "11070",
                                    "2": "2016-05-05",
                                    "3": "2"
                                },
                                {
                                    "0": "45",
                                    "1": "10884",
                                    "2": "2016-02-12",
                                    "3": "4"
                                },
                                {
                                    "0": "46",
                                    "1": "11071",
                                    "2": "2016-05-05",
                                    "3": "1"
                                },
                                {
                                    "0": "47",
                                    "1": "11039",
                                    "2": "2016-04-21",
                                    "3": "1"
                                },
                                {
                                    "0": "48",
                                    "1": "11018",
                                    "2": "2016-04-13",
                                    "3": "4"
                                },
                                {
                                    "0": "49",
                                    "1": "10950",
                                    "2": "2016-03-16",
                                    "3": "1"
                                },
                                {
                                    "0": "50",
                                    "1": "11004",
                                    "2": "2016-04-07",
                                    "3": "3"
                                },
                                {
                                    "0": "51",
                                    "1": "10724",
                                    "2": "2015-10-30",
                                    "3": "8"
                                },
                                {
                                    "0": "52",
                                    "1": "10945",
                                    "2": "2016-03-12",
                                    "3": "4"
                                },
                                {
                                    "0": "53",
                                    "1": "11057",
                                    "2": "2016-04-29",
                                    "3": "3"
                                },
                                {
                                    "0": "54",
                                    "1": "10986",
                                    "2": "2016-03-30",
                                    "3": "8"
                                },
                                {
                                    "0": "55",
                                    "1": "11034",
                                    "2": "2016-04-20",
                                    "3": "8"
                                },
                                {
                                    "0": "56",
                                    "1": "11020",
                                    "2": "2016-04-14",
                                    "3": "2"
                                },
                                {
                                    "0": "58",
                                    "1": "11073",
                                    "2": "2016-05-05",
                                    "3": "2"
                                },
                                {
                                    "0": "59",
                                    "1": "11053",
                                    "2": "2016-04-27",
                                    "3": "2"
                                },
                                {
                                    "0": "60",
                                    "1": "11007",
                                    "2": "2016-04-08",
                                    "3": "8"
                                },
                                {
                                    "0": "61",
                                    "1": "10989",
                                    "2": "2016-03-31",
                                    "3": "2"
                                },
                                {
                                    "0": "62",
                                    "1": "11068",
                                    "2": "2016-05-04",
                                    "3": "8"
                                },
                                {
                                    "0": "63",
                                    "1": "11021",
                                    "2": "2016-04-14",
                                    "3": "3"
                                },
                                {
                                    "0": "64",
                                    "1": "11019",
                                    "2": "2016-04-13",
                                    "3": "6"
                                },
                                {
                                    "0": "65",
                                    "1": "11077",
                                    "2": "2016-05-06",
                                    "3": "1"
                                },
                                {
                                    "0": "66",
                                    "1": "11062",
                                    "2": "2016-04-30",
                                    "3": "4"
                                },
                                {
                                    "0": "67",
                                    "1": "11059",
                                    "2": "2016-04-29",
                                    "3": "2"
                                },
                                {
                                    "0": "68",
                                    "1": "11075",
                                    "2": "2016-05-06",
                                    "3": "8"
                                },
                                {
                                    "0": "69",
                                    "1": "11013",
                                    "2": "2016-04-09",
                                    "3": "2"
                                },
                                {
                                    "0": "70",
                                    "1": "11015",
                                    "2": "2016-04-10",
                                    "3": "2"
                                },
                                {
                                    "0": "71",
                                    "1": "11064",
                                    "2": "2016-05-01",
                                    "3": "1"
                                },
                                {
                                    "0": "72",
                                    "1": "10869",
                                    "2": "2016-02-04",
                                    "3": "5"
                                },
                                {
                                    "0": "73",
                                    "1": "11074",
                                    "2": "2016-05-06",
                                    "3": "7"
                                },
                                {
                                    "0": "74",
                                    "1": "11043",
                                    "2": "2016-04-22",
                                    "3": "5"
                                },
                                {
                                    "0": "75",
                                    "1": "10974",
                                    "2": "2016-03-25",
                                    "3": "3"
                                },
                                {
                                    "0": "76",
                                    "1": "11038",
                                    "2": "2016-04-21",
                                    "3": "1"
                                },
                                {
                                    "0": "77",
                                    "1": "10992",
                                    "2": "2016-04-01",
                                    "3": "1"
                                },
                                {
                                    "0": "78",
                                    "1": "11003",
                                    "2": "2016-04-06",
                                    "3": "3"
                                },
                                {
                                    "0": "79",
                                    "1": "10967",
                                    "2": "2016-03-23",
                                    "3": "2"
                                },
                                {
                                    "0": "80",
                                    "1": "11069",
                                    "2": "2016-05-04",
                                    "3": "1"
                                },
                                {
                                    "0": "81",
                                    "1": "10839",
                                    "2": "2016-01-19",
                                    "3": "3"
                                },
                                {
                                    "0": "82",
                                    "1": "10822",
                                    "2": "2016-01-08",
                                    "3": "6"
                                },
                                {
                                    "0": "83",
                                    "1": "10994",
                                    "2": "2016-04-02",
                                    "3": "2"
                                },
                                {
                                    "0": "84",
                                    "1": "10850",
                                    "2": "2016-01-23",
                                    "3": "1"
                                },
                                {
                                    "0": "85",
                                    "1": "10739",
                                    "2": "2015-11-12",
                                    "3": "3"
                                },
                                {
                                    "0": "86",
                                    "1": "11046",
                                    "2": "2016-04-23",
                                    "3": "8"
                                },
                                {
                                    "0": "87",
                                    "1": "11025",
                                    "2": "2016-04-15",
                                    "3": "6"
                                },
                                {
                                    "0": "88",
                                    "1": "10935",
                                    "2": "2016-03-09",
                                    "3": "4"
                                },
                                {
                                    "0": "89",
                                    "1": "11066",
                                    "2": "2016-05-01",
                                    "3": "7"
                                },
                                {
                                    "0": "90",
                                    "1": "11005",
                                    "2": "2016-04-07",
                                    "3": "2"
                                },
                                {
                                    "0": "91",
                                    "1": "11044",
                                    "2": "2016-04-23",
                                    "3": "4"
                                }
                            ]
                        },
                        "text/html": [
                            "<table>",
                            "<tr><th>custid</th><th>orderid</th><th>orderdate</th><th>empid</th></tr>",
                            "<tr><td>1</td><td>11011</td><td>2016-04-09</td><td>3</td></tr>",
                            "<tr><td>2</td><td>10926</td><td>2016-03-04</td><td>4</td></tr>",
                            "<tr><td>3</td><td>10856</td><td>2016-01-28</td><td>3</td></tr>",
                            "<tr><td>4</td><td>11016</td><td>2016-04-10</td><td>9</td></tr>",
                            "<tr><td>5</td><td>10924</td><td>2016-03-04</td><td>3</td></tr>",
                            "<tr><td>6</td><td>11058</td><td>2016-04-29</td><td>9</td></tr>",
                            "<tr><td>7</td><td>10826</td><td>2016-01-12</td><td>6</td></tr>",
                            "<tr><td>8</td><td>10970</td><td>2016-03-24</td><td>9</td></tr>",
                            "<tr><td>9</td><td>11076</td><td>2016-05-06</td><td>4</td></tr>",
                            "<tr><td>10</td><td>11048</td><td>2016-04-24</td><td>7</td></tr>",
                            "<tr><td>11</td><td>11023</td><td>2016-04-14</td><td>1</td></tr>",
                            "<tr><td>12</td><td>11054</td><td>2016-04-28</td><td>8</td></tr>",
                            "<tr><td>13</td><td>10259</td><td>2014-07-18</td><td>4</td></tr>",
                            "<tr><td>14</td><td>11041</td><td>2016-04-22</td><td>3</td></tr>",
                            "<tr><td>15</td><td>11042</td><td>2016-04-22</td><td>2</td></tr>",
                            "<tr><td>16</td><td>10848</td><td>2016-01-23</td><td>7</td></tr>",
                            "<tr><td>17</td><td>11067</td><td>2016-05-04</td><td>1</td></tr>",
                            "<tr><td>18</td><td>10890</td><td>2016-02-16</td><td>7</td></tr>",
                            "<tr><td>19</td><td>11056</td><td>2016-04-28</td><td>8</td></tr>",
                            "<tr><td>20</td><td>11072</td><td>2016-05-05</td><td>4</td></tr>",
                            "<tr><td>21</td><td>10725</td><td>2015-10-31</td><td>4</td></tr>",
                            "<tr><td>23</td><td>10789</td><td>2015-12-22</td><td>1</td></tr>",
                            "<tr><td>24</td><td>11050</td><td>2016-04-27</td><td>8</td></tr>",
                            "<tr><td>25</td><td>11012</td><td>2016-04-09</td><td>1</td></tr>",
                            "<tr><td>26</td><td>10971</td><td>2016-03-24</td><td>2</td></tr>",
                            "<tr><td>27</td><td>11060</td><td>2016-04-30</td><td>2</td></tr>",
                            "<tr><td>28</td><td>10963</td><td>2016-03-19</td><td>9</td></tr>",
                            "<tr><td>29</td><td>10928</td><td>2016-03-05</td><td>1</td></tr>",
                            "<tr><td>30</td><td>11037</td><td>2016-04-21</td><td>7</td></tr>",
                            "<tr><td>31</td><td>11049</td><td>2016-04-24</td><td>3</td></tr>",
                            "<tr><td>32</td><td>11061</td><td>2016-04-30</td><td>4</td></tr>",
                            "<tr><td>33</td><td>10785</td><td>2015-12-18</td><td>1</td></tr>",
                            "<tr><td>34</td><td>11052</td><td>2016-04-27</td><td>3</td></tr>",
                            "<tr><td>35</td><td>11055</td><td>2016-04-28</td><td>7</td></tr>",
                            "<tr><td>36</td><td>10660</td><td>2015-09-08</td><td>8</td></tr>",
                            "<tr><td>37</td><td>11063</td><td>2016-04-30</td><td>3</td></tr>",
                            "<tr><td>38</td><td>10933</td><td>2016-03-06</td><td>6</td></tr>",
                            "<tr><td>39</td><td>11028</td><td>2016-04-16</td><td>2</td></tr>",
                            "<tr><td>40</td><td>10972</td><td>2016-03-24</td><td>4</td></tr>",
                            "<tr><td>40</td><td>10973</td><td>2016-03-24</td><td>6</td></tr>",
                            "<tr><td>41</td><td>11051</td><td>2016-04-27</td><td>7</td></tr>",
                            "<tr><td>42</td><td>10810</td><td>2016-01-01</td><td>2</td></tr>",
                            "<tr><td>43</td><td>10545</td><td>2015-05-22</td><td>8</td></tr>",
                            "<tr><td>44</td><td>11070</td><td>2016-05-05</td><td>2</td></tr>",
                            "<tr><td>45</td><td>10884</td><td>2016-02-12</td><td>4</td></tr>",
                            "<tr><td>46</td><td>11071</td><td>2016-05-05</td><td>1</td></tr>",
                            "<tr><td>47</td><td>11039</td><td>2016-04-21</td><td>1</td></tr>",
                            "<tr><td>48</td><td>11018</td><td>2016-04-13</td><td>4</td></tr>",
                            "<tr><td>49</td><td>10950</td><td>2016-03-16</td><td>1</td></tr>",
                            "<tr><td>50</td><td>11004</td><td>2016-04-07</td><td>3</td></tr>",
                            "<tr><td>51</td><td>10724</td><td>2015-10-30</td><td>8</td></tr>",
                            "<tr><td>52</td><td>10945</td><td>2016-03-12</td><td>4</td></tr>",
                            "<tr><td>53</td><td>11057</td><td>2016-04-29</td><td>3</td></tr>",
                            "<tr><td>54</td><td>10986</td><td>2016-03-30</td><td>8</td></tr>",
                            "<tr><td>55</td><td>11034</td><td>2016-04-20</td><td>8</td></tr>",
                            "<tr><td>56</td><td>11020</td><td>2016-04-14</td><td>2</td></tr>",
                            "<tr><td>58</td><td>11073</td><td>2016-05-05</td><td>2</td></tr>",
                            "<tr><td>59</td><td>11053</td><td>2016-04-27</td><td>2</td></tr>",
                            "<tr><td>60</td><td>11007</td><td>2016-04-08</td><td>8</td></tr>",
                            "<tr><td>61</td><td>10989</td><td>2016-03-31</td><td>2</td></tr>",
                            "<tr><td>62</td><td>11068</td><td>2016-05-04</td><td>8</td></tr>",
                            "<tr><td>63</td><td>11021</td><td>2016-04-14</td><td>3</td></tr>",
                            "<tr><td>64</td><td>11019</td><td>2016-04-13</td><td>6</td></tr>",
                            "<tr><td>65</td><td>11077</td><td>2016-05-06</td><td>1</td></tr>",
                            "<tr><td>66</td><td>11062</td><td>2016-04-30</td><td>4</td></tr>",
                            "<tr><td>67</td><td>11059</td><td>2016-04-29</td><td>2</td></tr>",
                            "<tr><td>68</td><td>11075</td><td>2016-05-06</td><td>8</td></tr>",
                            "<tr><td>69</td><td>11013</td><td>2016-04-09</td><td>2</td></tr>",
                            "<tr><td>70</td><td>11015</td><td>2016-04-10</td><td>2</td></tr>",
                            "<tr><td>71</td><td>11064</td><td>2016-05-01</td><td>1</td></tr>",
                            "<tr><td>72</td><td>10869</td><td>2016-02-04</td><td>5</td></tr>",
                            "<tr><td>73</td><td>11074</td><td>2016-05-06</td><td>7</td></tr>",
                            "<tr><td>74</td><td>11043</td><td>2016-04-22</td><td>5</td></tr>",
                            "<tr><td>75</td><td>10974</td><td>2016-03-25</td><td>3</td></tr>",
                            "<tr><td>76</td><td>11038</td><td>2016-04-21</td><td>1</td></tr>",
                            "<tr><td>77</td><td>10992</td><td>2016-04-01</td><td>1</td></tr>",
                            "<tr><td>78</td><td>11003</td><td>2016-04-06</td><td>3</td></tr>",
                            "<tr><td>79</td><td>10967</td><td>2016-03-23</td><td>2</td></tr>",
                            "<tr><td>80</td><td>11069</td><td>2016-05-04</td><td>1</td></tr>",
                            "<tr><td>81</td><td>10839</td><td>2016-01-19</td><td>3</td></tr>",
                            "<tr><td>82</td><td>10822</td><td>2016-01-08</td><td>6</td></tr>",
                            "<tr><td>83</td><td>10994</td><td>2016-04-02</td><td>2</td></tr>",
                            "<tr><td>84</td><td>10850</td><td>2016-01-23</td><td>1</td></tr>",
                            "<tr><td>85</td><td>10739</td><td>2015-11-12</td><td>3</td></tr>",
                            "<tr><td>86</td><td>11046</td><td>2016-04-23</td><td>8</td></tr>",
                            "<tr><td>87</td><td>11025</td><td>2016-04-15</td><td>6</td></tr>",
                            "<tr><td>88</td><td>10935</td><td>2016-03-09</td><td>4</td></tr>",
                            "<tr><td>89</td><td>11066</td><td>2016-05-01</td><td>7</td></tr>",
                            "<tr><td>90</td><td>11005</td><td>2016-04-07</td><td>2</td></tr>",
                            "<tr><td>91</td><td>11044</td><td>2016-04-23</td><td>4</td></tr>",
                            "</table>"
                        ]
                    }
                }
            ],
            "execution_count": 32
        },
        {
            "cell_type": "markdown",
            "source": [
                "6) **Customers who placed orders in 2015 but not in 2016**"
            ],
            "metadata": {
                "language": "sql",
                "azdata_cell_guid": "3aa41442-898e-4cd8-b5f4-65f565629318"
            },
            "attachments": {}
        },
        {
            "cell_type": "markdown",
            "source": [
                "```\n",
                "custid      companyname\n",
                "----------- ----------------------------------------\n",
                "21          Customer KIDPX\n",
                "23          Customer WVFAF\n",
                "33          Customer FVXPQ\n",
                "36          Customer LVJSO\n",
                "43          Customer UISOJ\n",
                "51          Customer PVDZC\n",
                "85          Customer ENQZT\n",
                "\n",
                "(7 row(s) affected)\n",
                "```"
            ],
            "metadata": {
                "language": "sql",
                "azdata_cell_guid": "4cd9454c-3f9f-40e6-9767-b1047b345424"
            },
            "attachments": {}
        },
        {
            "cell_type": "code",
            "source": [
                "use Northwinds2022TSQLV7\n",
                "\n",
                "--customers who placed orders in 2015\n",
                "-- select CustomerId\n",
                "-- from Sales.[Order] as O \n",
                "-- where YEAR(OrderDate) = 2015 \n",
                "\n",
                "--customers who placed order in 2016\n",
                "-- select CustomerId\n",
                "-- from Sales.[Order] as O \n",
                "-- where YEAR(OrderDate) = 2016\n",
                "\n",
                "--gets customers\n",
                "select CustomerId as custid,\n",
                "    CustomerCompanyName as companyname\n",
                "from Sales.Customer as C\n",
                "where exists (\n",
                "    select * from Sales.[Order] as O\n",
                "    where YEAR(OrderDate) = 2015 and O.CustomerId = C.CustomerId\n",
                ") \n",
                "and not exists (\n",
                "    select * from Sales.[Order] as O \n",
                "    where YEAR(OrderDate) = 2016 and O.CustomerId = C.CustomerId\n",
                ")\n",
                "order by custid"
            ],
            "metadata": {
                "language": "sql",
                "azdata_cell_guid": "b7963718-9b89-47d4-bbb6-acea10ee0ed0"
            },
            "outputs": [
                {
                    "output_type": "display_data",
                    "data": {
                        "text/html": "(7 rows affected)"
                    },
                    "metadata": {}
                },
                {
                    "output_type": "display_data",
                    "data": {
                        "text/html": "Total execution time: 00:00:00.127"
                    },
                    "metadata": {}
                },
                {
                    "output_type": "execute_result",
                    "metadata": {},
                    "execution_count": 48,
                    "data": {
                        "application/vnd.dataresource+json": {
                            "schema": {
                                "fields": [
                                    {
                                        "name": "custid"
                                    },
                                    {
                                        "name": "companyname"
                                    }
                                ]
                            },
                            "data": [
                                {
                                    "0": "21",
                                    "1": "Customer KIDPX"
                                },
                                {
                                    "0": "23",
                                    "1": "Customer WVFAF"
                                },
                                {
                                    "0": "33",
                                    "1": "Customer FVXPQ"
                                },
                                {
                                    "0": "36",
                                    "1": "Customer LVJSO"
                                },
                                {
                                    "0": "43",
                                    "1": "Customer UISOJ"
                                },
                                {
                                    "0": "51",
                                    "1": "Customer PVDZC"
                                },
                                {
                                    "0": "85",
                                    "1": "Customer ENQZT"
                                }
                            ]
                        },
                        "text/html": [
                            "<table>",
                            "<tr><th>custid</th><th>companyname</th></tr>",
                            "<tr><td>21</td><td>Customer KIDPX</td></tr>",
                            "<tr><td>23</td><td>Customer WVFAF</td></tr>",
                            "<tr><td>33</td><td>Customer FVXPQ</td></tr>",
                            "<tr><td>36</td><td>Customer LVJSO</td></tr>",
                            "<tr><td>43</td><td>Customer UISOJ</td></tr>",
                            "<tr><td>51</td><td>Customer PVDZC</td></tr>",
                            "<tr><td>85</td><td>Customer ENQZT</td></tr>",
                            "</table>"
                        ]
                    }
                }
            ],
            "execution_count": 48
        },
        {
            "cell_type": "markdown",
            "source": [
                "9) **The difference between IN and EXISTS is that** IN runs once before the outer query is executed. It returns a set of values and the outer query uses it as input. (Can be used to find correlated rows between outer and inner query, same as EXISTS). EXISTS instead runs once for every row returned by the outer query. So if we retrieve all 9 employees and want to check some existence for each one we can use EXISTS (ex: retrieve all 9 employees and then for each one see if a record of a correlating orderid exists. Therefore EXISTS returns a boolean value, if false we wont return the associated row from the outer query. More efficient than IN"
            ],
            "metadata": {
                "language": "sql",
                "azdata_cell_guid": "e7216e5e-4792-431c-8248-772c03a9d10b"
            },
            "attachments": {}
        }
    ]
}