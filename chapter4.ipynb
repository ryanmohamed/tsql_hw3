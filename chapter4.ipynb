{
    "metadata": {
        "kernelspec": {
            "name": "SQL",
            "display_name": "SQL",
            "language": "sql"
        },
        "language_info": {
            "name": "sql",
            "version": ""
        }
    },
    "nbformat_minor": 2,
    "nbformat": 4,
    "cells": [
        {
            "cell_type": "markdown",
            "source": [
                "1) Scalar subquery that retrieves the sole maximum order id, and uses this scalar value in a where clause to return the matching row for that order id. (Think of alternatives)"
            ],
            "metadata": {
                "language": "sql",
                "azdata_cell_guid": "bbbb756b-fb78-4976-9aba-97f6195015c8"
            },
            "attachments": {}
        },
        {
            "cell_type": "code",
            "source": [
                "use Northwinds2022TSQLV7\n",
                "\n",
                "select OrderId, OrderDate, EmployeeId, CustomerId\n",
                "from Sales.[Order]\n",
                "where OrderId = (\n",
                "    --subquery to retrieve scalar value of max order id\n",
                "    select max(O.OrderId) \n",
                "    from Sales.[Order] as O --use an alias if we're inline\n",
                "    -- think that we're using the same table twice in the same execution, so we\n",
                "    -- we need to distinguish copies, good practice!\n",
                ")"
            ],
            "metadata": {
                "azdata_cell_guid": "d960a538-c92f-4c0a-94d6-83e47f3c524a",
                "language": "sql"
            },
            "outputs": [
                {
                    "output_type": "display_data",
                    "data": {
                        "text/html": "(1 row affected)"
                    },
                    "metadata": {}
                },
                {
                    "output_type": "display_data",
                    "data": {
                        "text/html": "Total execution time: 00:00:00.012"
                    },
                    "metadata": {}
                },
                {
                    "output_type": "execute_result",
                    "metadata": {},
                    "execution_count": 7,
                    "data": {
                        "application/vnd.dataresource+json": {
                            "schema": {
                                "fields": [
                                    {
                                        "name": "OrderId"
                                    },
                                    {
                                        "name": "OrderDate"
                                    },
                                    {
                                        "name": "EmployeeId"
                                    },
                                    {
                                        "name": "CustomerId"
                                    }
                                ]
                            },
                            "data": [
                                {
                                    "0": "11077",
                                    "1": "2016-05-06",
                                    "2": "1",
                                    "3": "65"
                                }
                            ]
                        },
                        "text/html": [
                            "<table>",
                            "<tr><th>OrderId</th><th>OrderDate</th><th>EmployeeId</th><th>CustomerId</th></tr>",
                            "<tr><td>11077</td><td>2016-05-06</td><td>1</td><td>65</td></tr>",
                            "</table>"
                        ]
                    }
                }
            ],
            "execution_count": 7
        },
        {
            "cell_type": "markdown",
            "source": [
                "2) Subquery retrieves all employee last names starting with C, **main query using the retrieved employee id to return order ids of all orders involving employee with last names starting with C**!"
            ],
            "metadata": {
                "language": "sql",
                "azdata_cell_guid": "d9f6e753-a50f-460d-82ff-1c4d491475af"
            },
            "attachments": {}
        },
        {
            "cell_type": "code",
            "source": [
                "use Northwinds2022TSQLV7\n",
                "\n",
                "-- select E.EmployeeId\n",
                "-- from HumanResources.[Employee] as E\n",
                "-- where E.EmployeeLastName LIKE N'C%'\n",
                "\n",
                "-- select O.OrderId\n",
                "-- from Sales.[Order] as O\n",
                "-- where O.EmployeeId = 8 -- notice the scalar value, our subquery can retrieve this\n",
                "\n",
                "select O.OrderId\n",
                "from Sales.[Order] as O\n",
                "where O.EmployeeId = (\n",
                "    select E.EmployeeId\n",
                "    from HumanResources.[Employee] as E\n",
                "    where E.EmployeeLastName LIKE N'C%' --we can swap in any letter\n",
                ")"
            ],
            "metadata": {
                "language": "sql",
                "azdata_cell_guid": "45f70e5e-9ada-47bb-9173-045cc47c055d",
                "tags": []
            },
            "outputs": [
                {
                    "output_type": "display_data",
                    "data": {
                        "text/html": "(104 rows affected)"
                    },
                    "metadata": {}
                },
                {
                    "output_type": "display_data",
                    "data": {
                        "text/html": "Total execution time: 00:00:00.030"
                    },
                    "metadata": {}
                },
                {
                    "output_type": "execute_result",
                    "metadata": {},
                    "execution_count": 15,
                    "data": {
                        "application/vnd.dataresource+json": {
                            "schema": {
                                "fields": [
                                    {
                                        "name": "OrderId"
                                    }
                                ]
                            },
                            "data": [
                                {
                                    "0": "10262"
                                },
                                {
                                    "0": "10268"
                                },
                                {
                                    "0": "10276"
                                },
                                {
                                    "0": "10278"
                                },
                                {
                                    "0": "10279"
                                },
                                {
                                    "0": "10286"
                                },
                                {
                                    "0": "10287"
                                },
                                {
                                    "0": "10290"
                                },
                                {
                                    "0": "10301"
                                },
                                {
                                    "0": "10305"
                                },
                                {
                                    "0": "10310"
                                },
                                {
                                    "0": "10318"
                                },
                                {
                                    "0": "10334"
                                },
                                {
                                    "0": "10354"
                                },
                                {
                                    "0": "10366"
                                },
                                {
                                    "0": "10369"
                                },
                                {
                                    "0": "10380"
                                },
                                {
                                    "0": "10383"
                                },
                                {
                                    "0": "10399"
                                },
                                {
                                    "0": "10402"
                                },
                                {
                                    "0": "10408"
                                },
                                {
                                    "0": "10412"
                                },
                                {
                                    "0": "10416"
                                },
                                {
                                    "0": "10421"
                                },
                                {
                                    "0": "10435"
                                },
                                {
                                    "0": "10437"
                                },
                                {
                                    "0": "10443"
                                },
                                {
                                    "0": "10450"
                                },
                                {
                                    "0": "10452"
                                },
                                {
                                    "0": "10455"
                                },
                                {
                                    "0": "10456"
                                },
                                {
                                    "0": "10460"
                                },
                                {
                                    "0": "10467"
                                },
                                {
                                    "0": "10472"
                                },
                                {
                                    "0": "10476"
                                },
                                {
                                    "0": "10481"
                                },
                                {
                                    "0": "10488"
                                },
                                {
                                    "0": "10491"
                                },
                                {
                                    "0": "10498"
                                },
                                {
                                    "0": "10521"
                                },
                                {
                                    "0": "10533"
                                },
                                {
                                    "0": "10534"
                                },
                                {
                                    "0": "10543"
                                },
                                {
                                    "0": "10545"
                                },
                                {
                                    "0": "10560"
                                },
                                {
                                    "0": "10565"
                                },
                                {
                                    "0": "10571"
                                },
                                {
                                    "0": "10589"
                                },
                                {
                                    "0": "10596"
                                },
                                {
                                    "0": "10602"
                                },
                                {
                                    "0": "10603"
                                },
                                {
                                    "0": "10610"
                                },
                                {
                                    "0": "10614"
                                },
                                {
                                    "0": "10623"
                                },
                                {
                                    "0": "10627"
                                },
                                {
                                    "0": "10631"
                                },
                                {
                                    "0": "10632"
                                },
                                {
                                    "0": "10635"
                                },
                                {
                                    "0": "10651"
                                },
                                {
                                    "0": "10660"
                                },
                                {
                                    "0": "10679"
                                },
                                {
                                    "0": "10694"
                                },
                                {
                                    "0": "10696"
                                },
                                {
                                    "0": "10706"
                                },
                                {
                                    "0": "10719"
                                },
                                {
                                    "0": "10720"
                                },
                                {
                                    "0": "10722"
                                },
                                {
                                    "0": "10724"
                                },
                                {
                                    "0": "10729"
                                },
                                {
                                    "0": "10756"
                                },
                                {
                                    "0": "10770"
                                },
                                {
                                    "0": "10786"
                                },
                                {
                                    "0": "10795"
                                },
                                {
                                    "0": "10811"
                                },
                                {
                                    "0": "10824"
                                },
                                {
                                    "0": "10844"
                                },
                                {
                                    "0": "10845"
                                },
                                {
                                    "0": "10852"
                                },
                                {
                                    "0": "10857"
                                },
                                {
                                    "0": "10862"
                                },
                                {
                                    "0": "10883"
                                },
                                {
                                    "0": "10887"
                                },
                                {
                                    "0": "10932"
                                },
                                {
                                    "0": "10940"
                                },
                                {
                                    "0": "10955"
                                },
                                {
                                    "0": "10957"
                                },
                                {
                                    "0": "10961"
                                },
                                {
                                    "0": "10962"
                                },
                                {
                                    "0": "10977"
                                },
                                {
                                    "0": "10979"
                                },
                                {
                                    "0": "10986"
                                },
                                {
                                    "0": "10987"
                                },
                                {
                                    "0": "10997"
                                },
                                {
                                    "0": "10998"
                                },
                                {
                                    "0": "11007"
                                },
                                {
                                    "0": "11034"
                                },
                                {
                                    "0": "11036"
                                },
                                {
                                    "0": "11046"
                                },
                                {
                                    "0": "11050"
                                },
                                {
                                    "0": "11054"
                                },
                                {
                                    "0": "11056"
                                },
                                {
                                    "0": "11065"
                                },
                                {
                                    "0": "11068"
                                },
                                {
                                    "0": "11075"
                                }
                            ]
                        },
                        "text/html": [
                            "<table>",
                            "<tr><th>OrderId</th></tr>",
                            "<tr><td>10262</td></tr>",
                            "<tr><td>10268</td></tr>",
                            "<tr><td>10276</td></tr>",
                            "<tr><td>10278</td></tr>",
                            "<tr><td>10279</td></tr>",
                            "<tr><td>10286</td></tr>",
                            "<tr><td>10287</td></tr>",
                            "<tr><td>10290</td></tr>",
                            "<tr><td>10301</td></tr>",
                            "<tr><td>10305</td></tr>",
                            "<tr><td>10310</td></tr>",
                            "<tr><td>10318</td></tr>",
                            "<tr><td>10334</td></tr>",
                            "<tr><td>10354</td></tr>",
                            "<tr><td>10366</td></tr>",
                            "<tr><td>10369</td></tr>",
                            "<tr><td>10380</td></tr>",
                            "<tr><td>10383</td></tr>",
                            "<tr><td>10399</td></tr>",
                            "<tr><td>10402</td></tr>",
                            "<tr><td>10408</td></tr>",
                            "<tr><td>10412</td></tr>",
                            "<tr><td>10416</td></tr>",
                            "<tr><td>10421</td></tr>",
                            "<tr><td>10435</td></tr>",
                            "<tr><td>10437</td></tr>",
                            "<tr><td>10443</td></tr>",
                            "<tr><td>10450</td></tr>",
                            "<tr><td>10452</td></tr>",
                            "<tr><td>10455</td></tr>",
                            "<tr><td>10456</td></tr>",
                            "<tr><td>10460</td></tr>",
                            "<tr><td>10467</td></tr>",
                            "<tr><td>10472</td></tr>",
                            "<tr><td>10476</td></tr>",
                            "<tr><td>10481</td></tr>",
                            "<tr><td>10488</td></tr>",
                            "<tr><td>10491</td></tr>",
                            "<tr><td>10498</td></tr>",
                            "<tr><td>10521</td></tr>",
                            "<tr><td>10533</td></tr>",
                            "<tr><td>10534</td></tr>",
                            "<tr><td>10543</td></tr>",
                            "<tr><td>10545</td></tr>",
                            "<tr><td>10560</td></tr>",
                            "<tr><td>10565</td></tr>",
                            "<tr><td>10571</td></tr>",
                            "<tr><td>10589</td></tr>",
                            "<tr><td>10596</td></tr>",
                            "<tr><td>10602</td></tr>",
                            "<tr><td>10603</td></tr>",
                            "<tr><td>10610</td></tr>",
                            "<tr><td>10614</td></tr>",
                            "<tr><td>10623</td></tr>",
                            "<tr><td>10627</td></tr>",
                            "<tr><td>10631</td></tr>",
                            "<tr><td>10632</td></tr>",
                            "<tr><td>10635</td></tr>",
                            "<tr><td>10651</td></tr>",
                            "<tr><td>10660</td></tr>",
                            "<tr><td>10679</td></tr>",
                            "<tr><td>10694</td></tr>",
                            "<tr><td>10696</td></tr>",
                            "<tr><td>10706</td></tr>",
                            "<tr><td>10719</td></tr>",
                            "<tr><td>10720</td></tr>",
                            "<tr><td>10722</td></tr>",
                            "<tr><td>10724</td></tr>",
                            "<tr><td>10729</td></tr>",
                            "<tr><td>10756</td></tr>",
                            "<tr><td>10770</td></tr>",
                            "<tr><td>10786</td></tr>",
                            "<tr><td>10795</td></tr>",
                            "<tr><td>10811</td></tr>",
                            "<tr><td>10824</td></tr>",
                            "<tr><td>10844</td></tr>",
                            "<tr><td>10845</td></tr>",
                            "<tr><td>10852</td></tr>",
                            "<tr><td>10857</td></tr>",
                            "<tr><td>10862</td></tr>",
                            "<tr><td>10883</td></tr>",
                            "<tr><td>10887</td></tr>",
                            "<tr><td>10932</td></tr>",
                            "<tr><td>10940</td></tr>",
                            "<tr><td>10955</td></tr>",
                            "<tr><td>10957</td></tr>",
                            "<tr><td>10961</td></tr>",
                            "<tr><td>10962</td></tr>",
                            "<tr><td>10977</td></tr>",
                            "<tr><td>10979</td></tr>",
                            "<tr><td>10986</td></tr>",
                            "<tr><td>10987</td></tr>",
                            "<tr><td>10997</td></tr>",
                            "<tr><td>10998</td></tr>",
                            "<tr><td>11007</td></tr>",
                            "<tr><td>11034</td></tr>",
                            "<tr><td>11036</td></tr>",
                            "<tr><td>11046</td></tr>",
                            "<tr><td>11050</td></tr>",
                            "<tr><td>11054</td></tr>",
                            "<tr><td>11056</td></tr>",
                            "<tr><td>11065</td></tr>",
                            "<tr><td>11068</td></tr>",
                            "<tr><td>11075</td></tr>",
                            "</table>"
                        ]
                    }
                }
            ],
            "execution_count": 15
        },
        {
            "cell_type": "markdown",
            "source": [
                "3)"
            ],
            "metadata": {
                "language": "sql",
                "azdata_cell_guid": "50ad4be1-62d5-4c51-acc2-b61bab492a15"
            },
            "attachments": {}
        },
        {
            "cell_type": "code",
            "source": [
                "use TSQLV4\n",
                "\n",
                "SELECT orderid\n",
                "FROM Sales.Orders\n",
                "WHERE empid IN\n",
                "  (SELECT E.empid\n",
                "   FROM HR.Employees AS E\n",
                "   WHERE E.lastname LIKE N'D%');"
            ],
            "metadata": {
                "language": "sql",
                "azdata_cell_guid": "929c2cf3-0ea9-4689-a1d6-8b790e88512c"
            },
            "outputs": [
                {
                    "output_type": "display_data",
                    "data": {
                        "text/html": "(2 rows affected)"
                    },
                    "metadata": {}
                },
                {
                    "output_type": "display_data",
                    "data": {
                        "text/html": "Total execution time: 00:00:00.135"
                    },
                    "metadata": {}
                },
                {
                    "output_type": "execute_result",
                    "metadata": {},
                    "execution_count": 18,
                    "data": {
                        "application/vnd.dataresource+json": {
                            "schema": {
                                "fields": [
                                    {
                                        "name": "empid"
                                    }
                                ]
                            },
                            "data": [
                                {
                                    "0": "1"
                                },
                                {
                                    "0": "9"
                                }
                            ]
                        },
                        "text/html": [
                            "<table>",
                            "<tr><th>empid</th></tr>",
                            "<tr><td>1</td></tr>",
                            "<tr><td>9</td></tr>",
                            "</table>"
                        ]
                    }
                }
            ],
            "execution_count": 18
        }
    ]
}