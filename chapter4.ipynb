{
    "metadata": {
        "kernelspec": {
            "name": "SQL",
            "display_name": "SQL",
            "language": "sql"
        },
        "language_info": {
            "name": "sql",
            "version": ""
        }
    },
    "nbformat_minor": 2,
    "nbformat": 4,
    "cells": [
        {
            "cell_type": "markdown",
            "source": [
                "1. **The maximum order id and its employee and customer.** Scalar subquery that retrieves the sole maximum order id, and uses this scalar value in a where clause to return the matching row for that order id. (Think of alternatives)"
            ],
            "metadata": {
                "language": "sql",
                "azdata_cell_guid": "bbbb756b-fb78-4976-9aba-97f6195015c8"
            },
            "attachments": {}
        },
        {
            "cell_type": "code",
            "source": [
                "use Northwinds2022TSQLV7\n",
                "\n",
                "select OrderId, OrderDate, EmployeeId, CustomerId\n",
                "from Sales.[Order]\n",
                "where OrderId = (\n",
                "    --subquery to retrieve scalar value of max order id\n",
                "    select max(O.OrderId) \n",
                "    from Sales.[Order] as O --use an alias if we're inline\n",
                "    -- think that we're using the same table twice in the same execution, so we\n",
                "    -- we need to distinguish copies, good practice!\n",
                ")"
            ],
            "metadata": {
                "azdata_cell_guid": "d960a538-c92f-4c0a-94d6-83e47f3c524a",
                "language": "sql"
            },
            "outputs": [
                {
                    "output_type": "display_data",
                    "data": {
                        "text/html": "(1 row affected)"
                    },
                    "metadata": {}
                },
                {
                    "output_type": "display_data",
                    "data": {
                        "text/html": "Total execution time: 00:00:00.012"
                    },
                    "metadata": {}
                },
                {
                    "output_type": "execute_result",
                    "metadata": {},
                    "execution_count": 7,
                    "data": {
                        "application/vnd.dataresource+json": {
                            "schema": {
                                "fields": [
                                    {
                                        "name": "OrderId"
                                    },
                                    {
                                        "name": "OrderDate"
                                    },
                                    {
                                        "name": "EmployeeId"
                                    },
                                    {
                                        "name": "CustomerId"
                                    }
                                ]
                            },
                            "data": [
                                {
                                    "0": "11077",
                                    "1": "2016-05-06",
                                    "2": "1",
                                    "3": "65"
                                }
                            ]
                        },
                        "text/html": [
                            "<table>",
                            "<tr><th>OrderId</th><th>OrderDate</th><th>EmployeeId</th><th>CustomerId</th></tr>",
                            "<tr><td>11077</td><td>2016-05-06</td><td>1</td><td>65</td></tr>",
                            "</table>"
                        ]
                    }
                }
            ],
            "execution_count": 7
        },
        {
            "cell_type": "markdown",
            "source": [
                "2. Subquery retrieves all employee last names starting with C, **main query using the retrieved employee id to return order ids of all orders involving ONE employee with a last name starting with C**!"
            ],
            "metadata": {
                "language": "sql",
                "azdata_cell_guid": "d9f6e753-a50f-460d-82ff-1c4d491475af"
            },
            "attachments": {}
        },
        {
            "cell_type": "code",
            "source": [
                "use Northwinds2022TSQLV7\n",
                "\n",
                "-- select E.EmployeeId\n",
                "-- from HumanResources.[Employee] as E\n",
                "-- where E.EmployeeLastName LIKE N'C%'\n",
                "\n",
                "-- select O.OrderId\n",
                "-- from Sales.[Order] as O\n",
                "-- where O.EmployeeId = 8 -- notice the scalar value, our subquery can retrieve this\n",
                "\n",
                "select O.OrderId\n",
                "from Sales.[Order] as O\n",
                "where O.EmployeeId = (\n",
                "    select E.EmployeeId\n",
                "    from HumanResources.[Employee] as E\n",
                "    where E.EmployeeLastName LIKE N'C%' --we can swap in any letter\n",
                ")"
            ],
            "metadata": {
                "language": "sql",
                "azdata_cell_guid": "45f70e5e-9ada-47bb-9173-045cc47c055d",
                "tags": []
            },
            "outputs": [
                {
                    "output_type": "display_data",
                    "data": {
                        "text/html": "(104 rows affected)"
                    },
                    "metadata": {}
                },
                {
                    "output_type": "display_data",
                    "data": {
                        "text/html": "Total execution time: 00:00:00.030"
                    },
                    "metadata": {}
                },
                {
                    "output_type": "execute_result",
                    "metadata": {},
                    "execution_count": 15,
                    "data": {
                        "application/vnd.dataresource+json": {
                            "schema": {
                                "fields": [
                                    {
                                        "name": "OrderId"
                                    }
                                ]
                            },
                            "data": [
                                {
                                    "0": "10262"
                                },
                                {
                                    "0": "10268"
                                },
                                {
                                    "0": "10276"
                                },
                                {
                                    "0": "10278"
                                },
                                {
                                    "0": "10279"
                                },
                                {
                                    "0": "10286"
                                },
                                {
                                    "0": "10287"
                                },
                                {
                                    "0": "10290"
                                },
                                {
                                    "0": "10301"
                                },
                                {
                                    "0": "10305"
                                },
                                {
                                    "0": "10310"
                                },
                                {
                                    "0": "10318"
                                },
                                {
                                    "0": "10334"
                                },
                                {
                                    "0": "10354"
                                },
                                {
                                    "0": "10366"
                                },
                                {
                                    "0": "10369"
                                },
                                {
                                    "0": "10380"
                                },
                                {
                                    "0": "10383"
                                },
                                {
                                    "0": "10399"
                                },
                                {
                                    "0": "10402"
                                },
                                {
                                    "0": "10408"
                                },
                                {
                                    "0": "10412"
                                },
                                {
                                    "0": "10416"
                                },
                                {
                                    "0": "10421"
                                },
                                {
                                    "0": "10435"
                                },
                                {
                                    "0": "10437"
                                },
                                {
                                    "0": "10443"
                                },
                                {
                                    "0": "10450"
                                },
                                {
                                    "0": "10452"
                                },
                                {
                                    "0": "10455"
                                },
                                {
                                    "0": "10456"
                                },
                                {
                                    "0": "10460"
                                },
                                {
                                    "0": "10467"
                                },
                                {
                                    "0": "10472"
                                },
                                {
                                    "0": "10476"
                                },
                                {
                                    "0": "10481"
                                },
                                {
                                    "0": "10488"
                                },
                                {
                                    "0": "10491"
                                },
                                {
                                    "0": "10498"
                                },
                                {
                                    "0": "10521"
                                },
                                {
                                    "0": "10533"
                                },
                                {
                                    "0": "10534"
                                },
                                {
                                    "0": "10543"
                                },
                                {
                                    "0": "10545"
                                },
                                {
                                    "0": "10560"
                                },
                                {
                                    "0": "10565"
                                },
                                {
                                    "0": "10571"
                                },
                                {
                                    "0": "10589"
                                },
                                {
                                    "0": "10596"
                                },
                                {
                                    "0": "10602"
                                },
                                {
                                    "0": "10603"
                                },
                                {
                                    "0": "10610"
                                },
                                {
                                    "0": "10614"
                                },
                                {
                                    "0": "10623"
                                },
                                {
                                    "0": "10627"
                                },
                                {
                                    "0": "10631"
                                },
                                {
                                    "0": "10632"
                                },
                                {
                                    "0": "10635"
                                },
                                {
                                    "0": "10651"
                                },
                                {
                                    "0": "10660"
                                },
                                {
                                    "0": "10679"
                                },
                                {
                                    "0": "10694"
                                },
                                {
                                    "0": "10696"
                                },
                                {
                                    "0": "10706"
                                },
                                {
                                    "0": "10719"
                                },
                                {
                                    "0": "10720"
                                },
                                {
                                    "0": "10722"
                                },
                                {
                                    "0": "10724"
                                },
                                {
                                    "0": "10729"
                                },
                                {
                                    "0": "10756"
                                },
                                {
                                    "0": "10770"
                                },
                                {
                                    "0": "10786"
                                },
                                {
                                    "0": "10795"
                                },
                                {
                                    "0": "10811"
                                },
                                {
                                    "0": "10824"
                                },
                                {
                                    "0": "10844"
                                },
                                {
                                    "0": "10845"
                                },
                                {
                                    "0": "10852"
                                },
                                {
                                    "0": "10857"
                                },
                                {
                                    "0": "10862"
                                },
                                {
                                    "0": "10883"
                                },
                                {
                                    "0": "10887"
                                },
                                {
                                    "0": "10932"
                                },
                                {
                                    "0": "10940"
                                },
                                {
                                    "0": "10955"
                                },
                                {
                                    "0": "10957"
                                },
                                {
                                    "0": "10961"
                                },
                                {
                                    "0": "10962"
                                },
                                {
                                    "0": "10977"
                                },
                                {
                                    "0": "10979"
                                },
                                {
                                    "0": "10986"
                                },
                                {
                                    "0": "10987"
                                },
                                {
                                    "0": "10997"
                                },
                                {
                                    "0": "10998"
                                },
                                {
                                    "0": "11007"
                                },
                                {
                                    "0": "11034"
                                },
                                {
                                    "0": "11036"
                                },
                                {
                                    "0": "11046"
                                },
                                {
                                    "0": "11050"
                                },
                                {
                                    "0": "11054"
                                },
                                {
                                    "0": "11056"
                                },
                                {
                                    "0": "11065"
                                },
                                {
                                    "0": "11068"
                                },
                                {
                                    "0": "11075"
                                }
                            ]
                        },
                        "text/html": [
                            "<table>",
                            "<tr><th>OrderId</th></tr>",
                            "<tr><td>10262</td></tr>",
                            "<tr><td>10268</td></tr>",
                            "<tr><td>10276</td></tr>",
                            "<tr><td>10278</td></tr>",
                            "<tr><td>10279</td></tr>",
                            "<tr><td>10286</td></tr>",
                            "<tr><td>10287</td></tr>",
                            "<tr><td>10290</td></tr>",
                            "<tr><td>10301</td></tr>",
                            "<tr><td>10305</td></tr>",
                            "<tr><td>10310</td></tr>",
                            "<tr><td>10318</td></tr>",
                            "<tr><td>10334</td></tr>",
                            "<tr><td>10354</td></tr>",
                            "<tr><td>10366</td></tr>",
                            "<tr><td>10369</td></tr>",
                            "<tr><td>10380</td></tr>",
                            "<tr><td>10383</td></tr>",
                            "<tr><td>10399</td></tr>",
                            "<tr><td>10402</td></tr>",
                            "<tr><td>10408</td></tr>",
                            "<tr><td>10412</td></tr>",
                            "<tr><td>10416</td></tr>",
                            "<tr><td>10421</td></tr>",
                            "<tr><td>10435</td></tr>",
                            "<tr><td>10437</td></tr>",
                            "<tr><td>10443</td></tr>",
                            "<tr><td>10450</td></tr>",
                            "<tr><td>10452</td></tr>",
                            "<tr><td>10455</td></tr>",
                            "<tr><td>10456</td></tr>",
                            "<tr><td>10460</td></tr>",
                            "<tr><td>10467</td></tr>",
                            "<tr><td>10472</td></tr>",
                            "<tr><td>10476</td></tr>",
                            "<tr><td>10481</td></tr>",
                            "<tr><td>10488</td></tr>",
                            "<tr><td>10491</td></tr>",
                            "<tr><td>10498</td></tr>",
                            "<tr><td>10521</td></tr>",
                            "<tr><td>10533</td></tr>",
                            "<tr><td>10534</td></tr>",
                            "<tr><td>10543</td></tr>",
                            "<tr><td>10545</td></tr>",
                            "<tr><td>10560</td></tr>",
                            "<tr><td>10565</td></tr>",
                            "<tr><td>10571</td></tr>",
                            "<tr><td>10589</td></tr>",
                            "<tr><td>10596</td></tr>",
                            "<tr><td>10602</td></tr>",
                            "<tr><td>10603</td></tr>",
                            "<tr><td>10610</td></tr>",
                            "<tr><td>10614</td></tr>",
                            "<tr><td>10623</td></tr>",
                            "<tr><td>10627</td></tr>",
                            "<tr><td>10631</td></tr>",
                            "<tr><td>10632</td></tr>",
                            "<tr><td>10635</td></tr>",
                            "<tr><td>10651</td></tr>",
                            "<tr><td>10660</td></tr>",
                            "<tr><td>10679</td></tr>",
                            "<tr><td>10694</td></tr>",
                            "<tr><td>10696</td></tr>",
                            "<tr><td>10706</td></tr>",
                            "<tr><td>10719</td></tr>",
                            "<tr><td>10720</td></tr>",
                            "<tr><td>10722</td></tr>",
                            "<tr><td>10724</td></tr>",
                            "<tr><td>10729</td></tr>",
                            "<tr><td>10756</td></tr>",
                            "<tr><td>10770</td></tr>",
                            "<tr><td>10786</td></tr>",
                            "<tr><td>10795</td></tr>",
                            "<tr><td>10811</td></tr>",
                            "<tr><td>10824</td></tr>",
                            "<tr><td>10844</td></tr>",
                            "<tr><td>10845</td></tr>",
                            "<tr><td>10852</td></tr>",
                            "<tr><td>10857</td></tr>",
                            "<tr><td>10862</td></tr>",
                            "<tr><td>10883</td></tr>",
                            "<tr><td>10887</td></tr>",
                            "<tr><td>10932</td></tr>",
                            "<tr><td>10940</td></tr>",
                            "<tr><td>10955</td></tr>",
                            "<tr><td>10957</td></tr>",
                            "<tr><td>10961</td></tr>",
                            "<tr><td>10962</td></tr>",
                            "<tr><td>10977</td></tr>",
                            "<tr><td>10979</td></tr>",
                            "<tr><td>10986</td></tr>",
                            "<tr><td>10987</td></tr>",
                            "<tr><td>10997</td></tr>",
                            "<tr><td>10998</td></tr>",
                            "<tr><td>11007</td></tr>",
                            "<tr><td>11034</td></tr>",
                            "<tr><td>11036</td></tr>",
                            "<tr><td>11046</td></tr>",
                            "<tr><td>11050</td></tr>",
                            "<tr><td>11054</td></tr>",
                            "<tr><td>11056</td></tr>",
                            "<tr><td>11065</td></tr>",
                            "<tr><td>11068</td></tr>",
                            "<tr><td>11075</td></tr>",
                            "</table>"
                        ]
                    }
                }
            ],
            "execution_count": 15
        },
        {
            "cell_type": "markdown",
            "source": [
                "3. Subquery returns multiple results, so rather than using an operator like =, we must use IN to check if in list of values. **Returns orders of ALL employees with a lastname starting with D.**"
            ],
            "metadata": {
                "language": "sql",
                "azdata_cell_guid": "50ad4be1-62d5-4c51-acc2-b61bab492a15"
            },
            "attachments": {}
        },
        {
            "cell_type": "code",
            "source": [
                "use Northwinds2022TSQLV7\n",
                "\n",
                "select OrderId\n",
                "from Sales.[Order]\n",
                "where EmployeeId in (\n",
                "    select E.EmployeeId\n",
                "    from HumanResources.Employee as E \n",
                "    where E.EmployeeLastName LIKE N'D%'\n",
                ")"
            ],
            "metadata": {
                "language": "sql",
                "azdata_cell_guid": "929c2cf3-0ea9-4689-a1d6-8b790e88512c"
            },
            "outputs": [
                {
                    "output_type": "display_data",
                    "data": {
                        "text/html": "(166 rows affected)"
                    },
                    "metadata": {}
                },
                {
                    "output_type": "display_data",
                    "data": {
                        "text/html": "Total execution time: 00:00:00.123"
                    },
                    "metadata": {}
                },
                {
                    "output_type": "execute_result",
                    "metadata": {},
                    "execution_count": 19,
                    "data": {
                        "application/vnd.dataresource+json": {
                            "schema": {
                                "fields": [
                                    {
                                        "name": "OrderId"
                                    }
                                ]
                            },
                            "data": [
                                {
                                    "0": "10255"
                                },
                                {
                                    "0": "10258"
                                },
                                {
                                    "0": "10263"
                                },
                                {
                                    "0": "10270"
                                },
                                {
                                    "0": "10275"
                                },
                                {
                                    "0": "10285"
                                },
                                {
                                    "0": "10292"
                                },
                                {
                                    "0": "10293"
                                },
                                {
                                    "0": "10304"
                                },
                                {
                                    "0": "10306"
                                },
                                {
                                    "0": "10311"
                                },
                                {
                                    "0": "10314"
                                },
                                {
                                    "0": "10316"
                                },
                                {
                                    "0": "10324"
                                },
                                {
                                    "0": "10325"
                                },
                                {
                                    "0": "10331"
                                },
                                {
                                    "0": "10340"
                                },
                                {
                                    "0": "10351"
                                },
                                {
                                    "0": "10357"
                                },
                                {
                                    "0": "10361"
                                },
                                {
                                    "0": "10364"
                                },
                                {
                                    "0": "10371"
                                },
                                {
                                    "0": "10374"
                                },
                                {
                                    "0": "10376"
                                },
                                {
                                    "0": "10377"
                                },
                                {
                                    "0": "10385"
                                },
                                {
                                    "0": "10386"
                                },
                                {
                                    "0": "10387"
                                },
                                {
                                    "0": "10393"
                                },
                                {
                                    "0": "10394"
                                },
                                {
                                    "0": "10396"
                                },
                                {
                                    "0": "10400"
                                },
                                {
                                    "0": "10401"
                                },
                                {
                                    "0": "10405"
                                },
                                {
                                    "0": "10411"
                                },
                                {
                                    "0": "10453"
                                },
                                {
                                    "0": "10461"
                                },
                                {
                                    "0": "10465"
                                },
                                {
                                    "0": "10469"
                                },
                                {
                                    "0": "10473"
                                },
                                {
                                    "0": "10475"
                                },
                                {
                                    "0": "10482"
                                },
                                {
                                    "0": "10486"
                                },
                                {
                                    "0": "10501"
                                },
                                {
                                    "0": "10506"
                                },
                                {
                                    "0": "10508"
                                },
                                {
                                    "0": "10524"
                                },
                                {
                                    "0": "10525"
                                },
                                {
                                    "0": "10537"
                                },
                                {
                                    "0": "10538"
                                },
                                {
                                    "0": "10542"
                                },
                                {
                                    "0": "10546"
                                },
                                {
                                    "0": "10557"
                                },
                                {
                                    "0": "10558"
                                },
                                {
                                    "0": "10562"
                                },
                                {
                                    "0": "10566"
                                },
                                {
                                    "0": "10567"
                                },
                                {
                                    "0": "10577"
                                },
                                {
                                    "0": "10579"
                                },
                                {
                                    "0": "10586"
                                },
                                {
                                    "0": "10587"
                                },
                                {
                                    "0": "10591"
                                },
                                {
                                    "0": "10598"
                                },
                                {
                                    "0": "10604"
                                },
                                {
                                    "0": "10605"
                                },
                                {
                                    "0": "10612"
                                },
                                {
                                    "0": "10616"
                                },
                                {
                                    "0": "10618"
                                },
                                {
                                    "0": "10626"
                                },
                                {
                                    "0": "10630"
                                },
                                {
                                    "0": "10646"
                                },
                                {
                                    "0": "10653"
                                },
                                {
                                    "0": "10655"
                                },
                                {
                                    "0": "10664"
                                },
                                {
                                    "0": "10665"
                                },
                                {
                                    "0": "10668"
                                },
                                {
                                    "0": "10671"
                                },
                                {
                                    "0": "10672"
                                },
                                {
                                    "0": "10677"
                                },
                                {
                                    "0": "10680"
                                },
                                {
                                    "0": "10687"
                                },
                                {
                                    "0": "10689"
                                },
                                {
                                    "0": "10690"
                                },
                                {
                                    "0": "10705"
                                },
                                {
                                    "0": "10709"
                                },
                                {
                                    "0": "10710"
                                },
                                {
                                    "0": "10713"
                                },
                                {
                                    "0": "10717"
                                },
                                {
                                    "0": "10718"
                                },
                                {
                                    "0": "10733"
                                },
                                {
                                    "0": "10736"
                                },
                                {
                                    "0": "10743"
                                },
                                {
                                    "0": "10745"
                                },
                                {
                                    "0": "10746"
                                },
                                {
                                    "0": "10750"
                                },
                                {
                                    "0": "10771"
                                },
                                {
                                    "0": "10773"
                                },
                                {
                                    "0": "10776"
                                },
                                {
                                    "0": "10782"
                                },
                                {
                                    "0": "10785"
                                },
                                {
                                    "0": "10788"
                                },
                                {
                                    "0": "10789"
                                },
                                {
                                    "0": "10792"
                                },
                                {
                                    "0": "10799"
                                },
                                {
                                    "0": "10800"
                                },
                                {
                                    "0": "10813"
                                },
                                {
                                    "0": "10821"
                                },
                                {
                                    "0": "10825"
                                },
                                {
                                    "0": "10827"
                                },
                                {
                                    "0": "10828"
                                },
                                {
                                    "0": "10829"
                                },
                                {
                                    "0": "10834"
                                },
                                {
                                    "0": "10835"
                                },
                                {
                                    "0": "10837"
                                },
                                {
                                    "0": "10842"
                                },
                                {
                                    "0": "10849"
                                },
                                {
                                    "0": "10850"
                                },
                                {
                                    "0": "10853"
                                },
                                {
                                    "0": "10859"
                                },
                                {
                                    "0": "10871"
                                },
                                {
                                    "0": "10877"
                                },
                                {
                                    "0": "10886"
                                },
                                {
                                    "0": "10888"
                                },
                                {
                                    "0": "10889"
                                },
                                {
                                    "0": "10893"
                                },
                                {
                                    "0": "10894"
                                },
                                {
                                    "0": "10900"
                                },
                                {
                                    "0": "10902"
                                },
                                {
                                    "0": "10905"
                                },
                                {
                                    "0": "10909"
                                },
                                {
                                    "0": "10910"
                                },
                                {
                                    "0": "10916"
                                },
                                {
                                    "0": "10921"
                                },
                                {
                                    "0": "10928"
                                },
                                {
                                    "0": "10942"
                                },
                                {
                                    "0": "10946"
                                },
                                {
                                    "0": "10950"
                                },
                                {
                                    "0": "10951"
                                },
                                {
                                    "0": "10952"
                                },
                                {
                                    "0": "10953"
                                },
                                {
                                    "0": "10963"
                                },
                                {
                                    "0": "10968"
                                },
                                {
                                    "0": "10969"
                                },
                                {
                                    "0": "10970"
                                },
                                {
                                    "0": "10975"
                                },
                                {
                                    "0": "10976"
                                },
                                {
                                    "0": "10978"
                                },
                                {
                                    "0": "10981"
                                },
                                {
                                    "0": "10984"
                                },
                                {
                                    "0": "10991"
                                },
                                {
                                    "0": "10992"
                                },
                                {
                                    "0": "10995"
                                },
                                {
                                    "0": "11012"
                                },
                                {
                                    "0": "11016"
                                },
                                {
                                    "0": "11017"
                                },
                                {
                                    "0": "11022"
                                },
                                {
                                    "0": "11023"
                                },
                                {
                                    "0": "11027"
                                },
                                {
                                    "0": "11038"
                                },
                                {
                                    "0": "11039"
                                },
                                {
                                    "0": "11058"
                                },
                                {
                                    "0": "11064"
                                },
                                {
                                    "0": "11067"
                                },
                                {
                                    "0": "11069"
                                },
                                {
                                    "0": "11071"
                                },
                                {
                                    "0": "11077"
                                }
                            ]
                        },
                        "text/html": [
                            "<table>",
                            "<tr><th>OrderId</th></tr>",
                            "<tr><td>10255</td></tr>",
                            "<tr><td>10258</td></tr>",
                            "<tr><td>10263</td></tr>",
                            "<tr><td>10270</td></tr>",
                            "<tr><td>10275</td></tr>",
                            "<tr><td>10285</td></tr>",
                            "<tr><td>10292</td></tr>",
                            "<tr><td>10293</td></tr>",
                            "<tr><td>10304</td></tr>",
                            "<tr><td>10306</td></tr>",
                            "<tr><td>10311</td></tr>",
                            "<tr><td>10314</td></tr>",
                            "<tr><td>10316</td></tr>",
                            "<tr><td>10324</td></tr>",
                            "<tr><td>10325</td></tr>",
                            "<tr><td>10331</td></tr>",
                            "<tr><td>10340</td></tr>",
                            "<tr><td>10351</td></tr>",
                            "<tr><td>10357</td></tr>",
                            "<tr><td>10361</td></tr>",
                            "<tr><td>10364</td></tr>",
                            "<tr><td>10371</td></tr>",
                            "<tr><td>10374</td></tr>",
                            "<tr><td>10376</td></tr>",
                            "<tr><td>10377</td></tr>",
                            "<tr><td>10385</td></tr>",
                            "<tr><td>10386</td></tr>",
                            "<tr><td>10387</td></tr>",
                            "<tr><td>10393</td></tr>",
                            "<tr><td>10394</td></tr>",
                            "<tr><td>10396</td></tr>",
                            "<tr><td>10400</td></tr>",
                            "<tr><td>10401</td></tr>",
                            "<tr><td>10405</td></tr>",
                            "<tr><td>10411</td></tr>",
                            "<tr><td>10453</td></tr>",
                            "<tr><td>10461</td></tr>",
                            "<tr><td>10465</td></tr>",
                            "<tr><td>10469</td></tr>",
                            "<tr><td>10473</td></tr>",
                            "<tr><td>10475</td></tr>",
                            "<tr><td>10482</td></tr>",
                            "<tr><td>10486</td></tr>",
                            "<tr><td>10501</td></tr>",
                            "<tr><td>10506</td></tr>",
                            "<tr><td>10508</td></tr>",
                            "<tr><td>10524</td></tr>",
                            "<tr><td>10525</td></tr>",
                            "<tr><td>10537</td></tr>",
                            "<tr><td>10538</td></tr>",
                            "<tr><td>10542</td></tr>",
                            "<tr><td>10546</td></tr>",
                            "<tr><td>10557</td></tr>",
                            "<tr><td>10558</td></tr>",
                            "<tr><td>10562</td></tr>",
                            "<tr><td>10566</td></tr>",
                            "<tr><td>10567</td></tr>",
                            "<tr><td>10577</td></tr>",
                            "<tr><td>10579</td></tr>",
                            "<tr><td>10586</td></tr>",
                            "<tr><td>10587</td></tr>",
                            "<tr><td>10591</td></tr>",
                            "<tr><td>10598</td></tr>",
                            "<tr><td>10604</td></tr>",
                            "<tr><td>10605</td></tr>",
                            "<tr><td>10612</td></tr>",
                            "<tr><td>10616</td></tr>",
                            "<tr><td>10618</td></tr>",
                            "<tr><td>10626</td></tr>",
                            "<tr><td>10630</td></tr>",
                            "<tr><td>10646</td></tr>",
                            "<tr><td>10653</td></tr>",
                            "<tr><td>10655</td></tr>",
                            "<tr><td>10664</td></tr>",
                            "<tr><td>10665</td></tr>",
                            "<tr><td>10668</td></tr>",
                            "<tr><td>10671</td></tr>",
                            "<tr><td>10672</td></tr>",
                            "<tr><td>10677</td></tr>",
                            "<tr><td>10680</td></tr>",
                            "<tr><td>10687</td></tr>",
                            "<tr><td>10689</td></tr>",
                            "<tr><td>10690</td></tr>",
                            "<tr><td>10705</td></tr>",
                            "<tr><td>10709</td></tr>",
                            "<tr><td>10710</td></tr>",
                            "<tr><td>10713</td></tr>",
                            "<tr><td>10717</td></tr>",
                            "<tr><td>10718</td></tr>",
                            "<tr><td>10733</td></tr>",
                            "<tr><td>10736</td></tr>",
                            "<tr><td>10743</td></tr>",
                            "<tr><td>10745</td></tr>",
                            "<tr><td>10746</td></tr>",
                            "<tr><td>10750</td></tr>",
                            "<tr><td>10771</td></tr>",
                            "<tr><td>10773</td></tr>",
                            "<tr><td>10776</td></tr>",
                            "<tr><td>10782</td></tr>",
                            "<tr><td>10785</td></tr>",
                            "<tr><td>10788</td></tr>",
                            "<tr><td>10789</td></tr>",
                            "<tr><td>10792</td></tr>",
                            "<tr><td>10799</td></tr>",
                            "<tr><td>10800</td></tr>",
                            "<tr><td>10813</td></tr>",
                            "<tr><td>10821</td></tr>",
                            "<tr><td>10825</td></tr>",
                            "<tr><td>10827</td></tr>",
                            "<tr><td>10828</td></tr>",
                            "<tr><td>10829</td></tr>",
                            "<tr><td>10834</td></tr>",
                            "<tr><td>10835</td></tr>",
                            "<tr><td>10837</td></tr>",
                            "<tr><td>10842</td></tr>",
                            "<tr><td>10849</td></tr>",
                            "<tr><td>10850</td></tr>",
                            "<tr><td>10853</td></tr>",
                            "<tr><td>10859</td></tr>",
                            "<tr><td>10871</td></tr>",
                            "<tr><td>10877</td></tr>",
                            "<tr><td>10886</td></tr>",
                            "<tr><td>10888</td></tr>",
                            "<tr><td>10889</td></tr>",
                            "<tr><td>10893</td></tr>",
                            "<tr><td>10894</td></tr>",
                            "<tr><td>10900</td></tr>",
                            "<tr><td>10902</td></tr>",
                            "<tr><td>10905</td></tr>",
                            "<tr><td>10909</td></tr>",
                            "<tr><td>10910</td></tr>",
                            "<tr><td>10916</td></tr>",
                            "<tr><td>10921</td></tr>",
                            "<tr><td>10928</td></tr>",
                            "<tr><td>10942</td></tr>",
                            "<tr><td>10946</td></tr>",
                            "<tr><td>10950</td></tr>",
                            "<tr><td>10951</td></tr>",
                            "<tr><td>10952</td></tr>",
                            "<tr><td>10953</td></tr>",
                            "<tr><td>10963</td></tr>",
                            "<tr><td>10968</td></tr>",
                            "<tr><td>10969</td></tr>",
                            "<tr><td>10970</td></tr>",
                            "<tr><td>10975</td></tr>",
                            "<tr><td>10976</td></tr>",
                            "<tr><td>10978</td></tr>",
                            "<tr><td>10981</td></tr>",
                            "<tr><td>10984</td></tr>",
                            "<tr><td>10991</td></tr>",
                            "<tr><td>10992</td></tr>",
                            "<tr><td>10995</td></tr>",
                            "<tr><td>11012</td></tr>",
                            "<tr><td>11016</td></tr>",
                            "<tr><td>11017</td></tr>",
                            "<tr><td>11022</td></tr>",
                            "<tr><td>11023</td></tr>",
                            "<tr><td>11027</td></tr>",
                            "<tr><td>11038</td></tr>",
                            "<tr><td>11039</td></tr>",
                            "<tr><td>11058</td></tr>",
                            "<tr><td>11064</td></tr>",
                            "<tr><td>11067</td></tr>",
                            "<tr><td>11069</td></tr>",
                            "<tr><td>11071</td></tr>",
                            "<tr><td>11077</td></tr>",
                            "</table>"
                        ]
                    }
                }
            ],
            "execution_count": 19
        },
        {
            "cell_type": "markdown",
            "source": [
                "4. Same as above but using an inner join rather than subquery. First joins matching rows from Order table and EmployeeTable, then filter to employees with last names starting with D. We return the order ids associated with those employees."
            ],
            "metadata": {
                "language": "sql",
                "azdata_cell_guid": "c8719fb0-2136-48e3-9dd8-93fe53a44fad"
            },
            "attachments": {}
        },
        {
            "cell_type": "code",
            "source": [
                "use Northwinds2022TSQLV7\n",
                "\n",
                "select O.OrderId \n",
                "from HumanResources.Employee as E\n",
                "    inner join Sales.[Order] as O\n",
                "    on E.EmployeeId = O.EmployeeId\n",
                "where E.EmployeeLastName like N'D%'\n",
                ""
            ],
            "metadata": {
                "language": "sql",
                "azdata_cell_guid": "3c0a2f44-1522-4d62-9dcb-7453a469347d"
            },
            "outputs": [
                {
                    "output_type": "display_data",
                    "data": {
                        "text/html": "(166 rows affected)"
                    },
                    "metadata": {}
                },
                {
                    "output_type": "display_data",
                    "data": {
                        "text/html": "Total execution time: 00:00:00.054"
                    },
                    "metadata": {}
                },
                {
                    "output_type": "execute_result",
                    "metadata": {},
                    "execution_count": 20,
                    "data": {
                        "application/vnd.dataresource+json": {
                            "schema": {
                                "fields": [
                                    {
                                        "name": "OrderId"
                                    }
                                ]
                            },
                            "data": [
                                {
                                    "0": "10255"
                                },
                                {
                                    "0": "10258"
                                },
                                {
                                    "0": "10263"
                                },
                                {
                                    "0": "10270"
                                },
                                {
                                    "0": "10275"
                                },
                                {
                                    "0": "10285"
                                },
                                {
                                    "0": "10292"
                                },
                                {
                                    "0": "10293"
                                },
                                {
                                    "0": "10304"
                                },
                                {
                                    "0": "10306"
                                },
                                {
                                    "0": "10311"
                                },
                                {
                                    "0": "10314"
                                },
                                {
                                    "0": "10316"
                                },
                                {
                                    "0": "10324"
                                },
                                {
                                    "0": "10325"
                                },
                                {
                                    "0": "10331"
                                },
                                {
                                    "0": "10340"
                                },
                                {
                                    "0": "10351"
                                },
                                {
                                    "0": "10357"
                                },
                                {
                                    "0": "10361"
                                },
                                {
                                    "0": "10364"
                                },
                                {
                                    "0": "10371"
                                },
                                {
                                    "0": "10374"
                                },
                                {
                                    "0": "10376"
                                },
                                {
                                    "0": "10377"
                                },
                                {
                                    "0": "10385"
                                },
                                {
                                    "0": "10386"
                                },
                                {
                                    "0": "10387"
                                },
                                {
                                    "0": "10393"
                                },
                                {
                                    "0": "10394"
                                },
                                {
                                    "0": "10396"
                                },
                                {
                                    "0": "10400"
                                },
                                {
                                    "0": "10401"
                                },
                                {
                                    "0": "10405"
                                },
                                {
                                    "0": "10411"
                                },
                                {
                                    "0": "10453"
                                },
                                {
                                    "0": "10461"
                                },
                                {
                                    "0": "10465"
                                },
                                {
                                    "0": "10469"
                                },
                                {
                                    "0": "10473"
                                },
                                {
                                    "0": "10475"
                                },
                                {
                                    "0": "10482"
                                },
                                {
                                    "0": "10486"
                                },
                                {
                                    "0": "10501"
                                },
                                {
                                    "0": "10506"
                                },
                                {
                                    "0": "10508"
                                },
                                {
                                    "0": "10524"
                                },
                                {
                                    "0": "10525"
                                },
                                {
                                    "0": "10537"
                                },
                                {
                                    "0": "10538"
                                },
                                {
                                    "0": "10542"
                                },
                                {
                                    "0": "10546"
                                },
                                {
                                    "0": "10557"
                                },
                                {
                                    "0": "10558"
                                },
                                {
                                    "0": "10562"
                                },
                                {
                                    "0": "10566"
                                },
                                {
                                    "0": "10567"
                                },
                                {
                                    "0": "10577"
                                },
                                {
                                    "0": "10579"
                                },
                                {
                                    "0": "10586"
                                },
                                {
                                    "0": "10587"
                                },
                                {
                                    "0": "10591"
                                },
                                {
                                    "0": "10598"
                                },
                                {
                                    "0": "10604"
                                },
                                {
                                    "0": "10605"
                                },
                                {
                                    "0": "10612"
                                },
                                {
                                    "0": "10616"
                                },
                                {
                                    "0": "10618"
                                },
                                {
                                    "0": "10626"
                                },
                                {
                                    "0": "10630"
                                },
                                {
                                    "0": "10646"
                                },
                                {
                                    "0": "10653"
                                },
                                {
                                    "0": "10655"
                                },
                                {
                                    "0": "10664"
                                },
                                {
                                    "0": "10665"
                                },
                                {
                                    "0": "10668"
                                },
                                {
                                    "0": "10671"
                                },
                                {
                                    "0": "10672"
                                },
                                {
                                    "0": "10677"
                                },
                                {
                                    "0": "10680"
                                },
                                {
                                    "0": "10687"
                                },
                                {
                                    "0": "10689"
                                },
                                {
                                    "0": "10690"
                                },
                                {
                                    "0": "10705"
                                },
                                {
                                    "0": "10709"
                                },
                                {
                                    "0": "10710"
                                },
                                {
                                    "0": "10713"
                                },
                                {
                                    "0": "10717"
                                },
                                {
                                    "0": "10718"
                                },
                                {
                                    "0": "10733"
                                },
                                {
                                    "0": "10736"
                                },
                                {
                                    "0": "10743"
                                },
                                {
                                    "0": "10745"
                                },
                                {
                                    "0": "10746"
                                },
                                {
                                    "0": "10750"
                                },
                                {
                                    "0": "10771"
                                },
                                {
                                    "0": "10773"
                                },
                                {
                                    "0": "10776"
                                },
                                {
                                    "0": "10782"
                                },
                                {
                                    "0": "10785"
                                },
                                {
                                    "0": "10788"
                                },
                                {
                                    "0": "10789"
                                },
                                {
                                    "0": "10792"
                                },
                                {
                                    "0": "10799"
                                },
                                {
                                    "0": "10800"
                                },
                                {
                                    "0": "10813"
                                },
                                {
                                    "0": "10821"
                                },
                                {
                                    "0": "10825"
                                },
                                {
                                    "0": "10827"
                                },
                                {
                                    "0": "10828"
                                },
                                {
                                    "0": "10829"
                                },
                                {
                                    "0": "10834"
                                },
                                {
                                    "0": "10835"
                                },
                                {
                                    "0": "10837"
                                },
                                {
                                    "0": "10842"
                                },
                                {
                                    "0": "10849"
                                },
                                {
                                    "0": "10850"
                                },
                                {
                                    "0": "10853"
                                },
                                {
                                    "0": "10859"
                                },
                                {
                                    "0": "10871"
                                },
                                {
                                    "0": "10877"
                                },
                                {
                                    "0": "10886"
                                },
                                {
                                    "0": "10888"
                                },
                                {
                                    "0": "10889"
                                },
                                {
                                    "0": "10893"
                                },
                                {
                                    "0": "10894"
                                },
                                {
                                    "0": "10900"
                                },
                                {
                                    "0": "10902"
                                },
                                {
                                    "0": "10905"
                                },
                                {
                                    "0": "10909"
                                },
                                {
                                    "0": "10910"
                                },
                                {
                                    "0": "10916"
                                },
                                {
                                    "0": "10921"
                                },
                                {
                                    "0": "10928"
                                },
                                {
                                    "0": "10942"
                                },
                                {
                                    "0": "10946"
                                },
                                {
                                    "0": "10950"
                                },
                                {
                                    "0": "10951"
                                },
                                {
                                    "0": "10952"
                                },
                                {
                                    "0": "10953"
                                },
                                {
                                    "0": "10963"
                                },
                                {
                                    "0": "10968"
                                },
                                {
                                    "0": "10969"
                                },
                                {
                                    "0": "10970"
                                },
                                {
                                    "0": "10975"
                                },
                                {
                                    "0": "10976"
                                },
                                {
                                    "0": "10978"
                                },
                                {
                                    "0": "10981"
                                },
                                {
                                    "0": "10984"
                                },
                                {
                                    "0": "10991"
                                },
                                {
                                    "0": "10992"
                                },
                                {
                                    "0": "10995"
                                },
                                {
                                    "0": "11012"
                                },
                                {
                                    "0": "11016"
                                },
                                {
                                    "0": "11017"
                                },
                                {
                                    "0": "11022"
                                },
                                {
                                    "0": "11023"
                                },
                                {
                                    "0": "11027"
                                },
                                {
                                    "0": "11038"
                                },
                                {
                                    "0": "11039"
                                },
                                {
                                    "0": "11058"
                                },
                                {
                                    "0": "11064"
                                },
                                {
                                    "0": "11067"
                                },
                                {
                                    "0": "11069"
                                },
                                {
                                    "0": "11071"
                                },
                                {
                                    "0": "11077"
                                }
                            ]
                        },
                        "text/html": [
                            "<table>",
                            "<tr><th>OrderId</th></tr>",
                            "<tr><td>10255</td></tr>",
                            "<tr><td>10258</td></tr>",
                            "<tr><td>10263</td></tr>",
                            "<tr><td>10270</td></tr>",
                            "<tr><td>10275</td></tr>",
                            "<tr><td>10285</td></tr>",
                            "<tr><td>10292</td></tr>",
                            "<tr><td>10293</td></tr>",
                            "<tr><td>10304</td></tr>",
                            "<tr><td>10306</td></tr>",
                            "<tr><td>10311</td></tr>",
                            "<tr><td>10314</td></tr>",
                            "<tr><td>10316</td></tr>",
                            "<tr><td>10324</td></tr>",
                            "<tr><td>10325</td></tr>",
                            "<tr><td>10331</td></tr>",
                            "<tr><td>10340</td></tr>",
                            "<tr><td>10351</td></tr>",
                            "<tr><td>10357</td></tr>",
                            "<tr><td>10361</td></tr>",
                            "<tr><td>10364</td></tr>",
                            "<tr><td>10371</td></tr>",
                            "<tr><td>10374</td></tr>",
                            "<tr><td>10376</td></tr>",
                            "<tr><td>10377</td></tr>",
                            "<tr><td>10385</td></tr>",
                            "<tr><td>10386</td></tr>",
                            "<tr><td>10387</td></tr>",
                            "<tr><td>10393</td></tr>",
                            "<tr><td>10394</td></tr>",
                            "<tr><td>10396</td></tr>",
                            "<tr><td>10400</td></tr>",
                            "<tr><td>10401</td></tr>",
                            "<tr><td>10405</td></tr>",
                            "<tr><td>10411</td></tr>",
                            "<tr><td>10453</td></tr>",
                            "<tr><td>10461</td></tr>",
                            "<tr><td>10465</td></tr>",
                            "<tr><td>10469</td></tr>",
                            "<tr><td>10473</td></tr>",
                            "<tr><td>10475</td></tr>",
                            "<tr><td>10482</td></tr>",
                            "<tr><td>10486</td></tr>",
                            "<tr><td>10501</td></tr>",
                            "<tr><td>10506</td></tr>",
                            "<tr><td>10508</td></tr>",
                            "<tr><td>10524</td></tr>",
                            "<tr><td>10525</td></tr>",
                            "<tr><td>10537</td></tr>",
                            "<tr><td>10538</td></tr>",
                            "<tr><td>10542</td></tr>",
                            "<tr><td>10546</td></tr>",
                            "<tr><td>10557</td></tr>",
                            "<tr><td>10558</td></tr>",
                            "<tr><td>10562</td></tr>",
                            "<tr><td>10566</td></tr>",
                            "<tr><td>10567</td></tr>",
                            "<tr><td>10577</td></tr>",
                            "<tr><td>10579</td></tr>",
                            "<tr><td>10586</td></tr>",
                            "<tr><td>10587</td></tr>",
                            "<tr><td>10591</td></tr>",
                            "<tr><td>10598</td></tr>",
                            "<tr><td>10604</td></tr>",
                            "<tr><td>10605</td></tr>",
                            "<tr><td>10612</td></tr>",
                            "<tr><td>10616</td></tr>",
                            "<tr><td>10618</td></tr>",
                            "<tr><td>10626</td></tr>",
                            "<tr><td>10630</td></tr>",
                            "<tr><td>10646</td></tr>",
                            "<tr><td>10653</td></tr>",
                            "<tr><td>10655</td></tr>",
                            "<tr><td>10664</td></tr>",
                            "<tr><td>10665</td></tr>",
                            "<tr><td>10668</td></tr>",
                            "<tr><td>10671</td></tr>",
                            "<tr><td>10672</td></tr>",
                            "<tr><td>10677</td></tr>",
                            "<tr><td>10680</td></tr>",
                            "<tr><td>10687</td></tr>",
                            "<tr><td>10689</td></tr>",
                            "<tr><td>10690</td></tr>",
                            "<tr><td>10705</td></tr>",
                            "<tr><td>10709</td></tr>",
                            "<tr><td>10710</td></tr>",
                            "<tr><td>10713</td></tr>",
                            "<tr><td>10717</td></tr>",
                            "<tr><td>10718</td></tr>",
                            "<tr><td>10733</td></tr>",
                            "<tr><td>10736</td></tr>",
                            "<tr><td>10743</td></tr>",
                            "<tr><td>10745</td></tr>",
                            "<tr><td>10746</td></tr>",
                            "<tr><td>10750</td></tr>",
                            "<tr><td>10771</td></tr>",
                            "<tr><td>10773</td></tr>",
                            "<tr><td>10776</td></tr>",
                            "<tr><td>10782</td></tr>",
                            "<tr><td>10785</td></tr>",
                            "<tr><td>10788</td></tr>",
                            "<tr><td>10789</td></tr>",
                            "<tr><td>10792</td></tr>",
                            "<tr><td>10799</td></tr>",
                            "<tr><td>10800</td></tr>",
                            "<tr><td>10813</td></tr>",
                            "<tr><td>10821</td></tr>",
                            "<tr><td>10825</td></tr>",
                            "<tr><td>10827</td></tr>",
                            "<tr><td>10828</td></tr>",
                            "<tr><td>10829</td></tr>",
                            "<tr><td>10834</td></tr>",
                            "<tr><td>10835</td></tr>",
                            "<tr><td>10837</td></tr>",
                            "<tr><td>10842</td></tr>",
                            "<tr><td>10849</td></tr>",
                            "<tr><td>10850</td></tr>",
                            "<tr><td>10853</td></tr>",
                            "<tr><td>10859</td></tr>",
                            "<tr><td>10871</td></tr>",
                            "<tr><td>10877</td></tr>",
                            "<tr><td>10886</td></tr>",
                            "<tr><td>10888</td></tr>",
                            "<tr><td>10889</td></tr>",
                            "<tr><td>10893</td></tr>",
                            "<tr><td>10894</td></tr>",
                            "<tr><td>10900</td></tr>",
                            "<tr><td>10902</td></tr>",
                            "<tr><td>10905</td></tr>",
                            "<tr><td>10909</td></tr>",
                            "<tr><td>10910</td></tr>",
                            "<tr><td>10916</td></tr>",
                            "<tr><td>10921</td></tr>",
                            "<tr><td>10928</td></tr>",
                            "<tr><td>10942</td></tr>",
                            "<tr><td>10946</td></tr>",
                            "<tr><td>10950</td></tr>",
                            "<tr><td>10951</td></tr>",
                            "<tr><td>10952</td></tr>",
                            "<tr><td>10953</td></tr>",
                            "<tr><td>10963</td></tr>",
                            "<tr><td>10968</td></tr>",
                            "<tr><td>10969</td></tr>",
                            "<tr><td>10970</td></tr>",
                            "<tr><td>10975</td></tr>",
                            "<tr><td>10976</td></tr>",
                            "<tr><td>10978</td></tr>",
                            "<tr><td>10981</td></tr>",
                            "<tr><td>10984</td></tr>",
                            "<tr><td>10991</td></tr>",
                            "<tr><td>10992</td></tr>",
                            "<tr><td>10995</td></tr>",
                            "<tr><td>11012</td></tr>",
                            "<tr><td>11016</td></tr>",
                            "<tr><td>11017</td></tr>",
                            "<tr><td>11022</td></tr>",
                            "<tr><td>11023</td></tr>",
                            "<tr><td>11027</td></tr>",
                            "<tr><td>11038</td></tr>",
                            "<tr><td>11039</td></tr>",
                            "<tr><td>11058</td></tr>",
                            "<tr><td>11064</td></tr>",
                            "<tr><td>11067</td></tr>",
                            "<tr><td>11069</td></tr>",
                            "<tr><td>11071</td></tr>",
                            "<tr><td>11077</td></tr>",
                            "</table>"
                        ]
                    }
                }
            ],
            "execution_count": 20
        },
        {
            "cell_type": "markdown",
            "source": [
                "5) **Orders placed by US customer.** First grab custid of customers from USA, then filter orders to match those custids."
            ],
            "metadata": {
                "language": "sql",
                "azdata_cell_guid": "a59299ab-0907-4e81-9825-a5c11e6fa665"
            },
            "attachments": {}
        },
        {
            "cell_type": "code",
            "source": [
                "use Northwinds2022TSQLV7\n",
                "\n",
                "select CustomerId, OrderId, OrderDate, EmployeeId\n",
                "from Sales.[Order]\n",
                "where CustomerId IN ( --multivalued subquery\n",
                "    select C.CustomerId\n",
                "    from Sales.[Order] as C \n",
                "    where C.ShipToCountry = N'USA'\n",
                ")"
            ],
            "metadata": {
                "language": "sql",
                "azdata_cell_guid": "65da515c-b8ed-4e43-84fc-265f245077d0"
            },
            "outputs": [
                {
                    "output_type": "display_data",
                    "data": {
                        "text/html": "(122 rows affected)"
                    },
                    "metadata": {}
                },
                {
                    "output_type": "display_data",
                    "data": {
                        "text/html": "Total execution time: 00:00:00.033"
                    },
                    "metadata": {}
                },
                {
                    "output_type": "execute_result",
                    "metadata": {},
                    "execution_count": 23,
                    "data": {
                        "application/vnd.dataresource+json": {
                            "schema": {
                                "fields": [
                                    {
                                        "name": "CustomerId"
                                    },
                                    {
                                        "name": "OrderId"
                                    },
                                    {
                                        "name": "OrderDate"
                                    },
                                    {
                                        "name": "EmployeeId"
                                    }
                                ]
                            },
                            "data": [
                                {
                                    "0": "65",
                                    "1": "10262",
                                    "2": "2014-07-22",
                                    "3": "8"
                                },
                                {
                                    "0": "89",
                                    "1": "10269",
                                    "2": "2014-07-31",
                                    "3": "5"
                                },
                                {
                                    "0": "75",
                                    "1": "10271",
                                    "2": "2014-08-01",
                                    "3": "6"
                                },
                                {
                                    "0": "65",
                                    "1": "10272",
                                    "2": "2014-08-02",
                                    "3": "6"
                                },
                                {
                                    "0": "65",
                                    "1": "10294",
                                    "2": "2014-08-30",
                                    "3": "4"
                                },
                                {
                                    "0": "55",
                                    "1": "10305",
                                    "2": "2014-09-13",
                                    "3": "8"
                                },
                                {
                                    "0": "48",
                                    "1": "10307",
                                    "2": "2014-09-17",
                                    "3": "2"
                                },
                                {
                                    "0": "77",
                                    "1": "10310",
                                    "2": "2014-09-20",
                                    "3": "8"
                                },
                                {
                                    "0": "65",
                                    "1": "10314",
                                    "2": "2014-09-25",
                                    "3": "1"
                                },
                                {
                                    "0": "65",
                                    "1": "10316",
                                    "2": "2014-09-27",
                                    "3": "1"
                                },
                                {
                                    "0": "48",
                                    "1": "10317",
                                    "2": "2014-09-30",
                                    "3": "6"
                                },
                                {
                                    "0": "71",
                                    "1": "10324",
                                    "2": "2014-10-08",
                                    "3": "9"
                                },
                                {
                                    "0": "75",
                                    "1": "10329",
                                    "2": "2014-10-15",
                                    "3": "4"
                                },
                                {
                                    "0": "55",
                                    "1": "10338",
                                    "2": "2014-10-25",
                                    "3": "4"
                                },
                                {
                                    "0": "89",
                                    "1": "10344",
                                    "2": "2014-11-01",
                                    "3": "4"
                                },
                                {
                                    "0": "65",
                                    "1": "10346",
                                    "2": "2014-11-05",
                                    "3": "3"
                                },
                                {
                                    "0": "75",
                                    "1": "10349",
                                    "2": "2014-11-08",
                                    "3": "7"
                                },
                                {
                                    "0": "75",
                                    "1": "10369",
                                    "2": "2014-12-02",
                                    "3": "8"
                                },
                                {
                                    "0": "36",
                                    "1": "10375",
                                    "2": "2014-12-06",
                                    "3": "3"
                                },
                                {
                                    "0": "75",
                                    "1": "10385",
                                    "2": "2014-12-17",
                                    "3": "1"
                                },
                                {
                                    "0": "71",
                                    "1": "10393",
                                    "2": "2014-12-25",
                                    "3": "1"
                                },
                                {
                                    "0": "36",
                                    "1": "10394",
                                    "2": "2014-12-25",
                                    "3": "1"
                                },
                                {
                                    "0": "71",
                                    "1": "10398",
                                    "2": "2014-12-30",
                                    "3": "2"
                                },
                                {
                                    "0": "65",
                                    "1": "10401",
                                    "2": "2015-01-01",
                                    "3": "1"
                                },
                                {
                                    "0": "36",
                                    "1": "10415",
                                    "2": "2015-01-15",
                                    "3": "3"
                                },
                                {
                                    "0": "75",
                                    "1": "10432",
                                    "2": "2015-01-31",
                                    "3": "3"
                                },
                                {
                                    "0": "71",
                                    "1": "10440",
                                    "2": "2015-02-10",
                                    "3": "4"
                                },
                                {
                                    "0": "55",
                                    "1": "10441",
                                    "2": "2015-02-10",
                                    "3": "3"
                                },
                                {
                                    "0": "71",
                                    "1": "10452",
                                    "2": "2015-02-20",
                                    "3": "8"
                                },
                                {
                                    "0": "89",
                                    "1": "10469",
                                    "2": "2015-03-10",
                                    "3": "1"
                                },
                                {
                                    "0": "65",
                                    "1": "10479",
                                    "2": "2015-03-19",
                                    "3": "3"
                                },
                                {
                                    "0": "43",
                                    "1": "10482",
                                    "2": "2015-03-21",
                                    "3": "1"
                                },
                                {
                                    "0": "89",
                                    "1": "10483",
                                    "2": "2015-03-24",
                                    "3": "7"
                                },
                                {
                                    "0": "89",
                                    "1": "10504",
                                    "2": "2015-04-11",
                                    "3": "4"
                                },
                                {
                                    "0": "71",
                                    "1": "10510",
                                    "2": "2015-04-18",
                                    "3": "6"
                                },
                                {
                                    "0": "32",
                                    "1": "10528",
                                    "2": "2015-05-06",
                                    "3": "6"
                                },
                                {
                                    "0": "48",
                                    "1": "10544",
                                    "2": "2015-05-21",
                                    "3": "4"
                                },
                                {
                                    "0": "43",
                                    "1": "10545",
                                    "2": "2015-05-22",
                                    "3": "8"
                                },
                                {
                                    "0": "71",
                                    "1": "10555",
                                    "2": "2015-06-02",
                                    "3": "6"
                                },
                                {
                                    "0": "65",
                                    "1": "10564",
                                    "2": "2015-06-10",
                                    "3": "4"
                                },
                                {
                                    "0": "65",
                                    "1": "10569",
                                    "2": "2015-06-16",
                                    "3": "5"
                                },
                                {
                                    "0": "82",
                                    "1": "10574",
                                    "2": "2015-06-19",
                                    "3": "4"
                                },
                                {
                                    "0": "82",
                                    "1": "10577",
                                    "2": "2015-06-23",
                                    "3": "9"
                                },
                                {
                                    "0": "45",
                                    "1": "10579",
                                    "2": "2015-06-25",
                                    "3": "1"
                                },
                                {
                                    "0": "32",
                                    "1": "10589",
                                    "2": "2015-07-04",
                                    "3": "8"
                                },
                                {
                                    "0": "55",
                                    "1": "10594",
                                    "2": "2015-07-09",
                                    "3": "3"
                                },
                                {
                                    "0": "89",
                                    "1": "10596",
                                    "2": "2015-07-11",
                                    "3": "8"
                                },
                                {
                                    "0": "65",
                                    "1": "10598",
                                    "2": "2015-07-14",
                                    "3": "1"
                                },
                                {
                                    "0": "36",
                                    "1": "10600",
                                    "2": "2015-07-16",
                                    "3": "4"
                                },
                                {
                                    "0": "71",
                                    "1": "10603",
                                    "2": "2015-07-18",
                                    "3": "8"
                                },
                                {
                                    "0": "71",
                                    "1": "10607",
                                    "2": "2015-07-22",
                                    "3": "5"
                                },
                                {
                                    "0": "71",
                                    "1": "10612",
                                    "2": "2015-07-28",
                                    "3": "1"
                                },
                                {
                                    "0": "32",
                                    "1": "10616",
                                    "2": "2015-07-31",
                                    "3": "1"
                                },
                                {
                                    "0": "32",
                                    "1": "10617",
                                    "2": "2015-07-31",
                                    "3": "4"
                                },
                                {
                                    "0": "78",
                                    "1": "10624",
                                    "2": "2015-08-07",
                                    "3": "4"
                                },
                                {
                                    "0": "71",
                                    "1": "10627",
                                    "2": "2015-08-11",
                                    "3": "8"
                                },
                                {
                                    "0": "32",
                                    "1": "10656",
                                    "2": "2015-09-04",
                                    "3": "6"
                                },
                                {
                                    "0": "71",
                                    "1": "10657",
                                    "2": "2015-09-04",
                                    "3": "2"
                                },
                                {
                                    "0": "36",
                                    "1": "10660",
                                    "2": "2015-09-08",
                                    "3": "8"
                                },
                                {
                                    "0": "48",
                                    "1": "10662",
                                    "2": "2015-09-09",
                                    "3": "3"
                                },
                                {
                                    "0": "48",
                                    "1": "10665",
                                    "2": "2015-09-11",
                                    "3": "1"
                                },
                                {
                                    "0": "71",
                                    "1": "10678",
                                    "2": "2015-09-23",
                                    "3": "7"
                                },
                                {
                                    "0": "55",
                                    "1": "10680",
                                    "2": "2015-09-24",
                                    "3": "1"
                                },
                                {
                                    "0": "32",
                                    "1": "10681",
                                    "2": "2015-09-25",
                                    "3": "3"
                                },
                                {
                                    "0": "89",
                                    "1": "10693",
                                    "2": "2015-10-06",
                                    "3": "3"
                                },
                                {
                                    "0": "89",
                                    "1": "10696",
                                    "2": "2015-10-08",
                                    "3": "8"
                                },
                                {
                                    "0": "71",
                                    "1": "10700",
                                    "2": "2015-10-10",
                                    "3": "3"
                                },
                                {
                                    "0": "55",
                                    "1": "10706",
                                    "2": "2015-10-16",
                                    "3": "8"
                                },
                                {
                                    "0": "77",
                                    "1": "10708",
                                    "2": "2015-10-17",
                                    "3": "6"
                                },
                                {
                                    "0": "71",
                                    "1": "10711",
                                    "2": "2015-10-21",
                                    "3": "5"
                                },
                                {
                                    "0": "71",
                                    "1": "10713",
                                    "2": "2015-10-22",
                                    "3": "1"
                                },
                                {
                                    "0": "71",
                                    "1": "10714",
                                    "2": "2015-10-22",
                                    "3": "5"
                                },
                                {
                                    "0": "45",
                                    "1": "10719",
                                    "2": "2015-10-27",
                                    "3": "8"
                                },
                                {
                                    "0": "71",
                                    "1": "10722",
                                    "2": "2015-10-29",
                                    "3": "8"
                                },
                                {
                                    "0": "89",
                                    "1": "10723",
                                    "2": "2015-10-30",
                                    "3": "3"
                                },
                                {
                                    "0": "45",
                                    "1": "10735",
                                    "2": "2015-11-10",
                                    "3": "6"
                                },
                                {
                                    "0": "89",
                                    "1": "10740",
                                    "2": "2015-11-13",
                                    "3": "4"
                                },
                                {
                                    "0": "71",
                                    "1": "10748",
                                    "2": "2015-11-20",
                                    "3": "3"
                                },
                                {
                                    "0": "75",
                                    "1": "10756",
                                    "2": "2015-11-27",
                                    "3": "8"
                                },
                                {
                                    "0": "71",
                                    "1": "10757",
                                    "2": "2015-11-27",
                                    "3": "6"
                                },
                                {
                                    "0": "65",
                                    "1": "10761",
                                    "2": "2015-12-02",
                                    "3": "5"
                                },
                                {
                                    "0": "78",
                                    "1": "10775",
                                    "2": "2015-12-12",
                                    "3": "7"
                                },
                                {
                                    "0": "77",
                                    "1": "10805",
                                    "2": "2015-12-30",
                                    "3": "2"
                                },
                                {
                                    "0": "55",
                                    "1": "10808",
                                    "2": "2016-01-01",
                                    "3": "2"
                                },
                                {
                                    "0": "71",
                                    "1": "10815",
                                    "2": "2016-01-05",
                                    "3": "2"
                                },
                                {
                                    "0": "32",
                                    "1": "10816",
                                    "2": "2016-01-06",
                                    "3": "4"
                                },
                                {
                                    "0": "65",
                                    "1": "10820",
                                    "2": "2016-01-07",
                                    "3": "3"
                                },
                                {
                                    "0": "75",
                                    "1": "10821",
                                    "2": "2016-01-08",
                                    "3": "1"
                                },
                                {
                                    "0": "82",
                                    "1": "10822",
                                    "2": "2016-01-08",
                                    "3": "6"
                                },
                                {
                                    "0": "71",
                                    "1": "10847",
                                    "2": "2016-01-22",
                                    "3": "4"
                                },
                                {
                                    "0": "65",
                                    "1": "10852",
                                    "2": "2016-01-26",
                                    "3": "8"
                                },
                                {
                                    "0": "55",
                                    "1": "10855",
                                    "2": "2016-01-27",
                                    "3": "3"
                                },
                                {
                                    "0": "89",
                                    "1": "10861",
                                    "2": "2016-01-30",
                                    "3": "4"
                                },
                                {
                                    "0": "48",
                                    "1": "10867",
                                    "2": "2016-02-03",
                                    "3": "6"
                                },
                                {
                                    "0": "71",
                                    "1": "10882",
                                    "2": "2016-02-11",
                                    "3": "4"
                                },
                                {
                                    "0": "48",
                                    "1": "10883",
                                    "2": "2016-02-12",
                                    "3": "8"
                                },
                                {
                                    "0": "45",
                                    "1": "10884",
                                    "2": "2016-02-12",
                                    "3": "4"
                                },
                                {
                                    "0": "65",
                                    "1": "10889",
                                    "2": "2016-02-16",
                                    "3": "9"
                                },
                                {
                                    "0": "71",
                                    "1": "10894",
                                    "2": "2016-02-18",
                                    "3": "1"
                                },
                                {
                                    "0": "89",
                                    "1": "10904",
                                    "2": "2016-02-24",
                                    "3": "3"
                                },
                                {
                                    "0": "32",
                                    "1": "10936",
                                    "2": "2016-03-09",
                                    "3": "3"
                                },
                                {
                                    "0": "71",
                                    "1": "10941",
                                    "2": "2016-03-11",
                                    "3": "7"
                                },
                                {
                                    "0": "55",
                                    "1": "10965",
                                    "2": "2016-03-20",
                                    "3": "6"
                                },
                                {
                                    "0": "75",
                                    "1": "10974",
                                    "2": "2016-03-25",
                                    "3": "3"
                                },
                                {
                                    "0": "71",
                                    "1": "10983",
                                    "2": "2016-03-27",
                                    "3": "2"
                                },
                                {
                                    "0": "71",
                                    "1": "10984",
                                    "2": "2016-03-30",
                                    "3": "1"
                                },
                                {
                                    "0": "65",
                                    "1": "10988",
                                    "2": "2016-03-31",
                                    "3": "3"
                                },
                                {
                                    "0": "77",
                                    "1": "10992",
                                    "2": "2016-04-01",
                                    "3": "1"
                                },
                                {
                                    "0": "65",
                                    "1": "11000",
                                    "2": "2016-04-06",
                                    "3": "2"
                                },
                                {
                                    "0": "71",
                                    "1": "11002",
                                    "2": "2016-04-06",
                                    "3": "4"
                                },
                                {
                                    "0": "78",
                                    "1": "11003",
                                    "2": "2016-04-06",
                                    "3": "3"
                                },
                                {
                                    "0": "32",
                                    "1": "11006",
                                    "2": "2016-04-07",
                                    "3": "3"
                                },
                                {
                                    "0": "48",
                                    "1": "11018",
                                    "2": "2016-04-13",
                                    "3": "4"
                                },
                                {
                                    "0": "71",
                                    "1": "11030",
                                    "2": "2016-04-17",
                                    "3": "7"
                                },
                                {
                                    "0": "71",
                                    "1": "11031",
                                    "2": "2016-04-17",
                                    "3": "6"
                                },
                                {
                                    "0": "89",
                                    "1": "11032",
                                    "2": "2016-04-17",
                                    "3": "2"
                                },
                                {
                                    "0": "55",
                                    "1": "11034",
                                    "2": "2016-04-20",
                                    "3": "8"
                                },
                                {
                                    "0": "32",
                                    "1": "11040",
                                    "2": "2016-04-22",
                                    "3": "4"
                                },
                                {
                                    "0": "32",
                                    "1": "11061",
                                    "2": "2016-04-30",
                                    "3": "4"
                                },
                                {
                                    "0": "71",
                                    "1": "11064",
                                    "2": "2016-05-01",
                                    "3": "1"
                                },
                                {
                                    "0": "89",
                                    "1": "11066",
                                    "2": "2016-05-01",
                                    "3": "7"
                                },
                                {
                                    "0": "65",
                                    "1": "11077",
                                    "2": "2016-05-06",
                                    "3": "1"
                                }
                            ]
                        },
                        "text/html": [
                            "<table>",
                            "<tr><th>CustomerId</th><th>OrderId</th><th>OrderDate</th><th>EmployeeId</th></tr>",
                            "<tr><td>65</td><td>10262</td><td>2014-07-22</td><td>8</td></tr>",
                            "<tr><td>89</td><td>10269</td><td>2014-07-31</td><td>5</td></tr>",
                            "<tr><td>75</td><td>10271</td><td>2014-08-01</td><td>6</td></tr>",
                            "<tr><td>65</td><td>10272</td><td>2014-08-02</td><td>6</td></tr>",
                            "<tr><td>65</td><td>10294</td><td>2014-08-30</td><td>4</td></tr>",
                            "<tr><td>55</td><td>10305</td><td>2014-09-13</td><td>8</td></tr>",
                            "<tr><td>48</td><td>10307</td><td>2014-09-17</td><td>2</td></tr>",
                            "<tr><td>77</td><td>10310</td><td>2014-09-20</td><td>8</td></tr>",
                            "<tr><td>65</td><td>10314</td><td>2014-09-25</td><td>1</td></tr>",
                            "<tr><td>65</td><td>10316</td><td>2014-09-27</td><td>1</td></tr>",
                            "<tr><td>48</td><td>10317</td><td>2014-09-30</td><td>6</td></tr>",
                            "<tr><td>71</td><td>10324</td><td>2014-10-08</td><td>9</td></tr>",
                            "<tr><td>75</td><td>10329</td><td>2014-10-15</td><td>4</td></tr>",
                            "<tr><td>55</td><td>10338</td><td>2014-10-25</td><td>4</td></tr>",
                            "<tr><td>89</td><td>10344</td><td>2014-11-01</td><td>4</td></tr>",
                            "<tr><td>65</td><td>10346</td><td>2014-11-05</td><td>3</td></tr>",
                            "<tr><td>75</td><td>10349</td><td>2014-11-08</td><td>7</td></tr>",
                            "<tr><td>75</td><td>10369</td><td>2014-12-02</td><td>8</td></tr>",
                            "<tr><td>36</td><td>10375</td><td>2014-12-06</td><td>3</td></tr>",
                            "<tr><td>75</td><td>10385</td><td>2014-12-17</td><td>1</td></tr>",
                            "<tr><td>71</td><td>10393</td><td>2014-12-25</td><td>1</td></tr>",
                            "<tr><td>36</td><td>10394</td><td>2014-12-25</td><td>1</td></tr>",
                            "<tr><td>71</td><td>10398</td><td>2014-12-30</td><td>2</td></tr>",
                            "<tr><td>65</td><td>10401</td><td>2015-01-01</td><td>1</td></tr>",
                            "<tr><td>36</td><td>10415</td><td>2015-01-15</td><td>3</td></tr>",
                            "<tr><td>75</td><td>10432</td><td>2015-01-31</td><td>3</td></tr>",
                            "<tr><td>71</td><td>10440</td><td>2015-02-10</td><td>4</td></tr>",
                            "<tr><td>55</td><td>10441</td><td>2015-02-10</td><td>3</td></tr>",
                            "<tr><td>71</td><td>10452</td><td>2015-02-20</td><td>8</td></tr>",
                            "<tr><td>89</td><td>10469</td><td>2015-03-10</td><td>1</td></tr>",
                            "<tr><td>65</td><td>10479</td><td>2015-03-19</td><td>3</td></tr>",
                            "<tr><td>43</td><td>10482</td><td>2015-03-21</td><td>1</td></tr>",
                            "<tr><td>89</td><td>10483</td><td>2015-03-24</td><td>7</td></tr>",
                            "<tr><td>89</td><td>10504</td><td>2015-04-11</td><td>4</td></tr>",
                            "<tr><td>71</td><td>10510</td><td>2015-04-18</td><td>6</td></tr>",
                            "<tr><td>32</td><td>10528</td><td>2015-05-06</td><td>6</td></tr>",
                            "<tr><td>48</td><td>10544</td><td>2015-05-21</td><td>4</td></tr>",
                            "<tr><td>43</td><td>10545</td><td>2015-05-22</td><td>8</td></tr>",
                            "<tr><td>71</td><td>10555</td><td>2015-06-02</td><td>6</td></tr>",
                            "<tr><td>65</td><td>10564</td><td>2015-06-10</td><td>4</td></tr>",
                            "<tr><td>65</td><td>10569</td><td>2015-06-16</td><td>5</td></tr>",
                            "<tr><td>82</td><td>10574</td><td>2015-06-19</td><td>4</td></tr>",
                            "<tr><td>82</td><td>10577</td><td>2015-06-23</td><td>9</td></tr>",
                            "<tr><td>45</td><td>10579</td><td>2015-06-25</td><td>1</td></tr>",
                            "<tr><td>32</td><td>10589</td><td>2015-07-04</td><td>8</td></tr>",
                            "<tr><td>55</td><td>10594</td><td>2015-07-09</td><td>3</td></tr>",
                            "<tr><td>89</td><td>10596</td><td>2015-07-11</td><td>8</td></tr>",
                            "<tr><td>65</td><td>10598</td><td>2015-07-14</td><td>1</td></tr>",
                            "<tr><td>36</td><td>10600</td><td>2015-07-16</td><td>4</td></tr>",
                            "<tr><td>71</td><td>10603</td><td>2015-07-18</td><td>8</td></tr>",
                            "<tr><td>71</td><td>10607</td><td>2015-07-22</td><td>5</td></tr>",
                            "<tr><td>71</td><td>10612</td><td>2015-07-28</td><td>1</td></tr>",
                            "<tr><td>32</td><td>10616</td><td>2015-07-31</td><td>1</td></tr>",
                            "<tr><td>32</td><td>10617</td><td>2015-07-31</td><td>4</td></tr>",
                            "<tr><td>78</td><td>10624</td><td>2015-08-07</td><td>4</td></tr>",
                            "<tr><td>71</td><td>10627</td><td>2015-08-11</td><td>8</td></tr>",
                            "<tr><td>32</td><td>10656</td><td>2015-09-04</td><td>6</td></tr>",
                            "<tr><td>71</td><td>10657</td><td>2015-09-04</td><td>2</td></tr>",
                            "<tr><td>36</td><td>10660</td><td>2015-09-08</td><td>8</td></tr>",
                            "<tr><td>48</td><td>10662</td><td>2015-09-09</td><td>3</td></tr>",
                            "<tr><td>48</td><td>10665</td><td>2015-09-11</td><td>1</td></tr>",
                            "<tr><td>71</td><td>10678</td><td>2015-09-23</td><td>7</td></tr>",
                            "<tr><td>55</td><td>10680</td><td>2015-09-24</td><td>1</td></tr>",
                            "<tr><td>32</td><td>10681</td><td>2015-09-25</td><td>3</td></tr>",
                            "<tr><td>89</td><td>10693</td><td>2015-10-06</td><td>3</td></tr>",
                            "<tr><td>89</td><td>10696</td><td>2015-10-08</td><td>8</td></tr>",
                            "<tr><td>71</td><td>10700</td><td>2015-10-10</td><td>3</td></tr>",
                            "<tr><td>55</td><td>10706</td><td>2015-10-16</td><td>8</td></tr>",
                            "<tr><td>77</td><td>10708</td><td>2015-10-17</td><td>6</td></tr>",
                            "<tr><td>71</td><td>10711</td><td>2015-10-21</td><td>5</td></tr>",
                            "<tr><td>71</td><td>10713</td><td>2015-10-22</td><td>1</td></tr>",
                            "<tr><td>71</td><td>10714</td><td>2015-10-22</td><td>5</td></tr>",
                            "<tr><td>45</td><td>10719</td><td>2015-10-27</td><td>8</td></tr>",
                            "<tr><td>71</td><td>10722</td><td>2015-10-29</td><td>8</td></tr>",
                            "<tr><td>89</td><td>10723</td><td>2015-10-30</td><td>3</td></tr>",
                            "<tr><td>45</td><td>10735</td><td>2015-11-10</td><td>6</td></tr>",
                            "<tr><td>89</td><td>10740</td><td>2015-11-13</td><td>4</td></tr>",
                            "<tr><td>71</td><td>10748</td><td>2015-11-20</td><td>3</td></tr>",
                            "<tr><td>75</td><td>10756</td><td>2015-11-27</td><td>8</td></tr>",
                            "<tr><td>71</td><td>10757</td><td>2015-11-27</td><td>6</td></tr>",
                            "<tr><td>65</td><td>10761</td><td>2015-12-02</td><td>5</td></tr>",
                            "<tr><td>78</td><td>10775</td><td>2015-12-12</td><td>7</td></tr>",
                            "<tr><td>77</td><td>10805</td><td>2015-12-30</td><td>2</td></tr>",
                            "<tr><td>55</td><td>10808</td><td>2016-01-01</td><td>2</td></tr>",
                            "<tr><td>71</td><td>10815</td><td>2016-01-05</td><td>2</td></tr>",
                            "<tr><td>32</td><td>10816</td><td>2016-01-06</td><td>4</td></tr>",
                            "<tr><td>65</td><td>10820</td><td>2016-01-07</td><td>3</td></tr>",
                            "<tr><td>75</td><td>10821</td><td>2016-01-08</td><td>1</td></tr>",
                            "<tr><td>82</td><td>10822</td><td>2016-01-08</td><td>6</td></tr>",
                            "<tr><td>71</td><td>10847</td><td>2016-01-22</td><td>4</td></tr>",
                            "<tr><td>65</td><td>10852</td><td>2016-01-26</td><td>8</td></tr>",
                            "<tr><td>55</td><td>10855</td><td>2016-01-27</td><td>3</td></tr>",
                            "<tr><td>89</td><td>10861</td><td>2016-01-30</td><td>4</td></tr>",
                            "<tr><td>48</td><td>10867</td><td>2016-02-03</td><td>6</td></tr>",
                            "<tr><td>71</td><td>10882</td><td>2016-02-11</td><td>4</td></tr>",
                            "<tr><td>48</td><td>10883</td><td>2016-02-12</td><td>8</td></tr>",
                            "<tr><td>45</td><td>10884</td><td>2016-02-12</td><td>4</td></tr>",
                            "<tr><td>65</td><td>10889</td><td>2016-02-16</td><td>9</td></tr>",
                            "<tr><td>71</td><td>10894</td><td>2016-02-18</td><td>1</td></tr>",
                            "<tr><td>89</td><td>10904</td><td>2016-02-24</td><td>3</td></tr>",
                            "<tr><td>32</td><td>10936</td><td>2016-03-09</td><td>3</td></tr>",
                            "<tr><td>71</td><td>10941</td><td>2016-03-11</td><td>7</td></tr>",
                            "<tr><td>55</td><td>10965</td><td>2016-03-20</td><td>6</td></tr>",
                            "<tr><td>75</td><td>10974</td><td>2016-03-25</td><td>3</td></tr>",
                            "<tr><td>71</td><td>10983</td><td>2016-03-27</td><td>2</td></tr>",
                            "<tr><td>71</td><td>10984</td><td>2016-03-30</td><td>1</td></tr>",
                            "<tr><td>65</td><td>10988</td><td>2016-03-31</td><td>3</td></tr>",
                            "<tr><td>77</td><td>10992</td><td>2016-04-01</td><td>1</td></tr>",
                            "<tr><td>65</td><td>11000</td><td>2016-04-06</td><td>2</td></tr>",
                            "<tr><td>71</td><td>11002</td><td>2016-04-06</td><td>4</td></tr>",
                            "<tr><td>78</td><td>11003</td><td>2016-04-06</td><td>3</td></tr>",
                            "<tr><td>32</td><td>11006</td><td>2016-04-07</td><td>3</td></tr>",
                            "<tr><td>48</td><td>11018</td><td>2016-04-13</td><td>4</td></tr>",
                            "<tr><td>71</td><td>11030</td><td>2016-04-17</td><td>7</td></tr>",
                            "<tr><td>71</td><td>11031</td><td>2016-04-17</td><td>6</td></tr>",
                            "<tr><td>89</td><td>11032</td><td>2016-04-17</td><td>2</td></tr>",
                            "<tr><td>55</td><td>11034</td><td>2016-04-20</td><td>8</td></tr>",
                            "<tr><td>32</td><td>11040</td><td>2016-04-22</td><td>4</td></tr>",
                            "<tr><td>32</td><td>11061</td><td>2016-04-30</td><td>4</td></tr>",
                            "<tr><td>71</td><td>11064</td><td>2016-05-01</td><td>1</td></tr>",
                            "<tr><td>89</td><td>11066</td><td>2016-05-01</td><td>7</td></tr>",
                            "<tr><td>65</td><td>11077</td><td>2016-05-06</td><td>1</td></tr>",
                            "</table>"
                        ]
                    }
                }
            ],
            "execution_count": 23
        },
        {
            "cell_type": "markdown",
            "source": [
                "6) **Customers who placed no orders.** Utilizing NOT IN. Subquery finds all custids in Orders table, then we filter using return value in WHERE clause for customers who do not appear."
            ],
            "metadata": {
                "language": "sql",
                "azdata_cell_guid": "76dfab7a-7b94-42ef-92e1-4b6429cb3cc1"
            },
            "attachments": {}
        },
        {
            "cell_type": "code",
            "source": [
                "use Northwinds2022TSQLV7\n",
                "\n",
                "select CustomerId, CustomerCompanyName\n",
                "from Sales.Customer\n",
                "where CustomerId not in (\n",
                "    select O.CustomerId\n",
                "    from Sales.[Order] as O\n",
                ")"
            ],
            "metadata": {
                "language": "sql",
                "azdata_cell_guid": "4fa48e70-9994-492a-bf68-69dd771affa1"
            },
            "outputs": [
                {
                    "output_type": "display_data",
                    "data": {
                        "text/html": "(2 rows affected)"
                    },
                    "metadata": {}
                },
                {
                    "output_type": "display_data",
                    "data": {
                        "text/html": "Total execution time: 00:00:00.032"
                    },
                    "metadata": {}
                },
                {
                    "output_type": "execute_result",
                    "metadata": {},
                    "execution_count": 25,
                    "data": {
                        "application/vnd.dataresource+json": {
                            "schema": {
                                "fields": [
                                    {
                                        "name": "CustomerId"
                                    },
                                    {
                                        "name": "CustomerCompanyName"
                                    }
                                ]
                            },
                            "data": [
                                {
                                    "0": "22",
                                    "1": "Customer DTDMN"
                                },
                                {
                                    "0": "57",
                                    "1": "Customer WVAXS"
                                }
                            ]
                        },
                        "text/html": [
                            "<table>",
                            "<tr><th>CustomerId</th><th>CustomerCompanyName</th></tr>",
                            "<tr><td>22</td><td>Customer DTDMN</td></tr>",
                            "<tr><td>57</td><td>Customer WVAXS</td></tr>",
                            "</table>"
                        ]
                    }
                }
            ],
            "execution_count": 25
        },
        {
            "cell_type": "markdown",
            "source": [
                "7. **Inserts all even numbered order ids into new dbo.Orders table.**"
            ],
            "metadata": {
                "language": "sql",
                "azdata_cell_guid": "24603567-05c4-4879-9cfc-5d10b8d497b1"
            },
            "attachments": {}
        },
        {
            "cell_type": "code",
            "source": [
                "USE TSQLV4;\n",
                "DROP TABLE IF EXISTS dbo.Orders;\n",
                "CREATE TABLE dbo.Orders(orderid INT NOT NULL CONSTRAINT PK_Orders PRIMARY KEY);\n",
                "\n",
                "INSERT INTO dbo.Orders(orderid)\n",
                "  SELECT orderid\n",
                "  FROM Sales.Orders\n",
                "  WHERE orderid % 2 = 0;"
            ],
            "metadata": {
                "language": "sql",
                "azdata_cell_guid": "c4b896b4-48fc-4c1a-a727-43e7c557560e"
            },
            "outputs": [
                {
                    "output_type": "error",
                    "evalue": "Msg 3701, Level 14, State 20, Line 2\nCannot drop the table 'Orders', because it does not exist or you do not have permission.",
                    "ename": "",
                    "traceback": []
                },
                {
                    "output_type": "error",
                    "evalue": "Msg 262, Level 14, State 1, Line 3\nCREATE TABLE permission denied in database 'TSQLV4'.",
                    "ename": "",
                    "traceback": []
                },
                {
                    "output_type": "display_data",
                    "data": {
                        "text/html": "Total execution time: 00:00:00.014"
                    },
                    "metadata": {}
                }
            ],
            "execution_count": 26
        },
        {
            "cell_type": "markdown",
            "source": [
                "8) **Gets all numbers between minimum order id and maximum order id that haven't been utlized for an order already.**"
            ],
            "metadata": {
                "language": "sql",
                "azdata_cell_guid": "2dfd438a-9aca-434b-be07-66df968a95d9"
            },
            "attachments": {}
        },
        {
            "cell_type": "code",
            "source": [
                "use Northwinds2022TSQLV7\n",
                "\n",
                "select n \n",
                "from dbo.Nums\n",
                "where (n between (select min(O.OrderId) from dbo.OrderDetail as O)\n",
                "         and (select max(O.OrderId) from dbo.OrderDetail as O)) --notice how we use the same alias bc of our parentheses\n",
                "\n",
                "      and \n",
                "      \n",
                "      (n not in (select O.OrderId from dbo.OrderDetail as O))"
            ],
            "metadata": {
                "language": "sql",
                "azdata_cell_guid": "3b4dafad-155b-4639-9943-f67fb072e235"
            },
            "outputs": [
                {
                    "output_type": "display_data",
                    "data": {
                        "text/html": "(0 rows affected)"
                    },
                    "metadata": {}
                },
                {
                    "output_type": "display_data",
                    "data": {
                        "text/html": "Total execution time: 00:00:00.028"
                    },
                    "metadata": {}
                },
                {
                    "output_type": "execute_result",
                    "metadata": {},
                    "execution_count": 29,
                    "data": {
                        "application/vnd.dataresource+json": {
                            "schema": {
                                "fields": [
                                    {
                                        "name": "n"
                                    }
                                ]
                            },
                            "data": []
                        },
                        "text/html": [
                            "<table>",
                            "<tr><th>n</th></tr>",
                            "</table>"
                        ]
                    }
                }
            ],
            "execution_count": 29
        },
        {
            "cell_type": "markdown",
            "source": [
                "9) **Orders with maximum order id for each customer**"
            ],
            "metadata": {
                "language": "sql",
                "azdata_cell_guid": "b3c39ea3-6453-4562-baae-43213fa8cd13"
            },
            "attachments": {}
        },
        {
            "cell_type": "code",
            "source": [
                "use Northwinds2022TSQLV7\n",
                "\n",
                "--get all orders, then filter them and return the maximum orderid for each customer\n",
                "\n",
                "select CustomerId, OrderId, OrderDate, EmployeeId \n",
                "from Sales.[Order] as O1 --notice the need for the alias here\n",
                "where OrderId = (\n",
                "\n",
                "    --think about the order of execution\n",
                "    --from the order table, we want all orders matching an employee\n",
                "    --return the max (scalar)\n",
                "    select max(O2.OrderId)\n",
                "    from Sales.[Order] as O2\n",
                "    where O2.CustomerId = O1.CustomerId --we're more selective with what we want to return\n",
                "\n",
                "\n",
                ")"
            ],
            "metadata": {
                "language": "sql",
                "azdata_cell_guid": "4bf8bef5-c6a5-456c-adf7-8a4be04faa51"
            },
            "outputs": [
                {
                    "output_type": "display_data",
                    "data": {
                        "text/html": "(89 rows affected)"
                    },
                    "metadata": {}
                },
                {
                    "output_type": "display_data",
                    "data": {
                        "text/html": "Total execution time: 00:00:00.023"
                    },
                    "metadata": {}
                },
                {
                    "output_type": "execute_result",
                    "metadata": {},
                    "execution_count": 33,
                    "data": {
                        "application/vnd.dataresource+json": {
                            "schema": {
                                "fields": [
                                    {
                                        "name": "CustomerId"
                                    },
                                    {
                                        "name": "OrderId"
                                    },
                                    {
                                        "name": "OrderDate"
                                    },
                                    {
                                        "name": "EmployeeId"
                                    }
                                ]
                            },
                            "data": [
                                {
                                    "0": "91",
                                    "1": "11044",
                                    "2": "2016-04-23",
                                    "3": "4"
                                },
                                {
                                    "0": "90",
                                    "1": "11005",
                                    "2": "2016-04-07",
                                    "3": "2"
                                },
                                {
                                    "0": "89",
                                    "1": "11066",
                                    "2": "2016-05-01",
                                    "3": "7"
                                },
                                {
                                    "0": "88",
                                    "1": "10935",
                                    "2": "2016-03-09",
                                    "3": "4"
                                },
                                {
                                    "0": "87",
                                    "1": "11025",
                                    "2": "2016-04-15",
                                    "3": "6"
                                },
                                {
                                    "0": "86",
                                    "1": "11046",
                                    "2": "2016-04-23",
                                    "3": "8"
                                },
                                {
                                    "0": "85",
                                    "1": "10739",
                                    "2": "2015-11-12",
                                    "3": "3"
                                },
                                {
                                    "0": "84",
                                    "1": "10850",
                                    "2": "2016-01-23",
                                    "3": "1"
                                },
                                {
                                    "0": "83",
                                    "1": "10994",
                                    "2": "2016-04-02",
                                    "3": "2"
                                },
                                {
                                    "0": "82",
                                    "1": "10822",
                                    "2": "2016-01-08",
                                    "3": "6"
                                },
                                {
                                    "0": "81",
                                    "1": "10839",
                                    "2": "2016-01-19",
                                    "3": "3"
                                },
                                {
                                    "0": "80",
                                    "1": "11069",
                                    "2": "2016-05-04",
                                    "3": "1"
                                },
                                {
                                    "0": "79",
                                    "1": "10967",
                                    "2": "2016-03-23",
                                    "3": "2"
                                },
                                {
                                    "0": "78",
                                    "1": "11003",
                                    "2": "2016-04-06",
                                    "3": "3"
                                },
                                {
                                    "0": "77",
                                    "1": "10992",
                                    "2": "2016-04-01",
                                    "3": "1"
                                },
                                {
                                    "0": "76",
                                    "1": "11038",
                                    "2": "2016-04-21",
                                    "3": "1"
                                },
                                {
                                    "0": "75",
                                    "1": "10974",
                                    "2": "2016-03-25",
                                    "3": "3"
                                },
                                {
                                    "0": "74",
                                    "1": "11043",
                                    "2": "2016-04-22",
                                    "3": "5"
                                },
                                {
                                    "0": "73",
                                    "1": "11074",
                                    "2": "2016-05-06",
                                    "3": "7"
                                },
                                {
                                    "0": "72",
                                    "1": "10869",
                                    "2": "2016-02-04",
                                    "3": "5"
                                },
                                {
                                    "0": "71",
                                    "1": "11064",
                                    "2": "2016-05-01",
                                    "3": "1"
                                },
                                {
                                    "0": "70",
                                    "1": "11015",
                                    "2": "2016-04-10",
                                    "3": "2"
                                },
                                {
                                    "0": "69",
                                    "1": "11013",
                                    "2": "2016-04-09",
                                    "3": "2"
                                },
                                {
                                    "0": "68",
                                    "1": "11075",
                                    "2": "2016-05-06",
                                    "3": "8"
                                },
                                {
                                    "0": "67",
                                    "1": "11059",
                                    "2": "2016-04-29",
                                    "3": "2"
                                },
                                {
                                    "0": "66",
                                    "1": "11062",
                                    "2": "2016-04-30",
                                    "3": "4"
                                },
                                {
                                    "0": "65",
                                    "1": "11077",
                                    "2": "2016-05-06",
                                    "3": "1"
                                },
                                {
                                    "0": "64",
                                    "1": "11019",
                                    "2": "2016-04-13",
                                    "3": "6"
                                },
                                {
                                    "0": "63",
                                    "1": "11021",
                                    "2": "2016-04-14",
                                    "3": "3"
                                },
                                {
                                    "0": "62",
                                    "1": "11068",
                                    "2": "2016-05-04",
                                    "3": "8"
                                },
                                {
                                    "0": "61",
                                    "1": "10989",
                                    "2": "2016-03-31",
                                    "3": "2"
                                },
                                {
                                    "0": "60",
                                    "1": "11007",
                                    "2": "2016-04-08",
                                    "3": "8"
                                },
                                {
                                    "0": "59",
                                    "1": "11053",
                                    "2": "2016-04-27",
                                    "3": "2"
                                },
                                {
                                    "0": "58",
                                    "1": "11073",
                                    "2": "2016-05-05",
                                    "3": "2"
                                },
                                {
                                    "0": "56",
                                    "1": "11020",
                                    "2": "2016-04-14",
                                    "3": "2"
                                },
                                {
                                    "0": "55",
                                    "1": "11034",
                                    "2": "2016-04-20",
                                    "3": "8"
                                },
                                {
                                    "0": "54",
                                    "1": "10986",
                                    "2": "2016-03-30",
                                    "3": "8"
                                },
                                {
                                    "0": "53",
                                    "1": "11057",
                                    "2": "2016-04-29",
                                    "3": "3"
                                },
                                {
                                    "0": "52",
                                    "1": "10945",
                                    "2": "2016-03-12",
                                    "3": "4"
                                },
                                {
                                    "0": "51",
                                    "1": "10724",
                                    "2": "2015-10-30",
                                    "3": "8"
                                },
                                {
                                    "0": "50",
                                    "1": "11004",
                                    "2": "2016-04-07",
                                    "3": "3"
                                },
                                {
                                    "0": "49",
                                    "1": "10950",
                                    "2": "2016-03-16",
                                    "3": "1"
                                },
                                {
                                    "0": "48",
                                    "1": "11018",
                                    "2": "2016-04-13",
                                    "3": "4"
                                },
                                {
                                    "0": "47",
                                    "1": "11039",
                                    "2": "2016-04-21",
                                    "3": "1"
                                },
                                {
                                    "0": "46",
                                    "1": "11071",
                                    "2": "2016-05-05",
                                    "3": "1"
                                },
                                {
                                    "0": "45",
                                    "1": "10884",
                                    "2": "2016-02-12",
                                    "3": "4"
                                },
                                {
                                    "0": "44",
                                    "1": "11070",
                                    "2": "2016-05-05",
                                    "3": "2"
                                },
                                {
                                    "0": "43",
                                    "1": "10545",
                                    "2": "2015-05-22",
                                    "3": "8"
                                },
                                {
                                    "0": "42",
                                    "1": "10810",
                                    "2": "2016-01-01",
                                    "3": "2"
                                },
                                {
                                    "0": "41",
                                    "1": "11051",
                                    "2": "2016-04-27",
                                    "3": "7"
                                },
                                {
                                    "0": "40",
                                    "1": "10973",
                                    "2": "2016-03-24",
                                    "3": "6"
                                },
                                {
                                    "0": "39",
                                    "1": "11028",
                                    "2": "2016-04-16",
                                    "3": "2"
                                },
                                {
                                    "0": "38",
                                    "1": "10933",
                                    "2": "2016-03-06",
                                    "3": "6"
                                },
                                {
                                    "0": "37",
                                    "1": "11063",
                                    "2": "2016-04-30",
                                    "3": "3"
                                },
                                {
                                    "0": "36",
                                    "1": "10660",
                                    "2": "2015-09-08",
                                    "3": "8"
                                },
                                {
                                    "0": "35",
                                    "1": "11055",
                                    "2": "2016-04-28",
                                    "3": "7"
                                },
                                {
                                    "0": "34",
                                    "1": "11052",
                                    "2": "2016-04-27",
                                    "3": "3"
                                },
                                {
                                    "0": "33",
                                    "1": "10785",
                                    "2": "2015-12-18",
                                    "3": "1"
                                },
                                {
                                    "0": "32",
                                    "1": "11061",
                                    "2": "2016-04-30",
                                    "3": "4"
                                },
                                {
                                    "0": "31",
                                    "1": "11049",
                                    "2": "2016-04-24",
                                    "3": "3"
                                },
                                {
                                    "0": "30",
                                    "1": "11037",
                                    "2": "2016-04-21",
                                    "3": "7"
                                },
                                {
                                    "0": "29",
                                    "1": "10928",
                                    "2": "2016-03-05",
                                    "3": "1"
                                },
                                {
                                    "0": "28",
                                    "1": "10963",
                                    "2": "2016-03-19",
                                    "3": "9"
                                },
                                {
                                    "0": "27",
                                    "1": "11060",
                                    "2": "2016-04-30",
                                    "3": "2"
                                },
                                {
                                    "0": "26",
                                    "1": "10971",
                                    "2": "2016-03-24",
                                    "3": "2"
                                },
                                {
                                    "0": "25",
                                    "1": "11012",
                                    "2": "2016-04-09",
                                    "3": "1"
                                },
                                {
                                    "0": "24",
                                    "1": "11050",
                                    "2": "2016-04-27",
                                    "3": "8"
                                },
                                {
                                    "0": "23",
                                    "1": "10789",
                                    "2": "2015-12-22",
                                    "3": "1"
                                },
                                {
                                    "0": "21",
                                    "1": "10725",
                                    "2": "2015-10-31",
                                    "3": "4"
                                },
                                {
                                    "0": "20",
                                    "1": "11072",
                                    "2": "2016-05-05",
                                    "3": "4"
                                },
                                {
                                    "0": "19",
                                    "1": "11056",
                                    "2": "2016-04-28",
                                    "3": "8"
                                },
                                {
                                    "0": "18",
                                    "1": "10890",
                                    "2": "2016-02-16",
                                    "3": "7"
                                },
                                {
                                    "0": "17",
                                    "1": "11067",
                                    "2": "2016-05-04",
                                    "3": "1"
                                },
                                {
                                    "0": "16",
                                    "1": "10848",
                                    "2": "2016-01-23",
                                    "3": "7"
                                },
                                {
                                    "0": "15",
                                    "1": "11042",
                                    "2": "2016-04-22",
                                    "3": "2"
                                },
                                {
                                    "0": "14",
                                    "1": "11041",
                                    "2": "2016-04-22",
                                    "3": "3"
                                },
                                {
                                    "0": "13",
                                    "1": "10259",
                                    "2": "2014-07-18",
                                    "3": "4"
                                },
                                {
                                    "0": "12",
                                    "1": "11054",
                                    "2": "2016-04-28",
                                    "3": "8"
                                },
                                {
                                    "0": "11",
                                    "1": "11023",
                                    "2": "2016-04-14",
                                    "3": "1"
                                },
                                {
                                    "0": "10",
                                    "1": "11048",
                                    "2": "2016-04-24",
                                    "3": "7"
                                },
                                {
                                    "0": "9",
                                    "1": "11076",
                                    "2": "2016-05-06",
                                    "3": "4"
                                },
                                {
                                    "0": "8",
                                    "1": "10970",
                                    "2": "2016-03-24",
                                    "3": "9"
                                },
                                {
                                    "0": "7",
                                    "1": "10826",
                                    "2": "2016-01-12",
                                    "3": "6"
                                },
                                {
                                    "0": "6",
                                    "1": "11058",
                                    "2": "2016-04-29",
                                    "3": "9"
                                },
                                {
                                    "0": "5",
                                    "1": "10924",
                                    "2": "2016-03-04",
                                    "3": "3"
                                },
                                {
                                    "0": "4",
                                    "1": "11016",
                                    "2": "2016-04-10",
                                    "3": "9"
                                },
                                {
                                    "0": "3",
                                    "1": "10856",
                                    "2": "2016-01-28",
                                    "3": "3"
                                },
                                {
                                    "0": "2",
                                    "1": "10926",
                                    "2": "2016-03-04",
                                    "3": "4"
                                },
                                {
                                    "0": "1",
                                    "1": "11011",
                                    "2": "2016-04-09",
                                    "3": "3"
                                }
                            ]
                        },
                        "text/html": [
                            "<table>",
                            "<tr><th>CustomerId</th><th>OrderId</th><th>OrderDate</th><th>EmployeeId</th></tr>",
                            "<tr><td>91</td><td>11044</td><td>2016-04-23</td><td>4</td></tr>",
                            "<tr><td>90</td><td>11005</td><td>2016-04-07</td><td>2</td></tr>",
                            "<tr><td>89</td><td>11066</td><td>2016-05-01</td><td>7</td></tr>",
                            "<tr><td>88</td><td>10935</td><td>2016-03-09</td><td>4</td></tr>",
                            "<tr><td>87</td><td>11025</td><td>2016-04-15</td><td>6</td></tr>",
                            "<tr><td>86</td><td>11046</td><td>2016-04-23</td><td>8</td></tr>",
                            "<tr><td>85</td><td>10739</td><td>2015-11-12</td><td>3</td></tr>",
                            "<tr><td>84</td><td>10850</td><td>2016-01-23</td><td>1</td></tr>",
                            "<tr><td>83</td><td>10994</td><td>2016-04-02</td><td>2</td></tr>",
                            "<tr><td>82</td><td>10822</td><td>2016-01-08</td><td>6</td></tr>",
                            "<tr><td>81</td><td>10839</td><td>2016-01-19</td><td>3</td></tr>",
                            "<tr><td>80</td><td>11069</td><td>2016-05-04</td><td>1</td></tr>",
                            "<tr><td>79</td><td>10967</td><td>2016-03-23</td><td>2</td></tr>",
                            "<tr><td>78</td><td>11003</td><td>2016-04-06</td><td>3</td></tr>",
                            "<tr><td>77</td><td>10992</td><td>2016-04-01</td><td>1</td></tr>",
                            "<tr><td>76</td><td>11038</td><td>2016-04-21</td><td>1</td></tr>",
                            "<tr><td>75</td><td>10974</td><td>2016-03-25</td><td>3</td></tr>",
                            "<tr><td>74</td><td>11043</td><td>2016-04-22</td><td>5</td></tr>",
                            "<tr><td>73</td><td>11074</td><td>2016-05-06</td><td>7</td></tr>",
                            "<tr><td>72</td><td>10869</td><td>2016-02-04</td><td>5</td></tr>",
                            "<tr><td>71</td><td>11064</td><td>2016-05-01</td><td>1</td></tr>",
                            "<tr><td>70</td><td>11015</td><td>2016-04-10</td><td>2</td></tr>",
                            "<tr><td>69</td><td>11013</td><td>2016-04-09</td><td>2</td></tr>",
                            "<tr><td>68</td><td>11075</td><td>2016-05-06</td><td>8</td></tr>",
                            "<tr><td>67</td><td>11059</td><td>2016-04-29</td><td>2</td></tr>",
                            "<tr><td>66</td><td>11062</td><td>2016-04-30</td><td>4</td></tr>",
                            "<tr><td>65</td><td>11077</td><td>2016-05-06</td><td>1</td></tr>",
                            "<tr><td>64</td><td>11019</td><td>2016-04-13</td><td>6</td></tr>",
                            "<tr><td>63</td><td>11021</td><td>2016-04-14</td><td>3</td></tr>",
                            "<tr><td>62</td><td>11068</td><td>2016-05-04</td><td>8</td></tr>",
                            "<tr><td>61</td><td>10989</td><td>2016-03-31</td><td>2</td></tr>",
                            "<tr><td>60</td><td>11007</td><td>2016-04-08</td><td>8</td></tr>",
                            "<tr><td>59</td><td>11053</td><td>2016-04-27</td><td>2</td></tr>",
                            "<tr><td>58</td><td>11073</td><td>2016-05-05</td><td>2</td></tr>",
                            "<tr><td>56</td><td>11020</td><td>2016-04-14</td><td>2</td></tr>",
                            "<tr><td>55</td><td>11034</td><td>2016-04-20</td><td>8</td></tr>",
                            "<tr><td>54</td><td>10986</td><td>2016-03-30</td><td>8</td></tr>",
                            "<tr><td>53</td><td>11057</td><td>2016-04-29</td><td>3</td></tr>",
                            "<tr><td>52</td><td>10945</td><td>2016-03-12</td><td>4</td></tr>",
                            "<tr><td>51</td><td>10724</td><td>2015-10-30</td><td>8</td></tr>",
                            "<tr><td>50</td><td>11004</td><td>2016-04-07</td><td>3</td></tr>",
                            "<tr><td>49</td><td>10950</td><td>2016-03-16</td><td>1</td></tr>",
                            "<tr><td>48</td><td>11018</td><td>2016-04-13</td><td>4</td></tr>",
                            "<tr><td>47</td><td>11039</td><td>2016-04-21</td><td>1</td></tr>",
                            "<tr><td>46</td><td>11071</td><td>2016-05-05</td><td>1</td></tr>",
                            "<tr><td>45</td><td>10884</td><td>2016-02-12</td><td>4</td></tr>",
                            "<tr><td>44</td><td>11070</td><td>2016-05-05</td><td>2</td></tr>",
                            "<tr><td>43</td><td>10545</td><td>2015-05-22</td><td>8</td></tr>",
                            "<tr><td>42</td><td>10810</td><td>2016-01-01</td><td>2</td></tr>",
                            "<tr><td>41</td><td>11051</td><td>2016-04-27</td><td>7</td></tr>",
                            "<tr><td>40</td><td>10973</td><td>2016-03-24</td><td>6</td></tr>",
                            "<tr><td>39</td><td>11028</td><td>2016-04-16</td><td>2</td></tr>",
                            "<tr><td>38</td><td>10933</td><td>2016-03-06</td><td>6</td></tr>",
                            "<tr><td>37</td><td>11063</td><td>2016-04-30</td><td>3</td></tr>",
                            "<tr><td>36</td><td>10660</td><td>2015-09-08</td><td>8</td></tr>",
                            "<tr><td>35</td><td>11055</td><td>2016-04-28</td><td>7</td></tr>",
                            "<tr><td>34</td><td>11052</td><td>2016-04-27</td><td>3</td></tr>",
                            "<tr><td>33</td><td>10785</td><td>2015-12-18</td><td>1</td></tr>",
                            "<tr><td>32</td><td>11061</td><td>2016-04-30</td><td>4</td></tr>",
                            "<tr><td>31</td><td>11049</td><td>2016-04-24</td><td>3</td></tr>",
                            "<tr><td>30</td><td>11037</td><td>2016-04-21</td><td>7</td></tr>",
                            "<tr><td>29</td><td>10928</td><td>2016-03-05</td><td>1</td></tr>",
                            "<tr><td>28</td><td>10963</td><td>2016-03-19</td><td>9</td></tr>",
                            "<tr><td>27</td><td>11060</td><td>2016-04-30</td><td>2</td></tr>",
                            "<tr><td>26</td><td>10971</td><td>2016-03-24</td><td>2</td></tr>",
                            "<tr><td>25</td><td>11012</td><td>2016-04-09</td><td>1</td></tr>",
                            "<tr><td>24</td><td>11050</td><td>2016-04-27</td><td>8</td></tr>",
                            "<tr><td>23</td><td>10789</td><td>2015-12-22</td><td>1</td></tr>",
                            "<tr><td>21</td><td>10725</td><td>2015-10-31</td><td>4</td></tr>",
                            "<tr><td>20</td><td>11072</td><td>2016-05-05</td><td>4</td></tr>",
                            "<tr><td>19</td><td>11056</td><td>2016-04-28</td><td>8</td></tr>",
                            "<tr><td>18</td><td>10890</td><td>2016-02-16</td><td>7</td></tr>",
                            "<tr><td>17</td><td>11067</td><td>2016-05-04</td><td>1</td></tr>",
                            "<tr><td>16</td><td>10848</td><td>2016-01-23</td><td>7</td></tr>",
                            "<tr><td>15</td><td>11042</td><td>2016-04-22</td><td>2</td></tr>",
                            "<tr><td>14</td><td>11041</td><td>2016-04-22</td><td>3</td></tr>",
                            "<tr><td>13</td><td>10259</td><td>2014-07-18</td><td>4</td></tr>",
                            "<tr><td>12</td><td>11054</td><td>2016-04-28</td><td>8</td></tr>",
                            "<tr><td>11</td><td>11023</td><td>2016-04-14</td><td>1</td></tr>",
                            "<tr><td>10</td><td>11048</td><td>2016-04-24</td><td>7</td></tr>",
                            "<tr><td>9</td><td>11076</td><td>2016-05-06</td><td>4</td></tr>",
                            "<tr><td>8</td><td>10970</td><td>2016-03-24</td><td>9</td></tr>",
                            "<tr><td>7</td><td>10826</td><td>2016-01-12</td><td>6</td></tr>",
                            "<tr><td>6</td><td>11058</td><td>2016-04-29</td><td>9</td></tr>",
                            "<tr><td>5</td><td>10924</td><td>2016-03-04</td><td>3</td></tr>",
                            "<tr><td>4</td><td>11016</td><td>2016-04-10</td><td>9</td></tr>",
                            "<tr><td>3</td><td>10856</td><td>2016-01-28</td><td>3</td></tr>",
                            "<tr><td>2</td><td>10926</td><td>2016-03-04</td><td>4</td></tr>",
                            "<tr><td>1</td><td>11011</td><td>2016-04-09</td><td>3</td></tr>",
                            "</table>"
                        ]
                    }
                }
            ],
            "execution_count": 33
        },
        {
            "cell_type": "markdown",
            "source": [
                "10) **Get the maximum order id of customer 85.**"
            ],
            "metadata": {
                "language": "sql",
                "azdata_cell_guid": "521d1a81-ca32-4203-8c90-56cdab86d6bf"
            },
            "attachments": {}
        },
        {
            "cell_type": "code",
            "source": [
                "use Northwinds2022TSQLV7\n",
                "\n",
                "-- select *\n",
                "-- from Sales.[Order] as O1\n",
                "-- where O1.OrderId = (\n",
                "--     select max(O2.OrderId)\n",
                "--     from Sales.[Order] as O2\n",
                "--     where O2.CustomerId = O1.CustomerId\n",
                "-- )\n",
                "\n",
                "select max(O2.OrderId)\n",
                "from Sales.[Order] as O2\n",
                "where O2.CustomerId = 85"
            ],
            "metadata": {
                "language": "sql",
                "azdata_cell_guid": "3b20cae0-de55-4e04-949c-49430e660086"
            },
            "outputs": [
                {
                    "output_type": "display_data",
                    "data": {
                        "text/html": "(1 row affected)"
                    },
                    "metadata": {}
                },
                {
                    "output_type": "display_data",
                    "data": {
                        "text/html": "Total execution time: 00:00:00.027"
                    },
                    "metadata": {}
                },
                {
                    "output_type": "execute_result",
                    "metadata": {},
                    "execution_count": 37,
                    "data": {
                        "application/vnd.dataresource+json": {
                            "schema": {
                                "fields": [
                                    {
                                        "name": "(No column name)"
                                    }
                                ]
                            },
                            "data": [
                                {
                                    "0": "10739"
                                }
                            ]
                        },
                        "text/html": [
                            "<table>",
                            "<tr><th>(No column name)</th></tr>",
                            "<tr><td>10739</td></tr>",
                            "</table>"
                        ]
                    }
                }
            ],
            "execution_count": 37
        },
        {
            "cell_type": "markdown",
            "source": [
                "11. **Percentage of customer total.** Calculates total quantity of customer orders, then for each order of customer, caluculates percentage that order took up for the customer."
            ],
            "metadata": {
                "language": "sql",
                "azdata_cell_guid": "ca766a47-b953-462f-b718-1dbef523a372"
            },
            "attachments": {}
        },
        {
            "cell_type": "code",
            "source": [
                "use Northwinds2022TSQLV7\n",
                "\n",
                "--gets total orders placed by a customer (85)\n",
                "-- select sum(O2.TotalQuantity)\n",
                "-- from Sales.[uvw_OrderValues] as O2\n",
                "-- where O2.CustomerId = 85\n",
                "\n",
                "select OrderId, CustomerId, TotalQuantity,\n",
                "    cast(100. * TotalQuantity / (\n",
                "        select sum(O2.TotalQuantity) --get total orders placed by customer\n",
                "        from Sales.[uvw_OrderValues] as O2\n",
                "        where O2.CustomerId = O1.CustomerId\n",
                "    ) as numeric(5,2)) as pct\n",
                "from Sales.uvw_OrderValues as O1 \n",
                "order by CustomerId, OrderId"
            ],
            "metadata": {
                "language": "sql",
                "azdata_cell_guid": "5bfb8bd0-e4f2-44f0-818f-ed3e1a872375"
            },
            "outputs": [
                {
                    "output_type": "display_data",
                    "data": {
                        "text/html": "(830 rows affected)"
                    },
                    "metadata": {}
                },
                {
                    "output_type": "display_data",
                    "data": {
                        "text/html": "Total execution time: 00:00:00.055"
                    },
                    "metadata": {}
                },
                {
                    "output_type": "execute_result",
                    "metadata": {},
                    "execution_count": 50,
                    "data": {
                        "application/vnd.dataresource+json": {
                            "schema": {
                                "fields": [
                                    {
                                        "name": "OrderId"
                                    },
                                    {
                                        "name": "CustomerId"
                                    },
                                    {
                                        "name": "TotalQuantity"
                                    },
                                    {
                                        "name": "pct"
                                    }
                                ]
                            },
                            "data": [
                                {
                                    "0": "10643",
                                    "1": "1",
                                    "2": "38",
                                    "3": "21.84"
                                },
                                {
                                    "0": "10692",
                                    "1": "1",
                                    "2": "20",
                                    "3": "11.49"
                                },
                                {
                                    "0": "10702",
                                    "1": "1",
                                    "2": "21",
                                    "3": "12.07"
                                },
                                {
                                    "0": "10835",
                                    "1": "1",
                                    "2": "17",
                                    "3": "9.77"
                                },
                                {
                                    "0": "10952",
                                    "1": "1",
                                    "2": "18",
                                    "3": "10.34"
                                },
                                {
                                    "0": "11011",
                                    "1": "1",
                                    "2": "60",
                                    "3": "34.48"
                                },
                                {
                                    "0": "10308",
                                    "1": "2",
                                    "2": "6",
                                    "3": "9.52"
                                },
                                {
                                    "0": "10625",
                                    "1": "2",
                                    "2": "18",
                                    "3": "28.57"
                                },
                                {
                                    "0": "10759",
                                    "1": "2",
                                    "2": "10",
                                    "3": "15.87"
                                },
                                {
                                    "0": "10926",
                                    "1": "2",
                                    "2": "29",
                                    "3": "46.03"
                                },
                                {
                                    "0": "10365",
                                    "1": "3",
                                    "2": "24",
                                    "3": "6.69"
                                },
                                {
                                    "0": "10507",
                                    "1": "3",
                                    "2": "30",
                                    "3": "8.36"
                                },
                                {
                                    "0": "10535",
                                    "1": "3",
                                    "2": "80",
                                    "3": "22.28"
                                },
                                {
                                    "0": "10573",
                                    "1": "3",
                                    "2": "83",
                                    "3": "23.12"
                                },
                                {
                                    "0": "10677",
                                    "1": "3",
                                    "2": "38",
                                    "3": "10.58"
                                },
                                {
                                    "0": "10682",
                                    "1": "3",
                                    "2": "64",
                                    "3": "17.83"
                                },
                                {
                                    "0": "10856",
                                    "1": "3",
                                    "2": "40",
                                    "3": "11.14"
                                },
                                {
                                    "0": "10355",
                                    "1": "4",
                                    "2": "50",
                                    "3": "7.69"
                                },
                                {
                                    "0": "10383",
                                    "1": "4",
                                    "2": "55",
                                    "3": "8.46"
                                },
                                {
                                    "0": "10453",
                                    "1": "4",
                                    "2": "40",
                                    "3": "6.15"
                                },
                                {
                                    "0": "10558",
                                    "1": "4",
                                    "2": "96",
                                    "3": "14.77"
                                },
                                {
                                    "0": "10707",
                                    "1": "4",
                                    "2": "89",
                                    "3": "13.69"
                                },
                                {
                                    "0": "10741",
                                    "1": "4",
                                    "2": "15",
                                    "3": "2.31"
                                },
                                {
                                    "0": "10743",
                                    "1": "4",
                                    "2": "28",
                                    "3": "4.31"
                                },
                                {
                                    "0": "10768",
                                    "1": "4",
                                    "2": "81",
                                    "3": "12.46"
                                },
                                {
                                    "0": "10793",
                                    "1": "4",
                                    "2": "22",
                                    "3": "3.38"
                                },
                                {
                                    "0": "10864",
                                    "1": "4",
                                    "2": "19",
                                    "3": "2.92"
                                },
                                {
                                    "0": "10920",
                                    "1": "4",
                                    "2": "24",
                                    "3": "3.69"
                                },
                                {
                                    "0": "10953",
                                    "1": "4",
                                    "2": "100",
                                    "3": "15.38"
                                },
                                {
                                    "0": "11016",
                                    "1": "4",
                                    "2": "31",
                                    "3": "4.77"
                                },
                                {
                                    "0": "10278",
                                    "1": "5",
                                    "2": "64",
                                    "3": "6.39"
                                },
                                {
                                    "0": "10280",
                                    "1": "5",
                                    "2": "62",
                                    "3": "6.19"
                                },
                                {
                                    "0": "10384",
                                    "1": "5",
                                    "2": "43",
                                    "3": "4.30"
                                },
                                {
                                    "0": "10444",
                                    "1": "5",
                                    "2": "63",
                                    "3": "6.29"
                                },
                                {
                                    "0": "10445",
                                    "1": "5",
                                    "2": "21",
                                    "3": "2.10"
                                },
                                {
                                    "0": "10524",
                                    "1": "5",
                                    "2": "87",
                                    "3": "8.69"
                                },
                                {
                                    "0": "10572",
                                    "1": "5",
                                    "2": "87",
                                    "3": "8.69"
                                },
                                {
                                    "0": "10626",
                                    "1": "5",
                                    "2": "52",
                                    "3": "5.19"
                                },
                                {
                                    "0": "10654",
                                    "1": "5",
                                    "2": "38",
                                    "3": "3.80"
                                },
                                {
                                    "0": "10672",
                                    "1": "5",
                                    "2": "27",
                                    "3": "2.70"
                                },
                                {
                                    "0": "10689",
                                    "1": "5",
                                    "2": "35",
                                    "3": "3.50"
                                },
                                {
                                    "0": "10733",
                                    "1": "5",
                                    "2": "61",
                                    "3": "6.09"
                                },
                                {
                                    "0": "10778",
                                    "1": "5",
                                    "2": "10",
                                    "3": "1.00"
                                },
                                {
                                    "0": "10837",
                                    "1": "5",
                                    "2": "92",
                                    "3": "9.19"
                                },
                                {
                                    "0": "10857",
                                    "1": "5",
                                    "2": "75",
                                    "3": "7.49"
                                },
                                {
                                    "0": "10866",
                                    "1": "5",
                                    "2": "67",
                                    "3": "6.69"
                                },
                                {
                                    "0": "10875",
                                    "1": "5",
                                    "2": "61",
                                    "3": "6.09"
                                },
                                {
                                    "0": "10924",
                                    "1": "5",
                                    "2": "56",
                                    "3": "5.59"
                                },
                                {
                                    "0": "10501",
                                    "1": "6",
                                    "2": "20",
                                    "3": "14.29"
                                },
                                {
                                    "0": "10509",
                                    "1": "6",
                                    "2": "3",
                                    "3": "2.14"
                                },
                                {
                                    "0": "10582",
                                    "1": "6",
                                    "2": "18",
                                    "3": "12.86"
                                },
                                {
                                    "0": "10614",
                                    "1": "6",
                                    "2": "27",
                                    "3": "19.29"
                                },
                                {
                                    "0": "10853",
                                    "1": "6",
                                    "2": "10",
                                    "3": "7.14"
                                },
                                {
                                    "0": "10956",
                                    "1": "6",
                                    "2": "34",
                                    "3": "24.29"
                                },
                                {
                                    "0": "11058",
                                    "1": "6",
                                    "2": "28",
                                    "3": "20.00"
                                },
                                {
                                    "0": "10265",
                                    "1": "7",
                                    "2": "50",
                                    "3": "7.51"
                                },
                                {
                                    "0": "10297",
                                    "1": "7",
                                    "2": "80",
                                    "3": "12.01"
                                },
                                {
                                    "0": "10360",
                                    "1": "7",
                                    "2": "138",
                                    "3": "20.72"
                                },
                                {
                                    "0": "10436",
                                    "1": "7",
                                    "2": "99",
                                    "3": "14.86"
                                },
                                {
                                    "0": "10449",
                                    "1": "7",
                                    "2": "69",
                                    "3": "10.36"
                                },
                                {
                                    "0": "10559",
                                    "1": "7",
                                    "2": "30",
                                    "3": "4.50"
                                },
                                {
                                    "0": "10566",
                                    "1": "7",
                                    "2": "63",
                                    "3": "9.46"
                                },
                                {
                                    "0": "10584",
                                    "1": "7",
                                    "2": "50",
                                    "3": "7.51"
                                },
                                {
                                    "0": "10628",
                                    "1": "7",
                                    "2": "25",
                                    "3": "3.75"
                                },
                                {
                                    "0": "10679",
                                    "1": "7",
                                    "2": "12",
                                    "3": "1.80"
                                },
                                {
                                    "0": "10826",
                                    "1": "7",
                                    "2": "50",
                                    "3": "7.51"
                                },
                                {
                                    "0": "10326",
                                    "1": "8",
                                    "2": "90",
                                    "3": "47.37"
                                },
                                {
                                    "0": "10801",
                                    "1": "8",
                                    "2": "60",
                                    "3": "31.58"
                                },
                                {
                                    "0": "10970",
                                    "1": "8",
                                    "2": "40",
                                    "3": "21.05"
                                },
                                {
                                    "0": "10331",
                                    "1": "9",
                                    "2": "15",
                                    "3": "1.53"
                                },
                                {
                                    "0": "10340",
                                    "1": "9",
                                    "2": "72",
                                    "3": "7.35"
                                },
                                {
                                    "0": "10362",
                                    "1": "9",
                                    "2": "94",
                                    "3": "9.59"
                                },
                                {
                                    "0": "10470",
                                    "1": "9",
                                    "2": "53",
                                    "3": "5.41"
                                },
                                {
                                    "0": "10511",
                                    "1": "9",
                                    "2": "110",
                                    "3": "11.22"
                                },
                                {
                                    "0": "10525",
                                    "1": "9",
                                    "2": "45",
                                    "3": "4.59"
                                },
                                {
                                    "0": "10663",
                                    "1": "9",
                                    "2": "80",
                                    "3": "8.16"
                                },
                                {
                                    "0": "10715",
                                    "1": "9",
                                    "2": "51",
                                    "3": "5.20"
                                },
                                {
                                    "0": "10730",
                                    "1": "9",
                                    "2": "28",
                                    "3": "2.86"
                                },
                                {
                                    "0": "10732",
                                    "1": "9",
                                    "2": "20",
                                    "3": "2.04"
                                },
                                {
                                    "0": "10755",
                                    "1": "9",
                                    "2": "99",
                                    "3": "10.10"
                                },
                                {
                                    "0": "10827",
                                    "1": "9",
                                    "2": "36",
                                    "3": "3.67"
                                },
                                {
                                    "0": "10871",
                                    "1": "9",
                                    "2": "78",
                                    "3": "7.96"
                                },
                                {
                                    "0": "10876",
                                    "1": "9",
                                    "2": "41",
                                    "3": "4.18"
                                },
                                {
                                    "0": "10932",
                                    "1": "9",
                                    "2": "80",
                                    "3": "8.16"
                                },
                                {
                                    "0": "10940",
                                    "1": "9",
                                    "2": "28",
                                    "3": "2.86"
                                },
                                {
                                    "0": "11076",
                                    "1": "9",
                                    "2": "50",
                                    "3": "5.10"
                                },
                                {
                                    "0": "10389",
                                    "1": "10",
                                    "2": "81",
                                    "3": "8.47"
                                },
                                {
                                    "0": "10410",
                                    "1": "10",
                                    "2": "65",
                                    "3": "6.80"
                                },
                                {
                                    "0": "10411",
                                    "1": "10",
                                    "2": "74",
                                    "3": "7.74"
                                },
                                {
                                    "0": "10431",
                                    "1": "10",
                                    "2": "130",
                                    "3": "13.60"
                                },
                                {
                                    "0": "10492",
                                    "1": "10",
                                    "2": "80",
                                    "3": "8.37"
                                },
                                {
                                    "0": "10742",
                                    "1": "10",
                                    "2": "105",
                                    "3": "10.98"
                                },
                                {
                                    "0": "10918",
                                    "1": "10",
                                    "2": "85",
                                    "3": "8.89"
                                },
                                {
                                    "0": "10944",
                                    "1": "10",
                                    "2": "41",
                                    "3": "4.29"
                                },
                                {
                                    "0": "10949",
                                    "1": "10",
                                    "2": "108",
                                    "3": "11.30"
                                },
                                {
                                    "0": "10975",
                                    "1": "10",
                                    "2": "26",
                                    "3": "2.72"
                                },
                                {
                                    "0": "10982",
                                    "1": "10",
                                    "2": "29",
                                    "3": "3.03"
                                },
                                {
                                    "0": "11027",
                                    "1": "10",
                                    "2": "51",
                                    "3": "5.33"
                                },
                                {
                                    "0": "11045",
                                    "1": "10",
                                    "2": "39",
                                    "3": "4.08"
                                },
                                {
                                    "0": "11048",
                                    "1": "10",
                                    "2": "42",
                                    "3": "4.39"
                                },
                                {
                                    "0": "10289",
                                    "1": "11",
                                    "2": "39",
                                    "3": "13.31"
                                },
                                {
                                    "0": "10471",
                                    "1": "11",
                                    "2": "50",
                                    "3": "17.06"
                                },
                                {
                                    "0": "10484",
                                    "1": "11",
                                    "2": "27",
                                    "3": "9.22"
                                },
                                {
                                    "0": "10538",
                                    "1": "11",
                                    "2": "8",
                                    "3": "2.73"
                                },
                                {
                                    "0": "10539",
                                    "1": "11",
                                    "2": "44",
                                    "3": "15.02"
                                },
                                {
                                    "0": "10578",
                                    "1": "11",
                                    "2": "26",
                                    "3": "8.87"
                                },
                                {
                                    "0": "10599",
                                    "1": "11",
                                    "2": "10",
                                    "3": "3.41"
                                },
                                {
                                    "0": "10943",
                                    "1": "11",
                                    "2": "51",
                                    "3": "17.41"
                                },
                                {
                                    "0": "10947",
                                    "1": "11",
                                    "2": "4",
                                    "3": "1.37"
                                },
                                {
                                    "0": "11023",
                                    "1": "11",
                                    "2": "34",
                                    "3": "11.60"
                                },
                                {
                                    "0": "10521",
                                    "1": "12",
                                    "2": "19",
                                    "3": "16.52"
                                },
                                {
                                    "0": "10782",
                                    "1": "12",
                                    "2": "1",
                                    "3": "0.87"
                                },
                                {
                                    "0": "10819",
                                    "1": "12",
                                    "2": "27",
                                    "3": "23.48"
                                },
                                {
                                    "0": "10881",
                                    "1": "12",
                                    "2": "10",
                                    "3": "8.70"
                                },
                                {
                                    "0": "10937",
                                    "1": "12",
                                    "2": "28",
                                    "3": "24.35"
                                },
                                {
                                    "0": "11054",
                                    "1": "12",
                                    "2": "30",
                                    "3": "26.09"
                                },
                                {
                                    "0": "10259",
                                    "1": "13",
                                    "2": "11",
                                    "3": "100.00"
                                },
                                {
                                    "0": "10254",
                                    "1": "14",
                                    "2": "57",
                                    "3": "12.26"
                                },
                                {
                                    "0": "10370",
                                    "1": "14",
                                    "2": "65",
                                    "3": "13.98"
                                },
                                {
                                    "0": "10519",
                                    "1": "14",
                                    "2": "66",
                                    "3": "14.19"
                                },
                                {
                                    "0": "10731",
                                    "1": "14",
                                    "2": "70",
                                    "3": "15.05"
                                },
                                {
                                    "0": "10746",
                                    "1": "14",
                                    "2": "83",
                                    "3": "17.85"
                                },
                                {
                                    "0": "10966",
                                    "1": "14",
                                    "2": "32",
                                    "3": "6.88"
                                },
                                {
                                    "0": "11029",
                                    "1": "14",
                                    "2": "32",
                                    "3": "6.88"
                                },
                                {
                                    "0": "11041",
                                    "1": "14",
                                    "2": "60",
                                    "3": "12.90"
                                },
                                {
                                    "0": "10290",
                                    "1": "15",
                                    "2": "60",
                                    "3": "45.11"
                                },
                                {
                                    "0": "10466",
                                    "1": "15",
                                    "2": "15",
                                    "3": "11.28"
                                },
                                {
                                    "0": "10494",
                                    "1": "15",
                                    "2": "30",
                                    "3": "22.56"
                                },
                                {
                                    "0": "10969",
                                    "1": "15",
                                    "2": "9",
                                    "3": "6.77"
                                },
                                {
                                    "0": "11042",
                                    "1": "15",
                                    "2": "19",
                                    "3": "14.29"
                                },
                                {
                                    "0": "10435",
                                    "1": "16",
                                    "2": "32",
                                    "3": "36.78"
                                },
                                {
                                    "0": "10462",
                                    "1": "16",
                                    "2": "22",
                                    "3": "25.29"
                                },
                                {
                                    "0": "10848",
                                    "1": "16",
                                    "2": "33",
                                    "3": "37.93"
                                },
                                {
                                    "0": "10363",
                                    "1": "17",
                                    "2": "44",
                                    "3": "27.50"
                                },
                                {
                                    "0": "10391",
                                    "1": "17",
                                    "2": "18",
                                    "3": "11.25"
                                },
                                {
                                    "0": "10797",
                                    "1": "17",
                                    "2": "20",
                                    "3": "12.50"
                                },
                                {
                                    "0": "10825",
                                    "1": "17",
                                    "2": "32",
                                    "3": "20.00"
                                },
                                {
                                    "0": "11036",
                                    "1": "17",
                                    "2": "37",
                                    "3": "23.13"
                                },
                                {
                                    "0": "11067",
                                    "1": "17",
                                    "2": "9",
                                    "3": "5.63"
                                },
                                {
                                    "0": "10311",
                                    "1": "18",
                                    "2": "13",
                                    "3": "16.25"
                                },
                                {
                                    "0": "10609",
                                    "1": "18",
                                    "2": "19",
                                    "3": "23.75"
                                },
                                {
                                    "0": "10683",
                                    "1": "18",
                                    "2": "9",
                                    "3": "11.25"
                                },
                                {
                                    "0": "10890",
                                    "1": "18",
                                    "2": "39",
                                    "3": "48.75"
                                },
                                {
                                    "0": "10364",
                                    "1": "19",
                                    "2": "35",
                                    "3": "6.15"
                                },
                                {
                                    "0": "10400",
                                    "1": "19",
                                    "2": "86",
                                    "3": "15.11"
                                },
                                {
                                    "0": "10532",
                                    "1": "19",
                                    "2": "39",
                                    "3": "6.85"
                                },
                                {
                                    "0": "10726",
                                    "1": "19",
                                    "2": "30",
                                    "3": "5.27"
                                },
                                {
                                    "0": "10987",
                                    "1": "19",
                                    "2": "86",
                                    "3": "15.11"
                                },
                                {
                                    "0": "11024",
                                    "1": "19",
                                    "2": "113",
                                    "3": "19.86"
                                },
                                {
                                    "0": "11047",
                                    "1": "19",
                                    "2": "55",
                                    "3": "9.67"
                                },
                                {
                                    "0": "11056",
                                    "1": "19",
                                    "2": "125",
                                    "3": "21.97"
                                },
                                {
                                    "0": "10258",
                                    "1": "20",
                                    "2": "121",
                                    "3": "2.66"
                                },
                                {
                                    "0": "10263",
                                    "1": "20",
                                    "2": "184",
                                    "3": "4.05"
                                },
                                {
                                    "0": "10351",
                                    "1": "20",
                                    "2": "120",
                                    "3": "2.64"
                                },
                                {
                                    "0": "10368",
                                    "1": "20",
                                    "2": "78",
                                    "3": "1.72"
                                },
                                {
                                    "0": "10382",
                                    "1": "20",
                                    "2": "165",
                                    "3": "3.63"
                                },
                                {
                                    "0": "10390",
                                    "1": "20",
                                    "2": "169",
                                    "3": "3.72"
                                },
                                {
                                    "0": "10402",
                                    "1": "20",
                                    "2": "125",
                                    "3": "2.75"
                                },
                                {
                                    "0": "10403",
                                    "1": "20",
                                    "2": "91",
                                    "3": "2.00"
                                },
                                {
                                    "0": "10430",
                                    "1": "20",
                                    "2": "195",
                                    "3": "4.29"
                                },
                                {
                                    "0": "10442",
                                    "1": "20",
                                    "2": "170",
                                    "3": "3.74"
                                },
                                {
                                    "0": "10514",
                                    "1": "20",
                                    "2": "233",
                                    "3": "5.13"
                                },
                                {
                                    "0": "10571",
                                    "1": "20",
                                    "2": "39",
                                    "3": "0.86"
                                },
                                {
                                    "0": "10595",
                                    "1": "20",
                                    "2": "215",
                                    "3": "4.73"
                                },
                                {
                                    "0": "10633",
                                    "1": "20",
                                    "2": "164",
                                    "3": "3.61"
                                },
                                {
                                    "0": "10667",
                                    "1": "20",
                                    "2": "59",
                                    "3": "1.30"
                                },
                                {
                                    "0": "10698",
                                    "1": "20",
                                    "2": "108",
                                    "3": "2.38"
                                },
                                {
                                    "0": "10764",
                                    "1": "20",
                                    "2": "150",
                                    "3": "3.30"
                                },
                                {
                                    "0": "10771",
                                    "1": "20",
                                    "2": "16",
                                    "3": "0.35"
                                },
                                {
                                    "0": "10773",
                                    "1": "20",
                                    "2": "110",
                                    "3": "2.42"
                                },
                                {
                                    "0": "10776",
                                    "1": "20",
                                    "2": "175",
                                    "3": "3.85"
                                },
                                {
                                    "0": "10795",
                                    "1": "20",
                                    "2": "100",
                                    "3": "2.20"
                                },
                                {
                                    "0": "10836",
                                    "1": "20",
                                    "2": "172",
                                    "3": "3.79"
                                },
                                {
                                    "0": "10854",
                                    "1": "20",
                                    "2": "165",
                                    "3": "3.63"
                                },
                                {
                                    "0": "10895",
                                    "1": "20",
                                    "2": "346",
                                    "3": "7.62"
                                },
                                {
                                    "0": "10968",
                                    "1": "20",
                                    "2": "64",
                                    "3": "1.41"
                                },
                                {
                                    "0": "10979",
                                    "1": "20",
                                    "2": "207",
                                    "3": "4.56"
                                },
                                {
                                    "0": "10990",
                                    "1": "20",
                                    "2": "256",
                                    "3": "5.64"
                                },
                                {
                                    "0": "11008",
                                    "1": "20",
                                    "2": "181",
                                    "3": "3.98"
                                },
                                {
                                    "0": "11017",
                                    "1": "20",
                                    "2": "165",
                                    "3": "3.63"
                                },
                                {
                                    "0": "11072",
                                    "1": "20",
                                    "2": "200",
                                    "3": "4.40"
                                },
                                {
                                    "0": "10347",
                                    "1": "21",
                                    "2": "70",
                                    "3": "19.61"
                                },
                                {
                                    "0": "10386",
                                    "1": "21",
                                    "2": "25",
                                    "3": "7.00"
                                },
                                {
                                    "0": "10414",
                                    "1": "21",
                                    "2": "68",
                                    "3": "19.05"
                                },
                                {
                                    "0": "10512",
                                    "1": "21",
                                    "2": "37",
                                    "3": "10.36"
                                },
                                {
                                    "0": "10581",
                                    "1": "21",
                                    "2": "50",
                                    "3": "14.01"
                                },
                                {
                                    "0": "10650",
                                    "1": "21",
                                    "2": "85",
                                    "3": "23.81"
                                },
                                {
                                    "0": "10725",
                                    "1": "21",
                                    "2": "22",
                                    "3": "6.16"
                                },
                                {
                                    "0": "10408",
                                    "1": "23",
                                    "2": "51",
                                    "3": "14.41"
                                },
                                {
                                    "0": "10480",
                                    "1": "23",
                                    "2": "42",
                                    "3": "11.86"
                                },
                                {
                                    "0": "10634",
                                    "1": "23",
                                    "2": "102",
                                    "3": "28.81"
                                },
                                {
                                    "0": "10763",
                                    "1": "23",
                                    "2": "66",
                                    "3": "18.64"
                                },
                                {
                                    "0": "10789",
                                    "1": "23",
                                    "2": "93",
                                    "3": "26.27"
                                },
                                {
                                    "0": "10264",
                                    "1": "24",
                                    "2": "60",
                                    "3": "4.86"
                                },
                                {
                                    "0": "10327",
                                    "1": "24",
                                    "2": "140",
                                    "3": "11.35"
                                },
                                {
                                    "0": "10378",
                                    "1": "24",
                                    "2": "6",
                                    "3": "0.49"
                                },
                                {
                                    "0": "10434",
                                    "1": "24",
                                    "2": "24",
                                    "3": "1.94"
                                },
                                {
                                    "0": "10460",
                                    "1": "24",
                                    "2": "25",
                                    "3": "2.03"
                                },
                                {
                                    "0": "10533",
                                    "1": "24",
                                    "2": "98",
                                    "3": "7.94"
                                },
                                {
                                    "0": "10561",
                                    "1": "24",
                                    "2": "60",
                                    "3": "4.86"
                                },
                                {
                                    "0": "10703",
                                    "1": "24",
                                    "2": "75",
                                    "3": "6.08"
                                },
                                {
                                    "0": "10762",
                                    "1": "24",
                                    "2": "134",
                                    "3": "10.86"
                                },
                                {
                                    "0": "10774",
                                    "1": "24",
                                    "2": "52",
                                    "3": "4.21"
                                },
                                {
                                    "0": "10824",
                                    "1": "24",
                                    "2": "21",
                                    "3": "1.70"
                                },
                                {
                                    "0": "10880",
                                    "1": "24",
                                    "2": "110",
                                    "3": "8.91"
                                },
                                {
                                    "0": "10902",
                                    "1": "24",
                                    "2": "36",
                                    "3": "2.92"
                                },
                                {
                                    "0": "10955",
                                    "1": "24",
                                    "2": "12",
                                    "3": "0.97"
                                },
                                {
                                    "0": "10977",
                                    "1": "24",
                                    "2": "90",
                                    "3": "7.29"
                                },
                                {
                                    "0": "10980",
                                    "1": "24",
                                    "2": "40",
                                    "3": "3.24"
                                },
                                {
                                    "0": "10993",
                                    "1": "24",
                                    "2": "85",
                                    "3": "6.89"
                                },
                                {
                                    "0": "11001",
                                    "1": "24",
                                    "2": "116",
                                    "3": "9.40"
                                },
                                {
                                    "0": "11050",
                                    "1": "24",
                                    "2": "50",
                                    "3": "4.05"
                                },
                                {
                                    "0": "10267",
                                    "1": "25",
                                    "2": "135",
                                    "3": "8.85"
                                },
                                {
                                    "0": "10337",
                                    "1": "25",
                                    "2": "137",
                                    "3": "8.98"
                                },
                                {
                                    "0": "10342",
                                    "1": "25",
                                    "2": "160",
                                    "3": "10.49"
                                },
                                {
                                    "0": "10396",
                                    "1": "25",
                                    "2": "121",
                                    "3": "7.93"
                                },
                                {
                                    "0": "10488",
                                    "1": "25",
                                    "2": "50",
                                    "3": "3.28"
                                },
                                {
                                    "0": "10560",
                                    "1": "25",
                                    "2": "35",
                                    "3": "2.30"
                                },
                                {
                                    "0": "10623",
                                    "1": "25",
                                    "2": "94",
                                    "3": "6.16"
                                },
                                {
                                    "0": "10653",
                                    "1": "25",
                                    "2": "50",
                                    "3": "3.28"
                                },
                                {
                                    "0": "10670",
                                    "1": "25",
                                    "2": "192",
                                    "3": "12.59"
                                },
                                {
                                    "0": "10675",
                                    "1": "25",
                                    "2": "70",
                                    "3": "4.59"
                                },
                                {
                                    "0": "10717",
                                    "1": "25",
                                    "2": "72",
                                    "3": "4.72"
                                },
                                {
                                    "0": "10791",
                                    "1": "25",
                                    "2": "34",
                                    "3": "2.23"
                                },
                                {
                                    "0": "10859",
                                    "1": "25",
                                    "2": "105",
                                    "3": "6.89"
                                },
                                {
                                    "0": "10929",
                                    "1": "25",
                                    "2": "124",
                                    "3": "8.13"
                                },
                                {
                                    "0": "11012",
                                    "1": "25",
                                    "2": "146",
                                    "3": "9.57"
                                },
                                {
                                    "0": "10671",
                                    "1": "26",
                                    "2": "32",
                                    "3": "46.38"
                                },
                                {
                                    "0": "10860",
                                    "1": "26",
                                    "2": "23",
                                    "3": "33.33"
                                },
                                {
                                    "0": "10971",
                                    "1": "26",
                                    "2": "14",
                                    "3": "20.29"
                                },
                                {
                                    "0": "10422",
                                    "1": "27",
                                    "2": "2",
                                    "3": "3.70"
                                },
                                {
                                    "0": "10710",
                                    "1": "27",
                                    "2": "10",
                                    "3": "18.52"
                                },
                                {
                                    "0": "10753",
                                    "1": "27",
                                    "2": "9",
                                    "3": "16.67"
                                },
                                {
                                    "0": "10807",
                                    "1": "27",
                                    "2": "1",
                                    "3": "1.85"
                                },
                                {
                                    "0": "11026",
                                    "1": "27",
                                    "2": "18",
                                    "3": "33.33"
                                },
                                {
                                    "0": "11060",
                                    "1": "27",
                                    "2": "14",
                                    "3": "25.93"
                                },
                                {
                                    "0": "10328",
                                    "1": "28",
                                    "2": "59",
                                    "3": "16.91"
                                },
                                {
                                    "0": "10352",
                                    "1": "28",
                                    "2": "30",
                                    "3": "8.60"
                                },
                                {
                                    "0": "10464",
                                    "1": "28",
                                    "2": "69",
                                    "3": "19.77"
                                },
                                {
                                    "0": "10491",
                                    "1": "28",
                                    "2": "22",
                                    "3": "6.30"
                                },
                                {
                                    "0": "10551",
                                    "1": "28",
                                    "2": "100",
                                    "3": "28.65"
                                },
                                {
                                    "0": "10604",
                                    "1": "28",
                                    "2": "16",
                                    "3": "4.58"
                                },
                                {
                                    "0": "10664",
                                    "1": "28",
                                    "2": "51",
                                    "3": "14.61"
                                },
                                {
                                    "0": "10963",
                                    "1": "28",
                                    "2": "2",
                                    "3": "0.57"
                                },
                                {
                                    "0": "10366",
                                    "1": "29",
                                    "2": "10",
                                    "3": "23.81"
                                },
                                {
                                    "0": "10426",
                                    "1": "29",
                                    "2": "12",
                                    "3": "28.57"
                                },
                                {
                                    "0": "10568",
                                    "1": "29",
                                    "2": "5",
                                    "3": "11.90"
                                },
                                {
                                    "0": "10887",
                                    "1": "29",
                                    "2": "5",
                                    "3": "11.90"
                                },
                                {
                                    "0": "10928",
                                    "1": "29",
                                    "2": "10",
                                    "3": "23.81"
                                },
                                {
                                    "0": "10303",
                                    "1": "30",
                                    "2": "85",
                                    "3": "21.52"
                                },
                                {
                                    "0": "10550",
                                    "1": "30",
                                    "2": "34",
                                    "3": "8.61"
                                },
                                {
                                    "0": "10629",
                                    "1": "30",
                                    "2": "29",
                                    "3": "7.34"
                                },
                                {
                                    "0": "10872",
                                    "1": "30",
                                    "2": "66",
                                    "3": "16.71"
                                },
                                {
                                    "0": "10874",
                                    "1": "30",
                                    "2": "10",
                                    "3": "2.53"
                                },
                                {
                                    "0": "10888",
                                    "1": "30",
                                    "2": "38",
                                    "3": "9.62"
                                },
                                {
                                    "0": "10911",
                                    "1": "30",
                                    "2": "37",
                                    "3": "9.37"
                                },
                                {
                                    "0": "10948",
                                    "1": "30",
                                    "2": "53",
                                    "3": "13.42"
                                },
                                {
                                    "0": "11009",
                                    "1": "30",
                                    "2": "39",
                                    "3": "9.87"
                                },
                                {
                                    "0": "11037",
                                    "1": "30",
                                    "2": "4",
                                    "3": "1.01"
                                },
                                {
                                    "0": "10423",
                                    "1": "31",
                                    "2": "34",
                                    "3": "10.79"
                                },
                                {
                                    "0": "10652",
                                    "1": "31",
                                    "2": "22",
                                    "3": "6.98"
                                },
                                {
                                    "0": "10685",
                                    "1": "31",
                                    "2": "39",
                                    "3": "12.38"
                                },
                                {
                                    "0": "10709",
                                    "1": "31",
                                    "2": "78",
                                    "3": "24.76"
                                },
                                {
                                    "0": "10734",
                                    "1": "31",
                                    "2": "65",
                                    "3": "20.63"
                                },
                                {
                                    "0": "10777",
                                    "1": "31",
                                    "2": "20",
                                    "3": "6.35"
                                },
                                {
                                    "0": "10790",
                                    "1": "31",
                                    "2": "23",
                                    "3": "7.30"
                                },
                                {
                                    "0": "10959",
                                    "1": "31",
                                    "2": "20",
                                    "3": "6.35"
                                },
                                {
                                    "0": "11049",
                                    "1": "31",
                                    "2": "14",
                                    "3": "4.44"
                                },
                                {
                                    "0": "10528",
                                    "1": "32",
                                    "2": "20",
                                    "3": "5.80"
                                },
                                {
                                    "0": "10589",
                                    "1": "32",
                                    "2": "4",
                                    "3": "1.16"
                                },
                                {
                                    "0": "10616",
                                    "1": "32",
                                    "2": "59",
                                    "3": "17.10"
                                },
                                {
                                    "0": "10617",
                                    "1": "32",
                                    "2": "30",
                                    "3": "8.70"
                                },
                                {
                                    "0": "10656",
                                    "1": "32",
                                    "2": "37",
                                    "3": "10.72"
                                },
                                {
                                    "0": "10681",
                                    "1": "32",
                                    "2": "70",
                                    "3": "20.29"
                                },
                                {
                                    "0": "10816",
                                    "1": "32",
                                    "2": "50",
                                    "3": "14.49"
                                },
                                {
                                    "0": "10936",
                                    "1": "32",
                                    "2": "30",
                                    "3": "8.70"
                                },
                                {
                                    "0": "11006",
                                    "1": "32",
                                    "2": "10",
                                    "3": "2.90"
                                },
                                {
                                    "0": "11040",
                                    "1": "32",
                                    "2": "20",
                                    "3": "5.80"
                                },
                                {
                                    "0": "11061",
                                    "1": "32",
                                    "2": "15",
                                    "3": "4.35"
                                },
                                {
                                    "0": "10268",
                                    "1": "33",
                                    "2": "14",
                                    "3": "41.18"
                                },
                                {
                                    "0": "10785",
                                    "1": "33",
                                    "2": "20",
                                    "3": "58.82"
                                },
                                {
                                    "0": "10250",
                                    "1": "34",
                                    "2": "60",
                                    "3": "7.15"
                                },
                                {
                                    "0": "10253",
                                    "1": "34",
                                    "2": "102",
                                    "3": "12.16"
                                },
                                {
                                    "0": "10541",
                                    "1": "34",
                                    "2": "84",
                                    "3": "10.01"
                                },
                                {
                                    "0": "10645",
                                    "1": "34",
                                    "2": "35",
                                    "3": "4.17"
                                },
                                {
                                    "0": "10690",
                                    "1": "34",
                                    "2": "50",
                                    "3": "5.96"
                                },
                                {
                                    "0": "10770",
                                    "1": "34",
                                    "2": "15",
                                    "3": "1.79"
                                },
                                {
                                    "0": "10783",
                                    "1": "34",
                                    "2": "15",
                                    "3": "1.79"
                                },
                                {
                                    "0": "10886",
                                    "1": "34",
                                    "2": "145",
                                    "3": "17.28"
                                },
                                {
                                    "0": "10903",
                                    "1": "34",
                                    "2": "81",
                                    "3": "9.65"
                                },
                                {
                                    "0": "10922",
                                    "1": "34",
                                    "2": "50",
                                    "3": "5.96"
                                },
                                {
                                    "0": "10925",
                                    "1": "34",
                                    "2": "37",
                                    "3": "4.41"
                                },
                                {
                                    "0": "10981",
                                    "1": "34",
                                    "2": "60",
                                    "3": "7.15"
                                },
                                {
                                    "0": "11022",
                                    "1": "34",
                                    "2": "65",
                                    "3": "7.75"
                                },
                                {
                                    "0": "11052",
                                    "1": "34",
                                    "2": "40",
                                    "3": "4.77"
                                },
                                {
                                    "0": "10257",
                                    "1": "35",
                                    "2": "46",
                                    "3": "4.20"
                                },
                                {
                                    "0": "10395",
                                    "1": "35",
                                    "2": "106",
                                    "3": "9.67"
                                },
                                {
                                    "0": "10476",
                                    "1": "35",
                                    "2": "14",
                                    "3": "1.28"
                                },
                                {
                                    "0": "10486",
                                    "1": "35",
                                    "2": "46",
                                    "3": "4.20"
                                },
                                {
                                    "0": "10490",
                                    "1": "35",
                                    "2": "126",
                                    "3": "11.50"
                                },
                                {
                                    "0": "10498",
                                    "1": "35",
                                    "2": "49",
                                    "3": "4.47"
                                },
                                {
                                    "0": "10552",
                                    "1": "35",
                                    "2": "48",
                                    "3": "4.38"
                                },
                                {
                                    "0": "10601",
                                    "1": "35",
                                    "2": "95",
                                    "3": "8.67"
                                },
                                {
                                    "0": "10613",
                                    "1": "35",
                                    "2": "48",
                                    "3": "4.38"
                                },
                                {
                                    "0": "10641",
                                    "1": "35",
                                    "2": "110",
                                    "3": "10.04"
                                },
                                {
                                    "0": "10705",
                                    "1": "35",
                                    "2": "24",
                                    "3": "2.19"
                                },
                                {
                                    "0": "10796",
                                    "1": "35",
                                    "2": "90",
                                    "3": "8.21"
                                },
                                {
                                    "0": "10863",
                                    "1": "35",
                                    "2": "32",
                                    "3": "2.92"
                                },
                                {
                                    "0": "10901",
                                    "1": "35",
                                    "2": "60",
                                    "3": "5.47"
                                },
                                {
                                    "0": "10957",
                                    "1": "35",
                                    "2": "78",
                                    "3": "7.12"
                                },
                                {
                                    "0": "10960",
                                    "1": "35",
                                    "2": "34",
                                    "3": "3.10"
                                },
                                {
                                    "0": "10976",
                                    "1": "35",
                                    "2": "20",
                                    "3": "1.82"
                                },
                                {
                                    "0": "11055",
                                    "1": "35",
                                    "2": "70",
                                    "3": "6.39"
                                },
                                {
                                    "0": "10375",
                                    "1": "36",
                                    "2": "25",
                                    "3": "20.49"
                                },
                                {
                                    "0": "10394",
                                    "1": "36",
                                    "2": "20",
                                    "3": "16.39"
                                },
                                {
                                    "0": "10415",
                                    "1": "36",
                                    "2": "22",
                                    "3": "18.03"
                                },
                                {
                                    "0": "10600",
                                    "1": "36",
                                    "2": "34",
                                    "3": "27.87"
                                },
                                {
                                    "0": "10660",
                                    "1": "36",
                                    "2": "21",
                                    "3": "17.21"
                                },
                                {
                                    "0": "10298",
                                    "1": "37",
                                    "2": "125",
                                    "3": "7.42"
                                },
                                {
                                    "0": "10309",
                                    "1": "37",
                                    "2": "75",
                                    "3": "4.45"
                                },
                                {
                                    "0": "10335",
                                    "1": "37",
                                    "2": "86",
                                    "3": "5.11"
                                },
                                {
                                    "0": "10373",
                                    "1": "37",
                                    "2": "130",
                                    "3": "7.72"
                                },
                                {
                                    "0": "10380",
                                    "1": "37",
                                    "2": "74",
                                    "3": "4.39"
                                },
                                {
                                    "0": "10429",
                                    "1": "37",
                                    "2": "75",
                                    "3": "4.45"
                                },
                                {
                                    "0": "10503",
                                    "1": "37",
                                    "2": "90",
                                    "3": "5.34"
                                },
                                {
                                    "0": "10516",
                                    "1": "37",
                                    "2": "125",
                                    "3": "7.42"
                                },
                                {
                                    "0": "10567",
                                    "1": "37",
                                    "2": "103",
                                    "3": "6.12"
                                },
                                {
                                    "0": "10646",
                                    "1": "37",
                                    "2": "98",
                                    "3": "5.82"
                                },
                                {
                                    "0": "10661",
                                    "1": "37",
                                    "2": "52",
                                    "3": "3.09"
                                },
                                {
                                    "0": "10687",
                                    "1": "37",
                                    "2": "66",
                                    "3": "3.92"
                                },
                                {
                                    "0": "10701",
                                    "1": "37",
                                    "2": "97",
                                    "3": "5.76"
                                },
                                {
                                    "0": "10712",
                                    "1": "37",
                                    "2": "33",
                                    "3": "1.96"
                                },
                                {
                                    "0": "10736",
                                    "1": "37",
                                    "2": "60",
                                    "3": "3.56"
                                },
                                {
                                    "0": "10897",
                                    "1": "37",
                                    "2": "116",
                                    "3": "6.89"
                                },
                                {
                                    "0": "10912",
                                    "1": "37",
                                    "2": "100",
                                    "3": "5.94"
                                },
                                {
                                    "0": "10985",
                                    "1": "37",
                                    "2": "79",
                                    "3": "4.69"
                                },
                                {
                                    "0": "11063",
                                    "1": "37",
                                    "2": "100",
                                    "3": "5.94"
                                },
                                {
                                    "0": "10315",
                                    "1": "38",
                                    "2": "44",
                                    "3": "14.92"
                                },
                                {
                                    "0": "10318",
                                    "1": "38",
                                    "2": "26",
                                    "3": "8.81"
                                },
                                {
                                    "0": "10321",
                                    "1": "38",
                                    "2": "10",
                                    "3": "3.39"
                                },
                                {
                                    "0": "10473",
                                    "1": "38",
                                    "2": "24",
                                    "3": "8.14"
                                },
                                {
                                    "0": "10621",
                                    "1": "38",
                                    "2": "50",
                                    "3": "16.95"
                                },
                                {
                                    "0": "10674",
                                    "1": "38",
                                    "2": "5",
                                    "3": "1.69"
                                },
                                {
                                    "0": "10749",
                                    "1": "38",
                                    "2": "31",
                                    "3": "10.51"
                                },
                                {
                                    "0": "10798",
                                    "1": "38",
                                    "2": "12",
                                    "3": "4.07"
                                },
                                {
                                    "0": "10829",
                                    "1": "38",
                                    "2": "61",
                                    "3": "20.68"
                                },
                                {
                                    "0": "10933",
                                    "1": "38",
                                    "2": "32",
                                    "3": "10.85"
                                },
                                {
                                    "0": "10323",
                                    "1": "39",
                                    "2": "13",
                                    "3": "1.44"
                                },
                                {
                                    "0": "10325",
                                    "1": "39",
                                    "2": "71",
                                    "3": "7.86"
                                },
                                {
                                    "0": "10456",
                                    "1": "39",
                                    "2": "61",
                                    "3": "6.76"
                                },
                                {
                                    "0": "10457",
                                    "1": "39",
                                    "2": "36",
                                    "3": "3.99"
                                },
                                {
                                    "0": "10468",
                                    "1": "39",
                                    "2": "23",
                                    "3": "2.55"
                                },
                                {
                                    "0": "10506",
                                    "1": "39",
                                    "2": "32",
                                    "3": "3.54"
                                },
                                {
                                    "0": "10542",
                                    "1": "39",
                                    "2": "39",
                                    "3": "4.32"
                                },
                                {
                                    "0": "10630",
                                    "1": "39",
                                    "2": "47",
                                    "3": "5.20"
                                },
                                {
                                    "0": "10718",
                                    "1": "39",
                                    "2": "116",
                                    "3": "12.85"
                                },
                                {
                                    "0": "10799",
                                    "1": "39",
                                    "2": "65",
                                    "3": "7.20"
                                },
                                {
                                    "0": "10817",
                                    "1": "39",
                                    "2": "155",
                                    "3": "17.17"
                                },
                                {
                                    "0": "10849",
                                    "1": "39",
                                    "2": "67",
                                    "3": "7.42"
                                },
                                {
                                    "0": "10893",
                                    "1": "39",
                                    "2": "119",
                                    "3": "13.18"
                                },
                                {
                                    "0": "11028",
                                    "1": "39",
                                    "2": "59",
                                    "3": "6.53"
                                },
                                {
                                    "0": "10858",
                                    "1": "40",
                                    "2": "19",
                                    "3": "22.89"
                                },
                                {
                                    "0": "10927",
                                    "1": "40",
                                    "2": "30",
                                    "3": "36.14"
                                },
                                {
                                    "0": "10972",
                                    "1": "40",
                                    "2": "13",
                                    "3": "15.66"
                                },
                                {
                                    "0": "10973",
                                    "1": "40",
                                    "2": "21",
                                    "3": "25.30"
                                },
                                {
                                    "0": "10350",
                                    "1": "41",
                                    "2": "33",
                                    "3": "7.47"
                                },
                                {
                                    "0": "10358",
                                    "1": "41",
                                    "2": "40",
                                    "3": "9.05"
                                },
                                {
                                    "0": "10371",
                                    "1": "41",
                                    "2": "6",
                                    "3": "1.36"
                                },
                                {
                                    "0": "10413",
                                    "1": "41",
                                    "2": "78",
                                    "3": "17.65"
                                },
                                {
                                    "0": "10425",
                                    "1": "41",
                                    "2": "30",
                                    "3": "6.79"
                                },
                                {
                                    "0": "10454",
                                    "1": "41",
                                    "2": "50",
                                    "3": "11.31"
                                },
                                {
                                    "0": "10493",
                                    "1": "41",
                                    "2": "35",
                                    "3": "7.92"
                                },
                                {
                                    "0": "10500",
                                    "1": "41",
                                    "2": "20",
                                    "3": "4.52"
                                },
                                {
                                    "0": "10610",
                                    "1": "41",
                                    "2": "21",
                                    "3": "4.75"
                                },
                                {
                                    "0": "10631",
                                    "1": "41",
                                    "2": "8",
                                    "3": "1.81"
                                },
                                {
                                    "0": "10787",
                                    "1": "41",
                                    "2": "35",
                                    "3": "7.92"
                                },
                                {
                                    "0": "10832",
                                    "1": "41",
                                    "2": "32",
                                    "3": "7.24"
                                },
                                {
                                    "0": "10923",
                                    "1": "41",
                                    "2": "44",
                                    "3": "9.95"
                                },
                                {
                                    "0": "11051",
                                    "1": "41",
                                    "2": "10",
                                    "3": "2.26"
                                },
                                {
                                    "0": "10495",
                                    "1": "42",
                                    "2": "35",
                                    "3": "56.45"
                                },
                                {
                                    "0": "10620",
                                    "1": "42",
                                    "2": "10",
                                    "3": "16.13"
                                },
                                {
                                    "0": "10810",
                                    "1": "42",
                                    "2": "17",
                                    "3": "27.42"
                                },
                                {
                                    "0": "10482",
                                    "1": "43",
                                    "2": "10",
                                    "3": "50.00"
                                },
                                {
                                    "0": "10545",
                                    "1": "43",
                                    "2": "10",
                                    "3": "50.00"
                                },
                                {
                                    "0": "10279",
                                    "1": "44",
                                    "2": "15",
                                    "3": "1.89"
                                },
                                {
                                    "0": "10284",
                                    "1": "44",
                                    "2": "61",
                                    "3": "7.68"
                                },
                                {
                                    "0": "10343",
                                    "1": "44",
                                    "2": "69",
                                    "3": "8.69"
                                },
                                {
                                    "0": "10497",
                                    "1": "44",
                                    "2": "64",
                                    "3": "8.06"
                                },
                                {
                                    "0": "10522",
                                    "1": "44",
                                    "2": "109",
                                    "3": "13.73"
                                },
                                {
                                    "0": "10534",
                                    "1": "44",
                                    "2": "30",
                                    "3": "3.78"
                                },
                                {
                                    "0": "10536",
                                    "1": "44",
                                    "2": "100",
                                    "3": "12.59"
                                },
                                {
                                    "0": "10557",
                                    "1": "44",
                                    "2": "50",
                                    "3": "6.30"
                                },
                                {
                                    "0": "10592",
                                    "1": "44",
                                    "2": "30",
                                    "3": "3.78"
                                },
                                {
                                    "0": "10593",
                                    "1": "44",
                                    "2": "45",
                                    "3": "5.67"
                                },
                                {
                                    "0": "10772",
                                    "1": "44",
                                    "2": "43",
                                    "3": "5.42"
                                },
                                {
                                    "0": "10862",
                                    "1": "44",
                                    "2": "33",
                                    "3": "4.16"
                                },
                                {
                                    "0": "10891",
                                    "1": "44",
                                    "2": "15",
                                    "3": "1.89"
                                },
                                {
                                    "0": "10934",
                                    "1": "44",
                                    "2": "20",
                                    "3": "2.52"
                                },
                                {
                                    "0": "11070",
                                    "1": "44",
                                    "2": "110",
                                    "3": "13.85"
                                },
                                {
                                    "0": "10579",
                                    "1": "45",
                                    "2": "31",
                                    "3": "17.13"
                                },
                                {
                                    "0": "10719",
                                    "1": "45",
                                    "2": "55",
                                    "3": "30.39"
                                },
                                {
                                    "0": "10735",
                                    "1": "45",
                                    "2": "22",
                                    "3": "12.15"
                                },
                                {
                                    "0": "10884",
                                    "1": "45",
                                    "2": "73",
                                    "3": "40.33"
                                },
                                {
                                    "0": "10283",
                                    "1": "46",
                                    "2": "76",
                                    "3": "9.09"
                                },
                                {
                                    "0": "10296",
                                    "1": "46",
                                    "2": "57",
                                    "3": "6.82"
                                },
                                {
                                    "0": "10330",
                                    "1": "46",
                                    "2": "75",
                                    "3": "8.97"
                                },
                                {
                                    "0": "10357",
                                    "1": "46",
                                    "2": "54",
                                    "3": "6.46"
                                },
                                {
                                    "0": "10381",
                                    "1": "46",
                                    "2": "14",
                                    "3": "1.67"
                                },
                                {
                                    "0": "10461",
                                    "1": "46",
                                    "2": "128",
                                    "3": "15.31"
                                },
                                {
                                    "0": "10499",
                                    "1": "46",
                                    "2": "45",
                                    "3": "5.38"
                                },
                                {
                                    "0": "10543",
                                    "1": "46",
                                    "2": "100",
                                    "3": "11.96"
                                },
                                {
                                    "0": "10780",
                                    "1": "46",
                                    "2": "50",
                                    "3": "5.98"
                                },
                                {
                                    "0": "10823",
                                    "1": "46",
                                    "2": "90",
                                    "3": "10.77"
                                },
                                {
                                    "0": "10899",
                                    "1": "46",
                                    "2": "8",
                                    "3": "0.96"
                                },
                                {
                                    "0": "10997",
                                    "1": "46",
                                    "2": "90",
                                    "3": "10.77"
                                },
                                {
                                    "0": "11065",
                                    "1": "46",
                                    "2": "24",
                                    "3": "2.87"
                                },
                                {
                                    "0": "11071",
                                    "1": "46",
                                    "2": "25",
                                    "3": "2.99"
                                },
                                {
                                    "0": "10405",
                                    "1": "47",
                                    "2": "50",
                                    "3": "5.15"
                                },
                                {
                                    "0": "10485",
                                    "1": "47",
                                    "2": "130",
                                    "3": "13.40"
                                },
                                {
                                    "0": "10638",
                                    "1": "47",
                                    "2": "101",
                                    "3": "10.41"
                                },
                                {
                                    "0": "10697",
                                    "1": "47",
                                    "2": "76",
                                    "3": "7.84"
                                },
                                {
                                    "0": "10729",
                                    "1": "47",
                                    "2": "120",
                                    "3": "12.37"
                                },
                                {
                                    "0": "10811",
                                    "1": "47",
                                    "2": "63",
                                    "3": "6.49"
                                },
                                {
                                    "0": "10838",
                                    "1": "47",
                                    "2": "79",
                                    "3": "8.14"
                                },
                                {
                                    "0": "10840",
                                    "1": "47",
                                    "2": "16",
                                    "3": "1.65"
                                },
                                {
                                    "0": "10919",
                                    "1": "47",
                                    "2": "68",
                                    "3": "7.01"
                                },
                                {
                                    "0": "10954",
                                    "1": "47",
                                    "2": "107",
                                    "3": "11.03"
                                },
                                {
                                    "0": "11014",
                                    "1": "47",
                                    "2": "28",
                                    "3": "2.89"
                                },
                                {
                                    "0": "11039",
                                    "1": "47",
                                    "2": "132",
                                    "3": "13.61"
                                },
                                {
                                    "0": "10307",
                                    "1": "48",
                                    "2": "13",
                                    "3": "9.70"
                                },
                                {
                                    "0": "10317",
                                    "1": "48",
                                    "2": "20",
                                    "3": "14.93"
                                },
                                {
                                    "0": "10544",
                                    "1": "48",
                                    "2": "14",
                                    "3": "10.45"
                                },
                                {
                                    "0": "10662",
                                    "1": "48",
                                    "2": "10",
                                    "3": "7.46"
                                },
                                {
                                    "0": "10665",
                                    "1": "48",
                                    "2": "31",
                                    "3": "23.13"
                                },
                                {
                                    "0": "10867",
                                    "1": "48",
                                    "2": "3",
                                    "3": "2.24"
                                },
                                {
                                    "0": "10883",
                                    "1": "48",
                                    "2": "8",
                                    "3": "5.97"
                                },
                                {
                                    "0": "11018",
                                    "1": "48",
                                    "2": "35",
                                    "3": "26.12"
                                },
                                {
                                    "0": "10275",
                                    "1": "49",
                                    "2": "18",
                                    "3": "4.16"
                                },
                                {
                                    "0": "10300",
                                    "1": "49",
                                    "2": "50",
                                    "3": "11.55"
                                },
                                {
                                    "0": "10404",
                                    "1": "49",
                                    "2": "100",
                                    "3": "23.09"
                                },
                                {
                                    "0": "10467",
                                    "1": "49",
                                    "2": "40",
                                    "3": "9.24"
                                },
                                {
                                    "0": "10635",
                                    "1": "49",
                                    "2": "65",
                                    "3": "15.01"
                                },
                                {
                                    "0": "10754",
                                    "1": "49",
                                    "2": "3",
                                    "3": "0.69"
                                },
                                {
                                    "0": "10784",
                                    "1": "49",
                                    "2": "62",
                                    "3": "14.32"
                                },
                                {
                                    "0": "10818",
                                    "1": "49",
                                    "2": "40",
                                    "3": "9.24"
                                },
                                {
                                    "0": "10939",
                                    "1": "49",
                                    "2": "50",
                                    "3": "11.55"
                                },
                                {
                                    "0": "10950",
                                    "1": "49",
                                    "2": "5",
                                    "3": "1.15"
                                },
                                {
                                    "0": "10529",
                                    "1": "50",
                                    "2": "44",
                                    "3": "13.75"
                                },
                                {
                                    "0": "10649",
                                    "1": "50",
                                    "2": "35",
                                    "3": "10.94"
                                },
                                {
                                    "0": "10760",
                                    "1": "50",
                                    "2": "82",
                                    "3": "25.63"
                                },
                                {
                                    "0": "10892",
                                    "1": "50",
                                    "2": "40",
                                    "3": "12.50"
                                },
                                {
                                    "0": "10896",
                                    "1": "50",
                                    "2": "31",
                                    "3": "9.69"
                                },
                                {
                                    "0": "10978",
                                    "1": "50",
                                    "2": "76",
                                    "3": "23.75"
                                },
                                {
                                    "0": "11004",
                                    "1": "50",
                                    "2": "12",
                                    "3": "3.75"
                                },
                                {
                                    "0": "10332",
                                    "1": "51",
                                    "2": "66",
                                    "3": "6.83"
                                },
                                {
                                    "0": "10339",
                                    "1": "51",
                                    "2": "108",
                                    "3": "11.18"
                                },
                                {
                                    "0": "10376",
                                    "1": "51",
                                    "2": "42",
                                    "3": "4.35"
                                },
                                {
                                    "0": "10424",
                                    "1": "51",
                                    "2": "139",
                                    "3": "14.39"
                                },
                                {
                                    "0": "10439",
                                    "1": "51",
                                    "2": "67",
                                    "3": "6.94"
                                },
                                {
                                    "0": "10505",
                                    "1": "51",
                                    "2": "3",
                                    "3": "0.31"
                                },
                                {
                                    "0": "10565",
                                    "1": "51",
                                    "2": "43",
                                    "3": "4.45"
                                },
                                {
                                    "0": "10570",
                                    "1": "51",
                                    "2": "75",
                                    "3": "7.76"
                                },
                                {
                                    "0": "10590",
                                    "1": "51",
                                    "2": "80",
                                    "3": "8.28"
                                },
                                {
                                    "0": "10605",
                                    "1": "51",
                                    "2": "135",
                                    "3": "13.98"
                                },
                                {
                                    "0": "10618",
                                    "1": "51",
                                    "2": "105",
                                    "3": "10.87"
                                },
                                {
                                    "0": "10619",
                                    "1": "51",
                                    "2": "82",
                                    "3": "8.49"
                                },
                                {
                                    "0": "10724",
                                    "1": "51",
                                    "2": "21",
                                    "3": "2.17"
                                },
                                {
                                    "0": "10277",
                                    "1": "52",
                                    "2": "32",
                                    "3": "18.60"
                                },
                                {
                                    "0": "10575",
                                    "1": "52",
                                    "2": "58",
                                    "3": "33.72"
                                },
                                {
                                    "0": "10699",
                                    "1": "52",
                                    "2": "12",
                                    "3": "6.98"
                                },
                                {
                                    "0": "10779",
                                    "1": "52",
                                    "2": "40",
                                    "3": "23.26"
                                },
                                {
                                    "0": "10945",
                                    "1": "52",
                                    "2": "30",
                                    "3": "17.44"
                                },
                                {
                                    "0": "10517",
                                    "1": "53",
                                    "2": "16",
                                    "3": "53.33"
                                },
                                {
                                    "0": "10752",
                                    "1": "53",
                                    "2": "11",
                                    "3": "36.67"
                                },
                                {
                                    "0": "11057",
                                    "1": "53",
                                    "2": "3",
                                    "3": "10.00"
                                },
                                {
                                    "0": "10409",
                                    "1": "54",
                                    "2": "24",
                                    "3": "18.18"
                                },
                                {
                                    "0": "10531",
                                    "1": "54",
                                    "2": "2",
                                    "3": "1.52"
                                },
                                {
                                    "0": "10898",
                                    "1": "54",
                                    "2": "5",
                                    "3": "3.79"
                                },
                                {
                                    "0": "10958",
                                    "1": "54",
                                    "2": "31",
                                    "3": "23.48"
                                },
                                {
                                    "0": "10986",
                                    "1": "54",
                                    "2": "70",
                                    "3": "53.03"
                                },
                                {
                                    "0": "10305",
                                    "1": "55",
                                    "2": "80",
                                    "3": "13.27"
                                },
                                {
                                    "0": "10338",
                                    "1": "55",
                                    "2": "35",
                                    "3": "5.80"
                                },
                                {
                                    "0": "10441",
                                    "1": "55",
                                    "2": "50",
                                    "3": "8.29"
                                },
                                {
                                    "0": "10594",
                                    "1": "55",
                                    "2": "54",
                                    "3": "8.96"
                                },
                                {
                                    "0": "10680",
                                    "1": "55",
                                    "2": "110",
                                    "3": "18.24"
                                },
                                {
                                    "0": "10706",
                                    "1": "55",
                                    "2": "52",
                                    "3": "8.62"
                                },
                                {
                                    "0": "10808",
                                    "1": "55",
                                    "2": "70",
                                    "3": "11.61"
                                },
                                {
                                    "0": "10855",
                                    "1": "55",
                                    "2": "103",
                                    "3": "17.08"
                                },
                                {
                                    "0": "10965",
                                    "1": "55",
                                    "2": "16",
                                    "3": "2.65"
                                },
                                {
                                    "0": "11034",
                                    "1": "55",
                                    "2": "33",
                                    "3": "5.47"
                                },
                                {
                                    "0": "10260",
                                    "1": "56",
                                    "2": "102",
                                    "3": "15.96"
                                },
                                {
                                    "0": "10407",
                                    "1": "56",
                                    "2": "60",
                                    "3": "9.39"
                                },
                                {
                                    "0": "10508",
                                    "1": "56",
                                    "2": "20",
                                    "3": "3.13"
                                },
                                {
                                    "0": "10554",
                                    "1": "56",
                                    "2": "80",
                                    "3": "12.52"
                                },
                                {
                                    "0": "10580",
                                    "1": "56",
                                    "2": "54",
                                    "3": "8.45"
                                },
                                {
                                    "0": "10684",
                                    "1": "56",
                                    "2": "90",
                                    "3": "14.08"
                                },
                                {
                                    "0": "10766",
                                    "1": "56",
                                    "2": "115",
                                    "3": "18.00"
                                },
                                {
                                    "0": "10833",
                                    "1": "56",
                                    "2": "38",
                                    "3": "5.95"
                                },
                                {
                                    "0": "10999",
                                    "1": "56",
                                    "2": "56",
                                    "3": "8.76"
                                },
                                {
                                    "0": "11020",
                                    "1": "56",
                                    "2": "24",
                                    "3": "3.76"
                                },
                                {
                                    "0": "10322",
                                    "1": "58",
                                    "2": "20",
                                    "3": "9.62"
                                },
                                {
                                    "0": "10354",
                                    "1": "58",
                                    "2": "16",
                                    "3": "7.69"
                                },
                                {
                                    "0": "10474",
                                    "1": "58",
                                    "2": "61",
                                    "3": "29.33"
                                },
                                {
                                    "0": "10502",
                                    "1": "58",
                                    "2": "57",
                                    "3": "27.40"
                                },
                                {
                                    "0": "10995",
                                    "1": "58",
                                    "2": "24",
                                    "3": "11.54"
                                },
                                {
                                    "0": "11073",
                                    "1": "58",
                                    "2": "30",
                                    "3": "14.42"
                                },
                                {
                                    "0": "10353",
                                    "1": "59",
                                    "2": "62",
                                    "3": "9.94"
                                },
                                {
                                    "0": "10392",
                                    "1": "59",
                                    "2": "50",
                                    "3": "8.01"
                                },
                                {
                                    "0": "10427",
                                    "1": "59",
                                    "2": "35",
                                    "3": "5.61"
                                },
                                {
                                    "0": "10489",
                                    "1": "59",
                                    "2": "33",
                                    "3": "5.29"
                                },
                                {
                                    "0": "10530",
                                    "1": "59",
                                    "2": "135",
                                    "3": "21.63"
                                },
                                {
                                    "0": "10597",
                                    "1": "59",
                                    "2": "67",
                                    "3": "10.74"
                                },
                                {
                                    "0": "10686",
                                    "1": "59",
                                    "2": "45",
                                    "3": "7.21"
                                },
                                {
                                    "0": "10747",
                                    "1": "59",
                                    "2": "82",
                                    "3": "13.14"
                                },
                                {
                                    "0": "10844",
                                    "1": "59",
                                    "2": "35",
                                    "3": "5.61"
                                },
                                {
                                    "0": "11053",
                                    "1": "59",
                                    "2": "80",
                                    "3": "12.82"
                                },
                                {
                                    "0": "10336",
                                    "1": "60",
                                    "2": "18",
                                    "3": "9.78"
                                },
                                {
                                    "0": "10397",
                                    "1": "60",
                                    "2": "28",
                                    "3": "15.22"
                                },
                                {
                                    "0": "10433",
                                    "1": "60",
                                    "2": "28",
                                    "3": "15.22"
                                },
                                {
                                    "0": "10477",
                                    "1": "60",
                                    "2": "56",
                                    "3": "30.43"
                                },
                                {
                                    "0": "11007",
                                    "1": "60",
                                    "2": "54",
                                    "3": "29.35"
                                },
                                {
                                    "0": "10261",
                                    "1": "61",
                                    "2": "40",
                                    "3": "10.15"
                                },
                                {
                                    "0": "10291",
                                    "1": "61",
                                    "2": "46",
                                    "3": "11.68"
                                },
                                {
                                    "0": "10379",
                                    "1": "61",
                                    "2": "44",
                                    "3": "11.17"
                                },
                                {
                                    "0": "10421",
                                    "1": "61",
                                    "2": "59",
                                    "3": "14.97"
                                },
                                {
                                    "0": "10587",
                                    "1": "61",
                                    "2": "46",
                                    "3": "11.68"
                                },
                                {
                                    "0": "10647",
                                    "1": "61",
                                    "2": "50",
                                    "3": "12.69"
                                },
                                {
                                    "0": "10720",
                                    "1": "61",
                                    "2": "29",
                                    "3": "7.36"
                                },
                                {
                                    "0": "10794",
                                    "1": "61",
                                    "2": "21",
                                    "3": "5.33"
                                },
                                {
                                    "0": "10989",
                                    "1": "61",
                                    "2": "59",
                                    "3": "14.97"
                                },
                                {
                                    "0": "10372",
                                    "1": "62",
                                    "2": "164",
                                    "3": "15.91"
                                },
                                {
                                    "0": "10406",
                                    "1": "62",
                                    "2": "89",
                                    "3": "8.63"
                                },
                                {
                                    "0": "10487",
                                    "1": "62",
                                    "2": "59",
                                    "3": "5.72"
                                },
                                {
                                    "0": "10637",
                                    "1": "62",
                                    "2": "95",
                                    "3": "9.21"
                                },
                                {
                                    "0": "10659",
                                    "1": "62",
                                    "2": "84",
                                    "3": "8.15"
                                },
                                {
                                    "0": "10704",
                                    "1": "62",
                                    "2": "65",
                                    "3": "6.30"
                                },
                                {
                                    "0": "10728",
                                    "1": "62",
                                    "2": "48",
                                    "3": "4.66"
                                },
                                {
                                    "0": "10786",
                                    "1": "62",
                                    "2": "87",
                                    "3": "8.44"
                                },
                                {
                                    "0": "10868",
                                    "1": "62",
                                    "2": "92",
                                    "3": "8.92"
                                },
                                {
                                    "0": "10913",
                                    "1": "62",
                                    "2": "85",
                                    "3": "8.24"
                                },
                                {
                                    "0": "10914",
                                    "1": "62",
                                    "2": "25",
                                    "3": "2.42"
                                },
                                {
                                    "0": "10961",
                                    "1": "62",
                                    "2": "66",
                                    "3": "6.40"
                                },
                                {
                                    "0": "11068",
                                    "1": "62",
                                    "2": "72",
                                    "3": "6.98"
                                },
                                {
                                    "0": "10273",
                                    "1": "63",
                                    "2": "152",
                                    "3": "3.84"
                                },
                                {
                                    "0": "10285",
                                    "1": "63",
                                    "2": "121",
                                    "3": "3.05"
                                },
                                {
                                    "0": "10286",
                                    "1": "63",
                                    "2": "140",
                                    "3": "3.53"
                                },
                                {
                                    "0": "10313",
                                    "1": "63",
                                    "2": "12",
                                    "3": "0.30"
                                },
                                {
                                    "0": "10345",
                                    "1": "63",
                                    "2": "159",
                                    "3": "4.01"
                                },
                                {
                                    "0": "10361",
                                    "1": "63",
                                    "2": "109",
                                    "3": "2.75"
                                },
                                {
                                    "0": "10418",
                                    "1": "63",
                                    "2": "146",
                                    "3": "3.69"
                                },
                                {
                                    "0": "10451",
                                    "1": "63",
                                    "2": "238",
                                    "3": "6.01"
                                },
                                {
                                    "0": "10515",
                                    "1": "63",
                                    "2": "286",
                                    "3": "7.22"
                                },
                                {
                                    "0": "10527",
                                    "1": "63",
                                    "2": "80",
                                    "3": "2.02"
                                },
                                {
                                    "0": "10540",
                                    "1": "63",
                                    "2": "165",
                                    "3": "4.17"
                                },
                                {
                                    "0": "10549",
                                    "1": "63",
                                    "2": "203",
                                    "3": "5.12"
                                },
                                {
                                    "0": "10588",
                                    "1": "63",
                                    "2": "140",
                                    "3": "3.53"
                                },
                                {
                                    "0": "10658",
                                    "1": "63",
                                    "2": "255",
                                    "3": "6.44"
                                },
                                {
                                    "0": "10691",
                                    "1": "63",
                                    "2": "182",
                                    "3": "4.59"
                                },
                                {
                                    "0": "10694",
                                    "1": "63",
                                    "2": "165",
                                    "3": "4.17"
                                },
                                {
                                    "0": "10721",
                                    "1": "63",
                                    "2": "50",
                                    "3": "1.26"
                                },
                                {
                                    "0": "10745",
                                    "1": "63",
                                    "2": "92",
                                    "3": "2.32"
                                },
                                {
                                    "0": "10765",
                                    "1": "63",
                                    "2": "80",
                                    "3": "2.02"
                                },
                                {
                                    "0": "10788",
                                    "1": "63",
                                    "2": "90",
                                    "3": "2.27"
                                },
                                {
                                    "0": "10845",
                                    "1": "63",
                                    "2": "245",
                                    "3": "6.19"
                                },
                                {
                                    "0": "10865",
                                    "1": "63",
                                    "2": "140",
                                    "3": "3.53"
                                },
                                {
                                    "0": "10878",
                                    "1": "63",
                                    "2": "20",
                                    "3": "0.50"
                                },
                                {
                                    "0": "10938",
                                    "1": "63",
                                    "2": "128",
                                    "3": "3.23"
                                },
                                {
                                    "0": "10962",
                                    "1": "63",
                                    "2": "195",
                                    "3": "4.92"
                                },
                                {
                                    "0": "10991",
                                    "1": "63",
                                    "2": "160",
                                    "3": "4.04"
                                },
                                {
                                    "0": "10996",
                                    "1": "63",
                                    "2": "40",
                                    "3": "1.01"
                                },
                                {
                                    "0": "11021",
                                    "1": "63",
                                    "2": "168",
                                    "3": "4.24"
                                },
                                {
                                    "0": "10448",
                                    "1": "64",
                                    "2": "26",
                                    "3": "28.26"
                                },
                                {
                                    "0": "10716",
                                    "1": "64",
                                    "2": "22",
                                    "3": "23.91"
                                },
                                {
                                    "0": "10828",
                                    "1": "64",
                                    "2": "7",
                                    "3": "7.61"
                                },
                                {
                                    "0": "10916",
                                    "1": "64",
                                    "2": "32",
                                    "3": "34.78"
                                },
                                {
                                    "0": "11019",
                                    "1": "64",
                                    "2": "5",
                                    "3": "5.43"
                                },
                                {
                                    "0": "10262",
                                    "1": "65",
                                    "2": "29",
                                    "3": "2.10"
                                },
                                {
                                    "0": "10272",
                                    "1": "65",
                                    "2": "70",
                                    "3": "5.06"
                                },
                                {
                                    "0": "10294",
                                    "1": "65",
                                    "2": "75",
                                    "3": "5.42"
                                },
                                {
                                    "0": "10314",
                                    "1": "65",
                                    "2": "95",
                                    "3": "6.87"
                                },
                                {
                                    "0": "10316",
                                    "1": "65",
                                    "2": "80",
                                    "3": "5.78"
                                },
                                {
                                    "0": "10346",
                                    "1": "65",
                                    "2": "56",
                                    "3": "4.05"
                                },
                                {
                                    "0": "10401",
                                    "1": "65",
                                    "2": "168",
                                    "3": "12.15"
                                },
                                {
                                    "0": "10479",
                                    "1": "65",
                                    "2": "148",
                                    "3": "10.70"
                                },
                                {
                                    "0": "10564",
                                    "1": "65",
                                    "2": "47",
                                    "3": "3.40"
                                },
                                {
                                    "0": "10569",
                                    "1": "65",
                                    "2": "65",
                                    "3": "4.70"
                                },
                                {
                                    "0": "10598",
                                    "1": "65",
                                    "2": "59",
                                    "3": "4.27"
                                },
                                {
                                    "0": "10761",
                                    "1": "65",
                                    "2": "53",
                                    "3": "3.83"
                                },
                                {
                                    "0": "10820",
                                    "1": "65",
                                    "2": "30",
                                    "3": "2.17"
                                },
                                {
                                    "0": "10852",
                                    "1": "65",
                                    "2": "71",
                                    "3": "5.13"
                                },
                                {
                                    "0": "10889",
                                    "1": "65",
                                    "2": "80",
                                    "3": "5.78"
                                },
                                {
                                    "0": "10988",
                                    "1": "65",
                                    "2": "100",
                                    "3": "7.23"
                                },
                                {
                                    "0": "11000",
                                    "1": "65",
                                    "2": "85",
                                    "3": "6.15"
                                },
                                {
                                    "0": "11077",
                                    "1": "65",
                                    "2": "72",
                                    "3": "5.21"
                                },
                                {
                                    "0": "10288",
                                    "1": "66",
                                    "2": "13",
                                    "3": "3.88"
                                },
                                {
                                    "0": "10428",
                                    "1": "66",
                                    "2": "20",
                                    "3": "5.97"
                                },
                                {
                                    "0": "10443",
                                    "1": "66",
                                    "2": "18",
                                    "3": "5.37"
                                },
                                {
                                    "0": "10562",
                                    "1": "66",
                                    "2": "30",
                                    "3": "8.96"
                                },
                                {
                                    "0": "10586",
                                    "1": "66",
                                    "2": "4",
                                    "3": "1.19"
                                },
                                {
                                    "0": "10655",
                                    "1": "66",
                                    "2": "20",
                                    "3": "5.97"
                                },
                                {
                                    "0": "10727",
                                    "1": "66",
                                    "2": "40",
                                    "3": "11.94"
                                },
                                {
                                    "0": "10812",
                                    "1": "66",
                                    "2": "76",
                                    "3": "22.69"
                                },
                                {
                                    "0": "10908",
                                    "1": "66",
                                    "2": "34",
                                    "3": "10.15"
                                },
                                {
                                    "0": "10942",
                                    "1": "66",
                                    "2": "28",
                                    "3": "8.36"
                                },
                                {
                                    "0": "11010",
                                    "1": "66",
                                    "2": "30",
                                    "3": "8.96"
                                },
                                {
                                    "0": "11062",
                                    "1": "66",
                                    "2": "22",
                                    "3": "6.57"
                                },
                                {
                                    "0": "10287",
                                    "1": "67",
                                    "2": "75",
                                    "3": "11.36"
                                },
                                {
                                    "0": "10299",
                                    "1": "67",
                                    "2": "35",
                                    "3": "5.30"
                                },
                                {
                                    "0": "10447",
                                    "1": "67",
                                    "2": "77",
                                    "3": "11.67"
                                },
                                {
                                    "0": "10481",
                                    "1": "67",
                                    "2": "64",
                                    "3": "9.70"
                                },
                                {
                                    "0": "10563",
                                    "1": "67",
                                    "2": "95",
                                    "3": "14.39"
                                },
                                {
                                    "0": "10622",
                                    "1": "67",
                                    "2": "38",
                                    "3": "5.76"
                                },
                                {
                                    "0": "10648",
                                    "1": "67",
                                    "2": "30",
                                    "3": "4.55"
                                },
                                {
                                    "0": "10813",
                                    "1": "67",
                                    "2": "47",
                                    "3": "7.12"
                                },
                                {
                                    "0": "10851",
                                    "1": "67",
                                    "2": "67",
                                    "3": "10.15"
                                },
                                {
                                    "0": "10877",
                                    "1": "67",
                                    "2": "55",
                                    "3": "8.33"
                                },
                                {
                                    "0": "11059",
                                    "1": "67",
                                    "2": "77",
                                    "3": "11.67"
                                },
                                {
                                    "0": "10255",
                                    "1": "68",
                                    "2": "110",
                                    "3": "13.58"
                                },
                                {
                                    "0": "10419",
                                    "1": "68",
                                    "2": "80",
                                    "3": "9.88"
                                },
                                {
                                    "0": "10537",
                                    "1": "68",
                                    "2": "86",
                                    "3": "10.62"
                                },
                                {
                                    "0": "10666",
                                    "1": "68",
                                    "2": "46",
                                    "3": "5.68"
                                },
                                {
                                    "0": "10751",
                                    "1": "68",
                                    "2": "77",
                                    "3": "9.51"
                                },
                                {
                                    "0": "10758",
                                    "1": "68",
                                    "2": "120",
                                    "3": "14.81"
                                },
                                {
                                    "0": "10931",
                                    "1": "68",
                                    "2": "72",
                                    "3": "8.89"
                                },
                                {
                                    "0": "10951",
                                    "1": "68",
                                    "2": "71",
                                    "3": "8.77"
                                },
                                {
                                    "0": "11033",
                                    "1": "68",
                                    "2": "106",
                                    "3": "13.09"
                                },
                                {
                                    "0": "11075",
                                    "1": "68",
                                    "2": "42",
                                    "3": "5.19"
                                },
                                {
                                    "0": "10281",
                                    "1": "69",
                                    "2": "11",
                                    "3": "12.09"
                                },
                                {
                                    "0": "10282",
                                    "1": "69",
                                    "2": "8",
                                    "3": "8.79"
                                },
                                {
                                    "0": "10306",
                                    "1": "69",
                                    "2": "25",
                                    "3": "27.47"
                                },
                                {
                                    "0": "10917",
                                    "1": "69",
                                    "2": "11",
                                    "3": "12.09"
                                },
                                {
                                    "0": "11013",
                                    "1": "69",
                                    "2": "36",
                                    "3": "39.56"
                                },
                                {
                                    "0": "10387",
                                    "1": "70",
                                    "2": "48",
                                    "3": "29.81"
                                },
                                {
                                    "0": "10520",
                                    "1": "70",
                                    "2": "13",
                                    "3": "8.07"
                                },
                                {
                                    "0": "10639",
                                    "1": "70",
                                    "2": "8",
                                    "3": "4.97"
                                },
                                {
                                    "0": "10831",
                                    "1": "70",
                                    "2": "27",
                                    "3": "16.77"
                                },
                                {
                                    "0": "10909",
                                    "1": "70",
                                    "2": "32",
                                    "3": "19.88"
                                },
                                {
                                    "0": "11015",
                                    "1": "70",
                                    "2": "33",
                                    "3": "20.50"
                                },
                                {
                                    "0": "10324",
                                    "1": "71",
                                    "2": "241",
                                    "3": "4.86"
                                },
                                {
                                    "0": "10393",
                                    "1": "71",
                                    "2": "176",
                                    "3": "3.55"
                                },
                                {
                                    "0": "10398",
                                    "1": "71",
                                    "2": "150",
                                    "3": "3.03"
                                },
                                {
                                    "0": "10440",
                                    "1": "71",
                                    "2": "208",
                                    "3": "4.20"
                                },
                                {
                                    "0": "10452",
                                    "1": "71",
                                    "2": "115",
                                    "3": "2.32"
                                },
                                {
                                    "0": "10510",
                                    "1": "71",
                                    "2": "72",
                                    "3": "1.45"
                                },
                                {
                                    "0": "10555",
                                    "1": "71",
                                    "2": "143",
                                    "3": "2.88"
                                },
                                {
                                    "0": "10603",
                                    "1": "71",
                                    "2": "73",
                                    "3": "1.47"
                                },
                                {
                                    "0": "10607",
                                    "1": "71",
                                    "2": "213",
                                    "3": "4.30"
                                },
                                {
                                    "0": "10612",
                                    "1": "71",
                                    "2": "263",
                                    "3": "5.30"
                                },
                                {
                                    "0": "10627",
                                    "1": "71",
                                    "2": "50",
                                    "3": "1.01"
                                },
                                {
                                    "0": "10657",
                                    "1": "71",
                                    "2": "204",
                                    "3": "4.11"
                                },
                                {
                                    "0": "10678",
                                    "1": "71",
                                    "2": "280",
                                    "3": "5.65"
                                },
                                {
                                    "0": "10700",
                                    "1": "71",
                                    "2": "117",
                                    "3": "2.36"
                                },
                                {
                                    "0": "10711",
                                    "1": "71",
                                    "2": "174",
                                    "3": "3.51"
                                },
                                {
                                    "0": "10713",
                                    "1": "71",
                                    "2": "182",
                                    "3": "3.67"
                                },
                                {
                                    "0": "10714",
                                    "1": "71",
                                    "2": "137",
                                    "3": "2.76"
                                },
                                {
                                    "0": "10722",
                                    "1": "71",
                                    "2": "140",
                                    "3": "2.82"
                                },
                                {
                                    "0": "10748",
                                    "1": "71",
                                    "2": "112",
                                    "3": "2.26"
                                },
                                {
                                    "0": "10757",
                                    "1": "71",
                                    "2": "91",
                                    "3": "1.84"
                                },
                                {
                                    "0": "10815",
                                    "1": "71",
                                    "2": "16",
                                    "3": "0.32"
                                },
                                {
                                    "0": "10847",
                                    "1": "71",
                                    "2": "288",
                                    "3": "5.81"
                                },
                                {
                                    "0": "10882",
                                    "1": "71",
                                    "2": "77",
                                    "3": "1.55"
                                },
                                {
                                    "0": "10894",
                                    "1": "71",
                                    "2": "198",
                                    "3": "3.99"
                                },
                                {
                                    "0": "10941",
                                    "1": "71",
                                    "2": "204",
                                    "3": "4.11"
                                },
                                {
                                    "0": "10983",
                                    "1": "71",
                                    "2": "99",
                                    "3": "2.00"
                                },
                                {
                                    "0": "10984",
                                    "1": "71",
                                    "2": "115",
                                    "3": "2.32"
                                },
                                {
                                    "0": "11002",
                                    "1": "71",
                                    "2": "135",
                                    "3": "2.72"
                                },
                                {
                                    "0": "11030",
                                    "1": "71",
                                    "2": "330",
                                    "3": "6.66"
                                },
                                {
                                    "0": "11031",
                                    "1": "71",
                                    "2": "182",
                                    "3": "3.67"
                                },
                                {
                                    "0": "11064",
                                    "1": "71",
                                    "2": "173",
                                    "3": "3.49"
                                },
                                {
                                    "0": "10359",
                                    "1": "72",
                                    "2": "206",
                                    "3": "25.18"
                                },
                                {
                                    "0": "10377",
                                    "1": "72",
                                    "2": "40",
                                    "3": "4.89"
                                },
                                {
                                    "0": "10388",
                                    "1": "72",
                                    "2": "75",
                                    "3": "9.17"
                                },
                                {
                                    "0": "10472",
                                    "1": "72",
                                    "2": "98",
                                    "3": "11.98"
                                },
                                {
                                    "0": "10523",
                                    "1": "72",
                                    "2": "64",
                                    "3": "7.82"
                                },
                                {
                                    "0": "10547",
                                    "1": "72",
                                    "2": "84",
                                    "3": "10.27"
                                },
                                {
                                    "0": "10800",
                                    "1": "72",
                                    "2": "67",
                                    "3": "8.19"
                                },
                                {
                                    "0": "10804",
                                    "1": "72",
                                    "2": "64",
                                    "3": "7.82"
                                },
                                {
                                    "0": "10869",
                                    "1": "72",
                                    "2": "120",
                                    "3": "14.67"
                                },
                                {
                                    "0": "10341",
                                    "1": "73",
                                    "2": "17",
                                    "3": "4.50"
                                },
                                {
                                    "0": "10417",
                                    "1": "73",
                                    "2": "123",
                                    "3": "32.54"
                                },
                                {
                                    "0": "10556",
                                    "1": "73",
                                    "2": "24",
                                    "3": "6.35"
                                },
                                {
                                    "0": "10642",
                                    "1": "73",
                                    "2": "50",
                                    "3": "13.23"
                                },
                                {
                                    "0": "10669",
                                    "1": "73",
                                    "2": "30",
                                    "3": "7.94"
                                },
                                {
                                    "0": "10802",
                                    "1": "73",
                                    "2": "120",
                                    "3": "31.75"
                                },
                                {
                                    "0": "11074",
                                    "1": "73",
                                    "2": "14",
                                    "3": "3.70"
                                },
                                {
                                    "0": "10738",
                                    "1": "74",
                                    "2": "3",
                                    "3": "6.25"
                                },
                                {
                                    "0": "10907",
                                    "1": "74",
                                    "2": "14",
                                    "3": "29.17"
                                },
                                {
                                    "0": "10964",
                                    "1": "74",
                                    "2": "21",
                                    "3": "43.75"
                                },
                                {
                                    "0": "11043",
                                    "1": "74",
                                    "2": "10",
                                    "3": "20.83"
                                },
                                {
                                    "0": "10271",
                                    "1": "75",
                                    "2": "24",
                                    "3": "7.34"
                                },
                                {
                                    "0": "10329",
                                    "1": "75",
                                    "2": "50",
                                    "3": "15.29"
                                },
                                {
                                    "0": "10349",
                                    "1": "75",
                                    "2": "24",
                                    "3": "7.34"
                                },
                                {
                                    "0": "10369",
                                    "1": "75",
                                    "2": "38",
                                    "3": "11.62"
                                },
                                {
                                    "0": "10385",
                                    "1": "75",
                                    "2": "38",
                                    "3": "11.62"
                                },
                                {
                                    "0": "10432",
                                    "1": "75",
                                    "2": "50",
                                    "3": "15.29"
                                },
                                {
                                    "0": "10756",
                                    "1": "75",
                                    "2": "67",
                                    "3": "20.49"
                                },
                                {
                                    "0": "10821",
                                    "1": "75",
                                    "2": "26",
                                    "3": "7.95"
                                },
                                {
                                    "0": "10974",
                                    "1": "75",
                                    "2": "10",
                                    "3": "3.06"
                                },
                                {
                                    "0": "10252",
                                    "1": "76",
                                    "2": "105",
                                    "3": "9.79"
                                },
                                {
                                    "0": "10302",
                                    "1": "76",
                                    "2": "80",
                                    "3": "7.46"
                                },
                                {
                                    "0": "10458",
                                    "1": "76",
                                    "2": "145",
                                    "3": "13.53"
                                },
                                {
                                    "0": "10463",
                                    "1": "76",
                                    "2": "71",
                                    "3": "6.62"
                                },
                                {
                                    "0": "10475",
                                    "1": "76",
                                    "2": "137",
                                    "3": "12.78"
                                },
                                {
                                    "0": "10767",
                                    "1": "76",
                                    "2": "2",
                                    "3": "0.19"
                                },
                                {
                                    "0": "10841",
                                    "1": "76",
                                    "2": "111",
                                    "3": "10.35"
                                },
                                {
                                    "0": "10846",
                                    "1": "76",
                                    "2": "71",
                                    "3": "6.62"
                                },
                                {
                                    "0": "10885",
                                    "1": "76",
                                    "2": "87",
                                    "3": "8.12"
                                },
                                {
                                    "0": "10930",
                                    "1": "76",
                                    "2": "116",
                                    "3": "10.82"
                                },
                                {
                                    "0": "11035",
                                    "1": "76",
                                    "2": "110",
                                    "3": "10.26"
                                },
                                {
                                    "0": "11038",
                                    "1": "76",
                                    "2": "37",
                                    "3": "3.45"
                                },
                                {
                                    "0": "10310",
                                    "1": "77",
                                    "2": "15",
                                    "3": "32.61"
                                },
                                {
                                    "0": "10708",
                                    "1": "77",
                                    "2": "9",
                                    "3": "19.57"
                                },
                                {
                                    "0": "10805",
                                    "1": "77",
                                    "2": "20",
                                    "3": "43.48"
                                },
                                {
                                    "0": "10992",
                                    "1": "77",
                                    "2": "2",
                                    "3": "4.35"
                                },
                                {
                                    "0": "10624",
                                    "1": "78",
                                    "2": "26",
                                    "3": "44.07"
                                },
                                {
                                    "0": "10775",
                                    "1": "78",
                                    "2": "9",
                                    "3": "15.25"
                                },
                                {
                                    "0": "11003",
                                    "1": "78",
                                    "2": "24",
                                    "3": "40.68"
                                },
                                {
                                    "0": "10249",
                                    "1": "79",
                                    "2": "49",
                                    "3": "19.37"
                                },
                                {
                                    "0": "10438",
                                    "1": "79",
                                    "2": "50",
                                    "3": "19.76"
                                },
                                {
                                    "0": "10446",
                                    "1": "79",
                                    "2": "50",
                                    "3": "19.76"
                                },
                                {
                                    "0": "10548",
                                    "1": "79",
                                    "2": "24",
                                    "3": "9.49"
                                },
                                {
                                    "0": "10608",
                                    "1": "79",
                                    "2": "28",
                                    "3": "11.07"
                                },
                                {
                                    "0": "10967",
                                    "1": "79",
                                    "2": "52",
                                    "3": "20.55"
                                },
                                {
                                    "0": "10276",
                                    "1": "80",
                                    "2": "25",
                                    "3": "6.51"
                                },
                                {
                                    "0": "10293",
                                    "1": "80",
                                    "2": "33",
                                    "3": "8.59"
                                },
                                {
                                    "0": "10304",
                                    "1": "80",
                                    "2": "42",
                                    "3": "10.94"
                                },
                                {
                                    "0": "10319",
                                    "1": "80",
                                    "2": "52",
                                    "3": "13.54"
                                },
                                {
                                    "0": "10518",
                                    "1": "80",
                                    "2": "29",
                                    "3": "7.55"
                                },
                                {
                                    "0": "10576",
                                    "1": "80",
                                    "2": "51",
                                    "3": "13.28"
                                },
                                {
                                    "0": "10676",
                                    "1": "80",
                                    "2": "30",
                                    "3": "7.81"
                                },
                                {
                                    "0": "10842",
                                    "1": "80",
                                    "2": "52",
                                    "3": "13.54"
                                },
                                {
                                    "0": "10915",
                                    "1": "80",
                                    "2": "50",
                                    "3": "13.02"
                                },
                                {
                                    "0": "11069",
                                    "1": "80",
                                    "2": "20",
                                    "3": "5.21"
                                },
                                {
                                    "0": "10292",
                                    "1": "81",
                                    "2": "20",
                                    "3": "7.97"
                                },
                                {
                                    "0": "10496",
                                    "1": "81",
                                    "2": "20",
                                    "3": "7.97"
                                },
                                {
                                    "0": "10606",
                                    "1": "81",
                                    "2": "50",
                                    "3": "19.92"
                                },
                                {
                                    "0": "10830",
                                    "1": "81",
                                    "2": "88",
                                    "3": "35.06"
                                },
                                {
                                    "0": "10834",
                                    "1": "81",
                                    "2": "28",
                                    "3": "11.16"
                                },
                                {
                                    "0": "10839",
                                    "1": "81",
                                    "2": "45",
                                    "3": "17.93"
                                },
                                {
                                    "0": "10574",
                                    "1": "82",
                                    "2": "32",
                                    "3": "35.96"
                                },
                                {
                                    "0": "10577",
                                    "1": "82",
                                    "2": "48",
                                    "3": "53.93"
                                },
                                {
                                    "0": "10822",
                                    "1": "82",
                                    "2": "9",
                                    "3": "10.11"
                                },
                                {
                                    "0": "10367",
                                    "1": "83",
                                    "2": "76",
                                    "3": "9.60"
                                },
                                {
                                    "0": "10399",
                                    "1": "83",
                                    "2": "139",
                                    "3": "17.55"
                                },
                                {
                                    "0": "10465",
                                    "1": "83",
                                    "2": "118",
                                    "3": "14.90"
                                },
                                {
                                    "0": "10591",
                                    "1": "83",
                                    "2": "74",
                                    "3": "9.34"
                                },
                                {
                                    "0": "10602",
                                    "1": "83",
                                    "2": "5",
                                    "3": "0.63"
                                },
                                {
                                    "0": "10688",
                                    "1": "83",
                                    "2": "92",
                                    "3": "11.62"
                                },
                                {
                                    "0": "10744",
                                    "1": "83",
                                    "2": "50",
                                    "3": "6.31"
                                },
                                {
                                    "0": "10769",
                                    "1": "83",
                                    "2": "80",
                                    "3": "10.10"
                                },
                                {
                                    "0": "10921",
                                    "1": "83",
                                    "2": "50",
                                    "3": "6.31"
                                },
                                {
                                    "0": "10946",
                                    "1": "83",
                                    "2": "90",
                                    "3": "11.36"
                                },
                                {
                                    "0": "10994",
                                    "1": "83",
                                    "2": "18",
                                    "3": "2.27"
                                },
                                {
                                    "0": "10251",
                                    "1": "84",
                                    "2": "41",
                                    "3": "9.45"
                                },
                                {
                                    "0": "10334",
                                    "1": "84",
                                    "2": "18",
                                    "3": "4.15"
                                },
                                {
                                    "0": "10450",
                                    "1": "84",
                                    "2": "26",
                                    "3": "5.99"
                                },
                                {
                                    "0": "10459",
                                    "1": "84",
                                    "2": "76",
                                    "3": "17.51"
                                },
                                {
                                    "0": "10478",
                                    "1": "84",
                                    "2": "20",
                                    "3": "4.61"
                                },
                                {
                                    "0": "10546",
                                    "1": "84",
                                    "2": "80",
                                    "3": "18.43"
                                },
                                {
                                    "0": "10806",
                                    "1": "84",
                                    "2": "37",
                                    "3": "8.53"
                                },
                                {
                                    "0": "10814",
                                    "1": "84",
                                    "2": "78",
                                    "3": "17.97"
                                },
                                {
                                    "0": "10843",
                                    "1": "84",
                                    "2": "4",
                                    "3": "0.92"
                                },
                                {
                                    "0": "10850",
                                    "1": "84",
                                    "2": "54",
                                    "3": "12.44"
                                },
                                {
                                    "0": "10248",
                                    "1": "85",
                                    "2": "27",
                                    "3": "27.55"
                                },
                                {
                                    "0": "10274",
                                    "1": "85",
                                    "2": "27",
                                    "3": "27.55"
                                },
                                {
                                    "0": "10295",
                                    "1": "85",
                                    "2": "4",
                                    "3": "4.08"
                                },
                                {
                                    "0": "10737",
                                    "1": "85",
                                    "2": "16",
                                    "3": "16.33"
                                },
                                {
                                    "0": "10739",
                                    "1": "85",
                                    "2": "24",
                                    "3": "24.49"
                                },
                                {
                                    "0": "10301",
                                    "1": "86",
                                    "2": "30",
                                    "3": "6.10"
                                },
                                {
                                    "0": "10312",
                                    "1": "86",
                                    "2": "58",
                                    "3": "11.79"
                                },
                                {
                                    "0": "10348",
                                    "1": "86",
                                    "2": "40",
                                    "3": "8.13"
                                },
                                {
                                    "0": "10356",
                                    "1": "86",
                                    "2": "62",
                                    "3": "12.60"
                                },
                                {
                                    "0": "10513",
                                    "1": "86",
                                    "2": "105",
                                    "3": "21.34"
                                },
                                {
                                    "0": "10632",
                                    "1": "86",
                                    "2": "50",
                                    "3": "10.16"
                                },
                                {
                                    "0": "10640",
                                    "1": "86",
                                    "2": "35",
                                    "3": "7.11"
                                },
                                {
                                    "0": "10651",
                                    "1": "86",
                                    "2": "32",
                                    "3": "6.50"
                                },
                                {
                                    "0": "10668",
                                    "1": "86",
                                    "2": "27",
                                    "3": "5.49"
                                },
                                {
                                    "0": "11046",
                                    "1": "86",
                                    "2": "53",
                                    "3": "10.77"
                                },
                                {
                                    "0": "10266",
                                    "1": "87",
                                    "2": "12",
                                    "3": "1.63"
                                },
                                {
                                    "0": "10270",
                                    "1": "87",
                                    "2": "55",
                                    "3": "7.46"
                                },
                                {
                                    "0": "10320",
                                    "1": "87",
                                    "2": "30",
                                    "3": "4.07"
                                },
                                {
                                    "0": "10333",
                                    "1": "87",
                                    "2": "60",
                                    "3": "8.14"
                                },
                                {
                                    "0": "10412",
                                    "1": "87",
                                    "2": "20",
                                    "3": "2.71"
                                },
                                {
                                    "0": "10416",
                                    "1": "87",
                                    "2": "50",
                                    "3": "6.78"
                                },
                                {
                                    "0": "10437",
                                    "1": "87",
                                    "2": "15",
                                    "3": "2.04"
                                },
                                {
                                    "0": "10455",
                                    "1": "87",
                                    "2": "125",
                                    "3": "16.96"
                                },
                                {
                                    "0": "10526",
                                    "1": "87",
                                    "2": "48",
                                    "3": "6.51"
                                },
                                {
                                    "0": "10553",
                                    "1": "87",
                                    "2": "89",
                                    "3": "12.08"
                                },
                                {
                                    "0": "10583",
                                    "1": "87",
                                    "2": "44",
                                    "3": "5.97"
                                },
                                {
                                    "0": "10636",
                                    "1": "87",
                                    "2": "31",
                                    "3": "4.21"
                                },
                                {
                                    "0": "10750",
                                    "1": "87",
                                    "2": "70",
                                    "3": "9.50"
                                },
                                {
                                    "0": "10781",
                                    "1": "87",
                                    "2": "58",
                                    "3": "7.87"
                                },
                                {
                                    "0": "11025",
                                    "1": "87",
                                    "2": "30",
                                    "3": "4.07"
                                },
                                {
                                    "0": "10256",
                                    "1": "88",
                                    "2": "27",
                                    "3": "10.11"
                                },
                                {
                                    "0": "10420",
                                    "1": "88",
                                    "2": "50",
                                    "3": "18.73"
                                },
                                {
                                    "0": "10585",
                                    "1": "88",
                                    "2": "15",
                                    "3": "5.62"
                                },
                                {
                                    "0": "10644",
                                    "1": "88",
                                    "2": "45",
                                    "3": "16.85"
                                },
                                {
                                    "0": "10803",
                                    "1": "88",
                                    "2": "54",
                                    "3": "20.22"
                                },
                                {
                                    "0": "10809",
                                    "1": "88",
                                    "2": "20",
                                    "3": "7.49"
                                },
                                {
                                    "0": "10900",
                                    "1": "88",
                                    "2": "3",
                                    "3": "1.12"
                                },
                                {
                                    "0": "10905",
                                    "1": "88",
                                    "2": "20",
                                    "3": "7.49"
                                },
                                {
                                    "0": "10935",
                                    "1": "88",
                                    "2": "33",
                                    "3": "12.36"
                                },
                                {
                                    "0": "10269",
                                    "1": "89",
                                    "2": "80",
                                    "3": "7.53"
                                },
                                {
                                    "0": "10344",
                                    "1": "89",
                                    "2": "105",
                                    "3": "9.88"
                                },
                                {
                                    "0": "10469",
                                    "1": "89",
                                    "2": "77",
                                    "3": "7.24"
                                },
                                {
                                    "0": "10483",
                                    "1": "89",
                                    "2": "65",
                                    "3": "6.11"
                                },
                                {
                                    "0": "10504",
                                    "1": "89",
                                    "2": "59",
                                    "3": "5.55"
                                },
                                {
                                    "0": "10596",
                                    "1": "89",
                                    "2": "59",
                                    "3": "5.55"
                                },
                                {
                                    "0": "10693",
                                    "1": "89",
                                    "2": "111",
                                    "3": "10.44"
                                },
                                {
                                    "0": "10696",
                                    "1": "89",
                                    "2": "38",
                                    "3": "3.57"
                                },
                                {
                                    "0": "10723",
                                    "1": "89",
                                    "2": "15",
                                    "3": "1.41"
                                },
                                {
                                    "0": "10740",
                                    "1": "89",
                                    "2": "94",
                                    "3": "8.84"
                                },
                                {
                                    "0": "10861",
                                    "1": "89",
                                    "2": "140",
                                    "3": "13.17"
                                },
                                {
                                    "0": "10904",
                                    "1": "89",
                                    "2": "50",
                                    "3": "4.70"
                                },
                                {
                                    "0": "11032",
                                    "1": "89",
                                    "2": "90",
                                    "3": "8.47"
                                },
                                {
                                    "0": "11066",
                                    "1": "89",
                                    "2": "80",
                                    "3": "7.53"
                                },
                                {
                                    "0": "10615",
                                    "1": "90",
                                    "2": "5",
                                    "3": "3.38"
                                },
                                {
                                    "0": "10673",
                                    "1": "90",
                                    "2": "15",
                                    "3": "10.14"
                                },
                                {
                                    "0": "10695",
                                    "1": "90",
                                    "2": "34",
                                    "3": "22.97"
                                },
                                {
                                    "0": "10873",
                                    "1": "90",
                                    "2": "23",
                                    "3": "15.54"
                                },
                                {
                                    "0": "10879",
                                    "1": "90",
                                    "2": "32",
                                    "3": "21.62"
                                },
                                {
                                    "0": "10910",
                                    "1": "90",
                                    "2": "27",
                                    "3": "18.24"
                                },
                                {
                                    "0": "11005",
                                    "1": "90",
                                    "2": "12",
                                    "3": "8.11"
                                },
                                {
                                    "0": "10374",
                                    "1": "91",
                                    "2": "45",
                                    "3": "21.95"
                                },
                                {
                                    "0": "10611",
                                    "1": "91",
                                    "2": "31",
                                    "3": "15.12"
                                },
                                {
                                    "0": "10792",
                                    "1": "91",
                                    "2": "28",
                                    "3": "13.66"
                                },
                                {
                                    "0": "10870",
                                    "1": "91",
                                    "2": "5",
                                    "3": "2.44"
                                },
                                {
                                    "0": "10906",
                                    "1": "91",
                                    "2": "15",
                                    "3": "7.32"
                                },
                                {
                                    "0": "10998",
                                    "1": "91",
                                    "2": "69",
                                    "3": "33.66"
                                },
                                {
                                    "0": "11044",
                                    "1": "91",
                                    "2": "12",
                                    "3": "5.85"
                                }
                            ]
                        },
                        "text/html": [
                            "<table>",
                            "<tr><th>OrderId</th><th>CustomerId</th><th>TotalQuantity</th><th>pct</th></tr>",
                            "<tr><td>10643</td><td>1</td><td>38</td><td>21.84</td></tr>",
                            "<tr><td>10692</td><td>1</td><td>20</td><td>11.49</td></tr>",
                            "<tr><td>10702</td><td>1</td><td>21</td><td>12.07</td></tr>",
                            "<tr><td>10835</td><td>1</td><td>17</td><td>9.77</td></tr>",
                            "<tr><td>10952</td><td>1</td><td>18</td><td>10.34</td></tr>",
                            "<tr><td>11011</td><td>1</td><td>60</td><td>34.48</td></tr>",
                            "<tr><td>10308</td><td>2</td><td>6</td><td>9.52</td></tr>",
                            "<tr><td>10625</td><td>2</td><td>18</td><td>28.57</td></tr>",
                            "<tr><td>10759</td><td>2</td><td>10</td><td>15.87</td></tr>",
                            "<tr><td>10926</td><td>2</td><td>29</td><td>46.03</td></tr>",
                            "<tr><td>10365</td><td>3</td><td>24</td><td>6.69</td></tr>",
                            "<tr><td>10507</td><td>3</td><td>30</td><td>8.36</td></tr>",
                            "<tr><td>10535</td><td>3</td><td>80</td><td>22.28</td></tr>",
                            "<tr><td>10573</td><td>3</td><td>83</td><td>23.12</td></tr>",
                            "<tr><td>10677</td><td>3</td><td>38</td><td>10.58</td></tr>",
                            "<tr><td>10682</td><td>3</td><td>64</td><td>17.83</td></tr>",
                            "<tr><td>10856</td><td>3</td><td>40</td><td>11.14</td></tr>",
                            "<tr><td>10355</td><td>4</td><td>50</td><td>7.69</td></tr>",
                            "<tr><td>10383</td><td>4</td><td>55</td><td>8.46</td></tr>",
                            "<tr><td>10453</td><td>4</td><td>40</td><td>6.15</td></tr>",
                            "<tr><td>10558</td><td>4</td><td>96</td><td>14.77</td></tr>",
                            "<tr><td>10707</td><td>4</td><td>89</td><td>13.69</td></tr>",
                            "<tr><td>10741</td><td>4</td><td>15</td><td>2.31</td></tr>",
                            "<tr><td>10743</td><td>4</td><td>28</td><td>4.31</td></tr>",
                            "<tr><td>10768</td><td>4</td><td>81</td><td>12.46</td></tr>",
                            "<tr><td>10793</td><td>4</td><td>22</td><td>3.38</td></tr>",
                            "<tr><td>10864</td><td>4</td><td>19</td><td>2.92</td></tr>",
                            "<tr><td>10920</td><td>4</td><td>24</td><td>3.69</td></tr>",
                            "<tr><td>10953</td><td>4</td><td>100</td><td>15.38</td></tr>",
                            "<tr><td>11016</td><td>4</td><td>31</td><td>4.77</td></tr>",
                            "<tr><td>10278</td><td>5</td><td>64</td><td>6.39</td></tr>",
                            "<tr><td>10280</td><td>5</td><td>62</td><td>6.19</td></tr>",
                            "<tr><td>10384</td><td>5</td><td>43</td><td>4.30</td></tr>",
                            "<tr><td>10444</td><td>5</td><td>63</td><td>6.29</td></tr>",
                            "<tr><td>10445</td><td>5</td><td>21</td><td>2.10</td></tr>",
                            "<tr><td>10524</td><td>5</td><td>87</td><td>8.69</td></tr>",
                            "<tr><td>10572</td><td>5</td><td>87</td><td>8.69</td></tr>",
                            "<tr><td>10626</td><td>5</td><td>52</td><td>5.19</td></tr>",
                            "<tr><td>10654</td><td>5</td><td>38</td><td>3.80</td></tr>",
                            "<tr><td>10672</td><td>5</td><td>27</td><td>2.70</td></tr>",
                            "<tr><td>10689</td><td>5</td><td>35</td><td>3.50</td></tr>",
                            "<tr><td>10733</td><td>5</td><td>61</td><td>6.09</td></tr>",
                            "<tr><td>10778</td><td>5</td><td>10</td><td>1.00</td></tr>",
                            "<tr><td>10837</td><td>5</td><td>92</td><td>9.19</td></tr>",
                            "<tr><td>10857</td><td>5</td><td>75</td><td>7.49</td></tr>",
                            "<tr><td>10866</td><td>5</td><td>67</td><td>6.69</td></tr>",
                            "<tr><td>10875</td><td>5</td><td>61</td><td>6.09</td></tr>",
                            "<tr><td>10924</td><td>5</td><td>56</td><td>5.59</td></tr>",
                            "<tr><td>10501</td><td>6</td><td>20</td><td>14.29</td></tr>",
                            "<tr><td>10509</td><td>6</td><td>3</td><td>2.14</td></tr>",
                            "<tr><td>10582</td><td>6</td><td>18</td><td>12.86</td></tr>",
                            "<tr><td>10614</td><td>6</td><td>27</td><td>19.29</td></tr>",
                            "<tr><td>10853</td><td>6</td><td>10</td><td>7.14</td></tr>",
                            "<tr><td>10956</td><td>6</td><td>34</td><td>24.29</td></tr>",
                            "<tr><td>11058</td><td>6</td><td>28</td><td>20.00</td></tr>",
                            "<tr><td>10265</td><td>7</td><td>50</td><td>7.51</td></tr>",
                            "<tr><td>10297</td><td>7</td><td>80</td><td>12.01</td></tr>",
                            "<tr><td>10360</td><td>7</td><td>138</td><td>20.72</td></tr>",
                            "<tr><td>10436</td><td>7</td><td>99</td><td>14.86</td></tr>",
                            "<tr><td>10449</td><td>7</td><td>69</td><td>10.36</td></tr>",
                            "<tr><td>10559</td><td>7</td><td>30</td><td>4.50</td></tr>",
                            "<tr><td>10566</td><td>7</td><td>63</td><td>9.46</td></tr>",
                            "<tr><td>10584</td><td>7</td><td>50</td><td>7.51</td></tr>",
                            "<tr><td>10628</td><td>7</td><td>25</td><td>3.75</td></tr>",
                            "<tr><td>10679</td><td>7</td><td>12</td><td>1.80</td></tr>",
                            "<tr><td>10826</td><td>7</td><td>50</td><td>7.51</td></tr>",
                            "<tr><td>10326</td><td>8</td><td>90</td><td>47.37</td></tr>",
                            "<tr><td>10801</td><td>8</td><td>60</td><td>31.58</td></tr>",
                            "<tr><td>10970</td><td>8</td><td>40</td><td>21.05</td></tr>",
                            "<tr><td>10331</td><td>9</td><td>15</td><td>1.53</td></tr>",
                            "<tr><td>10340</td><td>9</td><td>72</td><td>7.35</td></tr>",
                            "<tr><td>10362</td><td>9</td><td>94</td><td>9.59</td></tr>",
                            "<tr><td>10470</td><td>9</td><td>53</td><td>5.41</td></tr>",
                            "<tr><td>10511</td><td>9</td><td>110</td><td>11.22</td></tr>",
                            "<tr><td>10525</td><td>9</td><td>45</td><td>4.59</td></tr>",
                            "<tr><td>10663</td><td>9</td><td>80</td><td>8.16</td></tr>",
                            "<tr><td>10715</td><td>9</td><td>51</td><td>5.20</td></tr>",
                            "<tr><td>10730</td><td>9</td><td>28</td><td>2.86</td></tr>",
                            "<tr><td>10732</td><td>9</td><td>20</td><td>2.04</td></tr>",
                            "<tr><td>10755</td><td>9</td><td>99</td><td>10.10</td></tr>",
                            "<tr><td>10827</td><td>9</td><td>36</td><td>3.67</td></tr>",
                            "<tr><td>10871</td><td>9</td><td>78</td><td>7.96</td></tr>",
                            "<tr><td>10876</td><td>9</td><td>41</td><td>4.18</td></tr>",
                            "<tr><td>10932</td><td>9</td><td>80</td><td>8.16</td></tr>",
                            "<tr><td>10940</td><td>9</td><td>28</td><td>2.86</td></tr>",
                            "<tr><td>11076</td><td>9</td><td>50</td><td>5.10</td></tr>",
                            "<tr><td>10389</td><td>10</td><td>81</td><td>8.47</td></tr>",
                            "<tr><td>10410</td><td>10</td><td>65</td><td>6.80</td></tr>",
                            "<tr><td>10411</td><td>10</td><td>74</td><td>7.74</td></tr>",
                            "<tr><td>10431</td><td>10</td><td>130</td><td>13.60</td></tr>",
                            "<tr><td>10492</td><td>10</td><td>80</td><td>8.37</td></tr>",
                            "<tr><td>10742</td><td>10</td><td>105</td><td>10.98</td></tr>",
                            "<tr><td>10918</td><td>10</td><td>85</td><td>8.89</td></tr>",
                            "<tr><td>10944</td><td>10</td><td>41</td><td>4.29</td></tr>",
                            "<tr><td>10949</td><td>10</td><td>108</td><td>11.30</td></tr>",
                            "<tr><td>10975</td><td>10</td><td>26</td><td>2.72</td></tr>",
                            "<tr><td>10982</td><td>10</td><td>29</td><td>3.03</td></tr>",
                            "<tr><td>11027</td><td>10</td><td>51</td><td>5.33</td></tr>",
                            "<tr><td>11045</td><td>10</td><td>39</td><td>4.08</td></tr>",
                            "<tr><td>11048</td><td>10</td><td>42</td><td>4.39</td></tr>",
                            "<tr><td>10289</td><td>11</td><td>39</td><td>13.31</td></tr>",
                            "<tr><td>10471</td><td>11</td><td>50</td><td>17.06</td></tr>",
                            "<tr><td>10484</td><td>11</td><td>27</td><td>9.22</td></tr>",
                            "<tr><td>10538</td><td>11</td><td>8</td><td>2.73</td></tr>",
                            "<tr><td>10539</td><td>11</td><td>44</td><td>15.02</td></tr>",
                            "<tr><td>10578</td><td>11</td><td>26</td><td>8.87</td></tr>",
                            "<tr><td>10599</td><td>11</td><td>10</td><td>3.41</td></tr>",
                            "<tr><td>10943</td><td>11</td><td>51</td><td>17.41</td></tr>",
                            "<tr><td>10947</td><td>11</td><td>4</td><td>1.37</td></tr>",
                            "<tr><td>11023</td><td>11</td><td>34</td><td>11.60</td></tr>",
                            "<tr><td>10521</td><td>12</td><td>19</td><td>16.52</td></tr>",
                            "<tr><td>10782</td><td>12</td><td>1</td><td>0.87</td></tr>",
                            "<tr><td>10819</td><td>12</td><td>27</td><td>23.48</td></tr>",
                            "<tr><td>10881</td><td>12</td><td>10</td><td>8.70</td></tr>",
                            "<tr><td>10937</td><td>12</td><td>28</td><td>24.35</td></tr>",
                            "<tr><td>11054</td><td>12</td><td>30</td><td>26.09</td></tr>",
                            "<tr><td>10259</td><td>13</td><td>11</td><td>100.00</td></tr>",
                            "<tr><td>10254</td><td>14</td><td>57</td><td>12.26</td></tr>",
                            "<tr><td>10370</td><td>14</td><td>65</td><td>13.98</td></tr>",
                            "<tr><td>10519</td><td>14</td><td>66</td><td>14.19</td></tr>",
                            "<tr><td>10731</td><td>14</td><td>70</td><td>15.05</td></tr>",
                            "<tr><td>10746</td><td>14</td><td>83</td><td>17.85</td></tr>",
                            "<tr><td>10966</td><td>14</td><td>32</td><td>6.88</td></tr>",
                            "<tr><td>11029</td><td>14</td><td>32</td><td>6.88</td></tr>",
                            "<tr><td>11041</td><td>14</td><td>60</td><td>12.90</td></tr>",
                            "<tr><td>10290</td><td>15</td><td>60</td><td>45.11</td></tr>",
                            "<tr><td>10466</td><td>15</td><td>15</td><td>11.28</td></tr>",
                            "<tr><td>10494</td><td>15</td><td>30</td><td>22.56</td></tr>",
                            "<tr><td>10969</td><td>15</td><td>9</td><td>6.77</td></tr>",
                            "<tr><td>11042</td><td>15</td><td>19</td><td>14.29</td></tr>",
                            "<tr><td>10435</td><td>16</td><td>32</td><td>36.78</td></tr>",
                            "<tr><td>10462</td><td>16</td><td>22</td><td>25.29</td></tr>",
                            "<tr><td>10848</td><td>16</td><td>33</td><td>37.93</td></tr>",
                            "<tr><td>10363</td><td>17</td><td>44</td><td>27.50</td></tr>",
                            "<tr><td>10391</td><td>17</td><td>18</td><td>11.25</td></tr>",
                            "<tr><td>10797</td><td>17</td><td>20</td><td>12.50</td></tr>",
                            "<tr><td>10825</td><td>17</td><td>32</td><td>20.00</td></tr>",
                            "<tr><td>11036</td><td>17</td><td>37</td><td>23.13</td></tr>",
                            "<tr><td>11067</td><td>17</td><td>9</td><td>5.63</td></tr>",
                            "<tr><td>10311</td><td>18</td><td>13</td><td>16.25</td></tr>",
                            "<tr><td>10609</td><td>18</td><td>19</td><td>23.75</td></tr>",
                            "<tr><td>10683</td><td>18</td><td>9</td><td>11.25</td></tr>",
                            "<tr><td>10890</td><td>18</td><td>39</td><td>48.75</td></tr>",
                            "<tr><td>10364</td><td>19</td><td>35</td><td>6.15</td></tr>",
                            "<tr><td>10400</td><td>19</td><td>86</td><td>15.11</td></tr>",
                            "<tr><td>10532</td><td>19</td><td>39</td><td>6.85</td></tr>",
                            "<tr><td>10726</td><td>19</td><td>30</td><td>5.27</td></tr>",
                            "<tr><td>10987</td><td>19</td><td>86</td><td>15.11</td></tr>",
                            "<tr><td>11024</td><td>19</td><td>113</td><td>19.86</td></tr>",
                            "<tr><td>11047</td><td>19</td><td>55</td><td>9.67</td></tr>",
                            "<tr><td>11056</td><td>19</td><td>125</td><td>21.97</td></tr>",
                            "<tr><td>10258</td><td>20</td><td>121</td><td>2.66</td></tr>",
                            "<tr><td>10263</td><td>20</td><td>184</td><td>4.05</td></tr>",
                            "<tr><td>10351</td><td>20</td><td>120</td><td>2.64</td></tr>",
                            "<tr><td>10368</td><td>20</td><td>78</td><td>1.72</td></tr>",
                            "<tr><td>10382</td><td>20</td><td>165</td><td>3.63</td></tr>",
                            "<tr><td>10390</td><td>20</td><td>169</td><td>3.72</td></tr>",
                            "<tr><td>10402</td><td>20</td><td>125</td><td>2.75</td></tr>",
                            "<tr><td>10403</td><td>20</td><td>91</td><td>2.00</td></tr>",
                            "<tr><td>10430</td><td>20</td><td>195</td><td>4.29</td></tr>",
                            "<tr><td>10442</td><td>20</td><td>170</td><td>3.74</td></tr>",
                            "<tr><td>10514</td><td>20</td><td>233</td><td>5.13</td></tr>",
                            "<tr><td>10571</td><td>20</td><td>39</td><td>0.86</td></tr>",
                            "<tr><td>10595</td><td>20</td><td>215</td><td>4.73</td></tr>",
                            "<tr><td>10633</td><td>20</td><td>164</td><td>3.61</td></tr>",
                            "<tr><td>10667</td><td>20</td><td>59</td><td>1.30</td></tr>",
                            "<tr><td>10698</td><td>20</td><td>108</td><td>2.38</td></tr>",
                            "<tr><td>10764</td><td>20</td><td>150</td><td>3.30</td></tr>",
                            "<tr><td>10771</td><td>20</td><td>16</td><td>0.35</td></tr>",
                            "<tr><td>10773</td><td>20</td><td>110</td><td>2.42</td></tr>",
                            "<tr><td>10776</td><td>20</td><td>175</td><td>3.85</td></tr>",
                            "<tr><td>10795</td><td>20</td><td>100</td><td>2.20</td></tr>",
                            "<tr><td>10836</td><td>20</td><td>172</td><td>3.79</td></tr>",
                            "<tr><td>10854</td><td>20</td><td>165</td><td>3.63</td></tr>",
                            "<tr><td>10895</td><td>20</td><td>346</td><td>7.62</td></tr>",
                            "<tr><td>10968</td><td>20</td><td>64</td><td>1.41</td></tr>",
                            "<tr><td>10979</td><td>20</td><td>207</td><td>4.56</td></tr>",
                            "<tr><td>10990</td><td>20</td><td>256</td><td>5.64</td></tr>",
                            "<tr><td>11008</td><td>20</td><td>181</td><td>3.98</td></tr>",
                            "<tr><td>11017</td><td>20</td><td>165</td><td>3.63</td></tr>",
                            "<tr><td>11072</td><td>20</td><td>200</td><td>4.40</td></tr>",
                            "<tr><td>10347</td><td>21</td><td>70</td><td>19.61</td></tr>",
                            "<tr><td>10386</td><td>21</td><td>25</td><td>7.00</td></tr>",
                            "<tr><td>10414</td><td>21</td><td>68</td><td>19.05</td></tr>",
                            "<tr><td>10512</td><td>21</td><td>37</td><td>10.36</td></tr>",
                            "<tr><td>10581</td><td>21</td><td>50</td><td>14.01</td></tr>",
                            "<tr><td>10650</td><td>21</td><td>85</td><td>23.81</td></tr>",
                            "<tr><td>10725</td><td>21</td><td>22</td><td>6.16</td></tr>",
                            "<tr><td>10408</td><td>23</td><td>51</td><td>14.41</td></tr>",
                            "<tr><td>10480</td><td>23</td><td>42</td><td>11.86</td></tr>",
                            "<tr><td>10634</td><td>23</td><td>102</td><td>28.81</td></tr>",
                            "<tr><td>10763</td><td>23</td><td>66</td><td>18.64</td></tr>",
                            "<tr><td>10789</td><td>23</td><td>93</td><td>26.27</td></tr>",
                            "<tr><td>10264</td><td>24</td><td>60</td><td>4.86</td></tr>",
                            "<tr><td>10327</td><td>24</td><td>140</td><td>11.35</td></tr>",
                            "<tr><td>10378</td><td>24</td><td>6</td><td>0.49</td></tr>",
                            "<tr><td>10434</td><td>24</td><td>24</td><td>1.94</td></tr>",
                            "<tr><td>10460</td><td>24</td><td>25</td><td>2.03</td></tr>",
                            "<tr><td>10533</td><td>24</td><td>98</td><td>7.94</td></tr>",
                            "<tr><td>10561</td><td>24</td><td>60</td><td>4.86</td></tr>",
                            "<tr><td>10703</td><td>24</td><td>75</td><td>6.08</td></tr>",
                            "<tr><td>10762</td><td>24</td><td>134</td><td>10.86</td></tr>",
                            "<tr><td>10774</td><td>24</td><td>52</td><td>4.21</td></tr>",
                            "<tr><td>10824</td><td>24</td><td>21</td><td>1.70</td></tr>",
                            "<tr><td>10880</td><td>24</td><td>110</td><td>8.91</td></tr>",
                            "<tr><td>10902</td><td>24</td><td>36</td><td>2.92</td></tr>",
                            "<tr><td>10955</td><td>24</td><td>12</td><td>0.97</td></tr>",
                            "<tr><td>10977</td><td>24</td><td>90</td><td>7.29</td></tr>",
                            "<tr><td>10980</td><td>24</td><td>40</td><td>3.24</td></tr>",
                            "<tr><td>10993</td><td>24</td><td>85</td><td>6.89</td></tr>",
                            "<tr><td>11001</td><td>24</td><td>116</td><td>9.40</td></tr>",
                            "<tr><td>11050</td><td>24</td><td>50</td><td>4.05</td></tr>",
                            "<tr><td>10267</td><td>25</td><td>135</td><td>8.85</td></tr>",
                            "<tr><td>10337</td><td>25</td><td>137</td><td>8.98</td></tr>",
                            "<tr><td>10342</td><td>25</td><td>160</td><td>10.49</td></tr>",
                            "<tr><td>10396</td><td>25</td><td>121</td><td>7.93</td></tr>",
                            "<tr><td>10488</td><td>25</td><td>50</td><td>3.28</td></tr>",
                            "<tr><td>10560</td><td>25</td><td>35</td><td>2.30</td></tr>",
                            "<tr><td>10623</td><td>25</td><td>94</td><td>6.16</td></tr>",
                            "<tr><td>10653</td><td>25</td><td>50</td><td>3.28</td></tr>",
                            "<tr><td>10670</td><td>25</td><td>192</td><td>12.59</td></tr>",
                            "<tr><td>10675</td><td>25</td><td>70</td><td>4.59</td></tr>",
                            "<tr><td>10717</td><td>25</td><td>72</td><td>4.72</td></tr>",
                            "<tr><td>10791</td><td>25</td><td>34</td><td>2.23</td></tr>",
                            "<tr><td>10859</td><td>25</td><td>105</td><td>6.89</td></tr>",
                            "<tr><td>10929</td><td>25</td><td>124</td><td>8.13</td></tr>",
                            "<tr><td>11012</td><td>25</td><td>146</td><td>9.57</td></tr>",
                            "<tr><td>10671</td><td>26</td><td>32</td><td>46.38</td></tr>",
                            "<tr><td>10860</td><td>26</td><td>23</td><td>33.33</td></tr>",
                            "<tr><td>10971</td><td>26</td><td>14</td><td>20.29</td></tr>",
                            "<tr><td>10422</td><td>27</td><td>2</td><td>3.70</td></tr>",
                            "<tr><td>10710</td><td>27</td><td>10</td><td>18.52</td></tr>",
                            "<tr><td>10753</td><td>27</td><td>9</td><td>16.67</td></tr>",
                            "<tr><td>10807</td><td>27</td><td>1</td><td>1.85</td></tr>",
                            "<tr><td>11026</td><td>27</td><td>18</td><td>33.33</td></tr>",
                            "<tr><td>11060</td><td>27</td><td>14</td><td>25.93</td></tr>",
                            "<tr><td>10328</td><td>28</td><td>59</td><td>16.91</td></tr>",
                            "<tr><td>10352</td><td>28</td><td>30</td><td>8.60</td></tr>",
                            "<tr><td>10464</td><td>28</td><td>69</td><td>19.77</td></tr>",
                            "<tr><td>10491</td><td>28</td><td>22</td><td>6.30</td></tr>",
                            "<tr><td>10551</td><td>28</td><td>100</td><td>28.65</td></tr>",
                            "<tr><td>10604</td><td>28</td><td>16</td><td>4.58</td></tr>",
                            "<tr><td>10664</td><td>28</td><td>51</td><td>14.61</td></tr>",
                            "<tr><td>10963</td><td>28</td><td>2</td><td>0.57</td></tr>",
                            "<tr><td>10366</td><td>29</td><td>10</td><td>23.81</td></tr>",
                            "<tr><td>10426</td><td>29</td><td>12</td><td>28.57</td></tr>",
                            "<tr><td>10568</td><td>29</td><td>5</td><td>11.90</td></tr>",
                            "<tr><td>10887</td><td>29</td><td>5</td><td>11.90</td></tr>",
                            "<tr><td>10928</td><td>29</td><td>10</td><td>23.81</td></tr>",
                            "<tr><td>10303</td><td>30</td><td>85</td><td>21.52</td></tr>",
                            "<tr><td>10550</td><td>30</td><td>34</td><td>8.61</td></tr>",
                            "<tr><td>10629</td><td>30</td><td>29</td><td>7.34</td></tr>",
                            "<tr><td>10872</td><td>30</td><td>66</td><td>16.71</td></tr>",
                            "<tr><td>10874</td><td>30</td><td>10</td><td>2.53</td></tr>",
                            "<tr><td>10888</td><td>30</td><td>38</td><td>9.62</td></tr>",
                            "<tr><td>10911</td><td>30</td><td>37</td><td>9.37</td></tr>",
                            "<tr><td>10948</td><td>30</td><td>53</td><td>13.42</td></tr>",
                            "<tr><td>11009</td><td>30</td><td>39</td><td>9.87</td></tr>",
                            "<tr><td>11037</td><td>30</td><td>4</td><td>1.01</td></tr>",
                            "<tr><td>10423</td><td>31</td><td>34</td><td>10.79</td></tr>",
                            "<tr><td>10652</td><td>31</td><td>22</td><td>6.98</td></tr>",
                            "<tr><td>10685</td><td>31</td><td>39</td><td>12.38</td></tr>",
                            "<tr><td>10709</td><td>31</td><td>78</td><td>24.76</td></tr>",
                            "<tr><td>10734</td><td>31</td><td>65</td><td>20.63</td></tr>",
                            "<tr><td>10777</td><td>31</td><td>20</td><td>6.35</td></tr>",
                            "<tr><td>10790</td><td>31</td><td>23</td><td>7.30</td></tr>",
                            "<tr><td>10959</td><td>31</td><td>20</td><td>6.35</td></tr>",
                            "<tr><td>11049</td><td>31</td><td>14</td><td>4.44</td></tr>",
                            "<tr><td>10528</td><td>32</td><td>20</td><td>5.80</td></tr>",
                            "<tr><td>10589</td><td>32</td><td>4</td><td>1.16</td></tr>",
                            "<tr><td>10616</td><td>32</td><td>59</td><td>17.10</td></tr>",
                            "<tr><td>10617</td><td>32</td><td>30</td><td>8.70</td></tr>",
                            "<tr><td>10656</td><td>32</td><td>37</td><td>10.72</td></tr>",
                            "<tr><td>10681</td><td>32</td><td>70</td><td>20.29</td></tr>",
                            "<tr><td>10816</td><td>32</td><td>50</td><td>14.49</td></tr>",
                            "<tr><td>10936</td><td>32</td><td>30</td><td>8.70</td></tr>",
                            "<tr><td>11006</td><td>32</td><td>10</td><td>2.90</td></tr>",
                            "<tr><td>11040</td><td>32</td><td>20</td><td>5.80</td></tr>",
                            "<tr><td>11061</td><td>32</td><td>15</td><td>4.35</td></tr>",
                            "<tr><td>10268</td><td>33</td><td>14</td><td>41.18</td></tr>",
                            "<tr><td>10785</td><td>33</td><td>20</td><td>58.82</td></tr>",
                            "<tr><td>10250</td><td>34</td><td>60</td><td>7.15</td></tr>",
                            "<tr><td>10253</td><td>34</td><td>102</td><td>12.16</td></tr>",
                            "<tr><td>10541</td><td>34</td><td>84</td><td>10.01</td></tr>",
                            "<tr><td>10645</td><td>34</td><td>35</td><td>4.17</td></tr>",
                            "<tr><td>10690</td><td>34</td><td>50</td><td>5.96</td></tr>",
                            "<tr><td>10770</td><td>34</td><td>15</td><td>1.79</td></tr>",
                            "<tr><td>10783</td><td>34</td><td>15</td><td>1.79</td></tr>",
                            "<tr><td>10886</td><td>34</td><td>145</td><td>17.28</td></tr>",
                            "<tr><td>10903</td><td>34</td><td>81</td><td>9.65</td></tr>",
                            "<tr><td>10922</td><td>34</td><td>50</td><td>5.96</td></tr>",
                            "<tr><td>10925</td><td>34</td><td>37</td><td>4.41</td></tr>",
                            "<tr><td>10981</td><td>34</td><td>60</td><td>7.15</td></tr>",
                            "<tr><td>11022</td><td>34</td><td>65</td><td>7.75</td></tr>",
                            "<tr><td>11052</td><td>34</td><td>40</td><td>4.77</td></tr>",
                            "<tr><td>10257</td><td>35</td><td>46</td><td>4.20</td></tr>",
                            "<tr><td>10395</td><td>35</td><td>106</td><td>9.67</td></tr>",
                            "<tr><td>10476</td><td>35</td><td>14</td><td>1.28</td></tr>",
                            "<tr><td>10486</td><td>35</td><td>46</td><td>4.20</td></tr>",
                            "<tr><td>10490</td><td>35</td><td>126</td><td>11.50</td></tr>",
                            "<tr><td>10498</td><td>35</td><td>49</td><td>4.47</td></tr>",
                            "<tr><td>10552</td><td>35</td><td>48</td><td>4.38</td></tr>",
                            "<tr><td>10601</td><td>35</td><td>95</td><td>8.67</td></tr>",
                            "<tr><td>10613</td><td>35</td><td>48</td><td>4.38</td></tr>",
                            "<tr><td>10641</td><td>35</td><td>110</td><td>10.04</td></tr>",
                            "<tr><td>10705</td><td>35</td><td>24</td><td>2.19</td></tr>",
                            "<tr><td>10796</td><td>35</td><td>90</td><td>8.21</td></tr>",
                            "<tr><td>10863</td><td>35</td><td>32</td><td>2.92</td></tr>",
                            "<tr><td>10901</td><td>35</td><td>60</td><td>5.47</td></tr>",
                            "<tr><td>10957</td><td>35</td><td>78</td><td>7.12</td></tr>",
                            "<tr><td>10960</td><td>35</td><td>34</td><td>3.10</td></tr>",
                            "<tr><td>10976</td><td>35</td><td>20</td><td>1.82</td></tr>",
                            "<tr><td>11055</td><td>35</td><td>70</td><td>6.39</td></tr>",
                            "<tr><td>10375</td><td>36</td><td>25</td><td>20.49</td></tr>",
                            "<tr><td>10394</td><td>36</td><td>20</td><td>16.39</td></tr>",
                            "<tr><td>10415</td><td>36</td><td>22</td><td>18.03</td></tr>",
                            "<tr><td>10600</td><td>36</td><td>34</td><td>27.87</td></tr>",
                            "<tr><td>10660</td><td>36</td><td>21</td><td>17.21</td></tr>",
                            "<tr><td>10298</td><td>37</td><td>125</td><td>7.42</td></tr>",
                            "<tr><td>10309</td><td>37</td><td>75</td><td>4.45</td></tr>",
                            "<tr><td>10335</td><td>37</td><td>86</td><td>5.11</td></tr>",
                            "<tr><td>10373</td><td>37</td><td>130</td><td>7.72</td></tr>",
                            "<tr><td>10380</td><td>37</td><td>74</td><td>4.39</td></tr>",
                            "<tr><td>10429</td><td>37</td><td>75</td><td>4.45</td></tr>",
                            "<tr><td>10503</td><td>37</td><td>90</td><td>5.34</td></tr>",
                            "<tr><td>10516</td><td>37</td><td>125</td><td>7.42</td></tr>",
                            "<tr><td>10567</td><td>37</td><td>103</td><td>6.12</td></tr>",
                            "<tr><td>10646</td><td>37</td><td>98</td><td>5.82</td></tr>",
                            "<tr><td>10661</td><td>37</td><td>52</td><td>3.09</td></tr>",
                            "<tr><td>10687</td><td>37</td><td>66</td><td>3.92</td></tr>",
                            "<tr><td>10701</td><td>37</td><td>97</td><td>5.76</td></tr>",
                            "<tr><td>10712</td><td>37</td><td>33</td><td>1.96</td></tr>",
                            "<tr><td>10736</td><td>37</td><td>60</td><td>3.56</td></tr>",
                            "<tr><td>10897</td><td>37</td><td>116</td><td>6.89</td></tr>",
                            "<tr><td>10912</td><td>37</td><td>100</td><td>5.94</td></tr>",
                            "<tr><td>10985</td><td>37</td><td>79</td><td>4.69</td></tr>",
                            "<tr><td>11063</td><td>37</td><td>100</td><td>5.94</td></tr>",
                            "<tr><td>10315</td><td>38</td><td>44</td><td>14.92</td></tr>",
                            "<tr><td>10318</td><td>38</td><td>26</td><td>8.81</td></tr>",
                            "<tr><td>10321</td><td>38</td><td>10</td><td>3.39</td></tr>",
                            "<tr><td>10473</td><td>38</td><td>24</td><td>8.14</td></tr>",
                            "<tr><td>10621</td><td>38</td><td>50</td><td>16.95</td></tr>",
                            "<tr><td>10674</td><td>38</td><td>5</td><td>1.69</td></tr>",
                            "<tr><td>10749</td><td>38</td><td>31</td><td>10.51</td></tr>",
                            "<tr><td>10798</td><td>38</td><td>12</td><td>4.07</td></tr>",
                            "<tr><td>10829</td><td>38</td><td>61</td><td>20.68</td></tr>",
                            "<tr><td>10933</td><td>38</td><td>32</td><td>10.85</td></tr>",
                            "<tr><td>10323</td><td>39</td><td>13</td><td>1.44</td></tr>",
                            "<tr><td>10325</td><td>39</td><td>71</td><td>7.86</td></tr>",
                            "<tr><td>10456</td><td>39</td><td>61</td><td>6.76</td></tr>",
                            "<tr><td>10457</td><td>39</td><td>36</td><td>3.99</td></tr>",
                            "<tr><td>10468</td><td>39</td><td>23</td><td>2.55</td></tr>",
                            "<tr><td>10506</td><td>39</td><td>32</td><td>3.54</td></tr>",
                            "<tr><td>10542</td><td>39</td><td>39</td><td>4.32</td></tr>",
                            "<tr><td>10630</td><td>39</td><td>47</td><td>5.20</td></tr>",
                            "<tr><td>10718</td><td>39</td><td>116</td><td>12.85</td></tr>",
                            "<tr><td>10799</td><td>39</td><td>65</td><td>7.20</td></tr>",
                            "<tr><td>10817</td><td>39</td><td>155</td><td>17.17</td></tr>",
                            "<tr><td>10849</td><td>39</td><td>67</td><td>7.42</td></tr>",
                            "<tr><td>10893</td><td>39</td><td>119</td><td>13.18</td></tr>",
                            "<tr><td>11028</td><td>39</td><td>59</td><td>6.53</td></tr>",
                            "<tr><td>10858</td><td>40</td><td>19</td><td>22.89</td></tr>",
                            "<tr><td>10927</td><td>40</td><td>30</td><td>36.14</td></tr>",
                            "<tr><td>10972</td><td>40</td><td>13</td><td>15.66</td></tr>",
                            "<tr><td>10973</td><td>40</td><td>21</td><td>25.30</td></tr>",
                            "<tr><td>10350</td><td>41</td><td>33</td><td>7.47</td></tr>",
                            "<tr><td>10358</td><td>41</td><td>40</td><td>9.05</td></tr>",
                            "<tr><td>10371</td><td>41</td><td>6</td><td>1.36</td></tr>",
                            "<tr><td>10413</td><td>41</td><td>78</td><td>17.65</td></tr>",
                            "<tr><td>10425</td><td>41</td><td>30</td><td>6.79</td></tr>",
                            "<tr><td>10454</td><td>41</td><td>50</td><td>11.31</td></tr>",
                            "<tr><td>10493</td><td>41</td><td>35</td><td>7.92</td></tr>",
                            "<tr><td>10500</td><td>41</td><td>20</td><td>4.52</td></tr>",
                            "<tr><td>10610</td><td>41</td><td>21</td><td>4.75</td></tr>",
                            "<tr><td>10631</td><td>41</td><td>8</td><td>1.81</td></tr>",
                            "<tr><td>10787</td><td>41</td><td>35</td><td>7.92</td></tr>",
                            "<tr><td>10832</td><td>41</td><td>32</td><td>7.24</td></tr>",
                            "<tr><td>10923</td><td>41</td><td>44</td><td>9.95</td></tr>",
                            "<tr><td>11051</td><td>41</td><td>10</td><td>2.26</td></tr>",
                            "<tr><td>10495</td><td>42</td><td>35</td><td>56.45</td></tr>",
                            "<tr><td>10620</td><td>42</td><td>10</td><td>16.13</td></tr>",
                            "<tr><td>10810</td><td>42</td><td>17</td><td>27.42</td></tr>",
                            "<tr><td>10482</td><td>43</td><td>10</td><td>50.00</td></tr>",
                            "<tr><td>10545</td><td>43</td><td>10</td><td>50.00</td></tr>",
                            "<tr><td>10279</td><td>44</td><td>15</td><td>1.89</td></tr>",
                            "<tr><td>10284</td><td>44</td><td>61</td><td>7.68</td></tr>",
                            "<tr><td>10343</td><td>44</td><td>69</td><td>8.69</td></tr>",
                            "<tr><td>10497</td><td>44</td><td>64</td><td>8.06</td></tr>",
                            "<tr><td>10522</td><td>44</td><td>109</td><td>13.73</td></tr>",
                            "<tr><td>10534</td><td>44</td><td>30</td><td>3.78</td></tr>",
                            "<tr><td>10536</td><td>44</td><td>100</td><td>12.59</td></tr>",
                            "<tr><td>10557</td><td>44</td><td>50</td><td>6.30</td></tr>",
                            "<tr><td>10592</td><td>44</td><td>30</td><td>3.78</td></tr>",
                            "<tr><td>10593</td><td>44</td><td>45</td><td>5.67</td></tr>",
                            "<tr><td>10772</td><td>44</td><td>43</td><td>5.42</td></tr>",
                            "<tr><td>10862</td><td>44</td><td>33</td><td>4.16</td></tr>",
                            "<tr><td>10891</td><td>44</td><td>15</td><td>1.89</td></tr>",
                            "<tr><td>10934</td><td>44</td><td>20</td><td>2.52</td></tr>",
                            "<tr><td>11070</td><td>44</td><td>110</td><td>13.85</td></tr>",
                            "<tr><td>10579</td><td>45</td><td>31</td><td>17.13</td></tr>",
                            "<tr><td>10719</td><td>45</td><td>55</td><td>30.39</td></tr>",
                            "<tr><td>10735</td><td>45</td><td>22</td><td>12.15</td></tr>",
                            "<tr><td>10884</td><td>45</td><td>73</td><td>40.33</td></tr>",
                            "<tr><td>10283</td><td>46</td><td>76</td><td>9.09</td></tr>",
                            "<tr><td>10296</td><td>46</td><td>57</td><td>6.82</td></tr>",
                            "<tr><td>10330</td><td>46</td><td>75</td><td>8.97</td></tr>",
                            "<tr><td>10357</td><td>46</td><td>54</td><td>6.46</td></tr>",
                            "<tr><td>10381</td><td>46</td><td>14</td><td>1.67</td></tr>",
                            "<tr><td>10461</td><td>46</td><td>128</td><td>15.31</td></tr>",
                            "<tr><td>10499</td><td>46</td><td>45</td><td>5.38</td></tr>",
                            "<tr><td>10543</td><td>46</td><td>100</td><td>11.96</td></tr>",
                            "<tr><td>10780</td><td>46</td><td>50</td><td>5.98</td></tr>",
                            "<tr><td>10823</td><td>46</td><td>90</td><td>10.77</td></tr>",
                            "<tr><td>10899</td><td>46</td><td>8</td><td>0.96</td></tr>",
                            "<tr><td>10997</td><td>46</td><td>90</td><td>10.77</td></tr>",
                            "<tr><td>11065</td><td>46</td><td>24</td><td>2.87</td></tr>",
                            "<tr><td>11071</td><td>46</td><td>25</td><td>2.99</td></tr>",
                            "<tr><td>10405</td><td>47</td><td>50</td><td>5.15</td></tr>",
                            "<tr><td>10485</td><td>47</td><td>130</td><td>13.40</td></tr>",
                            "<tr><td>10638</td><td>47</td><td>101</td><td>10.41</td></tr>",
                            "<tr><td>10697</td><td>47</td><td>76</td><td>7.84</td></tr>",
                            "<tr><td>10729</td><td>47</td><td>120</td><td>12.37</td></tr>",
                            "<tr><td>10811</td><td>47</td><td>63</td><td>6.49</td></tr>",
                            "<tr><td>10838</td><td>47</td><td>79</td><td>8.14</td></tr>",
                            "<tr><td>10840</td><td>47</td><td>16</td><td>1.65</td></tr>",
                            "<tr><td>10919</td><td>47</td><td>68</td><td>7.01</td></tr>",
                            "<tr><td>10954</td><td>47</td><td>107</td><td>11.03</td></tr>",
                            "<tr><td>11014</td><td>47</td><td>28</td><td>2.89</td></tr>",
                            "<tr><td>11039</td><td>47</td><td>132</td><td>13.61</td></tr>",
                            "<tr><td>10307</td><td>48</td><td>13</td><td>9.70</td></tr>",
                            "<tr><td>10317</td><td>48</td><td>20</td><td>14.93</td></tr>",
                            "<tr><td>10544</td><td>48</td><td>14</td><td>10.45</td></tr>",
                            "<tr><td>10662</td><td>48</td><td>10</td><td>7.46</td></tr>",
                            "<tr><td>10665</td><td>48</td><td>31</td><td>23.13</td></tr>",
                            "<tr><td>10867</td><td>48</td><td>3</td><td>2.24</td></tr>",
                            "<tr><td>10883</td><td>48</td><td>8</td><td>5.97</td></tr>",
                            "<tr><td>11018</td><td>48</td><td>35</td><td>26.12</td></tr>",
                            "<tr><td>10275</td><td>49</td><td>18</td><td>4.16</td></tr>",
                            "<tr><td>10300</td><td>49</td><td>50</td><td>11.55</td></tr>",
                            "<tr><td>10404</td><td>49</td><td>100</td><td>23.09</td></tr>",
                            "<tr><td>10467</td><td>49</td><td>40</td><td>9.24</td></tr>",
                            "<tr><td>10635</td><td>49</td><td>65</td><td>15.01</td></tr>",
                            "<tr><td>10754</td><td>49</td><td>3</td><td>0.69</td></tr>",
                            "<tr><td>10784</td><td>49</td><td>62</td><td>14.32</td></tr>",
                            "<tr><td>10818</td><td>49</td><td>40</td><td>9.24</td></tr>",
                            "<tr><td>10939</td><td>49</td><td>50</td><td>11.55</td></tr>",
                            "<tr><td>10950</td><td>49</td><td>5</td><td>1.15</td></tr>",
                            "<tr><td>10529</td><td>50</td><td>44</td><td>13.75</td></tr>",
                            "<tr><td>10649</td><td>50</td><td>35</td><td>10.94</td></tr>",
                            "<tr><td>10760</td><td>50</td><td>82</td><td>25.63</td></tr>",
                            "<tr><td>10892</td><td>50</td><td>40</td><td>12.50</td></tr>",
                            "<tr><td>10896</td><td>50</td><td>31</td><td>9.69</td></tr>",
                            "<tr><td>10978</td><td>50</td><td>76</td><td>23.75</td></tr>",
                            "<tr><td>11004</td><td>50</td><td>12</td><td>3.75</td></tr>",
                            "<tr><td>10332</td><td>51</td><td>66</td><td>6.83</td></tr>",
                            "<tr><td>10339</td><td>51</td><td>108</td><td>11.18</td></tr>",
                            "<tr><td>10376</td><td>51</td><td>42</td><td>4.35</td></tr>",
                            "<tr><td>10424</td><td>51</td><td>139</td><td>14.39</td></tr>",
                            "<tr><td>10439</td><td>51</td><td>67</td><td>6.94</td></tr>",
                            "<tr><td>10505</td><td>51</td><td>3</td><td>0.31</td></tr>",
                            "<tr><td>10565</td><td>51</td><td>43</td><td>4.45</td></tr>",
                            "<tr><td>10570</td><td>51</td><td>75</td><td>7.76</td></tr>",
                            "<tr><td>10590</td><td>51</td><td>80</td><td>8.28</td></tr>",
                            "<tr><td>10605</td><td>51</td><td>135</td><td>13.98</td></tr>",
                            "<tr><td>10618</td><td>51</td><td>105</td><td>10.87</td></tr>",
                            "<tr><td>10619</td><td>51</td><td>82</td><td>8.49</td></tr>",
                            "<tr><td>10724</td><td>51</td><td>21</td><td>2.17</td></tr>",
                            "<tr><td>10277</td><td>52</td><td>32</td><td>18.60</td></tr>",
                            "<tr><td>10575</td><td>52</td><td>58</td><td>33.72</td></tr>",
                            "<tr><td>10699</td><td>52</td><td>12</td><td>6.98</td></tr>",
                            "<tr><td>10779</td><td>52</td><td>40</td><td>23.26</td></tr>",
                            "<tr><td>10945</td><td>52</td><td>30</td><td>17.44</td></tr>",
                            "<tr><td>10517</td><td>53</td><td>16</td><td>53.33</td></tr>",
                            "<tr><td>10752</td><td>53</td><td>11</td><td>36.67</td></tr>",
                            "<tr><td>11057</td><td>53</td><td>3</td><td>10.00</td></tr>",
                            "<tr><td>10409</td><td>54</td><td>24</td><td>18.18</td></tr>",
                            "<tr><td>10531</td><td>54</td><td>2</td><td>1.52</td></tr>",
                            "<tr><td>10898</td><td>54</td><td>5</td><td>3.79</td></tr>",
                            "<tr><td>10958</td><td>54</td><td>31</td><td>23.48</td></tr>",
                            "<tr><td>10986</td><td>54</td><td>70</td><td>53.03</td></tr>",
                            "<tr><td>10305</td><td>55</td><td>80</td><td>13.27</td></tr>",
                            "<tr><td>10338</td><td>55</td><td>35</td><td>5.80</td></tr>",
                            "<tr><td>10441</td><td>55</td><td>50</td><td>8.29</td></tr>",
                            "<tr><td>10594</td><td>55</td><td>54</td><td>8.96</td></tr>",
                            "<tr><td>10680</td><td>55</td><td>110</td><td>18.24</td></tr>",
                            "<tr><td>10706</td><td>55</td><td>52</td><td>8.62</td></tr>",
                            "<tr><td>10808</td><td>55</td><td>70</td><td>11.61</td></tr>",
                            "<tr><td>10855</td><td>55</td><td>103</td><td>17.08</td></tr>",
                            "<tr><td>10965</td><td>55</td><td>16</td><td>2.65</td></tr>",
                            "<tr><td>11034</td><td>55</td><td>33</td><td>5.47</td></tr>",
                            "<tr><td>10260</td><td>56</td><td>102</td><td>15.96</td></tr>",
                            "<tr><td>10407</td><td>56</td><td>60</td><td>9.39</td></tr>",
                            "<tr><td>10508</td><td>56</td><td>20</td><td>3.13</td></tr>",
                            "<tr><td>10554</td><td>56</td><td>80</td><td>12.52</td></tr>",
                            "<tr><td>10580</td><td>56</td><td>54</td><td>8.45</td></tr>",
                            "<tr><td>10684</td><td>56</td><td>90</td><td>14.08</td></tr>",
                            "<tr><td>10766</td><td>56</td><td>115</td><td>18.00</td></tr>",
                            "<tr><td>10833</td><td>56</td><td>38</td><td>5.95</td></tr>",
                            "<tr><td>10999</td><td>56</td><td>56</td><td>8.76</td></tr>",
                            "<tr><td>11020</td><td>56</td><td>24</td><td>3.76</td></tr>",
                            "<tr><td>10322</td><td>58</td><td>20</td><td>9.62</td></tr>",
                            "<tr><td>10354</td><td>58</td><td>16</td><td>7.69</td></tr>",
                            "<tr><td>10474</td><td>58</td><td>61</td><td>29.33</td></tr>",
                            "<tr><td>10502</td><td>58</td><td>57</td><td>27.40</td></tr>",
                            "<tr><td>10995</td><td>58</td><td>24</td><td>11.54</td></tr>",
                            "<tr><td>11073</td><td>58</td><td>30</td><td>14.42</td></tr>",
                            "<tr><td>10353</td><td>59</td><td>62</td><td>9.94</td></tr>",
                            "<tr><td>10392</td><td>59</td><td>50</td><td>8.01</td></tr>",
                            "<tr><td>10427</td><td>59</td><td>35</td><td>5.61</td></tr>",
                            "<tr><td>10489</td><td>59</td><td>33</td><td>5.29</td></tr>",
                            "<tr><td>10530</td><td>59</td><td>135</td><td>21.63</td></tr>",
                            "<tr><td>10597</td><td>59</td><td>67</td><td>10.74</td></tr>",
                            "<tr><td>10686</td><td>59</td><td>45</td><td>7.21</td></tr>",
                            "<tr><td>10747</td><td>59</td><td>82</td><td>13.14</td></tr>",
                            "<tr><td>10844</td><td>59</td><td>35</td><td>5.61</td></tr>",
                            "<tr><td>11053</td><td>59</td><td>80</td><td>12.82</td></tr>",
                            "<tr><td>10336</td><td>60</td><td>18</td><td>9.78</td></tr>",
                            "<tr><td>10397</td><td>60</td><td>28</td><td>15.22</td></tr>",
                            "<tr><td>10433</td><td>60</td><td>28</td><td>15.22</td></tr>",
                            "<tr><td>10477</td><td>60</td><td>56</td><td>30.43</td></tr>",
                            "<tr><td>11007</td><td>60</td><td>54</td><td>29.35</td></tr>",
                            "<tr><td>10261</td><td>61</td><td>40</td><td>10.15</td></tr>",
                            "<tr><td>10291</td><td>61</td><td>46</td><td>11.68</td></tr>",
                            "<tr><td>10379</td><td>61</td><td>44</td><td>11.17</td></tr>",
                            "<tr><td>10421</td><td>61</td><td>59</td><td>14.97</td></tr>",
                            "<tr><td>10587</td><td>61</td><td>46</td><td>11.68</td></tr>",
                            "<tr><td>10647</td><td>61</td><td>50</td><td>12.69</td></tr>",
                            "<tr><td>10720</td><td>61</td><td>29</td><td>7.36</td></tr>",
                            "<tr><td>10794</td><td>61</td><td>21</td><td>5.33</td></tr>",
                            "<tr><td>10989</td><td>61</td><td>59</td><td>14.97</td></tr>",
                            "<tr><td>10372</td><td>62</td><td>164</td><td>15.91</td></tr>",
                            "<tr><td>10406</td><td>62</td><td>89</td><td>8.63</td></tr>",
                            "<tr><td>10487</td><td>62</td><td>59</td><td>5.72</td></tr>",
                            "<tr><td>10637</td><td>62</td><td>95</td><td>9.21</td></tr>",
                            "<tr><td>10659</td><td>62</td><td>84</td><td>8.15</td></tr>",
                            "<tr><td>10704</td><td>62</td><td>65</td><td>6.30</td></tr>",
                            "<tr><td>10728</td><td>62</td><td>48</td><td>4.66</td></tr>",
                            "<tr><td>10786</td><td>62</td><td>87</td><td>8.44</td></tr>",
                            "<tr><td>10868</td><td>62</td><td>92</td><td>8.92</td></tr>",
                            "<tr><td>10913</td><td>62</td><td>85</td><td>8.24</td></tr>",
                            "<tr><td>10914</td><td>62</td><td>25</td><td>2.42</td></tr>",
                            "<tr><td>10961</td><td>62</td><td>66</td><td>6.40</td></tr>",
                            "<tr><td>11068</td><td>62</td><td>72</td><td>6.98</td></tr>",
                            "<tr><td>10273</td><td>63</td><td>152</td><td>3.84</td></tr>",
                            "<tr><td>10285</td><td>63</td><td>121</td><td>3.05</td></tr>",
                            "<tr><td>10286</td><td>63</td><td>140</td><td>3.53</td></tr>",
                            "<tr><td>10313</td><td>63</td><td>12</td><td>0.30</td></tr>",
                            "<tr><td>10345</td><td>63</td><td>159</td><td>4.01</td></tr>",
                            "<tr><td>10361</td><td>63</td><td>109</td><td>2.75</td></tr>",
                            "<tr><td>10418</td><td>63</td><td>146</td><td>3.69</td></tr>",
                            "<tr><td>10451</td><td>63</td><td>238</td><td>6.01</td></tr>",
                            "<tr><td>10515</td><td>63</td><td>286</td><td>7.22</td></tr>",
                            "<tr><td>10527</td><td>63</td><td>80</td><td>2.02</td></tr>",
                            "<tr><td>10540</td><td>63</td><td>165</td><td>4.17</td></tr>",
                            "<tr><td>10549</td><td>63</td><td>203</td><td>5.12</td></tr>",
                            "<tr><td>10588</td><td>63</td><td>140</td><td>3.53</td></tr>",
                            "<tr><td>10658</td><td>63</td><td>255</td><td>6.44</td></tr>",
                            "<tr><td>10691</td><td>63</td><td>182</td><td>4.59</td></tr>",
                            "<tr><td>10694</td><td>63</td><td>165</td><td>4.17</td></tr>",
                            "<tr><td>10721</td><td>63</td><td>50</td><td>1.26</td></tr>",
                            "<tr><td>10745</td><td>63</td><td>92</td><td>2.32</td></tr>",
                            "<tr><td>10765</td><td>63</td><td>80</td><td>2.02</td></tr>",
                            "<tr><td>10788</td><td>63</td><td>90</td><td>2.27</td></tr>",
                            "<tr><td>10845</td><td>63</td><td>245</td><td>6.19</td></tr>",
                            "<tr><td>10865</td><td>63</td><td>140</td><td>3.53</td></tr>",
                            "<tr><td>10878</td><td>63</td><td>20</td><td>0.50</td></tr>",
                            "<tr><td>10938</td><td>63</td><td>128</td><td>3.23</td></tr>",
                            "<tr><td>10962</td><td>63</td><td>195</td><td>4.92</td></tr>",
                            "<tr><td>10991</td><td>63</td><td>160</td><td>4.04</td></tr>",
                            "<tr><td>10996</td><td>63</td><td>40</td><td>1.01</td></tr>",
                            "<tr><td>11021</td><td>63</td><td>168</td><td>4.24</td></tr>",
                            "<tr><td>10448</td><td>64</td><td>26</td><td>28.26</td></tr>",
                            "<tr><td>10716</td><td>64</td><td>22</td><td>23.91</td></tr>",
                            "<tr><td>10828</td><td>64</td><td>7</td><td>7.61</td></tr>",
                            "<tr><td>10916</td><td>64</td><td>32</td><td>34.78</td></tr>",
                            "<tr><td>11019</td><td>64</td><td>5</td><td>5.43</td></tr>",
                            "<tr><td>10262</td><td>65</td><td>29</td><td>2.10</td></tr>",
                            "<tr><td>10272</td><td>65</td><td>70</td><td>5.06</td></tr>",
                            "<tr><td>10294</td><td>65</td><td>75</td><td>5.42</td></tr>",
                            "<tr><td>10314</td><td>65</td><td>95</td><td>6.87</td></tr>",
                            "<tr><td>10316</td><td>65</td><td>80</td><td>5.78</td></tr>",
                            "<tr><td>10346</td><td>65</td><td>56</td><td>4.05</td></tr>",
                            "<tr><td>10401</td><td>65</td><td>168</td><td>12.15</td></tr>",
                            "<tr><td>10479</td><td>65</td><td>148</td><td>10.70</td></tr>",
                            "<tr><td>10564</td><td>65</td><td>47</td><td>3.40</td></tr>",
                            "<tr><td>10569</td><td>65</td><td>65</td><td>4.70</td></tr>",
                            "<tr><td>10598</td><td>65</td><td>59</td><td>4.27</td></tr>",
                            "<tr><td>10761</td><td>65</td><td>53</td><td>3.83</td></tr>",
                            "<tr><td>10820</td><td>65</td><td>30</td><td>2.17</td></tr>",
                            "<tr><td>10852</td><td>65</td><td>71</td><td>5.13</td></tr>",
                            "<tr><td>10889</td><td>65</td><td>80</td><td>5.78</td></tr>",
                            "<tr><td>10988</td><td>65</td><td>100</td><td>7.23</td></tr>",
                            "<tr><td>11000</td><td>65</td><td>85</td><td>6.15</td></tr>",
                            "<tr><td>11077</td><td>65</td><td>72</td><td>5.21</td></tr>",
                            "<tr><td>10288</td><td>66</td><td>13</td><td>3.88</td></tr>",
                            "<tr><td>10428</td><td>66</td><td>20</td><td>5.97</td></tr>",
                            "<tr><td>10443</td><td>66</td><td>18</td><td>5.37</td></tr>",
                            "<tr><td>10562</td><td>66</td><td>30</td><td>8.96</td></tr>",
                            "<tr><td>10586</td><td>66</td><td>4</td><td>1.19</td></tr>",
                            "<tr><td>10655</td><td>66</td><td>20</td><td>5.97</td></tr>",
                            "<tr><td>10727</td><td>66</td><td>40</td><td>11.94</td></tr>",
                            "<tr><td>10812</td><td>66</td><td>76</td><td>22.69</td></tr>",
                            "<tr><td>10908</td><td>66</td><td>34</td><td>10.15</td></tr>",
                            "<tr><td>10942</td><td>66</td><td>28</td><td>8.36</td></tr>",
                            "<tr><td>11010</td><td>66</td><td>30</td><td>8.96</td></tr>",
                            "<tr><td>11062</td><td>66</td><td>22</td><td>6.57</td></tr>",
                            "<tr><td>10287</td><td>67</td><td>75</td><td>11.36</td></tr>",
                            "<tr><td>10299</td><td>67</td><td>35</td><td>5.30</td></tr>",
                            "<tr><td>10447</td><td>67</td><td>77</td><td>11.67</td></tr>",
                            "<tr><td>10481</td><td>67</td><td>64</td><td>9.70</td></tr>",
                            "<tr><td>10563</td><td>67</td><td>95</td><td>14.39</td></tr>",
                            "<tr><td>10622</td><td>67</td><td>38</td><td>5.76</td></tr>",
                            "<tr><td>10648</td><td>67</td><td>30</td><td>4.55</td></tr>",
                            "<tr><td>10813</td><td>67</td><td>47</td><td>7.12</td></tr>",
                            "<tr><td>10851</td><td>67</td><td>67</td><td>10.15</td></tr>",
                            "<tr><td>10877</td><td>67</td><td>55</td><td>8.33</td></tr>",
                            "<tr><td>11059</td><td>67</td><td>77</td><td>11.67</td></tr>",
                            "<tr><td>10255</td><td>68</td><td>110</td><td>13.58</td></tr>",
                            "<tr><td>10419</td><td>68</td><td>80</td><td>9.88</td></tr>",
                            "<tr><td>10537</td><td>68</td><td>86</td><td>10.62</td></tr>",
                            "<tr><td>10666</td><td>68</td><td>46</td><td>5.68</td></tr>",
                            "<tr><td>10751</td><td>68</td><td>77</td><td>9.51</td></tr>",
                            "<tr><td>10758</td><td>68</td><td>120</td><td>14.81</td></tr>",
                            "<tr><td>10931</td><td>68</td><td>72</td><td>8.89</td></tr>",
                            "<tr><td>10951</td><td>68</td><td>71</td><td>8.77</td></tr>",
                            "<tr><td>11033</td><td>68</td><td>106</td><td>13.09</td></tr>",
                            "<tr><td>11075</td><td>68</td><td>42</td><td>5.19</td></tr>",
                            "<tr><td>10281</td><td>69</td><td>11</td><td>12.09</td></tr>",
                            "<tr><td>10282</td><td>69</td><td>8</td><td>8.79</td></tr>",
                            "<tr><td>10306</td><td>69</td><td>25</td><td>27.47</td></tr>",
                            "<tr><td>10917</td><td>69</td><td>11</td><td>12.09</td></tr>",
                            "<tr><td>11013</td><td>69</td><td>36</td><td>39.56</td></tr>",
                            "<tr><td>10387</td><td>70</td><td>48</td><td>29.81</td></tr>",
                            "<tr><td>10520</td><td>70</td><td>13</td><td>8.07</td></tr>",
                            "<tr><td>10639</td><td>70</td><td>8</td><td>4.97</td></tr>",
                            "<tr><td>10831</td><td>70</td><td>27</td><td>16.77</td></tr>",
                            "<tr><td>10909</td><td>70</td><td>32</td><td>19.88</td></tr>",
                            "<tr><td>11015</td><td>70</td><td>33</td><td>20.50</td></tr>",
                            "<tr><td>10324</td><td>71</td><td>241</td><td>4.86</td></tr>",
                            "<tr><td>10393</td><td>71</td><td>176</td><td>3.55</td></tr>",
                            "<tr><td>10398</td><td>71</td><td>150</td><td>3.03</td></tr>",
                            "<tr><td>10440</td><td>71</td><td>208</td><td>4.20</td></tr>",
                            "<tr><td>10452</td><td>71</td><td>115</td><td>2.32</td></tr>",
                            "<tr><td>10510</td><td>71</td><td>72</td><td>1.45</td></tr>",
                            "<tr><td>10555</td><td>71</td><td>143</td><td>2.88</td></tr>",
                            "<tr><td>10603</td><td>71</td><td>73</td><td>1.47</td></tr>",
                            "<tr><td>10607</td><td>71</td><td>213</td><td>4.30</td></tr>",
                            "<tr><td>10612</td><td>71</td><td>263</td><td>5.30</td></tr>",
                            "<tr><td>10627</td><td>71</td><td>50</td><td>1.01</td></tr>",
                            "<tr><td>10657</td><td>71</td><td>204</td><td>4.11</td></tr>",
                            "<tr><td>10678</td><td>71</td><td>280</td><td>5.65</td></tr>",
                            "<tr><td>10700</td><td>71</td><td>117</td><td>2.36</td></tr>",
                            "<tr><td>10711</td><td>71</td><td>174</td><td>3.51</td></tr>",
                            "<tr><td>10713</td><td>71</td><td>182</td><td>3.67</td></tr>",
                            "<tr><td>10714</td><td>71</td><td>137</td><td>2.76</td></tr>",
                            "<tr><td>10722</td><td>71</td><td>140</td><td>2.82</td></tr>",
                            "<tr><td>10748</td><td>71</td><td>112</td><td>2.26</td></tr>",
                            "<tr><td>10757</td><td>71</td><td>91</td><td>1.84</td></tr>",
                            "<tr><td>10815</td><td>71</td><td>16</td><td>0.32</td></tr>",
                            "<tr><td>10847</td><td>71</td><td>288</td><td>5.81</td></tr>",
                            "<tr><td>10882</td><td>71</td><td>77</td><td>1.55</td></tr>",
                            "<tr><td>10894</td><td>71</td><td>198</td><td>3.99</td></tr>",
                            "<tr><td>10941</td><td>71</td><td>204</td><td>4.11</td></tr>",
                            "<tr><td>10983</td><td>71</td><td>99</td><td>2.00</td></tr>",
                            "<tr><td>10984</td><td>71</td><td>115</td><td>2.32</td></tr>",
                            "<tr><td>11002</td><td>71</td><td>135</td><td>2.72</td></tr>",
                            "<tr><td>11030</td><td>71</td><td>330</td><td>6.66</td></tr>",
                            "<tr><td>11031</td><td>71</td><td>182</td><td>3.67</td></tr>",
                            "<tr><td>11064</td><td>71</td><td>173</td><td>3.49</td></tr>",
                            "<tr><td>10359</td><td>72</td><td>206</td><td>25.18</td></tr>",
                            "<tr><td>10377</td><td>72</td><td>40</td><td>4.89</td></tr>",
                            "<tr><td>10388</td><td>72</td><td>75</td><td>9.17</td></tr>",
                            "<tr><td>10472</td><td>72</td><td>98</td><td>11.98</td></tr>",
                            "<tr><td>10523</td><td>72</td><td>64</td><td>7.82</td></tr>",
                            "<tr><td>10547</td><td>72</td><td>84</td><td>10.27</td></tr>",
                            "<tr><td>10800</td><td>72</td><td>67</td><td>8.19</td></tr>",
                            "<tr><td>10804</td><td>72</td><td>64</td><td>7.82</td></tr>",
                            "<tr><td>10869</td><td>72</td><td>120</td><td>14.67</td></tr>",
                            "<tr><td>10341</td><td>73</td><td>17</td><td>4.50</td></tr>",
                            "<tr><td>10417</td><td>73</td><td>123</td><td>32.54</td></tr>",
                            "<tr><td>10556</td><td>73</td><td>24</td><td>6.35</td></tr>",
                            "<tr><td>10642</td><td>73</td><td>50</td><td>13.23</td></tr>",
                            "<tr><td>10669</td><td>73</td><td>30</td><td>7.94</td></tr>",
                            "<tr><td>10802</td><td>73</td><td>120</td><td>31.75</td></tr>",
                            "<tr><td>11074</td><td>73</td><td>14</td><td>3.70</td></tr>",
                            "<tr><td>10738</td><td>74</td><td>3</td><td>6.25</td></tr>",
                            "<tr><td>10907</td><td>74</td><td>14</td><td>29.17</td></tr>",
                            "<tr><td>10964</td><td>74</td><td>21</td><td>43.75</td></tr>",
                            "<tr><td>11043</td><td>74</td><td>10</td><td>20.83</td></tr>",
                            "<tr><td>10271</td><td>75</td><td>24</td><td>7.34</td></tr>",
                            "<tr><td>10329</td><td>75</td><td>50</td><td>15.29</td></tr>",
                            "<tr><td>10349</td><td>75</td><td>24</td><td>7.34</td></tr>",
                            "<tr><td>10369</td><td>75</td><td>38</td><td>11.62</td></tr>",
                            "<tr><td>10385</td><td>75</td><td>38</td><td>11.62</td></tr>",
                            "<tr><td>10432</td><td>75</td><td>50</td><td>15.29</td></tr>",
                            "<tr><td>10756</td><td>75</td><td>67</td><td>20.49</td></tr>",
                            "<tr><td>10821</td><td>75</td><td>26</td><td>7.95</td></tr>",
                            "<tr><td>10974</td><td>75</td><td>10</td><td>3.06</td></tr>",
                            "<tr><td>10252</td><td>76</td><td>105</td><td>9.79</td></tr>",
                            "<tr><td>10302</td><td>76</td><td>80</td><td>7.46</td></tr>",
                            "<tr><td>10458</td><td>76</td><td>145</td><td>13.53</td></tr>",
                            "<tr><td>10463</td><td>76</td><td>71</td><td>6.62</td></tr>",
                            "<tr><td>10475</td><td>76</td><td>137</td><td>12.78</td></tr>",
                            "<tr><td>10767</td><td>76</td><td>2</td><td>0.19</td></tr>",
                            "<tr><td>10841</td><td>76</td><td>111</td><td>10.35</td></tr>",
                            "<tr><td>10846</td><td>76</td><td>71</td><td>6.62</td></tr>",
                            "<tr><td>10885</td><td>76</td><td>87</td><td>8.12</td></tr>",
                            "<tr><td>10930</td><td>76</td><td>116</td><td>10.82</td></tr>",
                            "<tr><td>11035</td><td>76</td><td>110</td><td>10.26</td></tr>",
                            "<tr><td>11038</td><td>76</td><td>37</td><td>3.45</td></tr>",
                            "<tr><td>10310</td><td>77</td><td>15</td><td>32.61</td></tr>",
                            "<tr><td>10708</td><td>77</td><td>9</td><td>19.57</td></tr>",
                            "<tr><td>10805</td><td>77</td><td>20</td><td>43.48</td></tr>",
                            "<tr><td>10992</td><td>77</td><td>2</td><td>4.35</td></tr>",
                            "<tr><td>10624</td><td>78</td><td>26</td><td>44.07</td></tr>",
                            "<tr><td>10775</td><td>78</td><td>9</td><td>15.25</td></tr>",
                            "<tr><td>11003</td><td>78</td><td>24</td><td>40.68</td></tr>",
                            "<tr><td>10249</td><td>79</td><td>49</td><td>19.37</td></tr>",
                            "<tr><td>10438</td><td>79</td><td>50</td><td>19.76</td></tr>",
                            "<tr><td>10446</td><td>79</td><td>50</td><td>19.76</td></tr>",
                            "<tr><td>10548</td><td>79</td><td>24</td><td>9.49</td></tr>",
                            "<tr><td>10608</td><td>79</td><td>28</td><td>11.07</td></tr>",
                            "<tr><td>10967</td><td>79</td><td>52</td><td>20.55</td></tr>",
                            "<tr><td>10276</td><td>80</td><td>25</td><td>6.51</td></tr>",
                            "<tr><td>10293</td><td>80</td><td>33</td><td>8.59</td></tr>",
                            "<tr><td>10304</td><td>80</td><td>42</td><td>10.94</td></tr>",
                            "<tr><td>10319</td><td>80</td><td>52</td><td>13.54</td></tr>",
                            "<tr><td>10518</td><td>80</td><td>29</td><td>7.55</td></tr>",
                            "<tr><td>10576</td><td>80</td><td>51</td><td>13.28</td></tr>",
                            "<tr><td>10676</td><td>80</td><td>30</td><td>7.81</td></tr>",
                            "<tr><td>10842</td><td>80</td><td>52</td><td>13.54</td></tr>",
                            "<tr><td>10915</td><td>80</td><td>50</td><td>13.02</td></tr>",
                            "<tr><td>11069</td><td>80</td><td>20</td><td>5.21</td></tr>",
                            "<tr><td>10292</td><td>81</td><td>20</td><td>7.97</td></tr>",
                            "<tr><td>10496</td><td>81</td><td>20</td><td>7.97</td></tr>",
                            "<tr><td>10606</td><td>81</td><td>50</td><td>19.92</td></tr>",
                            "<tr><td>10830</td><td>81</td><td>88</td><td>35.06</td></tr>",
                            "<tr><td>10834</td><td>81</td><td>28</td><td>11.16</td></tr>",
                            "<tr><td>10839</td><td>81</td><td>45</td><td>17.93</td></tr>",
                            "<tr><td>10574</td><td>82</td><td>32</td><td>35.96</td></tr>",
                            "<tr><td>10577</td><td>82</td><td>48</td><td>53.93</td></tr>",
                            "<tr><td>10822</td><td>82</td><td>9</td><td>10.11</td></tr>",
                            "<tr><td>10367</td><td>83</td><td>76</td><td>9.60</td></tr>",
                            "<tr><td>10399</td><td>83</td><td>139</td><td>17.55</td></tr>",
                            "<tr><td>10465</td><td>83</td><td>118</td><td>14.90</td></tr>",
                            "<tr><td>10591</td><td>83</td><td>74</td><td>9.34</td></tr>",
                            "<tr><td>10602</td><td>83</td><td>5</td><td>0.63</td></tr>",
                            "<tr><td>10688</td><td>83</td><td>92</td><td>11.62</td></tr>",
                            "<tr><td>10744</td><td>83</td><td>50</td><td>6.31</td></tr>",
                            "<tr><td>10769</td><td>83</td><td>80</td><td>10.10</td></tr>",
                            "<tr><td>10921</td><td>83</td><td>50</td><td>6.31</td></tr>",
                            "<tr><td>10946</td><td>83</td><td>90</td><td>11.36</td></tr>",
                            "<tr><td>10994</td><td>83</td><td>18</td><td>2.27</td></tr>",
                            "<tr><td>10251</td><td>84</td><td>41</td><td>9.45</td></tr>",
                            "<tr><td>10334</td><td>84</td><td>18</td><td>4.15</td></tr>",
                            "<tr><td>10450</td><td>84</td><td>26</td><td>5.99</td></tr>",
                            "<tr><td>10459</td><td>84</td><td>76</td><td>17.51</td></tr>",
                            "<tr><td>10478</td><td>84</td><td>20</td><td>4.61</td></tr>",
                            "<tr><td>10546</td><td>84</td><td>80</td><td>18.43</td></tr>",
                            "<tr><td>10806</td><td>84</td><td>37</td><td>8.53</td></tr>",
                            "<tr><td>10814</td><td>84</td><td>78</td><td>17.97</td></tr>",
                            "<tr><td>10843</td><td>84</td><td>4</td><td>0.92</td></tr>",
                            "<tr><td>10850</td><td>84</td><td>54</td><td>12.44</td></tr>",
                            "<tr><td>10248</td><td>85</td><td>27</td><td>27.55</td></tr>",
                            "<tr><td>10274</td><td>85</td><td>27</td><td>27.55</td></tr>",
                            "<tr><td>10295</td><td>85</td><td>4</td><td>4.08</td></tr>",
                            "<tr><td>10737</td><td>85</td><td>16</td><td>16.33</td></tr>",
                            "<tr><td>10739</td><td>85</td><td>24</td><td>24.49</td></tr>",
                            "<tr><td>10301</td><td>86</td><td>30</td><td>6.10</td></tr>",
                            "<tr><td>10312</td><td>86</td><td>58</td><td>11.79</td></tr>",
                            "<tr><td>10348</td><td>86</td><td>40</td><td>8.13</td></tr>",
                            "<tr><td>10356</td><td>86</td><td>62</td><td>12.60</td></tr>",
                            "<tr><td>10513</td><td>86</td><td>105</td><td>21.34</td></tr>",
                            "<tr><td>10632</td><td>86</td><td>50</td><td>10.16</td></tr>",
                            "<tr><td>10640</td><td>86</td><td>35</td><td>7.11</td></tr>",
                            "<tr><td>10651</td><td>86</td><td>32</td><td>6.50</td></tr>",
                            "<tr><td>10668</td><td>86</td><td>27</td><td>5.49</td></tr>",
                            "<tr><td>11046</td><td>86</td><td>53</td><td>10.77</td></tr>",
                            "<tr><td>10266</td><td>87</td><td>12</td><td>1.63</td></tr>",
                            "<tr><td>10270</td><td>87</td><td>55</td><td>7.46</td></tr>",
                            "<tr><td>10320</td><td>87</td><td>30</td><td>4.07</td></tr>",
                            "<tr><td>10333</td><td>87</td><td>60</td><td>8.14</td></tr>",
                            "<tr><td>10412</td><td>87</td><td>20</td><td>2.71</td></tr>",
                            "<tr><td>10416</td><td>87</td><td>50</td><td>6.78</td></tr>",
                            "<tr><td>10437</td><td>87</td><td>15</td><td>2.04</td></tr>",
                            "<tr><td>10455</td><td>87</td><td>125</td><td>16.96</td></tr>",
                            "<tr><td>10526</td><td>87</td><td>48</td><td>6.51</td></tr>",
                            "<tr><td>10553</td><td>87</td><td>89</td><td>12.08</td></tr>",
                            "<tr><td>10583</td><td>87</td><td>44</td><td>5.97</td></tr>",
                            "<tr><td>10636</td><td>87</td><td>31</td><td>4.21</td></tr>",
                            "<tr><td>10750</td><td>87</td><td>70</td><td>9.50</td></tr>",
                            "<tr><td>10781</td><td>87</td><td>58</td><td>7.87</td></tr>",
                            "<tr><td>11025</td><td>87</td><td>30</td><td>4.07</td></tr>",
                            "<tr><td>10256</td><td>88</td><td>27</td><td>10.11</td></tr>",
                            "<tr><td>10420</td><td>88</td><td>50</td><td>18.73</td></tr>",
                            "<tr><td>10585</td><td>88</td><td>15</td><td>5.62</td></tr>",
                            "<tr><td>10644</td><td>88</td><td>45</td><td>16.85</td></tr>",
                            "<tr><td>10803</td><td>88</td><td>54</td><td>20.22</td></tr>",
                            "<tr><td>10809</td><td>88</td><td>20</td><td>7.49</td></tr>",
                            "<tr><td>10900</td><td>88</td><td>3</td><td>1.12</td></tr>",
                            "<tr><td>10905</td><td>88</td><td>20</td><td>7.49</td></tr>",
                            "<tr><td>10935</td><td>88</td><td>33</td><td>12.36</td></tr>",
                            "<tr><td>10269</td><td>89</td><td>80</td><td>7.53</td></tr>",
                            "<tr><td>10344</td><td>89</td><td>105</td><td>9.88</td></tr>",
                            "<tr><td>10469</td><td>89</td><td>77</td><td>7.24</td></tr>",
                            "<tr><td>10483</td><td>89</td><td>65</td><td>6.11</td></tr>",
                            "<tr><td>10504</td><td>89</td><td>59</td><td>5.55</td></tr>",
                            "<tr><td>10596</td><td>89</td><td>59</td><td>5.55</td></tr>",
                            "<tr><td>10693</td><td>89</td><td>111</td><td>10.44</td></tr>",
                            "<tr><td>10696</td><td>89</td><td>38</td><td>3.57</td></tr>",
                            "<tr><td>10723</td><td>89</td><td>15</td><td>1.41</td></tr>",
                            "<tr><td>10740</td><td>89</td><td>94</td><td>8.84</td></tr>",
                            "<tr><td>10861</td><td>89</td><td>140</td><td>13.17</td></tr>",
                            "<tr><td>10904</td><td>89</td><td>50</td><td>4.70</td></tr>",
                            "<tr><td>11032</td><td>89</td><td>90</td><td>8.47</td></tr>",
                            "<tr><td>11066</td><td>89</td><td>80</td><td>7.53</td></tr>",
                            "<tr><td>10615</td><td>90</td><td>5</td><td>3.38</td></tr>",
                            "<tr><td>10673</td><td>90</td><td>15</td><td>10.14</td></tr>",
                            "<tr><td>10695</td><td>90</td><td>34</td><td>22.97</td></tr>",
                            "<tr><td>10873</td><td>90</td><td>23</td><td>15.54</td></tr>",
                            "<tr><td>10879</td><td>90</td><td>32</td><td>21.62</td></tr>",
                            "<tr><td>10910</td><td>90</td><td>27</td><td>18.24</td></tr>",
                            "<tr><td>11005</td><td>90</td><td>12</td><td>8.11</td></tr>",
                            "<tr><td>10374</td><td>91</td><td>45</td><td>21.95</td></tr>",
                            "<tr><td>10611</td><td>91</td><td>31</td><td>15.12</td></tr>",
                            "<tr><td>10792</td><td>91</td><td>28</td><td>13.66</td></tr>",
                            "<tr><td>10870</td><td>91</td><td>5</td><td>2.44</td></tr>",
                            "<tr><td>10906</td><td>91</td><td>15</td><td>7.32</td></tr>",
                            "<tr><td>10998</td><td>91</td><td>69</td><td>33.66</td></tr>",
                            "<tr><td>11044</td><td>91</td><td>12</td><td>5.85</td></tr>",
                            "</table>"
                        ]
                    }
                }
            ],
            "execution_count": 50
        },
        {
            "cell_type": "markdown",
            "source": [
                "12) **Customers from Spain who placed orders.**"
            ],
            "metadata": {
                "language": "sql",
                "azdata_cell_guid": "ecad2eff-b5a7-443b-b13c-09f988575703"
            },
            "attachments": {}
        },
        {
            "cell_type": "code",
            "source": [
                "use Northwinds2022TSQLV7\n",
                "\n",
                "-- all customers from spain\n",
                "-- select CustomerId, CustomerCompanyName\n",
                "-- from Sales.Customer as C \n",
                "-- where C.CustomerCountry = N'Spain'\n",
                "--     and exists --filter on condition below, it must exist before we return\n",
                "--     (\n",
                "--         --find an order associated with the customer\n",
                "--         select  * from Sales.[Order] as O\n",
                "--         where O.CustomerId = C.CustomerId\n",
                "--     )\n",
                "\n",
                "select  * from Sales.[Order] as O\n",
                "        where O.CustomerId = 85"
            ],
            "metadata": {
                "language": "sql",
                "azdata_cell_guid": "ce052fa3-9e33-4727-b1ec-22232d940a87"
            },
            "outputs": [
                {
                    "output_type": "display_data",
                    "data": {
                        "text/html": "(5 rows affected)"
                    },
                    "metadata": {}
                },
                {
                    "output_type": "display_data",
                    "data": {
                        "text/html": "Total execution time: 00:00:00.017"
                    },
                    "metadata": {}
                },
                {
                    "output_type": "execute_result",
                    "metadata": {},
                    "execution_count": 62,
                    "data": {
                        "application/vnd.dataresource+json": {
                            "schema": {
                                "fields": [
                                    {
                                        "name": "OrderId"
                                    },
                                    {
                                        "name": "CustomerId"
                                    },
                                    {
                                        "name": "EmployeeId"
                                    },
                                    {
                                        "name": "ShipperId"
                                    },
                                    {
                                        "name": "OrderDate"
                                    },
                                    {
                                        "name": "RequiredDate"
                                    },
                                    {
                                        "name": "ShipToDate"
                                    },
                                    {
                                        "name": "Freight"
                                    },
                                    {
                                        "name": "ShipToName"
                                    },
                                    {
                                        "name": "ShipToAddress"
                                    },
                                    {
                                        "name": "ShipToCity"
                                    },
                                    {
                                        "name": "ShipToRegion"
                                    },
                                    {
                                        "name": "ShipToPostalCode"
                                    },
                                    {
                                        "name": "ShipToCountry"
                                    },
                                    {
                                        "name": "UserAuthenticationId"
                                    },
                                    {
                                        "name": "DateAdded"
                                    },
                                    {
                                        "name": "DateOfLastUpdate"
                                    }
                                ]
                            },
                            "data": [
                                {
                                    "0": "10248",
                                    "1": "85",
                                    "2": "5",
                                    "3": "3",
                                    "4": "2014-07-04",
                                    "5": "2014-08-01",
                                    "6": "2014-07-16",
                                    "7": "32.38",
                                    "8": "Ship to 85-B",
                                    "9": "6789 rue de l'Abbaye",
                                    "10": "Reims",
                                    "11": "NULL",
                                    "12": "10345",
                                    "13": "France",
                                    "14": "NULL",
                                    "15": "NULL",
                                    "16": "NULL"
                                },
                                {
                                    "0": "10274",
                                    "1": "85",
                                    "2": "6",
                                    "3": "1",
                                    "4": "2014-08-06",
                                    "5": "2014-09-03",
                                    "6": "2014-08-16",
                                    "7": "6.01",
                                    "8": "Ship to 85-B",
                                    "9": "6789 rue de l'Abbaye",
                                    "10": "Reims",
                                    "11": "NULL",
                                    "12": "10345",
                                    "13": "France",
                                    "14": "NULL",
                                    "15": "NULL",
                                    "16": "NULL"
                                },
                                {
                                    "0": "10295",
                                    "1": "85",
                                    "2": "2",
                                    "3": "2",
                                    "4": "2014-09-02",
                                    "5": "2014-09-30",
                                    "6": "2014-09-10",
                                    "7": "1.15",
                                    "8": "Ship to 85-C",
                                    "9": "7890 rue de l'Abbaye",
                                    "10": "Reims",
                                    "11": "NULL",
                                    "12": "10346",
                                    "13": "France",
                                    "14": "NULL",
                                    "15": "NULL",
                                    "16": "NULL"
                                },
                                {
                                    "0": "10737",
                                    "1": "85",
                                    "2": "2",
                                    "3": "2",
                                    "4": "2015-11-11",
                                    "5": "2015-12-09",
                                    "6": "2015-11-18",
                                    "7": "7.79",
                                    "8": "Ship to 85-C",
                                    "9": "7890 rue de l'Abbaye",
                                    "10": "Reims",
                                    "11": "NULL",
                                    "12": "10346",
                                    "13": "France",
                                    "14": "NULL",
                                    "15": "NULL",
                                    "16": "NULL"
                                },
                                {
                                    "0": "10739",
                                    "1": "85",
                                    "2": "3",
                                    "3": "3",
                                    "4": "2015-11-12",
                                    "5": "2015-12-10",
                                    "6": "2015-11-17",
                                    "7": "11.08",
                                    "8": "Ship to 85-C",
                                    "9": "7890 rue de l'Abbaye",
                                    "10": "Reims",
                                    "11": "NULL",
                                    "12": "10346",
                                    "13": "France",
                                    "14": "NULL",
                                    "15": "NULL",
                                    "16": "NULL"
                                }
                            ]
                        },
                        "text/html": [
                            "<table>",
                            "<tr><th>OrderId</th><th>CustomerId</th><th>EmployeeId</th><th>ShipperId</th><th>OrderDate</th><th>RequiredDate</th><th>ShipToDate</th><th>Freight</th><th>ShipToName</th><th>ShipToAddress</th><th>ShipToCity</th><th>ShipToRegion</th><th>ShipToPostalCode</th><th>ShipToCountry</th><th>UserAuthenticationId</th><th>DateAdded</th><th>DateOfLastUpdate</th></tr>",
                            "<tr><td>10248</td><td>85</td><td>5</td><td>3</td><td>2014-07-04</td><td>2014-08-01</td><td>2014-07-16</td><td>32.38</td><td>Ship to 85-B</td><td>6789 rue de l'Abbaye</td><td>Reims</td><td>NULL</td><td>10345</td><td>France</td><td>NULL</td><td>NULL</td><td>NULL</td></tr>",
                            "<tr><td>10274</td><td>85</td><td>6</td><td>1</td><td>2014-08-06</td><td>2014-09-03</td><td>2014-08-16</td><td>6.01</td><td>Ship to 85-B</td><td>6789 rue de l'Abbaye</td><td>Reims</td><td>NULL</td><td>10345</td><td>France</td><td>NULL</td><td>NULL</td><td>NULL</td></tr>",
                            "<tr><td>10295</td><td>85</td><td>2</td><td>2</td><td>2014-09-02</td><td>2014-09-30</td><td>2014-09-10</td><td>1.15</td><td>Ship to 85-C</td><td>7890 rue de l'Abbaye</td><td>Reims</td><td>NULL</td><td>10346</td><td>France</td><td>NULL</td><td>NULL</td><td>NULL</td></tr>",
                            "<tr><td>10737</td><td>85</td><td>2</td><td>2</td><td>2015-11-11</td><td>2015-12-09</td><td>2015-11-18</td><td>7.79</td><td>Ship to 85-C</td><td>7890 rue de l'Abbaye</td><td>Reims</td><td>NULL</td><td>10346</td><td>France</td><td>NULL</td><td>NULL</td><td>NULL</td></tr>",
                            "<tr><td>10739</td><td>85</td><td>3</td><td>3</td><td>2015-11-12</td><td>2015-12-10</td><td>2015-11-17</td><td>11.08</td><td>Ship to 85-C</td><td>7890 rue de l'Abbaye</td><td>Reims</td><td>NULL</td><td>10346</td><td>France</td><td>NULL</td><td>NULL</td><td>NULL</td></tr>",
                            "</table>"
                        ]
                    }
                }
            ],
            "execution_count": 62
        },
        {
            "cell_type": "markdown",
            "source": [
                "13) **Customer froms Spain who didn't place orders.**"
            ],
            "metadata": {
                "language": "sql",
                "azdata_cell_guid": "fbed57b4-16d5-4fca-88e6-ddd4b3194448"
            },
            "attachments": {}
        },
        {
            "cell_type": "code",
            "source": [
                "use Northwinds2022TSQLV7\n",
                "\n",
                "-- all customers from spain\n",
                "select CustomerId, CustomerCompanyName\n",
                "from Sales.Customer as C \n",
                "where C.CustomerCountry = N'Spain'\n",
                "    and not exists --filter on condition below, it must exist before we return\n",
                "    (\n",
                "        --find an order associated with the customer\n",
                "        select  * from Sales.[Order] as O\n",
                "        where O.CustomerId = C.CustomerId\n",
                "    )"
            ],
            "metadata": {
                "language": "sql",
                "azdata_cell_guid": "8ea7b1a3-1ffa-4873-9fb2-81eca37c8572"
            },
            "outputs": [
                {
                    "output_type": "display_data",
                    "data": {
                        "text/html": "(1 row affected)"
                    },
                    "metadata": {}
                },
                {
                    "output_type": "display_data",
                    "data": {
                        "text/html": "Total execution time: 00:00:00.025"
                    },
                    "metadata": {}
                },
                {
                    "output_type": "execute_result",
                    "metadata": {},
                    "execution_count": 60,
                    "data": {
                        "application/vnd.dataresource+json": {
                            "schema": {
                                "fields": [
                                    {
                                        "name": "CustomerId"
                                    },
                                    {
                                        "name": "CustomerCompanyName"
                                    }
                                ]
                            },
                            "data": [
                                {
                                    "0": "22",
                                    "1": "Customer DTDMN"
                                }
                            ]
                        },
                        "text/html": [
                            "<table>",
                            "<tr><th>CustomerId</th><th>CustomerCompanyName</th></tr>",
                            "<tr><td>22</td><td>Customer DTDMN</td></tr>",
                            "</table>"
                        ]
                    }
                }
            ],
            "execution_count": 60
        }
    ]
}