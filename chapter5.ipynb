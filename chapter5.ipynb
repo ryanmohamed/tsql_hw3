{
    "metadata": {
        "kernelspec": {
            "name": "SQL",
            "display_name": "SQL",
            "language": "sql"
        },
        "language_info": {
            "name": "sql",
            "version": ""
        }
    },
    "nbformat_minor": 2,
    "nbformat": 4,
    "cells": [
        {
            "cell_type": "markdown",
            "source": [
                "1) **Derives a new table of US Customers called USACusts.** notice here we're using the derived table recieved from a subquery in our FROM clause."
            ],
            "metadata": {
                "language": "sql",
                "azdata_cell_guid": "b7cee0e1-50c5-495f-9991-14d84c9a213a"
            },
            "attachments": {}
        },
        {
            "cell_type": "code",
            "source": [
                "use Northwinds2022TSQLV7\n",
                "\n",
                "select *\n",
                "from (\n",
                "    select Customerid, CustomerCompanyName\n",
                "    from Sales.Customer\n",
                "    where CustomerCountry = N'USA'\n",
                ") as USACusts"
            ],
            "metadata": {
                "azdata_cell_guid": "2839f6a1-21e8-4ce8-a040-7189df42c2b6",
                "language": "sql"
            },
            "outputs": [
                {
                    "output_type": "display_data",
                    "data": {
                        "text/html": "(13 rows affected)"
                    },
                    "metadata": {}
                },
                {
                    "output_type": "display_data",
                    "data": {
                        "text/html": "Total execution time: 00:00:00.018"
                    },
                    "metadata": {}
                },
                {
                    "output_type": "execute_result",
                    "execution_count": 2,
                    "data": {
                        "application/vnd.dataresource+json": {
                            "schema": {
                                "fields": [
                                    {
                                        "name": "Customerid"
                                    },
                                    {
                                        "name": "CustomerCompanyName"
                                    }
                                ]
                            },
                            "data": [
                                {
                                    "0": "32",
                                    "1": "Customer YSIQX"
                                },
                                {
                                    "0": "36",
                                    "1": "Customer LVJSO"
                                },
                                {
                                    "0": "43",
                                    "1": "Customer UISOJ"
                                },
                                {
                                    "0": "45",
                                    "1": "Customer QXPPT"
                                },
                                {
                                    "0": "48",
                                    "1": "Customer DVFMB"
                                },
                                {
                                    "0": "55",
                                    "1": "Customer KZQZT"
                                },
                                {
                                    "0": "65",
                                    "1": "Customer NYUHS"
                                },
                                {
                                    "0": "71",
                                    "1": "Customer LCOUJ"
                                },
                                {
                                    "0": "75",
                                    "1": "Customer XOJYP"
                                },
                                {
                                    "0": "77",
                                    "1": "Customer LCYBZ"
                                },
                                {
                                    "0": "78",
                                    "1": "Customer NLTYP"
                                },
                                {
                                    "0": "82",
                                    "1": "Customer EYHKM"
                                },
                                {
                                    "0": "89",
                                    "1": "Customer YBQTI"
                                }
                            ]
                        },
                        "text/html": "<table><tr><th>Customerid</th><th>CustomerCompanyName</th></tr><tr><td>32</td><td>Customer YSIQX</td></tr><tr><td>36</td><td>Customer LVJSO</td></tr><tr><td>43</td><td>Customer UISOJ</td></tr><tr><td>45</td><td>Customer QXPPT</td></tr><tr><td>48</td><td>Customer DVFMB</td></tr><tr><td>55</td><td>Customer KZQZT</td></tr><tr><td>65</td><td>Customer NYUHS</td></tr><tr><td>71</td><td>Customer LCOUJ</td></tr><tr><td>75</td><td>Customer XOJYP</td></tr><tr><td>77</td><td>Customer LCYBZ</td></tr><tr><td>78</td><td>Customer NLTYP</td></tr><tr><td>82</td><td>Customer EYHKM</td></tr><tr><td>89</td><td>Customer YBQTI</td></tr></table>"
                    },
                    "metadata": {}
                }
            ],
            "execution_count": 2
        },
        {
            "cell_type": "markdown",
            "source": [
                "2) **Derives a table for each years number of customers.** Makes use of inline aliasing, take a peek at comments."
            ],
            "metadata": {
                "language": "sql",
                "azdata_cell_guid": "0287d04d-9517-487a-9902-c6d613d87486"
            },
            "attachments": {}
        },
        {
            "cell_type": "code",
            "source": [
                "use Northwinds2022TSQLV7\n",
                "\n",
                "-- select YEAR(OrderDate) as orderyear,\n",
                "--     COUNT(distinct CustomerId) as numcusts\n",
                "-- from Sales.[Order]\n",
                "-- group by orderyear --obv we'll get a parsing error\n",
                "\n",
                "select orderyear,\n",
                "    COUNT(distinct custid) as numcusts\n",
                "from (\n",
                "    --years each customer has ordered\n",
                "    select YEAR(OrderDate) as orderyear,\n",
                "        CustomerId as custid --these lines will execute before our first statement so hence the aliasing is possible\n",
                "    from Sales.[Order]\n",
                ") as D\n",
                "group by orderyear"
            ],
            "metadata": {
                "language": "sql",
                "azdata_cell_guid": "aad8d8ee-7d48-4783-9dd1-f3b095a197fc"
            },
            "outputs": [
                {
                    "output_type": "display_data",
                    "data": {
                        "text/html": "(3 rows affected)"
                    },
                    "metadata": {}
                },
                {
                    "output_type": "display_data",
                    "data": {
                        "text/html": "Total execution time: 00:00:00.026"
                    },
                    "metadata": {}
                },
                {
                    "output_type": "execute_result",
                    "execution_count": 13,
                    "data": {
                        "application/vnd.dataresource+json": {
                            "schema": {
                                "fields": [
                                    {
                                        "name": "orderyear"
                                    },
                                    {
                                        "name": "numcusts"
                                    }
                                ]
                            },
                            "data": [
                                {
                                    "0": "2014",
                                    "1": "67"
                                },
                                {
                                    "0": "2015",
                                    "1": "86"
                                },
                                {
                                    "0": "2016",
                                    "1": "81"
                                }
                            ]
                        },
                        "text/html": "<table><tr><th>orderyear</th><th>numcusts</th></tr><tr><td>2014</td><td>67</td></tr><tr><td>2015</td><td>86</td></tr><tr><td>2016</td><td>81</td></tr></table>"
                    },
                    "metadata": {}
                }
            ],
            "execution_count": 13
        },
        {
            "cell_type": "markdown",
            "source": [
                "3) **External column aliasing, does same as above.**"
            ],
            "metadata": {
                "language": "sql",
                "azdata_cell_guid": "a0fda836-1ecf-4577-8db9-71e3e830ed43"
            },
            "attachments": {}
        },
        {
            "cell_type": "code",
            "source": [
                "use Northwinds2022TSQLV7\n",
                "\n",
                "select orderyear, count(distinct custid) as numcusts\n",
                "from (\n",
                "    select year(OrderDate), CustomerId --notice we dont alias here\n",
                "    from Sales.[Order] \n",
                ") as D (orderyear, custid) -- but here after we return the derived table!\n",
                "group by orderyear"
            ],
            "metadata": {
                "language": "sql",
                "azdata_cell_guid": "8330e133-0340-4a4a-ae4d-4a7f0579a505"
            },
            "outputs": [
                {
                    "output_type": "display_data",
                    "data": {
                        "text/html": "(3 rows affected)"
                    },
                    "metadata": {}
                },
                {
                    "output_type": "display_data",
                    "data": {
                        "text/html": "Total execution time: 00:00:00.046"
                    },
                    "metadata": {}
                },
                {
                    "output_type": "execute_result",
                    "execution_count": 16,
                    "data": {
                        "application/vnd.dataresource+json": {
                            "schema": {
                                "fields": [
                                    {
                                        "name": "orderyear"
                                    },
                                    {
                                        "name": "numcusts"
                                    }
                                ]
                            },
                            "data": [
                                {
                                    "0": "2014",
                                    "1": "67"
                                },
                                {
                                    "0": "2015",
                                    "1": "86"
                                },
                                {
                                    "0": "2016",
                                    "1": "81"
                                }
                            ]
                        },
                        "text/html": "<table><tr><th>orderyear</th><th>numcusts</th></tr><tr><td>2014</td><td>67</td></tr><tr><td>2015</td><td>86</td></tr><tr><td>2016</td><td>81</td></tr></table>"
                    },
                    "metadata": {}
                }
            ],
            "execution_count": 16
        },
        {
            "cell_type": "markdown",
            "source": [
                "4) **Yearly count of customers handled by Employee 3.** Uses arguments."
            ],
            "metadata": {
                "language": "sql",
                "azdata_cell_guid": "91337dda-ca6a-4a84-aedd-3b5fb18ffa8f"
            },
            "attachments": {}
        },
        {
            "cell_type": "code",
            "source": [
                "use Northwinds2022TSQLV7\n",
                "\n",
                "DECLARE @empid AS INT = 3; --used as an argument for the table we derive\n",
                "\n",
                "SELECT orderyear, COUNT(DISTINCT custid) AS numcusts\n",
                "FROM (SELECT YEAR(OrderDate) AS orderyear, \n",
                "        CustomerId as custid\n",
                "      FROM Sales.[Order]\n",
                "      WHERE EmployeeId = @empid) AS D\n",
                "GROUP BY orderyear;\n",
                "GO"
            ],
            "metadata": {
                "language": "sql",
                "azdata_cell_guid": "baee2a11-8da6-49ba-8f94-4a5ec8099829"
            },
            "outputs": [
                {
                    "output_type": "display_data",
                    "data": {
                        "text/html": "(3 rows affected)"
                    },
                    "metadata": {}
                },
                {
                    "output_type": "display_data",
                    "data": {
                        "text/html": "Total execution time: 00:00:00.017"
                    },
                    "metadata": {}
                },
                {
                    "output_type": "execute_result",
                    "execution_count": 20,
                    "data": {
                        "application/vnd.dataresource+json": {
                            "schema": {
                                "fields": [
                                    {
                                        "name": "orderyear"
                                    },
                                    {
                                        "name": "numcusts"
                                    }
                                ]
                            },
                            "data": [
                                {
                                    "0": "2014",
                                    "1": "16"
                                },
                                {
                                    "0": "2015",
                                    "1": "46"
                                },
                                {
                                    "0": "2016",
                                    "1": "30"
                                }
                            ]
                        },
                        "text/html": "<table><tr><th>orderyear</th><th>numcusts</th></tr><tr><td>2014</td><td>16</td></tr><tr><td>2015</td><td>46</td></tr><tr><td>2016</td><td>30</td></tr></table>"
                    },
                    "metadata": {}
                }
            ],
            "execution_count": 20
        },
        {
            "cell_type": "markdown",
            "source": [
                "5) **Years where number of customers exceeds 70.** Using nested derived tables for inline aliasing, notice how the top layer is easiest to read."
            ],
            "metadata": {
                "language": "sql",
                "azdata_cell_guid": "c360cb7c-2f82-43fa-9a40-76a66928193a"
            },
            "attachments": {}
        },
        {
            "cell_type": "code",
            "source": [
                "use Northwinds2022TSQLV7\n",
                "\n",
                "SELECT orderyear, numcusts\n",
                "FROM (SELECT orderyear, COUNT(DISTINCT custid) AS numcusts\n",
                "      FROM (SELECT YEAR(OrderDate) AS orderyear, \n",
                "                CustomerId as custid\n",
                "            FROM Sales.[Order]) AS D1\n",
                "      GROUP BY orderyear) AS D2\n",
                "WHERE numcusts > 70;"
            ],
            "metadata": {
                "language": "sql",
                "azdata_cell_guid": "e5eea45d-ab0e-474d-a715-ec1ed7cb2765"
            },
            "outputs": [
                {
                    "output_type": "display_data",
                    "data": {
                        "text/html": "(2 rows affected)"
                    },
                    "metadata": {}
                },
                {
                    "output_type": "display_data",
                    "data": {
                        "text/html": "Total execution time: 00:00:00.033"
                    },
                    "metadata": {}
                },
                {
                    "output_type": "execute_result",
                    "execution_count": 21,
                    "data": {
                        "application/vnd.dataresource+json": {
                            "schema": {
                                "fields": [
                                    {
                                        "name": "orderyear"
                                    },
                                    {
                                        "name": "numcusts"
                                    }
                                ]
                            },
                            "data": [
                                {
                                    "0": "2015",
                                    "1": "86"
                                },
                                {
                                    "0": "2016",
                                    "1": "81"
                                }
                            ]
                        },
                        "text/html": "<table><tr><th>orderyear</th><th>numcusts</th></tr><tr><td>2015</td><td>86</td></tr><tr><td>2016</td><td>81</td></tr></table>"
                    },
                    "metadata": {}
                }
            ],
            "execution_count": 21
        },
        {
            "cell_type": "markdown",
            "source": [
                "6) **Same as above, but not as readable as you can see due to top level aliasing.**"
            ],
            "metadata": {
                "language": "sql",
                "azdata_cell_guid": "565bff19-0a55-44bc-8e82-9e9ed530c1bc"
            },
            "attachments": {}
        },
        {
            "cell_type": "code",
            "source": [
                "use Northwinds2022TSQLV7\n",
                "\n",
                "SELECT YEAR(OrderDate) AS orderyear, COUNT(DISTINCT CustomerId) AS numcusts\n",
                "FROM Sales.[Order]\n",
                "GROUP BY YEAR(OrderDate)\n",
                "HAVING COUNT(DISTINCT CustomerId) > 70;"
            ],
            "metadata": {
                "language": "sql",
                "azdata_cell_guid": "1c9f4811-398f-4c18-a238-0fafa609954d"
            },
            "outputs": [
                {
                    "output_type": "display_data",
                    "data": {
                        "text/html": "(2 rows affected)"
                    },
                    "metadata": {}
                },
                {
                    "output_type": "display_data",
                    "data": {
                        "text/html": "Total execution time: 00:00:00.022"
                    },
                    "metadata": {}
                },
                {
                    "output_type": "execute_result",
                    "execution_count": 22,
                    "data": {
                        "application/vnd.dataresource+json": {
                            "schema": {
                                "fields": [
                                    {
                                        "name": "orderyear"
                                    },
                                    {
                                        "name": "numcusts"
                                    }
                                ]
                            },
                            "data": [
                                {
                                    "0": "2015",
                                    "1": "86"
                                },
                                {
                                    "0": "2016",
                                    "1": "81"
                                }
                            ]
                        },
                        "text/html": "<table><tr><th>orderyear</th><th>numcusts</th></tr><tr><td>2015</td><td>86</td></tr><tr><td>2016</td><td>81</td></tr></table>"
                    },
                    "metadata": {}
                }
            ],
            "execution_count": 22
        },
        {
            "cell_type": "markdown",
            "source": [
                "7. **Number of current customers, previous customer, and growth of customers for each year.** Using two subquery to create tables of current customers, previous customers, uses left join to combine row with certain criteria, preserves NULLS."
            ],
            "metadata": {
                "language": "sql",
                "azdata_cell_guid": "944823ba-03e3-434a-9b4c-624e6cda545d"
            },
            "attachments": {}
        },
        {
            "cell_type": "code",
            "source": [
                "use Northwinds2022TSQLV7\n",
                "\n",
                "SELECT Cur.orderyear, \n",
                "  Cur.numcusts AS curnumcusts, Prv.numcusts AS prvnumcusts,\n",
                "  Cur.numcusts - Prv.numcusts AS growth\n",
                "FROM (SELECT YEAR(OrderDate) AS orderyear,\n",
                "        COUNT(DISTINCT CustomerId) AS numcusts\n",
                "      FROM Sales.[Order]\n",
                "      GROUP BY YEAR(OrderDate)) AS Cur\n",
                "  LEFT OUTER JOIN --we use left join to preserve rows and nulls, so as to not discard\n",
                "     (SELECT YEAR(OrderDate) AS orderyear,\n",
                "        COUNT(DISTINCT CustomerId) AS numcusts\n",
                "      FROM Sales.[Order]\n",
                "      GROUP BY YEAR(OrderDate)) AS Prv\n",
                "    ON Cur.orderyear = Prv.orderyear + 1;\n",
                ""
            ],
            "metadata": {
                "language": "sql",
                "azdata_cell_guid": "657df046-f768-4876-bb8e-ea668de4f908",
                "tags": []
            },
            "outputs": [
                {
                    "output_type": "display_data",
                    "data": {
                        "text/html": "(3 rows affected)"
                    },
                    "metadata": {}
                },
                {
                    "output_type": "display_data",
                    "data": {
                        "text/html": "Total execution time: 00:00:00.036"
                    },
                    "metadata": {}
                },
                {
                    "output_type": "execute_result",
                    "execution_count": 31,
                    "data": {
                        "application/vnd.dataresource+json": {
                            "schema": {
                                "fields": [
                                    {
                                        "name": "orderyear"
                                    },
                                    {
                                        "name": "curnumcusts"
                                    },
                                    {
                                        "name": "prvnumcusts"
                                    },
                                    {
                                        "name": "growth"
                                    }
                                ]
                            },
                            "data": [
                                {
                                    "0": "2014",
                                    "1": "67",
                                    "2": "NULL",
                                    "3": "NULL"
                                },
                                {
                                    "0": "2015",
                                    "1": "86",
                                    "2": "67",
                                    "3": "19"
                                },
                                {
                                    "0": "2016",
                                    "1": "81",
                                    "2": "86",
                                    "3": "-5"
                                }
                            ]
                        },
                        "text/html": "<table><tr><th>orderyear</th><th>curnumcusts</th><th>prvnumcusts</th><th>growth</th></tr><tr><td>2014</td><td>67</td><td>NULL</td><td>NULL</td></tr><tr><td>2015</td><td>86</td><td>67</td><td>19</td></tr><tr><td>2016</td><td>81</td><td>86</td><td>-5</td></tr></table>"
                    },
                    "metadata": {}
                }
            ],
            "execution_count": 31
        },
        {
            "cell_type": "markdown",
            "source": [
                "8. **Create USACusts as derived table using COMMON table expressions.**"
            ],
            "metadata": {
                "language": "sql",
                "azdata_cell_guid": "0a57a6dd-8f6e-49e7-9405-bb6fbdeb87da"
            },
            "attachments": {}
        },
        {
            "cell_type": "code",
            "source": [
                "use Northwinds2022TSQLV7;\n",
                "\n",
                "WITH USACusts AS\n",
                "(\n",
                "  SELECT CustomerId, CustomerCompanyName\n",
                "  FROM Sales.Customer\n",
                "  WHERE CustomerCountry = N'USA'\n",
                ")\n",
                "SELECT * FROM USACusts;"
            ],
            "metadata": {
                "language": "sql",
                "azdata_cell_guid": "48a865d0-ae07-48a5-a6e5-0a111697dced"
            },
            "outputs": [
                {
                    "output_type": "display_data",
                    "data": {
                        "text/html": "(13 rows affected)"
                    },
                    "metadata": {}
                },
                {
                    "output_type": "display_data",
                    "data": {
                        "text/html": "Total execution time: 00:00:00.027"
                    },
                    "metadata": {}
                },
                {
                    "output_type": "execute_result",
                    "execution_count": 24,
                    "data": {
                        "application/vnd.dataresource+json": {
                            "schema": {
                                "fields": [
                                    {
                                        "name": "CustomerId"
                                    },
                                    {
                                        "name": "CustomerCompanyName"
                                    }
                                ]
                            },
                            "data": [
                                {
                                    "0": "32",
                                    "1": "Customer YSIQX"
                                },
                                {
                                    "0": "36",
                                    "1": "Customer LVJSO"
                                },
                                {
                                    "0": "43",
                                    "1": "Customer UISOJ"
                                },
                                {
                                    "0": "45",
                                    "1": "Customer QXPPT"
                                },
                                {
                                    "0": "48",
                                    "1": "Customer DVFMB"
                                },
                                {
                                    "0": "55",
                                    "1": "Customer KZQZT"
                                },
                                {
                                    "0": "65",
                                    "1": "Customer NYUHS"
                                },
                                {
                                    "0": "71",
                                    "1": "Customer LCOUJ"
                                },
                                {
                                    "0": "75",
                                    "1": "Customer XOJYP"
                                },
                                {
                                    "0": "77",
                                    "1": "Customer LCYBZ"
                                },
                                {
                                    "0": "78",
                                    "1": "Customer NLTYP"
                                },
                                {
                                    "0": "82",
                                    "1": "Customer EYHKM"
                                },
                                {
                                    "0": "89",
                                    "1": "Customer YBQTI"
                                }
                            ]
                        },
                        "text/html": "<table><tr><th>CustomerId</th><th>CustomerCompanyName</th></tr><tr><td>32</td><td>Customer YSIQX</td></tr><tr><td>36</td><td>Customer LVJSO</td></tr><tr><td>43</td><td>Customer UISOJ</td></tr><tr><td>45</td><td>Customer QXPPT</td></tr><tr><td>48</td><td>Customer DVFMB</td></tr><tr><td>55</td><td>Customer KZQZT</td></tr><tr><td>65</td><td>Customer NYUHS</td></tr><tr><td>71</td><td>Customer LCOUJ</td></tr><tr><td>75</td><td>Customer XOJYP</td></tr><tr><td>77</td><td>Customer LCYBZ</td></tr><tr><td>78</td><td>Customer NLTYP</td></tr><tr><td>82</td><td>Customer EYHKM</td></tr><tr><td>89</td><td>Customer YBQTI</td></tr></table>"
                    },
                    "metadata": {}
                }
            ],
            "execution_count": 24
        },
        {
            "cell_type": "markdown",
            "source": [
                "9. **Yearly count of customers.** Table expressions and INLINE column aliasing."
            ],
            "metadata": {
                "language": "sql",
                "azdata_cell_guid": "c408cf72-0d72-469d-ba52-8480f64a6cf4"
            },
            "attachments": {}
        },
        {
            "cell_type": "code",
            "source": [
                "use Northwinds2022TSQLV7;\n",
                "\n",
                "WITH C AS\n",
                "(\n",
                "  SELECT YEAR(OrderDate) AS orderyear, \n",
                "        CustomerId as custid\n",
                "  FROM Sales.[Order]\n",
                ")\n",
                "SELECT orderyear, COUNT(DISTINCT custid) AS numcusts\n",
                "FROM C\n",
                "GROUP BY orderyear;"
            ],
            "metadata": {
                "language": "sql",
                "azdata_cell_guid": "de118077-d481-449f-abf1-da4160482f55"
            },
            "outputs": [
                {
                    "output_type": "display_data",
                    "data": {
                        "text/html": "(3 rows affected)"
                    },
                    "metadata": {}
                },
                {
                    "output_type": "display_data",
                    "data": {
                        "text/html": "Total execution time: 00:00:00.030"
                    },
                    "metadata": {}
                },
                {
                    "output_type": "execute_result",
                    "execution_count": 26,
                    "data": {
                        "application/vnd.dataresource+json": {
                            "schema": {
                                "fields": [
                                    {
                                        "name": "orderyear"
                                    },
                                    {
                                        "name": "numcusts"
                                    }
                                ]
                            },
                            "data": [
                                {
                                    "0": "2014",
                                    "1": "67"
                                },
                                {
                                    "0": "2015",
                                    "1": "86"
                                },
                                {
                                    "0": "2016",
                                    "1": "81"
                                }
                            ]
                        },
                        "text/html": "<table><tr><th>orderyear</th><th>numcusts</th></tr><tr><td>2014</td><td>67</td></tr><tr><td>2015</td><td>86</td></tr><tr><td>2016</td><td>81</td></tr></table>"
                    },
                    "metadata": {}
                }
            ],
            "execution_count": 26
        },
        {
            "cell_type": "markdown",
            "source": [
                "10) **Yearly count of customers.** Table expression and EXTERNAL column aliasing."
            ],
            "metadata": {
                "language": "sql",
                "azdata_cell_guid": "3ab9c162-f10b-49a4-9508-ad9f290a9c65"
            },
            "attachments": {}
        },
        {
            "cell_type": "code",
            "source": [
                "use Northwinds2022TSQLV7;\n",
                "\n",
                "WITH C(orderyear, custid) AS\n",
                "(\n",
                "  SELECT YEAR(OrderDate), CustomerId\n",
                "  FROM Sales.[Order]\n",
                ")\n",
                "SELECT orderyear, COUNT(DISTINCT custid) AS numcusts\n",
                "FROM C\n",
                "GROUP BY orderyear;"
            ],
            "metadata": {
                "language": "sql",
                "azdata_cell_guid": "701a5140-1891-472b-80dc-576a98276435"
            },
            "outputs": [
                {
                    "output_type": "display_data",
                    "data": {
                        "text/html": "(3 rows affected)"
                    },
                    "metadata": {}
                },
                {
                    "output_type": "display_data",
                    "data": {
                        "text/html": "Total execution time: 00:00:00.031"
                    },
                    "metadata": {}
                },
                {
                    "output_type": "execute_result",
                    "execution_count": 27,
                    "data": {
                        "application/vnd.dataresource+json": {
                            "schema": {
                                "fields": [
                                    {
                                        "name": "orderyear"
                                    },
                                    {
                                        "name": "numcusts"
                                    }
                                ]
                            },
                            "data": [
                                {
                                    "0": "2014",
                                    "1": "67"
                                },
                                {
                                    "0": "2015",
                                    "1": "86"
                                },
                                {
                                    "0": "2016",
                                    "1": "81"
                                }
                            ]
                        },
                        "text/html": "<table><tr><th>orderyear</th><th>numcusts</th></tr><tr><td>2014</td><td>67</td></tr><tr><td>2015</td><td>86</td></tr><tr><td>2016</td><td>81</td></tr></table>"
                    },
                    "metadata": {}
                }
            ],
            "execution_count": 27
        },
        {
            "cell_type": "markdown",
            "source": [
                "11) **Yearly count of customers handled by employee 3.** Table expressions, inline column aliasing, and ARGUMENTS."
            ],
            "metadata": {
                "language": "sql",
                "azdata_cell_guid": "2e7ee706-161f-451d-b397-cd8b7763fb2e"
            },
            "attachments": {}
        },
        {
            "cell_type": "code",
            "source": [
                "use Northwinds2022TSQLV7;\n",
                "\n",
                "DECLARE @empid AS INT = 3;\n",
                "\n",
                "WITH C AS\n",
                "(\n",
                "  SELECT YEAR(OrderDate) AS orderyear, \n",
                "        CustomerId as custid\n",
                "  FROM Sales.[Order]\n",
                "  WHERE EmployeeId = @empid\n",
                ")\n",
                "SELECT orderyear, COUNT(DISTINCT custid) AS numcusts\n",
                "FROM C\n",
                "GROUP BY orderyear;"
            ],
            "metadata": {
                "language": "sql",
                "azdata_cell_guid": "f22a808a-0677-47d6-b510-4f0d634a478e"
            },
            "outputs": [
                {
                    "output_type": "display_data",
                    "data": {
                        "text/html": "(3 rows affected)"
                    },
                    "metadata": {}
                },
                {
                    "output_type": "display_data",
                    "data": {
                        "text/html": "Total execution time: 00:00:00.034"
                    },
                    "metadata": {}
                },
                {
                    "output_type": "execute_result",
                    "execution_count": 28,
                    "data": {
                        "application/vnd.dataresource+json": {
                            "schema": {
                                "fields": [
                                    {
                                        "name": "orderyear"
                                    },
                                    {
                                        "name": "numcusts"
                                    }
                                ]
                            },
                            "data": [
                                {
                                    "0": "2014",
                                    "1": "16"
                                },
                                {
                                    "0": "2015",
                                    "1": "46"
                                },
                                {
                                    "0": "2016",
                                    "1": "30"
                                }
                            ]
                        },
                        "text/html": "<table><tr><th>orderyear</th><th>numcusts</th></tr><tr><td>2014</td><td>16</td></tr><tr><td>2015</td><td>46</td></tr><tr><td>2016</td><td>30</td></tr></table>"
                    },
                    "metadata": {}
                }
            ],
            "execution_count": 28
        },
        {
            "cell_type": "markdown",
            "source": [
                "12. Multiple CTES. High readibility. Creates a table of order years for each customer. Derives a table with column aliasing, we use this in another CTE. Derivies a table of the number of unique customers for each year. We use the final derived table to easily return **years where the cumber of customers exceeds 70.**"
            ],
            "metadata": {
                "language": "sql",
                "azdata_cell_guid": "0448da83-6ba0-40db-9ef9-012cfc7221dd"
            },
            "attachments": {}
        },
        {
            "cell_type": "code",
            "source": [
                "use Northwinds2022TSQLV7;\n",
                "\n",
                "WITH C1 AS\n",
                "(\n",
                "  SELECT YEAR(OrderDate) AS orderyear, \n",
                "    CustomerId as custid --readable aliasing\n",
                "  FROM Sales.[Order]\n",
                "),\n",
                "C2 AS\n",
                "(\n",
                "  SELECT orderyear, COUNT(DISTINCT custid) AS numcusts\n",
                "  FROM C1\n",
                "  GROUP BY orderyear\n",
                ")\n",
                "SELECT orderyear, numcusts\n",
                "FROM C2\n",
                "WHERE numcusts > 70;"
            ],
            "metadata": {
                "language": "sql",
                "azdata_cell_guid": "e65c81b1-a891-40a4-af14-b2abb96172f0"
            },
            "outputs": [
                {
                    "output_type": "display_data",
                    "data": {
                        "text/html": "(2 rows affected)"
                    },
                    "metadata": {}
                },
                {
                    "output_type": "display_data",
                    "data": {
                        "text/html": "Total execution time: 00:00:00.033"
                    },
                    "metadata": {}
                },
                {
                    "output_type": "execute_result",
                    "execution_count": 33,
                    "data": {
                        "application/vnd.dataresource+json": {
                            "schema": {
                                "fields": [
                                    {
                                        "name": "orderyear"
                                    },
                                    {
                                        "name": "numcusts"
                                    }
                                ]
                            },
                            "data": [
                                {
                                    "0": "2015",
                                    "1": "86"
                                },
                                {
                                    "0": "2016",
                                    "1": "81"
                                }
                            ]
                        },
                        "text/html": "<table><tr><th>orderyear</th><th>numcusts</th></tr><tr><td>2015</td><td>86</td></tr><tr><td>2016</td><td>81</td></tr></table>"
                    },
                    "metadata": {}
                }
            ],
            "execution_count": 33
        },
        {
            "cell_type": "markdown",
            "source": [
                "13. Utilizing MULTIPLE references to **get each years current customers, previous customer, and growth.** Notice how the already named derived table can have more than one alias, to perform table operations like join."
            ],
            "metadata": {
                "language": "sql",
                "azdata_cell_guid": "de1f8a15-99da-42f2-95d2-8d86f596a9c4"
            },
            "attachments": {}
        },
        {
            "cell_type": "code",
            "source": [
                "use Northwinds2022TSQLV7;\n",
                "\n",
                "WITH YearlyCount AS\n",
                "(\n",
                "  SELECT YEAR(OrderDate) AS orderyear,\n",
                "    COUNT(DISTINCT CustomerId) AS numcusts\n",
                "  FROM Sales.[Order]\n",
                "  GROUP BY YEAR(OrderDate)\n",
                ")\n",
                "SELECT Cur.orderyear, \n",
                "  Cur.numcusts AS curnumcusts, Prv.numcusts AS prvnumcusts,\n",
                "  Cur.numcusts - Prv.numcusts AS growth\n",
                "FROM YearlyCount AS Cur -- the derived table has muliple references / aliases\n",
                "  LEFT OUTER JOIN YearlyCount AS Prv \n",
                "    ON Cur.orderyear = Prv.orderyear + 1;"
            ],
            "metadata": {
                "language": "sql",
                "azdata_cell_guid": "5731c4dd-67a7-48c6-b1d1-b20e69deec03"
            },
            "outputs": [
                {
                    "output_type": "display_data",
                    "data": {
                        "text/html": "(3 rows affected)"
                    },
                    "metadata": {}
                },
                {
                    "output_type": "display_data",
                    "data": {
                        "text/html": "Total execution time: 00:00:00.060"
                    },
                    "metadata": {}
                },
                {
                    "output_type": "execute_result",
                    "execution_count": 35,
                    "data": {
                        "application/vnd.dataresource+json": {
                            "schema": {
                                "fields": [
                                    {
                                        "name": "orderyear"
                                    },
                                    {
                                        "name": "curnumcusts"
                                    },
                                    {
                                        "name": "prvnumcusts"
                                    },
                                    {
                                        "name": "growth"
                                    }
                                ]
                            },
                            "data": [
                                {
                                    "0": "2014",
                                    "1": "67",
                                    "2": "NULL",
                                    "3": "NULL"
                                },
                                {
                                    "0": "2015",
                                    "1": "86",
                                    "2": "67",
                                    "3": "19"
                                },
                                {
                                    "0": "2016",
                                    "1": "81",
                                    "2": "86",
                                    "3": "-5"
                                }
                            ]
                        },
                        "text/html": "<table><tr><th>orderyear</th><th>curnumcusts</th><th>prvnumcusts</th><th>growth</th></tr><tr><td>2014</td><td>67</td><td>NULL</td><td>NULL</td></tr><tr><td>2015</td><td>86</td><td>67</td><td>19</td></tr><tr><td>2016</td><td>81</td><td>86</td><td>-5</td></tr></table>"
                    },
                    "metadata": {}
                }
            ],
            "execution_count": 35
        },
        {
            "cell_type": "markdown",
            "source": [
                "14) **All employees who share the same manager as employee 2.**"
            ],
            "metadata": {
                "language": "sql",
                "azdata_cell_guid": "96adf547-67fd-4793-963b-a1b7ace20274"
            },
            "attachments": {}
        },
        {
            "cell_type": "code",
            "source": [
                "use Northwinds2022TSQLV7;\n",
                "\n",
                "WITH EmpsCTE AS\n",
                "(\n",
                "  SELECT EmployeeId as empid, \n",
                "        EmployeeManagerId as  mgrid, \n",
                "        EmployeeFirstName as firstname,\n",
                "        EmployeeLastName as lastname\n",
                "  FROM HumanResources.Employee\n",
                "  WHERE EmployeeId = 2\n",
                "  \n",
                "  UNION ALL --union the multiple tables, unioning a table to an operation including itself!\n",
                "  \n",
                "  --use employee2 table and employees table to derive a new one\n",
                "  SELECT C.EmployeeId, C.EmployeeManagerId, C.EmployeeFirstName, C.EmployeeLastName\n",
                "  FROM EmpsCTE AS P\n",
                "    INNER JOIN HumanResources.Employee AS C\n",
                "      ON C.EmployeeManagerId = P.empid\n",
                ")\n",
                "SELECT empid, mgrid, firstname, lastname\n",
                "FROM EmpsCTE;"
            ],
            "metadata": {
                "language": "sql",
                "azdata_cell_guid": "33f63e4a-ff08-44ca-ba0b-572fa5a764e9"
            },
            "outputs": [
                {
                    "output_type": "display_data",
                    "data": {
                        "text/html": "(8 rows affected)"
                    },
                    "metadata": {}
                },
                {
                    "output_type": "display_data",
                    "data": {
                        "text/html": "Total execution time: 00:00:00.025"
                    },
                    "metadata": {}
                },
                {
                    "output_type": "execute_result",
                    "execution_count": 37,
                    "data": {
                        "application/vnd.dataresource+json": {
                            "schema": {
                                "fields": [
                                    {
                                        "name": "empid"
                                    },
                                    {
                                        "name": "mgrid"
                                    },
                                    {
                                        "name": "firstname"
                                    },
                                    {
                                        "name": "lastname"
                                    }
                                ]
                            },
                            "data": [
                                {
                                    "0": "2",
                                    "1": "1",
                                    "2": "Don",
                                    "3": "Funk"
                                },
                                {
                                    "0": "3",
                                    "1": "2",
                                    "2": "Judy",
                                    "3": "Lew"
                                },
                                {
                                    "0": "5",
                                    "1": "2",
                                    "2": "Sven",
                                    "3": "Mortensen"
                                },
                                {
                                    "0": "6",
                                    "1": "5",
                                    "2": "Paul",
                                    "3": "Suurs"
                                },
                                {
                                    "0": "7",
                                    "1": "5",
                                    "2": "Russell",
                                    "3": "King"
                                },
                                {
                                    "0": "9",
                                    "1": "5",
                                    "2": "Patricia",
                                    "3": "Doyle"
                                },
                                {
                                    "0": "4",
                                    "1": "3",
                                    "2": "Yael",
                                    "3": "Peled"
                                },
                                {
                                    "0": "8",
                                    "1": "3",
                                    "2": "Maria",
                                    "3": "Cameron"
                                }
                            ]
                        },
                        "text/html": "<table><tr><th>empid</th><th>mgrid</th><th>firstname</th><th>lastname</th></tr><tr><td>2</td><td>1</td><td>Don</td><td>Funk</td></tr><tr><td>3</td><td>2</td><td>Judy</td><td>Lew</td></tr><tr><td>5</td><td>2</td><td>Sven</td><td>Mortensen</td></tr><tr><td>6</td><td>5</td><td>Paul</td><td>Suurs</td></tr><tr><td>7</td><td>5</td><td>Russell</td><td>King</td></tr><tr><td>9</td><td>5</td><td>Patricia</td><td>Doyle</td></tr><tr><td>4</td><td>3</td><td>Yael</td><td>Peled</td></tr><tr><td>8</td><td>3</td><td>Maria</td><td>Cameron</td></tr></table>"
                    },
                    "metadata": {}
                }
            ],
            "execution_count": 37
        },
        {
            "cell_type": "markdown",
            "source": [
                "15. **Creates a USACusts view.** Think of a view as a virtual table, or the result of a query (select statement)."
            ],
            "metadata": {
                "language": "sql",
                "azdata_cell_guid": "f25983e6-888a-4c66-a56f-724c6b0b8046"
            },
            "attachments": {}
        },
        {
            "cell_type": "code",
            "source": [
                "use TSQLV4;\n",
                "\n",
                "DROP VIEW IF EXISTS Sales.USACusts;\n",
                "GO\n",
                "CREATE VIEW Sales.USACusts\n",
                "AS\n",
                "\n",
                "SELECT\n",
                "  custid, companyname, contactname, contacttitle, address,\n",
                "  city, region, postalcode, country, phone, fax\n",
                "FROM Sales.Customers\n",
                "WHERE country = N'USA';\n",
                "GO\n",
                "\n",
                "SELECT custid, companyname\n",
                "FROM Sales.USACusts;\n",
                "GO"
            ],
            "metadata": {
                "language": "sql",
                "azdata_cell_guid": "8bf445db-687d-4f20-b74c-82e1baa57218"
            },
            "outputs": [
                {
                    "output_type": "display_data",
                    "data": {
                        "text/html": "Commands completed successfully."
                    },
                    "metadata": {}
                },
                {
                    "output_type": "display_data",
                    "data": {
                        "text/html": "Commands completed successfully."
                    },
                    "metadata": {}
                },
                {
                    "output_type": "display_data",
                    "data": {
                        "text/html": "(13 rows affected)"
                    },
                    "metadata": {}
                },
                {
                    "output_type": "display_data",
                    "data": {
                        "text/html": "Total execution time: 00:00:00.054"
                    },
                    "metadata": {}
                },
                {
                    "output_type": "execute_result",
                    "execution_count": 50,
                    "data": {
                        "application/vnd.dataresource+json": {
                            "schema": {
                                "fields": [
                                    {
                                        "name": "custid"
                                    },
                                    {
                                        "name": "companyname"
                                    }
                                ]
                            },
                            "data": [
                                {
                                    "0": "32",
                                    "1": "Customer YSIQX"
                                },
                                {
                                    "0": "36",
                                    "1": "Customer LVJSO"
                                },
                                {
                                    "0": "43",
                                    "1": "Customer UISOJ"
                                },
                                {
                                    "0": "45",
                                    "1": "Customer QXPPT"
                                },
                                {
                                    "0": "48",
                                    "1": "Customer DVFMB"
                                },
                                {
                                    "0": "55",
                                    "1": "Customer KZQZT"
                                },
                                {
                                    "0": "65",
                                    "1": "Customer NYUHS"
                                },
                                {
                                    "0": "71",
                                    "1": "Customer LCOUJ"
                                },
                                {
                                    "0": "75",
                                    "1": "Customer XOJYP"
                                },
                                {
                                    "0": "77",
                                    "1": "Customer LCYBZ"
                                },
                                {
                                    "0": "78",
                                    "1": "Customer NLTYP"
                                },
                                {
                                    "0": "82",
                                    "1": "Customer EYHKM"
                                },
                                {
                                    "0": "89",
                                    "1": "Customer YBQTI"
                                }
                            ]
                        },
                        "text/html": "<table><tr><th>custid</th><th>companyname</th></tr><tr><td>32</td><td>Customer YSIQX</td></tr><tr><td>36</td><td>Customer LVJSO</td></tr><tr><td>43</td><td>Customer UISOJ</td></tr><tr><td>45</td><td>Customer QXPPT</td></tr><tr><td>48</td><td>Customer DVFMB</td></tr><tr><td>55</td><td>Customer KZQZT</td></tr><tr><td>65</td><td>Customer NYUHS</td></tr><tr><td>71</td><td>Customer LCOUJ</td></tr><tr><td>75</td><td>Customer XOJYP</td></tr><tr><td>77</td><td>Customer LCYBZ</td></tr><tr><td>78</td><td>Customer NLTYP</td></tr><tr><td>82</td><td>Customer EYHKM</td></tr><tr><td>89</td><td>Customer YBQTI</td></tr></table>"
                    },
                    "metadata": {}
                }
            ],
            "execution_count": 50
        },
        {
            "cell_type": "markdown",
            "source": [
                "16. Using the order by clause in an outer query to **get the region ordered customers from USAcusts.** \\*ORDER BY NOT ALLOWED IN VIEW."
            ],
            "metadata": {
                "language": "sql",
                "azdata_cell_guid": "b416fd69-28f9-4f44-90b5-dc0b30dc5b2f"
            },
            "attachments": {}
        },
        {
            "cell_type": "code",
            "source": [
                "use TSQLV4\n",
                "\n",
                "SELECT custid, companyname, region\n",
                "FROM Sales.USACusts"
            ],
            "metadata": {
                "language": "sql",
                "azdata_cell_guid": "638a5e8a-28d1-4abb-99b0-f38f5a882592"
            },
            "outputs": [
                {
                    "output_type": "display_data",
                    "data": {
                        "text/html": "(13 rows affected)"
                    },
                    "metadata": {}
                },
                {
                    "output_type": "display_data",
                    "data": {
                        "text/html": "Total execution time: 00:00:02.886"
                    },
                    "metadata": {}
                },
                {
                    "output_type": "execute_result",
                    "execution_count": 51,
                    "data": {
                        "application/vnd.dataresource+json": {
                            "schema": {
                                "fields": [
                                    {
                                        "name": "custid"
                                    },
                                    {
                                        "name": "companyname"
                                    },
                                    {
                                        "name": "region"
                                    }
                                ]
                            },
                            "data": [
                                {
                                    "0": "32",
                                    "1": "Customer YSIQX",
                                    "2": "OR"
                                },
                                {
                                    "0": "36",
                                    "1": "Customer LVJSO",
                                    "2": "OR"
                                },
                                {
                                    "0": "43",
                                    "1": "Customer UISOJ",
                                    "2": "WA"
                                },
                                {
                                    "0": "45",
                                    "1": "Customer QXPPT",
                                    "2": "CA"
                                },
                                {
                                    "0": "48",
                                    "1": "Customer DVFMB",
                                    "2": "OR"
                                },
                                {
                                    "0": "55",
                                    "1": "Customer KZQZT",
                                    "2": "AK"
                                },
                                {
                                    "0": "65",
                                    "1": "Customer NYUHS",
                                    "2": "NM"
                                },
                                {
                                    "0": "71",
                                    "1": "Customer LCOUJ",
                                    "2": "ID"
                                },
                                {
                                    "0": "75",
                                    "1": "Customer XOJYP",
                                    "2": "WY"
                                },
                                {
                                    "0": "77",
                                    "1": "Customer LCYBZ",
                                    "2": "OR"
                                },
                                {
                                    "0": "78",
                                    "1": "Customer NLTYP",
                                    "2": "MT"
                                },
                                {
                                    "0": "82",
                                    "1": "Customer EYHKM",
                                    "2": "WA"
                                },
                                {
                                    "0": "89",
                                    "1": "Customer YBQTI",
                                    "2": "WA"
                                }
                            ]
                        },
                        "text/html": "<table><tr><th>custid</th><th>companyname</th><th>region</th></tr><tr><td>32</td><td>Customer YSIQX</td><td>OR</td></tr><tr><td>36</td><td>Customer LVJSO</td><td>OR</td></tr><tr><td>43</td><td>Customer UISOJ</td><td>WA</td></tr><tr><td>45</td><td>Customer QXPPT</td><td>CA</td></tr><tr><td>48</td><td>Customer DVFMB</td><td>OR</td></tr><tr><td>55</td><td>Customer KZQZT</td><td>AK</td></tr><tr><td>65</td><td>Customer NYUHS</td><td>NM</td></tr><tr><td>71</td><td>Customer LCOUJ</td><td>ID</td></tr><tr><td>75</td><td>Customer XOJYP</td><td>WY</td></tr><tr><td>77</td><td>Customer LCYBZ</td><td>OR</td></tr><tr><td>78</td><td>Customer NLTYP</td><td>MT</td></tr><tr><td>82</td><td>Customer EYHKM</td><td>WA</td></tr><tr><td>89</td><td>Customer YBQTI</td><td>WA</td></tr></table>"
                    },
                    "metadata": {}
                }
            ],
            "execution_count": 51
        },
        {
            "cell_type": "markdown",
            "source": [
                "17. Don't rely on TOP when using Views."
            ],
            "metadata": {
                "language": "sql",
                "azdata_cell_guid": "1b671548-e28f-4c3f-9129-544d62bf1c01"
            },
            "attachments": {}
        },
        {
            "cell_type": "code",
            "source": [
                "ALTER VIEW Sales.USACusts\n",
                "AS\n",
                "\n",
                "SELECT TOP (100) PERCENT\n",
                "  custid, companyname, contactname, contacttitle,\n",
                "  city, region, postalcode, country, phone, fax\n",
                "FROM Sales.Customers\n",
                "WHERE country = N'USA'\n",
                "ORDER BY region;\n",
                "GO\n",
                "\n",
                "select custid, companyname, region\n",
                "from Sales.USACusts\n",
                "GO"
            ],
            "metadata": {
                "language": "sql",
                "azdata_cell_guid": "3fea34fa-41c5-4b42-ab42-23bf6bb8abdd"
            },
            "outputs": [
                {
                    "output_type": "display_data",
                    "data": {
                        "text/html": "Commands completed successfully."
                    },
                    "metadata": {}
                },
                {
                    "output_type": "display_data",
                    "data": {
                        "text/html": "(13 rows affected)"
                    },
                    "metadata": {}
                },
                {
                    "output_type": "display_data",
                    "data": {
                        "text/html": "Total execution time: 00:00:00.025"
                    },
                    "metadata": {}
                },
                {
                    "output_type": "execute_result",
                    "execution_count": 57,
                    "data": {
                        "application/vnd.dataresource+json": {
                            "schema": {
                                "fields": [
                                    {
                                        "name": "custid"
                                    }
                                ]
                            },
                            "data": [
                                {
                                    "0": "32"
                                },
                                {
                                    "0": "36"
                                },
                                {
                                    "0": "43"
                                },
                                {
                                    "0": "45"
                                },
                                {
                                    "0": "48"
                                },
                                {
                                    "0": "55"
                                },
                                {
                                    "0": "65"
                                },
                                {
                                    "0": "71"
                                },
                                {
                                    "0": "75"
                                },
                                {
                                    "0": "77"
                                },
                                {
                                    "0": "78"
                                },
                                {
                                    "0": "82"
                                },
                                {
                                    "0": "89"
                                }
                            ]
                        },
                        "text/html": "<table><tr><th>custid</th></tr><tr><td>32</td></tr><tr><td>36</td></tr><tr><td>43</td></tr><tr><td>45</td></tr><tr><td>48</td></tr><tr><td>55</td></tr><tr><td>65</td></tr><tr><td>71</td></tr><tr><td>75</td></tr><tr><td>77</td></tr><tr><td>78</td></tr><tr><td>82</td></tr><tr><td>89</td></tr></table>"
                    },
                    "metadata": {}
                }
            ],
            "execution_count": 57
        },
        {
            "cell_type": "markdown",
            "source": [
                "18) Do not rely on OFFSET FETCH, even if it works."
            ],
            "metadata": {
                "language": "sql",
                "azdata_cell_guid": "3b74d888-7c1c-448e-a1b2-9f1d089a749d"
            },
            "attachments": {}
        },
        {
            "cell_type": "code",
            "source": [
                "ALTER VIEW Sales.USACusts\n",
                "AS\n",
                "\n",
                "SELECT \n",
                "  custid, companyname, contactname, contacttitle, address,\n",
                "  city, region, postalcode, country, phone, fax\n",
                "FROM Sales.Customers\n",
                "WHERE country = N'USA'\n",
                "ORDER BY region\n",
                "OFFSET 0 ROWS;\n",
                "GO\n",
                "\n",
                "SELECT custid, companyname, region\n",
                "FROM Sales.USACusts;\n",
                "GO"
            ],
            "metadata": {
                "language": "sql",
                "azdata_cell_guid": "a0badaf5-e426-48c8-bb5a-0f35e4f9cccd"
            },
            "outputs": [
                {
                    "output_type": "display_data",
                    "data": {
                        "text/html": "Commands completed successfully."
                    },
                    "metadata": {}
                },
                {
                    "output_type": "display_data",
                    "data": {
                        "text/html": "(13 rows affected)"
                    },
                    "metadata": {}
                },
                {
                    "output_type": "display_data",
                    "data": {
                        "text/html": "Total execution time: 00:00:00.041"
                    },
                    "metadata": {}
                },
                {
                    "output_type": "execute_result",
                    "execution_count": 61,
                    "data": {
                        "application/vnd.dataresource+json": {
                            "schema": {
                                "fields": [
                                    {
                                        "name": "custid"
                                    },
                                    {
                                        "name": "companyname"
                                    },
                                    {
                                        "name": "region"
                                    }
                                ]
                            },
                            "data": [
                                {
                                    "0": "55",
                                    "1": "Customer KZQZT",
                                    "2": "AK"
                                },
                                {
                                    "0": "45",
                                    "1": "Customer QXPPT",
                                    "2": "CA"
                                },
                                {
                                    "0": "71",
                                    "1": "Customer LCOUJ",
                                    "2": "ID"
                                },
                                {
                                    "0": "78",
                                    "1": "Customer NLTYP",
                                    "2": "MT"
                                },
                                {
                                    "0": "65",
                                    "1": "Customer NYUHS",
                                    "2": "NM"
                                },
                                {
                                    "0": "48",
                                    "1": "Customer DVFMB",
                                    "2": "OR"
                                },
                                {
                                    "0": "32",
                                    "1": "Customer YSIQX",
                                    "2": "OR"
                                },
                                {
                                    "0": "36",
                                    "1": "Customer LVJSO",
                                    "2": "OR"
                                },
                                {
                                    "0": "77",
                                    "1": "Customer LCYBZ",
                                    "2": "OR"
                                },
                                {
                                    "0": "82",
                                    "1": "Customer EYHKM",
                                    "2": "WA"
                                },
                                {
                                    "0": "89",
                                    "1": "Customer YBQTI",
                                    "2": "WA"
                                },
                                {
                                    "0": "43",
                                    "1": "Customer UISOJ",
                                    "2": "WA"
                                },
                                {
                                    "0": "75",
                                    "1": "Customer XOJYP",
                                    "2": "WY"
                                }
                            ]
                        },
                        "text/html": "<table><tr><th>custid</th><th>companyname</th><th>region</th></tr><tr><td>55</td><td>Customer KZQZT</td><td>AK</td></tr><tr><td>45</td><td>Customer QXPPT</td><td>CA</td></tr><tr><td>71</td><td>Customer LCOUJ</td><td>ID</td></tr><tr><td>78</td><td>Customer NLTYP</td><td>MT</td></tr><tr><td>65</td><td>Customer NYUHS</td><td>NM</td></tr><tr><td>48</td><td>Customer DVFMB</td><td>OR</td></tr><tr><td>32</td><td>Customer YSIQX</td><td>OR</td></tr><tr><td>36</td><td>Customer LVJSO</td><td>OR</td></tr><tr><td>77</td><td>Customer LCYBZ</td><td>OR</td></tr><tr><td>82</td><td>Customer EYHKM</td><td>WA</td></tr><tr><td>89</td><td>Customer YBQTI</td><td>WA</td></tr><tr><td>43</td><td>Customer UISOJ</td><td>WA</td></tr><tr><td>75</td><td>Customer XOJYP</td><td>WY</td></tr></table>"
                    },
                    "metadata": {}
                }
            ],
            "execution_count": 61
        },
        {
            "cell_type": "markdown",
            "source": [
                "19). **Encrypting the USACusts Table.** Prevents this table from being replicated as well."
            ],
            "metadata": {
                "language": "sql",
                "azdata_cell_guid": "5f74d09e-05cc-4232-9266-01266b1976a9"
            },
            "attachments": {}
        },
        {
            "cell_type": "code",
            "source": [
                "ALTER VIEW Sales.USACusts\n",
                "AS\n",
                "\n",
                "SELECT\n",
                "  custid, companyname, contactname, contacttitle,\n",
                "  city, region, postalcode, country, phone, fax\n",
                "FROM Sales.Customers\n",
                "WHERE country = N'USA';\n",
                "GO\n",
                "\n",
                "SELECT OBJECT_DEFINITION(OBJECT_ID('Sales.USACusts'));\n",
                "GO\n",
                "\n",
                "ALTER VIEW Sales.USACusts WITH ENCRYPTION\n",
                "AS\n",
                "\n",
                "SELECT\n",
                "  custid, companyname, contactname, contacttitle,\n",
                "  city, region, postalcode, country, phone, fax\n",
                "FROM Sales.Customers\n",
                "WHERE country = N'USA';\n",
                "GO\n",
                "\n",
                "SELECT OBJECT_DEFINITION(OBJECT_ID('Sales.USACusts'));\n",
                "\n",
                "EXEC sp_helptext 'Sales.USACusts';\n",
                "GO"
            ],
            "metadata": {
                "language": "sql",
                "azdata_cell_guid": "9f59809f-f603-4708-9cfb-31c736cba9d6"
            },
            "outputs": [
                {
                    "output_type": "display_data",
                    "data": {
                        "text/html": "Commands completed successfully."
                    },
                    "metadata": {}
                },
                {
                    "output_type": "display_data",
                    "data": {
                        "text/html": "(1 row affected)"
                    },
                    "metadata": {}
                },
                {
                    "output_type": "display_data",
                    "data": {
                        "text/html": "Commands completed successfully."
                    },
                    "metadata": {}
                },
                {
                    "output_type": "display_data",
                    "data": {
                        "text/html": "(1 row affected)"
                    },
                    "metadata": {}
                },
                {
                    "output_type": "display_data",
                    "data": {
                        "text/html": "The text for object 'Sales.USACusts' is encrypted."
                    },
                    "metadata": {}
                },
                {
                    "output_type": "display_data",
                    "data": {
                        "text/html": "Total execution time: 00:00:00.045"
                    },
                    "metadata": {}
                },
                {
                    "output_type": "execute_result",
                    "execution_count": 67,
                    "data": {
                        "application/vnd.dataresource+json": {
                            "schema": {
                                "fields": [
                                    {
                                        "name": "(No column name)"
                                    }
                                ]
                            },
                            "data": [
                                {
                                    "0": "CREATE VIEW Sales.USACusts\nAS\n\nSELECT\n  custid, companyname, contactname, contacttitle,\n  city, region, postalcode, country, phone, fax\nFROM Sales.Customers\nWHERE country = N'USA';\n"
                                }
                            ]
                        },
                        "text/html": "<table><tr><th>(No column name)</th></tr><tr><td>CREATE VIEW Sales.USACusts\nAS\n\nSELECT\n  custid, companyname, contactname, contacttitle,\n  city, region, postalcode, country, phone, fax\nFROM Sales.Customers\nWHERE country = N'USA';\n</td></tr></table>"
                    },
                    "metadata": {}
                },
                {
                    "output_type": "execute_result",
                    "execution_count": 67,
                    "data": {
                        "application/vnd.dataresource+json": {
                            "schema": {
                                "fields": [
                                    {
                                        "name": "(No column name)"
                                    }
                                ]
                            },
                            "data": [
                                {
                                    "0": "NULL"
                                }
                            ]
                        },
                        "text/html": "<table><tr><th>(No column name)</th></tr><tr><td>NULL</td></tr></table>"
                    },
                    "metadata": {}
                }
            ],
            "execution_count": 67
        },
        {
            "cell_type": "markdown",
            "source": [
                "20. Schemabinding. Here view the error trying to modify the schema leads to, when we schemabind, it alerts us of dependant views and prevents use from altering the underlying schema that is binded to the view. So in this case I can change any Schema besides the Sales Schema."
            ],
            "metadata": {
                "language": "sql",
                "azdata_cell_guid": "431cb833-484b-453d-9927-a1af1b320267"
            },
            "attachments": {}
        },
        {
            "cell_type": "code",
            "source": [
                "ALTER VIEW Sales.USACusts WITH SCHEMABINDING\n",
                "AS\n",
                "\n",
                "SELECT\n",
                "  custid, companyname, contactname, contacttitle, address,\n",
                "  city, region, postalcode, country, phone, fax\n",
                "FROM Sales.Customers\n",
                "WHERE country = N'USA';\n",
                "GO\n",
                "\n",
                "ALTER TABLE Sales.Customers DROP COLUMN address;\n",
                "GO"
            ],
            "metadata": {
                "language": "sql",
                "azdata_cell_guid": "47c453ff-7bbe-4f56-99c6-4a1fccb4be5e"
            },
            "outputs": [
                {
                    "output_type": "display_data",
                    "data": {
                        "text/html": "Commands completed successfully."
                    },
                    "metadata": {}
                },
                {
                    "output_type": "display_data",
                    "data": {
                        "text/html": "(91 rows affected)"
                    },
                    "metadata": {}
                },
                {
                    "output_type": "display_data",
                    "data": {
                        "text/html": "Total execution time: 00:00:00.060"
                    },
                    "metadata": {}
                },
                {
                    "output_type": "execute_result",
                    "execution_count": 72,
                    "data": {
                        "application/vnd.dataresource+json": {
                            "schema": {
                                "fields": [
                                    {
                                        "name": "custid"
                                    },
                                    {
                                        "name": "companyname"
                                    },
                                    {
                                        "name": "contactname"
                                    },
                                    {
                                        "name": "contacttitle"
                                    },
                                    {
                                        "name": "address"
                                    },
                                    {
                                        "name": "city"
                                    },
                                    {
                                        "name": "region"
                                    },
                                    {
                                        "name": "postalcode"
                                    },
                                    {
                                        "name": "country"
                                    },
                                    {
                                        "name": "phone"
                                    },
                                    {
                                        "name": "fax"
                                    }
                                ]
                            },
                            "data": [
                                {
                                    "0": "1",
                                    "1": "Customer NRZBB",
                                    "2": "Allen, Michael",
                                    "3": "Sales Representative",
                                    "4": "Obere Str. 0123",
                                    "5": "Berlin",
                                    "6": "NULL",
                                    "7": "10092",
                                    "8": "Germany",
                                    "9": "030-3456789",
                                    "10": "030-0123456"
                                },
                                {
                                    "0": "2",
                                    "1": "Customer MLTDN",
                                    "2": "Hassall, Mark",
                                    "3": "Owner",
                                    "4": "Avda. de la Constitución 5678",
                                    "5": "México D.F.",
                                    "6": "NULL",
                                    "7": "10077",
                                    "8": "Mexico",
                                    "9": "(5) 789-0123",
                                    "10": "(5) 456-7890"
                                },
                                {
                                    "0": "3",
                                    "1": "Customer KBUDE",
                                    "2": "Strome, David",
                                    "3": "Owner",
                                    "4": "Mataderos  7890",
                                    "5": "México D.F.",
                                    "6": "NULL",
                                    "7": "10097",
                                    "8": "Mexico",
                                    "9": "(5) 123-4567",
                                    "10": "NULL"
                                },
                                {
                                    "0": "4",
                                    "1": "Customer HFBZG",
                                    "2": "Cunningham, Conor",
                                    "3": "Sales Representative",
                                    "4": "7890 Hanover Sq.",
                                    "5": "London",
                                    "6": "NULL",
                                    "7": "10046",
                                    "8": "UK",
                                    "9": "(171) 456-7890",
                                    "10": "(171) 456-7891"
                                },
                                {
                                    "0": "5",
                                    "1": "Customer HGVLZ",
                                    "2": "Higginbotham, Tom",
                                    "3": "Order Administrator",
                                    "4": "Berguvsvägen  5678",
                                    "5": "Luleå",
                                    "6": "NULL",
                                    "7": "10112",
                                    "8": "Sweden",
                                    "9": "0921-67 89 01",
                                    "10": "0921-23 45 67"
                                },
                                {
                                    "0": "6",
                                    "1": "Customer XHXJV",
                                    "2": "Poland, Carole",
                                    "3": "Sales Representative",
                                    "4": "Forsterstr. 7890",
                                    "5": "Mannheim",
                                    "6": "NULL",
                                    "7": "10117",
                                    "8": "Germany",
                                    "9": "0621-67890",
                                    "10": "0621-12345"
                                },
                                {
                                    "0": "7",
                                    "1": "Customer QXVLA",
                                    "2": "Bansal, Dushyant",
                                    "3": "Marketing Manager",
                                    "4": "2345, place Kléber",
                                    "5": "Strasbourg",
                                    "6": "NULL",
                                    "7": "10089",
                                    "8": "France",
                                    "9": "67.89.01.23",
                                    "10": "67.89.01.24"
                                },
                                {
                                    "0": "8",
                                    "1": "Customer QUHWH",
                                    "2": "Ilyina, Julia",
                                    "3": "Owner",
                                    "4": "C/ Araquil, 0123",
                                    "5": "Madrid",
                                    "6": "NULL",
                                    "7": "10104",
                                    "8": "Spain",
                                    "9": "(91) 345 67 89",
                                    "10": "(91) 012 34 56"
                                },
                                {
                                    "0": "9",
                                    "1": "Customer RTXGC",
                                    "2": "Raghav, Amritansh",
                                    "3": "Owner",
                                    "4": "6789, rue des Bouchers",
                                    "5": "Marseille",
                                    "6": "NULL",
                                    "7": "10105",
                                    "8": "France",
                                    "9": "23.45.67.89",
                                    "10": "23.45.67.80"
                                },
                                {
                                    "0": "10",
                                    "1": "Customer EEALV",
                                    "2": "Culp, Scott",
                                    "3": "Accounting Manager",
                                    "4": "8901 Tsawassen Blvd.",
                                    "5": "Tsawassen",
                                    "6": "BC",
                                    "7": "10111",
                                    "8": "Canada",
                                    "9": "(604) 901-2345",
                                    "10": "(604) 678-9012"
                                },
                                {
                                    "0": "11",
                                    "1": "Customer UBHAU",
                                    "2": "Jaffe, David",
                                    "3": "Sales Representative",
                                    "4": "Fauntleroy Circus 4567",
                                    "5": "London",
                                    "6": "NULL",
                                    "7": "10064",
                                    "8": "UK",
                                    "9": "(171) 789-0123",
                                    "10": "NULL"
                                },
                                {
                                    "0": "12",
                                    "1": "Customer PSNMQ",
                                    "2": "Ray, Mike",
                                    "3": "Sales Agent",
                                    "4": "Cerrito 3456",
                                    "5": "Buenos Aires",
                                    "6": "NULL",
                                    "7": "10057",
                                    "8": "Argentina",
                                    "9": "(1) 890-1234",
                                    "10": "(1) 567-8901"
                                },
                                {
                                    "0": "13",
                                    "1": "Customer VMLOG",
                                    "2": "Benito, Almudena",
                                    "3": "Marketing Manager",
                                    "4": "Sierras de Granada 7890",
                                    "5": "México D.F.",
                                    "6": "NULL",
                                    "7": "10056",
                                    "8": "Mexico",
                                    "9": "(5) 456-7890",
                                    "10": "(5) 123-4567"
                                },
                                {
                                    "0": "14",
                                    "1": "Customer WNMAF",
                                    "2": "Jelitto, Jacek",
                                    "3": "Owner",
                                    "4": "Hauptstr. 0123",
                                    "5": "Bern",
                                    "6": "NULL",
                                    "7": "10065",
                                    "8": "Switzerland",
                                    "9": "0452-678901",
                                    "10": "NULL"
                                },
                                {
                                    "0": "15",
                                    "1": "Customer JUWXK",
                                    "2": "Richardson, Shawn",
                                    "3": "Sales Associate",
                                    "4": "Av. dos Lusíadas, 6789",
                                    "5": "Sao Paulo",
                                    "6": "SP",
                                    "7": "10087",
                                    "8": "Brazil",
                                    "9": "(11) 012-3456",
                                    "10": "NULL"
                                },
                                {
                                    "0": "16",
                                    "1": "Customer GYBBY",
                                    "2": "Birkby, Dana",
                                    "3": "Sales Representative",
                                    "4": "Berkeley Gardens 0123 Brewery",
                                    "5": "London",
                                    "6": "NULL",
                                    "7": "10039",
                                    "8": "UK",
                                    "9": "(171) 234-5678",
                                    "10": "(171) 234-5679"
                                },
                                {
                                    "0": "17",
                                    "1": "Customer FEVNN",
                                    "2": "Sun, Nate",
                                    "3": "Order Administrator",
                                    "4": "Walserweg 4567",
                                    "5": "Aachen",
                                    "6": "NULL",
                                    "7": "10067",
                                    "8": "Germany",
                                    "9": "0241-789012",
                                    "10": "0241-345678"
                                },
                                {
                                    "0": "18",
                                    "1": "Customer BSVAR",
                                    "2": "Lieber, Justin",
                                    "3": "Owner",
                                    "4": "3456, rue des Cinquante Otages",
                                    "5": "Nantes",
                                    "6": "NULL",
                                    "7": "10041",
                                    "8": "France",
                                    "9": "89.01.23.45",
                                    "10": "89.01.23.46"
                                },
                                {
                                    "0": "19",
                                    "1": "Customer RFNQC",
                                    "2": "Boseman, Randall",
                                    "3": "Sales Agent",
                                    "4": "5678 King George",
                                    "5": "London",
                                    "6": "NULL",
                                    "7": "10110",
                                    "8": "UK",
                                    "9": "(171) 345-6789",
                                    "10": "(171) 345-6780"
                                },
                                {
                                    "0": "20",
                                    "1": "Customer THHDP",
                                    "2": "Kane, John",
                                    "3": "Sales Manager",
                                    "4": "Kirchgasse 9012",
                                    "5": "Graz",
                                    "6": "NULL",
                                    "7": "10059",
                                    "8": "Austria",
                                    "9": "1234-5678",
                                    "10": "9012-3456"
                                },
                                {
                                    "0": "21",
                                    "1": "Customer KIDPX",
                                    "2": "Russo, Giuseppe",
                                    "3": "Marketing Assistant",
                                    "4": "Rua Orós, 3456",
                                    "5": "Sao Paulo",
                                    "6": "SP",
                                    "7": "10096",
                                    "8": "Brazil",
                                    "9": "(11) 456-7890",
                                    "10": "NULL"
                                },
                                {
                                    "0": "22",
                                    "1": "Customer DTDMN",
                                    "2": "Daly, Jim",
                                    "3": "Accounting Manager",
                                    "4": "C/ Moralzarzal, 5678",
                                    "5": "Madrid",
                                    "6": "NULL",
                                    "7": "10080",
                                    "8": "Spain",
                                    "9": "(91) 890 12 34",
                                    "10": "(91) 567 89 01"
                                },
                                {
                                    "0": "23",
                                    "1": "Customer WVFAF",
                                    "2": "Liu, Jenny",
                                    "3": "Assistant Sales Agent",
                                    "4": "4567, chaussée de Tournai",
                                    "5": "Lille",
                                    "6": "NULL",
                                    "7": "10048",
                                    "8": "France",
                                    "9": "45.67.89.01",
                                    "10": "45.67.89.02"
                                },
                                {
                                    "0": "24",
                                    "1": "Customer CYZTN",
                                    "2": "Grisso, Geoff",
                                    "3": "Owner",
                                    "4": "Åkergatan 5678",
                                    "5": "Bräcke",
                                    "6": "NULL",
                                    "7": "10114",
                                    "8": "Sweden",
                                    "9": "0695-67 89 01",
                                    "10": "NULL"
                                },
                                {
                                    "0": "25",
                                    "1": "Customer AZJED",
                                    "2": "Carlson, Jason",
                                    "3": "Marketing Manager",
                                    "4": "Berliner Platz 9012",
                                    "5": "München",
                                    "6": "NULL",
                                    "7": "10091",
                                    "8": "Germany",
                                    "9": "089-8901234",
                                    "10": "089-5678901"
                                },
                                {
                                    "0": "26",
                                    "1": "Customer USDBG",
                                    "2": "Koch, Paul",
                                    "3": "Marketing Manager",
                                    "4": "9012, rue Royale",
                                    "5": "Nantes",
                                    "6": "NULL",
                                    "7": "10101",
                                    "8": "France",
                                    "9": "34.56.78.90",
                                    "10": "34.56.78.91"
                                },
                                {
                                    "0": "27",
                                    "1": "Customer WMFEA",
                                    "2": "Schmöllerl, Martin",
                                    "3": "Sales Representative",
                                    "4": "Via Monte Bianco 4567",
                                    "5": "Torino",
                                    "6": "NULL",
                                    "7": "10099",
                                    "8": "Italy",
                                    "9": "011-2345678",
                                    "10": "011-9012345"
                                },
                                {
                                    "0": "28",
                                    "1": "Customer XYUFB",
                                    "2": "Cavaglieri, Giorgio",
                                    "3": "Sales Manager",
                                    "4": "Jardim das rosas n. 8901",
                                    "5": "Lisboa",
                                    "6": "NULL",
                                    "7": "10054",
                                    "8": "Portugal",
                                    "9": "(1) 456-7890",
                                    "10": "(1) 123-4567"
                                },
                                {
                                    "0": "29",
                                    "1": "Customer MDLWA",
                                    "2": "Kolesnikova, Katerina",
                                    "3": "Marketing Manager",
                                    "4": "Rambla de Cataluña, 8901",
                                    "5": "Barcelona",
                                    "6": "NULL",
                                    "7": "10081",
                                    "8": "Spain",
                                    "9": "(93) 789 0123",
                                    "10": "(93) 456 7890"
                                },
                                {
                                    "0": "30",
                                    "1": "Customer KSLQF",
                                    "2": "Grossman, Seth",
                                    "3": "Sales Manager",
                                    "4": "C/ Romero, 1234",
                                    "5": "Sevilla",
                                    "6": "NULL",
                                    "7": "10075",
                                    "8": "Spain",
                                    "9": "(95) 901 23 45",
                                    "10": "NULL"
                                },
                                {
                                    "0": "31",
                                    "1": "Customer YJCBX",
                                    "2": "Orint, Neil",
                                    "3": "Sales Associate",
                                    "4": "Av. Brasil, 5678",
                                    "5": "Campinas",
                                    "6": "SP",
                                    "7": "10128",
                                    "8": "Brazil",
                                    "9": "(11) 567-8901",
                                    "10": "NULL"
                                },
                                {
                                    "0": "32",
                                    "1": "Customer YSIQX",
                                    "2": "Krishnan, Venky",
                                    "3": "Marketing Manager",
                                    "4": "6789 Baker Blvd.",
                                    "5": "Eugene",
                                    "6": "OR",
                                    "7": "10070",
                                    "8": "USA",
                                    "9": "(503) 555-0122",
                                    "10": "NULL"
                                },
                                {
                                    "0": "33",
                                    "1": "Customer FVXPQ",
                                    "2": "Yuksel, Ayca",
                                    "3": "Owner",
                                    "4": "5ª Ave. Los Palos Grandes 3456",
                                    "5": "Caracas",
                                    "6": "DF",
                                    "7": "10043",
                                    "8": "Venezuela",
                                    "9": "(2) 789-0123",
                                    "10": "(2) 456-7890"
                                },
                                {
                                    "0": "34",
                                    "1": "Customer IBVRG",
                                    "2": "Zhang, Frank",
                                    "3": "Accounting Manager",
                                    "4": "Rua do Paço, 7890",
                                    "5": "Rio de Janeiro",
                                    "6": "RJ",
                                    "7": "10076",
                                    "8": "Brazil",
                                    "9": "(21) 789-0123",
                                    "10": "(21) 789-0124"
                                },
                                {
                                    "0": "35",
                                    "1": "Customer UMTLM",
                                    "2": "Langohr, Kris",
                                    "3": "Sales Representative",
                                    "4": "Carrera 1234 con Ave. Carlos Soublette #8-35",
                                    "5": "San Cristóbal",
                                    "6": "Táchira",
                                    "7": "10066",
                                    "8": "Venezuela",
                                    "9": "(5) 567-8901",
                                    "10": "(5) 234-5678"
                                },
                                {
                                    "0": "36",
                                    "1": "Customer LVJSO",
                                    "2": "Smith, Denise",
                                    "3": "Sales Representative",
                                    "4": "City Center Plaza 2345 Main St.",
                                    "5": "Elgin",
                                    "6": "OR",
                                    "7": "10103",
                                    "8": "USA",
                                    "9": "(503) 555-0126",
                                    "10": "(503) 555-0135"
                                },
                                {
                                    "0": "37",
                                    "1": "Customer FRXZL",
                                    "2": "Óskarsson, Jón Harry",
                                    "3": "Sales Associate",
                                    "4": "9012 Johnstown Road",
                                    "5": "Cork",
                                    "6": "Co. Cork",
                                    "7": "10051",
                                    "8": "Ireland",
                                    "9": "8901 234",
                                    "10": "5678 9012"
                                },
                                {
                                    "0": "38",
                                    "1": "Customer LJUCA",
                                    "2": "Orton, Jon",
                                    "3": "Marketing Manager",
                                    "4": "Garden House Crowther Way 3456",
                                    "5": "Cowes",
                                    "6": "Isle of Wight",
                                    "7": "10063",
                                    "8": "UK",
                                    "9": "(198) 567-8901",
                                    "10": "NULL"
                                },
                                {
                                    "0": "39",
                                    "1": "Customer GLLAG",
                                    "2": "Song, Lolan",
                                    "3": "Sales Associate",
                                    "4": "Maubelstr. 8901",
                                    "5": "Brandenburg",
                                    "6": "NULL",
                                    "7": "10060",
                                    "8": "Germany",
                                    "9": "0555-34567",
                                    "10": "NULL"
                                },
                                {
                                    "0": "40",
                                    "1": "Customer EFFTC",
                                    "2": "Owens, Ron",
                                    "3": "Sales Representative",
                                    "4": "2345, avenue de l'Europe",
                                    "5": "Versailles",
                                    "6": "NULL",
                                    "7": "10108",
                                    "8": "France",
                                    "9": "12.34.56.78",
                                    "10": "12.34.56.79"
                                },
                                {
                                    "0": "41",
                                    "1": "Customer XIIWM",
                                    "2": "Litton, Tim",
                                    "3": "Sales Manager",
                                    "4": "3456 rue Alsace-Lorraine",
                                    "5": "Toulouse",
                                    "6": "NULL",
                                    "7": "10053",
                                    "8": "France",
                                    "9": "90.12.34.56",
                                    "10": "90.12.34.57"
                                },
                                {
                                    "0": "42",
                                    "1": "Customer IAIJK",
                                    "2": "Zaki, Amr",
                                    "3": "Marketing Assistant",
                                    "4": "2345 Oak St.",
                                    "5": "Vancouver",
                                    "6": "BC",
                                    "7": "10098",
                                    "8": "Canada",
                                    "9": "(604) 567-8901",
                                    "10": "(604) 234-5678"
                                },
                                {
                                    "0": "43",
                                    "1": "Customer UISOJ",
                                    "2": "Wu, Qiong",
                                    "3": "Marketing Manager",
                                    "4": "8901 Orchestra Terrace",
                                    "5": "Walla Walla",
                                    "6": "WA",
                                    "7": "10069",
                                    "8": "USA",
                                    "9": "(509) 555-0119",
                                    "10": "(509) 555-0130"
                                },
                                {
                                    "0": "44",
                                    "1": "Customer OXFRU",
                                    "2": "Louverdis, George",
                                    "3": "Sales Representative",
                                    "4": "Magazinweg 8901",
                                    "5": "Frankfurt a.M.",
                                    "6": "NULL",
                                    "7": "10095",
                                    "8": "Germany",
                                    "9": "069-7890123",
                                    "10": "069-4567890"
                                },
                                {
                                    "0": "45",
                                    "1": "Customer QXPPT",
                                    "2": "Wright, David",
                                    "3": "Owner",
                                    "4": "1234 Polk St. Suite 5",
                                    "5": "San Francisco",
                                    "6": "CA",
                                    "7": "10062",
                                    "8": "USA",
                                    "9": "(415) 555-0118",
                                    "10": "NULL"
                                },
                                {
                                    "0": "46",
                                    "1": "Customer XPNIK",
                                    "2": "Neves, Paulo",
                                    "3": "Accounting Manager",
                                    "4": "Carrera 7890 con Ave. Bolívar #65-98 Llano Largo",
                                    "5": "Barquisimeto",
                                    "6": "Lara",
                                    "7": "10093",
                                    "8": "Venezuela",
                                    "9": "(9) 789-0123",
                                    "10": "(9) 456-7890"
                                },
                                {
                                    "0": "47",
                                    "1": "Customer PSQUZ",
                                    "2": "Lupu, Cornel",
                                    "3": "Owner",
                                    "4": "Ave. 5 de Mayo Porlamar 5678",
                                    "5": "I. de Margarita",
                                    "6": "Nueva Esparta",
                                    "7": "10121",
                                    "8": "Venezuela",
                                    "9": "(8) 01-23-45",
                                    "10": "(8) 67-89-01"
                                },
                                {
                                    "0": "48",
                                    "1": "Customer DVFMB",
                                    "2": "Szymczak, Radosław",
                                    "3": "Sales Manager",
                                    "4": "9012 Chiaroscuro Rd.",
                                    "5": "Portland",
                                    "6": "OR",
                                    "7": "10073",
                                    "8": "USA",
                                    "9": "(503) 555-0117",
                                    "10": "(503) 555-0129"
                                },
                                {
                                    "0": "49",
                                    "1": "Customer CQRAA",
                                    "2": "Duerr, Bernard",
                                    "3": "Marketing Manager",
                                    "4": "Via Ludovico il Moro 6789",
                                    "5": "Bergamo",
                                    "6": "NULL",
                                    "7": "10106",
                                    "8": "Italy",
                                    "9": "035-345678",
                                    "10": "035-901234"
                                },
                                {
                                    "0": "50",
                                    "1": "Customer JYPSC",
                                    "2": "Goldin, Maxim",
                                    "3": "Sales Agent",
                                    "4": "Rue Joseph-Bens 0123",
                                    "5": "Bruxelles",
                                    "6": "NULL",
                                    "7": "10074",
                                    "8": "Belgium",
                                    "9": "(02) 890 12 34",
                                    "10": "(02) 567 89 01"
                                },
                                {
                                    "0": "51",
                                    "1": "Customer PVDZC",
                                    "2": "Taylor, Maurice",
                                    "3": "Marketing Assistant",
                                    "4": "8901 rue St. Laurent",
                                    "5": "Montréal",
                                    "6": "Québec",
                                    "7": "10040",
                                    "8": "Canada",
                                    "9": "(514) 345-6789",
                                    "10": "(514) 012-3456"
                                },
                                {
                                    "0": "52",
                                    "1": "Customer PZNLA",
                                    "2": "Natarajan, Mrina",
                                    "3": "Marketing Assistant",
                                    "4": "Heerstr. 4567",
                                    "5": "Leipzig",
                                    "6": "NULL",
                                    "7": "10125",
                                    "8": "Germany",
                                    "9": "0342-12345",
                                    "10": "NULL"
                                },
                                {
                                    "0": "53",
                                    "1": "Customer GCJSG",
                                    "2": "Mallit, Ken",
                                    "3": "Sales Associate",
                                    "4": "South House 1234 Queensbridge",
                                    "5": "London",
                                    "6": "NULL",
                                    "7": "10061",
                                    "8": "UK",
                                    "9": "(171) 890-1234",
                                    "10": "(171) 890-1235"
                                },
                                {
                                    "0": "54",
                                    "1": "Customer TDKEG",
                                    "2": "Nash, Mike",
                                    "3": "Sales Agent",
                                    "4": "Ing. Gustavo Moncada 0123 Piso 20-A",
                                    "5": "Buenos Aires",
                                    "6": "NULL",
                                    "7": "10094",
                                    "8": "Argentina",
                                    "9": "(1) 123-4567",
                                    "10": "(1) 890-1234"
                                },
                                {
                                    "0": "55",
                                    "1": "Customer KZQZT",
                                    "2": "Wood, Robin",
                                    "3": "Sales Representative",
                                    "4": "7890 Bering St.",
                                    "5": "Anchorage",
                                    "6": "AK",
                                    "7": "10050",
                                    "8": "USA",
                                    "9": "(907) 555-0115",
                                    "10": "(907) 555-0128"
                                },
                                {
                                    "0": "56",
                                    "1": "Customer QNIVZ",
                                    "2": "Miller, Lisa",
                                    "3": "Owner",
                                    "4": "Mehrheimerstr. 9012",
                                    "5": "Köln",
                                    "6": "NULL",
                                    "7": "10047",
                                    "8": "Germany",
                                    "9": "0221-0123456",
                                    "10": "0221-7890123"
                                },
                                {
                                    "0": "57",
                                    "1": "Customer WVAXS",
                                    "2": "Tollevsen, Bjørn",
                                    "3": "Owner",
                                    "4": "5678, boulevard Charonne",
                                    "5": "Paris",
                                    "6": "NULL",
                                    "7": "10085",
                                    "8": "France",
                                    "9": "(1) 89.01.23.45",
                                    "10": "(1) 89.01.23.46"
                                },
                                {
                                    "0": "58",
                                    "1": "Customer AHXHT",
                                    "2": "Frank, Jill",
                                    "3": "Sales Representative",
                                    "4": "Calle Dr. Jorge Cash 8901",
                                    "5": "México D.F.",
                                    "6": "NULL",
                                    "7": "10116",
                                    "8": "Mexico",
                                    "9": "(5) 890-1234",
                                    "10": "(5) 567-8901"
                                },
                                {
                                    "0": "59",
                                    "1": "Customer LOLJO",
                                    "2": "Wang, Tony",
                                    "3": "Sales Manager",
                                    "4": "Geislweg 2345",
                                    "5": "Salzburg",
                                    "6": "NULL",
                                    "7": "10127",
                                    "8": "Austria",
                                    "9": "4567-8901",
                                    "10": "2345-6789"
                                },
                                {
                                    "0": "60",
                                    "1": "Customer QZURI",
                                    "2": "Uppal, Sunil",
                                    "3": "Sales Representative",
                                    "4": "Estrada da saúde n. 6789",
                                    "5": "Lisboa",
                                    "6": "NULL",
                                    "7": "10083",
                                    "8": "Portugal",
                                    "9": "(1) 789-0123",
                                    "10": "NULL"
                                },
                                {
                                    "0": "61",
                                    "1": "Customer WULWD",
                                    "2": "Meisels, Josh",
                                    "3": "Accounting Manager",
                                    "4": "Rua da Panificadora, 1234",
                                    "5": "Rio de Janeiro",
                                    "6": "RJ",
                                    "7": "10115",
                                    "8": "Brazil",
                                    "9": "(21) 678-9012",
                                    "10": "(21) 678-9013"
                                },
                                {
                                    "0": "62",
                                    "1": "Customer WFIZJ",
                                    "2": "Misiec, Anna",
                                    "3": "Marketing Assistant",
                                    "4": "Alameda dos Canàrios, 1234",
                                    "5": "Sao Paulo",
                                    "6": "SP",
                                    "7": "10102",
                                    "8": "Brazil",
                                    "9": "(11) 901-2345",
                                    "10": "NULL"
                                },
                                {
                                    "0": "63",
                                    "1": "Customer IRRVL",
                                    "2": "Veronesi, Giorgio",
                                    "3": "Accounting Manager",
                                    "4": "Taucherstraße 1234",
                                    "5": "Cunewalde",
                                    "6": "NULL",
                                    "7": "10126",
                                    "8": "Germany",
                                    "9": "0372-12345",
                                    "10": "NULL"
                                },
                                {
                                    "0": "64",
                                    "1": "Customer LWGMD",
                                    "2": "Gaffney, Lawrie",
                                    "3": "Sales Representative",
                                    "4": "Av. del Libertador 3456",
                                    "5": "Buenos Aires",
                                    "6": "NULL",
                                    "7": "10124",
                                    "8": "Argentina",
                                    "9": "(1) 234-5678",
                                    "10": "(1) 901-2345"
                                },
                                {
                                    "0": "65",
                                    "1": "Customer NYUHS",
                                    "2": "Moore, Michael",
                                    "3": "Assistant Sales Representative",
                                    "4": "6789 Milton Dr.",
                                    "5": "Albuquerque",
                                    "6": "NM",
                                    "7": "10109",
                                    "8": "USA",
                                    "9": "(505) 555-0125",
                                    "10": "(505) 555-0134"
                                },
                                {
                                    "0": "66",
                                    "1": "Customer LHANT",
                                    "2": "Voss, Florian",
                                    "3": "Sales Associate",
                                    "4": "Strada Provinciale 7890",
                                    "5": "Reggio Emilia",
                                    "6": "NULL",
                                    "7": "10038",
                                    "8": "Italy",
                                    "9": "0522-012345",
                                    "10": "0522-678901"
                                },
                                {
                                    "0": "67",
                                    "1": "Customer QVEPD",
                                    "2": "Garden, Euan",
                                    "3": "Assistant Sales Agent",
                                    "4": "Av. Copacabana, 6789",
                                    "5": "Rio de Janeiro",
                                    "6": "RJ",
                                    "7": "10052",
                                    "8": "Brazil",
                                    "9": "(21) 345-6789",
                                    "10": "NULL"
                                },
                                {
                                    "0": "68",
                                    "1": "Customer CCKOT",
                                    "2": "Myrcha, Jacek",
                                    "3": "Sales Manager",
                                    "4": "Grenzacherweg 0123",
                                    "5": "Genève",
                                    "6": "NULL",
                                    "7": "10122",
                                    "8": "Switzerland",
                                    "9": "0897-012345",
                                    "10": "NULL"
                                },
                                {
                                    "0": "69",
                                    "1": "Customer SIUIH",
                                    "2": "Troup, Carol",
                                    "3": "Accounting Manager",
                                    "4": "Gran Vía, 4567",
                                    "5": "Madrid",
                                    "6": "NULL",
                                    "7": "10071",
                                    "8": "Spain",
                                    "9": "(91) 567 8901",
                                    "10": "(91) 234 5678"
                                },
                                {
                                    "0": "70",
                                    "1": "Customer TMXGN",
                                    "2": "Makovac, Zrinka",
                                    "3": "Owner",
                                    "4": "Erling Skakkes gate 2345",
                                    "5": "Stavern",
                                    "6": "NULL",
                                    "7": "10123",
                                    "8": "Norway",
                                    "9": "07-89 01 23",
                                    "10": "07-45 67 89"
                                },
                                {
                                    "0": "71",
                                    "1": "Customer LCOUJ",
                                    "2": "Navarro, Tomás",
                                    "3": "Sales Representative",
                                    "4": "9012 Suffolk Ln.",
                                    "5": "Boise",
                                    "6": "ID",
                                    "7": "10078",
                                    "8": "USA",
                                    "9": "(208) 555-0116",
                                    "10": "NULL"
                                },
                                {
                                    "0": "72",
                                    "1": "Customer AHPOP",
                                    "2": "Welcker, Brian",
                                    "3": "Sales Manager",
                                    "4": "4567 Wadhurst Rd.",
                                    "5": "London",
                                    "6": "NULL",
                                    "7": "10088",
                                    "8": "UK",
                                    "9": "(171) 901-2345",
                                    "10": "(171) 901-2346"
                                },
                                {
                                    "0": "73",
                                    "1": "Customer JMIKW",
                                    "2": "Gonzalez, Nuria",
                                    "3": "Owner",
                                    "4": "Vinbæltet 3456",
                                    "5": "Kobenhavn",
                                    "6": "NULL",
                                    "7": "10079",
                                    "8": "Denmark",
                                    "9": "12 34 56 78",
                                    "10": "90 12 34 56"
                                },
                                {
                                    "0": "74",
                                    "1": "Customer YSHXL",
                                    "2": "MacDonald, Scott",
                                    "3": "Marketing Manager",
                                    "4": "9012, rue Lauriston",
                                    "5": "Paris",
                                    "6": "NULL",
                                    "7": "10058",
                                    "8": "France",
                                    "9": "(1) 23.45.67.89",
                                    "10": "(1) 23.45.67.80"
                                },
                                {
                                    "0": "75",
                                    "1": "Customer XOJYP",
                                    "2": "Downs, Chris",
                                    "3": "Sales Manager",
                                    "4": "P.O. Box 1234",
                                    "5": "Lander",
                                    "6": "WY",
                                    "7": "10113",
                                    "8": "USA",
                                    "9": "(307) 555-0114",
                                    "10": "(307) 555-0127"
                                },
                                {
                                    "0": "76",
                                    "1": "Customer SFOGW",
                                    "2": "Luper, Steve",
                                    "3": "Accounting Manager",
                                    "4": "Boulevard Tirou, 2345",
                                    "5": "Charleroi",
                                    "6": "NULL",
                                    "7": "10100",
                                    "8": "Belgium",
                                    "9": "(071) 56 78 90 12",
                                    "10": "(071) 34 56 78 90"
                                },
                                {
                                    "0": "77",
                                    "1": "Customer LCYBZ",
                                    "2": "Didcock, Cliff",
                                    "3": "Marketing Manager",
                                    "4": "2345 Jefferson Way Suite 2",
                                    "5": "Portland",
                                    "6": "OR",
                                    "7": "10042",
                                    "8": "USA",
                                    "9": "(503) 555-0120",
                                    "10": "NULL"
                                },
                                {
                                    "0": "78",
                                    "1": "Customer NLTYP",
                                    "2": "Ma, Andrew",
                                    "3": "Marketing Assistant",
                                    "4": "0123 Grizzly Peak Rd.",
                                    "5": "Butte",
                                    "6": "MT",
                                    "7": "10107",
                                    "8": "USA",
                                    "9": "(406) 555-0121",
                                    "10": "(406) 555-0131"
                                },
                                {
                                    "0": "79",
                                    "1": "Customer FAPSM",
                                    "2": "Wickham, Jim",
                                    "3": "Marketing Manager",
                                    "4": "Luisenstr. 0123",
                                    "5": "Münster",
                                    "6": "NULL",
                                    "7": "10118",
                                    "8": "Germany",
                                    "9": "0251-456789",
                                    "10": "0251-012345"
                                },
                                {
                                    "0": "80",
                                    "1": "Customer VONTK",
                                    "2": "Toh, Karen",
                                    "3": "Owner",
                                    "4": "Avda. Azteca 4567",
                                    "5": "México D.F.",
                                    "6": "NULL",
                                    "7": "10044",
                                    "8": "Mexico",
                                    "9": "(5) 678-9012",
                                    "10": "NULL"
                                },
                                {
                                    "0": "81",
                                    "1": "Customer YQQWW",
                                    "2": "Edwards, Josh",
                                    "3": "Sales Representative",
                                    "4": "Av. Inês de Castro, 1234",
                                    "5": "Sao Paulo",
                                    "6": "SP",
                                    "7": "10120",
                                    "8": "Brazil",
                                    "9": "(11) 123-4567",
                                    "10": "(11) 234-5678"
                                },
                                {
                                    "0": "82",
                                    "1": "Customer EYHKM",
                                    "2": "Veninga, Tjeerd",
                                    "3": "Sales Associate",
                                    "4": "1234 DaVinci Blvd.",
                                    "5": "Kirkland",
                                    "6": "WA",
                                    "7": "10119",
                                    "8": "USA",
                                    "9": "(206) 555-0124",
                                    "10": "(206) 555-0133"
                                },
                                {
                                    "0": "83",
                                    "1": "Customer ZRNDE",
                                    "2": "Manar, Karim",
                                    "3": "Sales Manager",
                                    "4": "Smagsloget 3456",
                                    "5": "Århus",
                                    "6": "NULL",
                                    "7": "10090",
                                    "8": "Denmark",
                                    "9": "23 45 67 89",
                                    "10": "01 23 45 67"
                                },
                                {
                                    "0": "84",
                                    "1": "Customer NRCSK",
                                    "2": "Tuntisangaroon, Sittichai",
                                    "3": "Sales Agent",
                                    "4": "6789, rue du Commerce",
                                    "5": "Lyon",
                                    "6": "NULL",
                                    "7": "10072",
                                    "8": "France",
                                    "9": "78.90.12.34",
                                    "10": "78.90.12.35"
                                },
                                {
                                    "0": "85",
                                    "1": "Customer ENQZT",
                                    "2": "Elliott, Patrick",
                                    "3": "Accounting Manager",
                                    "4": "5678 rue de l'Abbaye",
                                    "5": "Reims",
                                    "6": "NULL",
                                    "7": "10082",
                                    "8": "France",
                                    "9": "56.78.90.12",
                                    "10": "56.78.90.13"
                                },
                                {
                                    "0": "86",
                                    "1": "Customer SNXOJ",
                                    "2": "Syamala, Manoj",
                                    "3": "Sales Representative",
                                    "4": "Adenauerallee 7890",
                                    "5": "Stuttgart",
                                    "6": "NULL",
                                    "7": "10086",
                                    "8": "Germany",
                                    "9": "0711-345678",
                                    "10": "0711-901234"
                                },
                                {
                                    "0": "87",
                                    "1": "Customer ZHYOS",
                                    "2": "Ludwig, Michael",
                                    "3": "Accounting Manager",
                                    "4": "Torikatu 9012",
                                    "5": "Oulu",
                                    "6": "NULL",
                                    "7": "10045",
                                    "8": "Finland",
                                    "9": "981-123456",
                                    "10": "981-789012"
                                },
                                {
                                    "0": "88",
                                    "1": "Customer SRQVM",
                                    "2": "Li, Yan",
                                    "3": "Sales Manager",
                                    "4": "Rua do Mercado, 4567",
                                    "5": "Resende",
                                    "6": "SP",
                                    "7": "10084",
                                    "8": "Brazil",
                                    "9": "(14) 234-5678",
                                    "10": "NULL"
                                },
                                {
                                    "0": "89",
                                    "1": "Customer YBQTI",
                                    "2": "Smith Jr., Ronaldo",
                                    "3": "Owner",
                                    "4": "8901 - 14th Ave. S. Suite 3B",
                                    "5": "Seattle",
                                    "6": "WA",
                                    "7": "10049",
                                    "8": "USA",
                                    "9": "(206) 555-0123",
                                    "10": "(206) 555-0132"
                                },
                                {
                                    "0": "90",
                                    "1": "Customer XBBVR",
                                    "2": "Larsson, Katarina",
                                    "3": "Owner/Marketing Assistant",
                                    "4": "Keskuskatu 2345",
                                    "5": "Helsinki",
                                    "6": "NULL",
                                    "7": "10055",
                                    "8": "Finland",
                                    "9": "90-012 3456",
                                    "10": "90-789 0123"
                                },
                                {
                                    "0": "91",
                                    "1": "Customer CCFIZ",
                                    "2": "Vasa, Petr",
                                    "3": "Owner",
                                    "4": "ul. Filtrowa 6789",
                                    "5": "Warszawa",
                                    "6": "NULL",
                                    "7": "10068",
                                    "8": "Poland",
                                    "9": "(26) 234-5678",
                                    "10": "(26) 901-2345"
                                }
                            ]
                        },
                        "text/html": "<table><tr><th>custid</th><th>companyname</th><th>contactname</th><th>contacttitle</th><th>address</th><th>city</th><th>region</th><th>postalcode</th><th>country</th><th>phone</th><th>fax</th></tr><tr><td>1</td><td>Customer NRZBB</td><td>Allen, Michael</td><td>Sales Representative</td><td>Obere Str. 0123</td><td>Berlin</td><td>NULL</td><td>10092</td><td>Germany</td><td>030-3456789</td><td>030-0123456</td></tr><tr><td>2</td><td>Customer MLTDN</td><td>Hassall, Mark</td><td>Owner</td><td>Avda. de la Constitución 5678</td><td>México D.F.</td><td>NULL</td><td>10077</td><td>Mexico</td><td>(5) 789-0123</td><td>(5) 456-7890</td></tr><tr><td>3</td><td>Customer KBUDE</td><td>Strome, David</td><td>Owner</td><td>Mataderos  7890</td><td>México D.F.</td><td>NULL</td><td>10097</td><td>Mexico</td><td>(5) 123-4567</td><td>NULL</td></tr><tr><td>4</td><td>Customer HFBZG</td><td>Cunningham, Conor</td><td>Sales Representative</td><td>7890 Hanover Sq.</td><td>London</td><td>NULL</td><td>10046</td><td>UK</td><td>(171) 456-7890</td><td>(171) 456-7891</td></tr><tr><td>5</td><td>Customer HGVLZ</td><td>Higginbotham, Tom</td><td>Order Administrator</td><td>Berguvsvägen  5678</td><td>Luleå</td><td>NULL</td><td>10112</td><td>Sweden</td><td>0921-67 89 01</td><td>0921-23 45 67</td></tr><tr><td>6</td><td>Customer XHXJV</td><td>Poland, Carole</td><td>Sales Representative</td><td>Forsterstr. 7890</td><td>Mannheim</td><td>NULL</td><td>10117</td><td>Germany</td><td>0621-67890</td><td>0621-12345</td></tr><tr><td>7</td><td>Customer QXVLA</td><td>Bansal, Dushyant</td><td>Marketing Manager</td><td>2345, place Kléber</td><td>Strasbourg</td><td>NULL</td><td>10089</td><td>France</td><td>67.89.01.23</td><td>67.89.01.24</td></tr><tr><td>8</td><td>Customer QUHWH</td><td>Ilyina, Julia</td><td>Owner</td><td>C/ Araquil, 0123</td><td>Madrid</td><td>NULL</td><td>10104</td><td>Spain</td><td>(91) 345 67 89</td><td>(91) 012 34 56</td></tr><tr><td>9</td><td>Customer RTXGC</td><td>Raghav, Amritansh</td><td>Owner</td><td>6789, rue des Bouchers</td><td>Marseille</td><td>NULL</td><td>10105</td><td>France</td><td>23.45.67.89</td><td>23.45.67.80</td></tr><tr><td>10</td><td>Customer EEALV</td><td>Culp, Scott</td><td>Accounting Manager</td><td>8901 Tsawassen Blvd.</td><td>Tsawassen</td><td>BC</td><td>10111</td><td>Canada</td><td>(604) 901-2345</td><td>(604) 678-9012</td></tr><tr><td>11</td><td>Customer UBHAU</td><td>Jaffe, David</td><td>Sales Representative</td><td>Fauntleroy Circus 4567</td><td>London</td><td>NULL</td><td>10064</td><td>UK</td><td>(171) 789-0123</td><td>NULL</td></tr><tr><td>12</td><td>Customer PSNMQ</td><td>Ray, Mike</td><td>Sales Agent</td><td>Cerrito 3456</td><td>Buenos Aires</td><td>NULL</td><td>10057</td><td>Argentina</td><td>(1) 890-1234</td><td>(1) 567-8901</td></tr><tr><td>13</td><td>Customer VMLOG</td><td>Benito, Almudena</td><td>Marketing Manager</td><td>Sierras de Granada 7890</td><td>México D.F.</td><td>NULL</td><td>10056</td><td>Mexico</td><td>(5) 456-7890</td><td>(5) 123-4567</td></tr><tr><td>14</td><td>Customer WNMAF</td><td>Jelitto, Jacek</td><td>Owner</td><td>Hauptstr. 0123</td><td>Bern</td><td>NULL</td><td>10065</td><td>Switzerland</td><td>0452-678901</td><td>NULL</td></tr><tr><td>15</td><td>Customer JUWXK</td><td>Richardson, Shawn</td><td>Sales Associate</td><td>Av. dos Lusíadas, 6789</td><td>Sao Paulo</td><td>SP</td><td>10087</td><td>Brazil</td><td>(11) 012-3456</td><td>NULL</td></tr><tr><td>16</td><td>Customer GYBBY</td><td>Birkby, Dana</td><td>Sales Representative</td><td>Berkeley Gardens 0123 Brewery</td><td>London</td><td>NULL</td><td>10039</td><td>UK</td><td>(171) 234-5678</td><td>(171) 234-5679</td></tr><tr><td>17</td><td>Customer FEVNN</td><td>Sun, Nate</td><td>Order Administrator</td><td>Walserweg 4567</td><td>Aachen</td><td>NULL</td><td>10067</td><td>Germany</td><td>0241-789012</td><td>0241-345678</td></tr><tr><td>18</td><td>Customer BSVAR</td><td>Lieber, Justin</td><td>Owner</td><td>3456, rue des Cinquante Otages</td><td>Nantes</td><td>NULL</td><td>10041</td><td>France</td><td>89.01.23.45</td><td>89.01.23.46</td></tr><tr><td>19</td><td>Customer RFNQC</td><td>Boseman, Randall</td><td>Sales Agent</td><td>5678 King George</td><td>London</td><td>NULL</td><td>10110</td><td>UK</td><td>(171) 345-6789</td><td>(171) 345-6780</td></tr><tr><td>20</td><td>Customer THHDP</td><td>Kane, John</td><td>Sales Manager</td><td>Kirchgasse 9012</td><td>Graz</td><td>NULL</td><td>10059</td><td>Austria</td><td>1234-5678</td><td>9012-3456</td></tr><tr><td>21</td><td>Customer KIDPX</td><td>Russo, Giuseppe</td><td>Marketing Assistant</td><td>Rua Orós, 3456</td><td>Sao Paulo</td><td>SP</td><td>10096</td><td>Brazil</td><td>(11) 456-7890</td><td>NULL</td></tr><tr><td>22</td><td>Customer DTDMN</td><td>Daly, Jim</td><td>Accounting Manager</td><td>C/ Moralzarzal, 5678</td><td>Madrid</td><td>NULL</td><td>10080</td><td>Spain</td><td>(91) 890 12 34</td><td>(91) 567 89 01</td></tr><tr><td>23</td><td>Customer WVFAF</td><td>Liu, Jenny</td><td>Assistant Sales Agent</td><td>4567, chaussée de Tournai</td><td>Lille</td><td>NULL</td><td>10048</td><td>France</td><td>45.67.89.01</td><td>45.67.89.02</td></tr><tr><td>24</td><td>Customer CYZTN</td><td>Grisso, Geoff</td><td>Owner</td><td>Åkergatan 5678</td><td>Bräcke</td><td>NULL</td><td>10114</td><td>Sweden</td><td>0695-67 89 01</td><td>NULL</td></tr><tr><td>25</td><td>Customer AZJED</td><td>Carlson, Jason</td><td>Marketing Manager</td><td>Berliner Platz 9012</td><td>München</td><td>NULL</td><td>10091</td><td>Germany</td><td>089-8901234</td><td>089-5678901</td></tr><tr><td>26</td><td>Customer USDBG</td><td>Koch, Paul</td><td>Marketing Manager</td><td>9012, rue Royale</td><td>Nantes</td><td>NULL</td><td>10101</td><td>France</td><td>34.56.78.90</td><td>34.56.78.91</td></tr><tr><td>27</td><td>Customer WMFEA</td><td>Schmöllerl, Martin</td><td>Sales Representative</td><td>Via Monte Bianco 4567</td><td>Torino</td><td>NULL</td><td>10099</td><td>Italy</td><td>011-2345678</td><td>011-9012345</td></tr><tr><td>28</td><td>Customer XYUFB</td><td>Cavaglieri, Giorgio</td><td>Sales Manager</td><td>Jardim das rosas n. 8901</td><td>Lisboa</td><td>NULL</td><td>10054</td><td>Portugal</td><td>(1) 456-7890</td><td>(1) 123-4567</td></tr><tr><td>29</td><td>Customer MDLWA</td><td>Kolesnikova, Katerina</td><td>Marketing Manager</td><td>Rambla de Cataluña, 8901</td><td>Barcelona</td><td>NULL</td><td>10081</td><td>Spain</td><td>(93) 789 0123</td><td>(93) 456 7890</td></tr><tr><td>30</td><td>Customer KSLQF</td><td>Grossman, Seth</td><td>Sales Manager</td><td>C/ Romero, 1234</td><td>Sevilla</td><td>NULL</td><td>10075</td><td>Spain</td><td>(95) 901 23 45</td><td>NULL</td></tr><tr><td>31</td><td>Customer YJCBX</td><td>Orint, Neil</td><td>Sales Associate</td><td>Av. Brasil, 5678</td><td>Campinas</td><td>SP</td><td>10128</td><td>Brazil</td><td>(11) 567-8901</td><td>NULL</td></tr><tr><td>32</td><td>Customer YSIQX</td><td>Krishnan, Venky</td><td>Marketing Manager</td><td>6789 Baker Blvd.</td><td>Eugene</td><td>OR</td><td>10070</td><td>USA</td><td>(503) 555-0122</td><td>NULL</td></tr><tr><td>33</td><td>Customer FVXPQ</td><td>Yuksel, Ayca</td><td>Owner</td><td>5ª Ave. Los Palos Grandes 3456</td><td>Caracas</td><td>DF</td><td>10043</td><td>Venezuela</td><td>(2) 789-0123</td><td>(2) 456-7890</td></tr><tr><td>34</td><td>Customer IBVRG</td><td>Zhang, Frank</td><td>Accounting Manager</td><td>Rua do Paço, 7890</td><td>Rio de Janeiro</td><td>RJ</td><td>10076</td><td>Brazil</td><td>(21) 789-0123</td><td>(21) 789-0124</td></tr><tr><td>35</td><td>Customer UMTLM</td><td>Langohr, Kris</td><td>Sales Representative</td><td>Carrera 1234 con Ave. Carlos Soublette #8-35</td><td>San Cristóbal</td><td>Táchira</td><td>10066</td><td>Venezuela</td><td>(5) 567-8901</td><td>(5) 234-5678</td></tr><tr><td>36</td><td>Customer LVJSO</td><td>Smith, Denise</td><td>Sales Representative</td><td>City Center Plaza 2345 Main St.</td><td>Elgin</td><td>OR</td><td>10103</td><td>USA</td><td>(503) 555-0126</td><td>(503) 555-0135</td></tr><tr><td>37</td><td>Customer FRXZL</td><td>Óskarsson, Jón Harry</td><td>Sales Associate</td><td>9012 Johnstown Road</td><td>Cork</td><td>Co. Cork</td><td>10051</td><td>Ireland</td><td>8901 234</td><td>5678 9012</td></tr><tr><td>38</td><td>Customer LJUCA</td><td>Orton, Jon</td><td>Marketing Manager</td><td>Garden House Crowther Way 3456</td><td>Cowes</td><td>Isle of Wight</td><td>10063</td><td>UK</td><td>(198) 567-8901</td><td>NULL</td></tr><tr><td>39</td><td>Customer GLLAG</td><td>Song, Lolan</td><td>Sales Associate</td><td>Maubelstr. 8901</td><td>Brandenburg</td><td>NULL</td><td>10060</td><td>Germany</td><td>0555-34567</td><td>NULL</td></tr><tr><td>40</td><td>Customer EFFTC</td><td>Owens, Ron</td><td>Sales Representative</td><td>2345, avenue de l'Europe</td><td>Versailles</td><td>NULL</td><td>10108</td><td>France</td><td>12.34.56.78</td><td>12.34.56.79</td></tr><tr><td>41</td><td>Customer XIIWM</td><td>Litton, Tim</td><td>Sales Manager</td><td>3456 rue Alsace-Lorraine</td><td>Toulouse</td><td>NULL</td><td>10053</td><td>France</td><td>90.12.34.56</td><td>90.12.34.57</td></tr><tr><td>42</td><td>Customer IAIJK</td><td>Zaki, Amr</td><td>Marketing Assistant</td><td>2345 Oak St.</td><td>Vancouver</td><td>BC</td><td>10098</td><td>Canada</td><td>(604) 567-8901</td><td>(604) 234-5678</td></tr><tr><td>43</td><td>Customer UISOJ</td><td>Wu, Qiong</td><td>Marketing Manager</td><td>8901 Orchestra Terrace</td><td>Walla Walla</td><td>WA</td><td>10069</td><td>USA</td><td>(509) 555-0119</td><td>(509) 555-0130</td></tr><tr><td>44</td><td>Customer OXFRU</td><td>Louverdis, George</td><td>Sales Representative</td><td>Magazinweg 8901</td><td>Frankfurt a.M.</td><td>NULL</td><td>10095</td><td>Germany</td><td>069-7890123</td><td>069-4567890</td></tr><tr><td>45</td><td>Customer QXPPT</td><td>Wright, David</td><td>Owner</td><td>1234 Polk St. Suite 5</td><td>San Francisco</td><td>CA</td><td>10062</td><td>USA</td><td>(415) 555-0118</td><td>NULL</td></tr><tr><td>46</td><td>Customer XPNIK</td><td>Neves, Paulo</td><td>Accounting Manager</td><td>Carrera 7890 con Ave. Bolívar #65-98 Llano Largo</td><td>Barquisimeto</td><td>Lara</td><td>10093</td><td>Venezuela</td><td>(9) 789-0123</td><td>(9) 456-7890</td></tr><tr><td>47</td><td>Customer PSQUZ</td><td>Lupu, Cornel</td><td>Owner</td><td>Ave. 5 de Mayo Porlamar 5678</td><td>I. de Margarita</td><td>Nueva Esparta</td><td>10121</td><td>Venezuela</td><td>(8) 01-23-45</td><td>(8) 67-89-01</td></tr><tr><td>48</td><td>Customer DVFMB</td><td>Szymczak, Radosław</td><td>Sales Manager</td><td>9012 Chiaroscuro Rd.</td><td>Portland</td><td>OR</td><td>10073</td><td>USA</td><td>(503) 555-0117</td><td>(503) 555-0129</td></tr><tr><td>49</td><td>Customer CQRAA</td><td>Duerr, Bernard</td><td>Marketing Manager</td><td>Via Ludovico il Moro 6789</td><td>Bergamo</td><td>NULL</td><td>10106</td><td>Italy</td><td>035-345678</td><td>035-901234</td></tr><tr><td>50</td><td>Customer JYPSC</td><td>Goldin, Maxim</td><td>Sales Agent</td><td>Rue Joseph-Bens 0123</td><td>Bruxelles</td><td>NULL</td><td>10074</td><td>Belgium</td><td>(02) 890 12 34</td><td>(02) 567 89 01</td></tr><tr><td>51</td><td>Customer PVDZC</td><td>Taylor, Maurice</td><td>Marketing Assistant</td><td>8901 rue St. Laurent</td><td>Montréal</td><td>Québec</td><td>10040</td><td>Canada</td><td>(514) 345-6789</td><td>(514) 012-3456</td></tr><tr><td>52</td><td>Customer PZNLA</td><td>Natarajan, Mrina</td><td>Marketing Assistant</td><td>Heerstr. 4567</td><td>Leipzig</td><td>NULL</td><td>10125</td><td>Germany</td><td>0342-12345</td><td>NULL</td></tr><tr><td>53</td><td>Customer GCJSG</td><td>Mallit, Ken</td><td>Sales Associate</td><td>South House 1234 Queensbridge</td><td>London</td><td>NULL</td><td>10061</td><td>UK</td><td>(171) 890-1234</td><td>(171) 890-1235</td></tr><tr><td>54</td><td>Customer TDKEG</td><td>Nash, Mike</td><td>Sales Agent</td><td>Ing. Gustavo Moncada 0123 Piso 20-A</td><td>Buenos Aires</td><td>NULL</td><td>10094</td><td>Argentina</td><td>(1) 123-4567</td><td>(1) 890-1234</td></tr><tr><td>55</td><td>Customer KZQZT</td><td>Wood, Robin</td><td>Sales Representative</td><td>7890 Bering St.</td><td>Anchorage</td><td>AK</td><td>10050</td><td>USA</td><td>(907) 555-0115</td><td>(907) 555-0128</td></tr><tr><td>56</td><td>Customer QNIVZ</td><td>Miller, Lisa</td><td>Owner</td><td>Mehrheimerstr. 9012</td><td>Köln</td><td>NULL</td><td>10047</td><td>Germany</td><td>0221-0123456</td><td>0221-7890123</td></tr><tr><td>57</td><td>Customer WVAXS</td><td>Tollevsen, Bjørn</td><td>Owner</td><td>5678, boulevard Charonne</td><td>Paris</td><td>NULL</td><td>10085</td><td>France</td><td>(1) 89.01.23.45</td><td>(1) 89.01.23.46</td></tr><tr><td>58</td><td>Customer AHXHT</td><td>Frank, Jill</td><td>Sales Representative</td><td>Calle Dr. Jorge Cash 8901</td><td>México D.F.</td><td>NULL</td><td>10116</td><td>Mexico</td><td>(5) 890-1234</td><td>(5) 567-8901</td></tr><tr><td>59</td><td>Customer LOLJO</td><td>Wang, Tony</td><td>Sales Manager</td><td>Geislweg 2345</td><td>Salzburg</td><td>NULL</td><td>10127</td><td>Austria</td><td>4567-8901</td><td>2345-6789</td></tr><tr><td>60</td><td>Customer QZURI</td><td>Uppal, Sunil</td><td>Sales Representative</td><td>Estrada da saúde n. 6789</td><td>Lisboa</td><td>NULL</td><td>10083</td><td>Portugal</td><td>(1) 789-0123</td><td>NULL</td></tr><tr><td>61</td><td>Customer WULWD</td><td>Meisels, Josh</td><td>Accounting Manager</td><td>Rua da Panificadora, 1234</td><td>Rio de Janeiro</td><td>RJ</td><td>10115</td><td>Brazil</td><td>(21) 678-9012</td><td>(21) 678-9013</td></tr><tr><td>62</td><td>Customer WFIZJ</td><td>Misiec, Anna</td><td>Marketing Assistant</td><td>Alameda dos Canàrios, 1234</td><td>Sao Paulo</td><td>SP</td><td>10102</td><td>Brazil</td><td>(11) 901-2345</td><td>NULL</td></tr><tr><td>63</td><td>Customer IRRVL</td><td>Veronesi, Giorgio</td><td>Accounting Manager</td><td>Taucherstraße 1234</td><td>Cunewalde</td><td>NULL</td><td>10126</td><td>Germany</td><td>0372-12345</td><td>NULL</td></tr><tr><td>64</td><td>Customer LWGMD</td><td>Gaffney, Lawrie</td><td>Sales Representative</td><td>Av. del Libertador 3456</td><td>Buenos Aires</td><td>NULL</td><td>10124</td><td>Argentina</td><td>(1) 234-5678</td><td>(1) 901-2345</td></tr><tr><td>65</td><td>Customer NYUHS</td><td>Moore, Michael</td><td>Assistant Sales Representative</td><td>6789 Milton Dr.</td><td>Albuquerque</td><td>NM</td><td>10109</td><td>USA</td><td>(505) 555-0125</td><td>(505) 555-0134</td></tr><tr><td>66</td><td>Customer LHANT</td><td>Voss, Florian</td><td>Sales Associate</td><td>Strada Provinciale 7890</td><td>Reggio Emilia</td><td>NULL</td><td>10038</td><td>Italy</td><td>0522-012345</td><td>0522-678901</td></tr><tr><td>67</td><td>Customer QVEPD</td><td>Garden, Euan</td><td>Assistant Sales Agent</td><td>Av. Copacabana, 6789</td><td>Rio de Janeiro</td><td>RJ</td><td>10052</td><td>Brazil</td><td>(21) 345-6789</td><td>NULL</td></tr><tr><td>68</td><td>Customer CCKOT</td><td>Myrcha, Jacek</td><td>Sales Manager</td><td>Grenzacherweg 0123</td><td>Genève</td><td>NULL</td><td>10122</td><td>Switzerland</td><td>0897-012345</td><td>NULL</td></tr><tr><td>69</td><td>Customer SIUIH</td><td>Troup, Carol</td><td>Accounting Manager</td><td>Gran Vía, 4567</td><td>Madrid</td><td>NULL</td><td>10071</td><td>Spain</td><td>(91) 567 8901</td><td>(91) 234 5678</td></tr><tr><td>70</td><td>Customer TMXGN</td><td>Makovac, Zrinka</td><td>Owner</td><td>Erling Skakkes gate 2345</td><td>Stavern</td><td>NULL</td><td>10123</td><td>Norway</td><td>07-89 01 23</td><td>07-45 67 89</td></tr><tr><td>71</td><td>Customer LCOUJ</td><td>Navarro, Tomás</td><td>Sales Representative</td><td>9012 Suffolk Ln.</td><td>Boise</td><td>ID</td><td>10078</td><td>USA</td><td>(208) 555-0116</td><td>NULL</td></tr><tr><td>72</td><td>Customer AHPOP</td><td>Welcker, Brian</td><td>Sales Manager</td><td>4567 Wadhurst Rd.</td><td>London</td><td>NULL</td><td>10088</td><td>UK</td><td>(171) 901-2345</td><td>(171) 901-2346</td></tr><tr><td>73</td><td>Customer JMIKW</td><td>Gonzalez, Nuria</td><td>Owner</td><td>Vinbæltet 3456</td><td>Kobenhavn</td><td>NULL</td><td>10079</td><td>Denmark</td><td>12 34 56 78</td><td>90 12 34 56</td></tr><tr><td>74</td><td>Customer YSHXL</td><td>MacDonald, Scott</td><td>Marketing Manager</td><td>9012, rue Lauriston</td><td>Paris</td><td>NULL</td><td>10058</td><td>France</td><td>(1) 23.45.67.89</td><td>(1) 23.45.67.80</td></tr><tr><td>75</td><td>Customer XOJYP</td><td>Downs, Chris</td><td>Sales Manager</td><td>P.O. Box 1234</td><td>Lander</td><td>WY</td><td>10113</td><td>USA</td><td>(307) 555-0114</td><td>(307) 555-0127</td></tr><tr><td>76</td><td>Customer SFOGW</td><td>Luper, Steve</td><td>Accounting Manager</td><td>Boulevard Tirou, 2345</td><td>Charleroi</td><td>NULL</td><td>10100</td><td>Belgium</td><td>(071) 56 78 90 12</td><td>(071) 34 56 78 90</td></tr><tr><td>77</td><td>Customer LCYBZ</td><td>Didcock, Cliff</td><td>Marketing Manager</td><td>2345 Jefferson Way Suite 2</td><td>Portland</td><td>OR</td><td>10042</td><td>USA</td><td>(503) 555-0120</td><td>NULL</td></tr><tr><td>78</td><td>Customer NLTYP</td><td>Ma, Andrew</td><td>Marketing Assistant</td><td>0123 Grizzly Peak Rd.</td><td>Butte</td><td>MT</td><td>10107</td><td>USA</td><td>(406) 555-0121</td><td>(406) 555-0131</td></tr><tr><td>79</td><td>Customer FAPSM</td><td>Wickham, Jim</td><td>Marketing Manager</td><td>Luisenstr. 0123</td><td>Münster</td><td>NULL</td><td>10118</td><td>Germany</td><td>0251-456789</td><td>0251-012345</td></tr><tr><td>80</td><td>Customer VONTK</td><td>Toh, Karen</td><td>Owner</td><td>Avda. Azteca 4567</td><td>México D.F.</td><td>NULL</td><td>10044</td><td>Mexico</td><td>(5) 678-9012</td><td>NULL</td></tr><tr><td>81</td><td>Customer YQQWW</td><td>Edwards, Josh</td><td>Sales Representative</td><td>Av. Inês de Castro, 1234</td><td>Sao Paulo</td><td>SP</td><td>10120</td><td>Brazil</td><td>(11) 123-4567</td><td>(11) 234-5678</td></tr><tr><td>82</td><td>Customer EYHKM</td><td>Veninga, Tjeerd</td><td>Sales Associate</td><td>1234 DaVinci Blvd.</td><td>Kirkland</td><td>WA</td><td>10119</td><td>USA</td><td>(206) 555-0124</td><td>(206) 555-0133</td></tr><tr><td>83</td><td>Customer ZRNDE</td><td>Manar, Karim</td><td>Sales Manager</td><td>Smagsloget 3456</td><td>Århus</td><td>NULL</td><td>10090</td><td>Denmark</td><td>23 45 67 89</td><td>01 23 45 67</td></tr><tr><td>84</td><td>Customer NRCSK</td><td>Tuntisangaroon, Sittichai</td><td>Sales Agent</td><td>6789, rue du Commerce</td><td>Lyon</td><td>NULL</td><td>10072</td><td>France</td><td>78.90.12.34</td><td>78.90.12.35</td></tr><tr><td>85</td><td>Customer ENQZT</td><td>Elliott, Patrick</td><td>Accounting Manager</td><td>5678 rue de l'Abbaye</td><td>Reims</td><td>NULL</td><td>10082</td><td>France</td><td>56.78.90.12</td><td>56.78.90.13</td></tr><tr><td>86</td><td>Customer SNXOJ</td><td>Syamala, Manoj</td><td>Sales Representative</td><td>Adenauerallee 7890</td><td>Stuttgart</td><td>NULL</td><td>10086</td><td>Germany</td><td>0711-345678</td><td>0711-901234</td></tr><tr><td>87</td><td>Customer ZHYOS</td><td>Ludwig, Michael</td><td>Accounting Manager</td><td>Torikatu 9012</td><td>Oulu</td><td>NULL</td><td>10045</td><td>Finland</td><td>981-123456</td><td>981-789012</td></tr><tr><td>88</td><td>Customer SRQVM</td><td>Li, Yan</td><td>Sales Manager</td><td>Rua do Mercado, 4567</td><td>Resende</td><td>SP</td><td>10084</td><td>Brazil</td><td>(14) 234-5678</td><td>NULL</td></tr><tr><td>89</td><td>Customer YBQTI</td><td>Smith Jr., Ronaldo</td><td>Owner</td><td>8901 - 14th Ave. S. Suite 3B</td><td>Seattle</td><td>WA</td><td>10049</td><td>USA</td><td>(206) 555-0123</td><td>(206) 555-0132</td></tr><tr><td>90</td><td>Customer XBBVR</td><td>Larsson, Katarina</td><td>Owner/Marketing Assistant</td><td>Keskuskatu 2345</td><td>Helsinki</td><td>NULL</td><td>10055</td><td>Finland</td><td>90-012 3456</td><td>90-789 0123</td></tr><tr><td>91</td><td>Customer CCFIZ</td><td>Vasa, Petr</td><td>Owner</td><td>ul. Filtrowa 6789</td><td>Warszawa</td><td>NULL</td><td>10068</td><td>Poland</td><td>(26) 234-5678</td><td>(26) 901-2345</td></tr></table>"
                    },
                    "metadata": {}
                }
            ],
            "execution_count": 72
        },
        {
            "cell_type": "markdown",
            "source": [
                "21. Check option, to check if our insertion satisfies the views query. What if we insert a UK customer into the USACusts View? It'll leak into the main table without anyone knowing."
            ],
            "metadata": {
                "language": "sql",
                "azdata_cell_guid": "2f84b67e-e977-4539-bba0-0ad2d387889a"
            },
            "attachments": {}
        },
        {
            "cell_type": "code",
            "source": [
                "INSERT INTO Sales.USACusts(\n",
                "  companyname, contactname, contacttitle, address,\n",
                "  city, region, postalcode, country, phone, fax)\n",
                " VALUES(\n",
                "  N'Customer ABCDE', N'Contact ABCDE', N'Title ABCDE', N'Address ABCDE',\n",
                "  N'London', NULL, N'12345', N'UK', N'012-3456789', N'012-3456789');\n",
                "--notice we're adding rows that dont satisfy the views query\n",
                "--we wont see it in the view, but the actual table\n",
                "\n",
                "SELECT custid, companyname, country\n",
                "FROM Sales.USACusts\n",
                "WHERE companyname = N'Customer ABCDE';\n",
                "\n",
                "SELECT custid, companyname, country\n",
                "FROM Sales.Customers\n",
                "WHERE companyname = N'Customer ABCDE'"
            ],
            "metadata": {
                "language": "sql",
                "azdata_cell_guid": "a5a08721-aa57-48b3-ad83-ddec577e3d8b",
                "tags": []
            },
            "outputs": [
                {
                    "output_type": "display_data",
                    "data": {
                        "text/html": "(1 row affected)"
                    },
                    "metadata": {}
                },
                {
                    "output_type": "display_data",
                    "data": {
                        "text/html": "(1 row affected)"
                    },
                    "metadata": {}
                },
                {
                    "output_type": "display_data",
                    "data": {
                        "text/html": "(8 rows affected)"
                    },
                    "metadata": {}
                },
                {
                    "output_type": "display_data",
                    "data": {
                        "text/html": "Total execution time: 00:00:00.046"
                    },
                    "metadata": {}
                },
                {
                    "output_type": "execute_result",
                    "execution_count": 81,
                    "data": {
                        "application/vnd.dataresource+json": {
                            "schema": {
                                "fields": [
                                    {
                                        "name": "custid"
                                    },
                                    {
                                        "name": "companyname"
                                    },
                                    {
                                        "name": "country"
                                    }
                                ]
                            },
                            "data": [
                                {
                                    "0": "97",
                                    "1": "Customer ABCDE",
                                    "2": "USA"
                                }
                            ]
                        },
                        "text/html": "<table><tr><th>custid</th><th>companyname</th><th>country</th></tr><tr><td>97</td><td>Customer ABCDE</td><td>USA</td></tr></table>"
                    },
                    "metadata": {}
                },
                {
                    "output_type": "execute_result",
                    "execution_count": 81,
                    "data": {
                        "application/vnd.dataresource+json": {
                            "schema": {
                                "fields": [
                                    {
                                        "name": "custid"
                                    },
                                    {
                                        "name": "companyname"
                                    },
                                    {
                                        "name": "country"
                                    }
                                ]
                            },
                            "data": [
                                {
                                    "0": "92",
                                    "1": "Customer ABCDE",
                                    "2": "UK"
                                },
                                {
                                    "0": "93",
                                    "1": "Customer ABCDE",
                                    "2": "UK"
                                },
                                {
                                    "0": "94",
                                    "1": "Customer ABCDE",
                                    "2": "UK"
                                },
                                {
                                    "0": "95",
                                    "1": "Customer ABCDE",
                                    "2": "UK"
                                },
                                {
                                    "0": "96",
                                    "1": "Customer ABCDE",
                                    "2": "UK"
                                },
                                {
                                    "0": "97",
                                    "1": "Customer ABCDE",
                                    "2": "USA"
                                },
                                {
                                    "0": "98",
                                    "1": "Customer ABCDE",
                                    "2": "UK"
                                },
                                {
                                    "0": "99",
                                    "1": "Customer ABCDE",
                                    "2": "UK"
                                }
                            ]
                        },
                        "text/html": "<table><tr><th>custid</th><th>companyname</th><th>country</th></tr><tr><td>92</td><td>Customer ABCDE</td><td>UK</td></tr><tr><td>93</td><td>Customer ABCDE</td><td>UK</td></tr><tr><td>94</td><td>Customer ABCDE</td><td>UK</td></tr><tr><td>95</td><td>Customer ABCDE</td><td>UK</td></tr><tr><td>96</td><td>Customer ABCDE</td><td>UK</td></tr><tr><td>97</td><td>Customer ABCDE</td><td>USA</td></tr><tr><td>98</td><td>Customer ABCDE</td><td>UK</td></tr><tr><td>99</td><td>Customer ABCDE</td><td>UK</td></tr></table>"
                    },
                    "metadata": {}
                }
            ],
            "execution_count": 81
        },
        {
            "cell_type": "code",
            "source": [
                "ALTER VIEW Sales.USACusts WITH SCHEMABINDING\n",
                "AS\n",
                "\n",
                "SELECT\n",
                "  custid, companyname, contactname, contacttitle, address,\n",
                "  city, region, postalcode, country, phone, fax\n",
                "FROM Sales.Customers\n",
                "WHERE country = N'USA'\n",
                "WITH CHECK OPTION;\n",
                "GO\n",
                "\n",
                "INSERT INTO Sales.USACusts(\n",
                "  companyname, contactname, contacttitle, address,\n",
                "  city, region, postalcode, country, phone, fax)\n",
                " VALUES(\n",
                "  N'Customer FGHIJ', N'Contact FGHIJ', N'Title FGHIJ', N'Address FGHIJ',\n",
                "  N'London', NULL, N'12345', N'UK', N'012-3456789', N'012-3456789');\n",
                ""
            ],
            "metadata": {
                "language": "sql",
                "azdata_cell_guid": "1c19f11b-70ab-4f5e-948b-8cf7015d8868"
            },
            "outputs": [
                {
                    "output_type": "display_data",
                    "data": {
                        "text/html": "Commands completed successfully."
                    },
                    "metadata": {}
                },
                {
                    "output_type": "error",
                    "ename": "",
                    "evalue": "Msg 550, Level 16, State 1, Line 12\nThe attempted insert or update failed because the target view either specifies WITH CHECK OPTION or spans a view that specifies WITH CHECK OPTION and one or more rows resulting from the operation did not qualify under the CHECK OPTION constraint.",
                    "traceback": []
                },
                {
                    "output_type": "display_data",
                    "data": {
                        "text/html": "The statement has been terminated."
                    },
                    "metadata": {}
                },
                {
                    "output_type": "display_data",
                    "data": {
                        "text/html": "Total execution time: 00:00:00.064"
                    },
                    "metadata": {}
                }
            ],
            "execution_count": 84
        },
        {
            "cell_type": "code",
            "source": [
                "DELETE FROM Sales.Customers\n",
                "WHERE custid > 91;\n",
                "\n",
                "DROP VIEW IF EXISTS Sales.USACusts;\n",
                "GO"
            ],
            "metadata": {
                "language": "sql",
                "azdata_cell_guid": "06f33f97-bf79-4bc9-b46c-306a3b3a2486"
            },
            "outputs": [
                {
                    "output_type": "display_data",
                    "data": {
                        "text/html": "(0 rows affected)"
                    },
                    "metadata": {}
                },
                {
                    "output_type": "display_data",
                    "data": {
                        "text/html": "Total execution time: 00:00:00.015"
                    },
                    "metadata": {}
                }
            ],
            "execution_count": 86
        },
        {
            "cell_type": "markdown",
            "source": [
                "22. **GetCustOrders function.** Takes customer id as argument and returns a table of the customers orders. **Get order tables for customer 1 and 2.**"
            ],
            "metadata": {
                "language": "sql",
                "azdata_cell_guid": "650d75eb-6459-4748-8d0d-85386bdc65a7"
            },
            "attachments": {}
        },
        {
            "cell_type": "code",
            "source": [
                "use Northwinds2022TSQLV7\n",
                "\n",
                "drop function if exists dbo.GetCustOrders\n",
                "go\n",
                "\n",
                "create function dbo.GetCustOrders\n",
                "    (@cid as int) returns table \n",
                "as \n",
                "return --actual return table derived from select statement\n",
                "    select *\n",
                "    from Sales.[Order]\n",
                "    where CustomerId = @cid;\n",
                "go\n",
                "\n",
                "--using the function\n",
                "select CustomerId, OrderId\n",
                "from dbo.GetCustOrders(1) as O1\n",
                "\n",
                "select CustomerId, OrderId\n",
                "from dbo.GetCustOrders(2) as O2\n",
                "\n",
                ""
            ],
            "metadata": {
                "language": "sql",
                "azdata_cell_guid": "78b17495-29b7-4a90-8d82-e4633efa573c"
            },
            "outputs": [
                {
                    "output_type": "display_data",
                    "data": {
                        "text/html": "Commands completed successfully."
                    },
                    "metadata": {}
                },
                {
                    "output_type": "display_data",
                    "data": {
                        "text/html": "Commands completed successfully."
                    },
                    "metadata": {}
                },
                {
                    "output_type": "display_data",
                    "data": {
                        "text/html": "(6 rows affected)"
                    },
                    "metadata": {}
                },
                {
                    "output_type": "display_data",
                    "data": {
                        "text/html": "(4 rows affected)"
                    },
                    "metadata": {}
                },
                {
                    "output_type": "display_data",
                    "data": {
                        "text/html": "Total execution time: 00:00:00.062"
                    },
                    "metadata": {}
                },
                {
                    "output_type": "execute_result",
                    "execution_count": 91,
                    "data": {
                        "application/vnd.dataresource+json": {
                            "schema": {
                                "fields": [
                                    {
                                        "name": "CustomerId"
                                    },
                                    {
                                        "name": "OrderId"
                                    }
                                ]
                            },
                            "data": [
                                {
                                    "0": "1",
                                    "1": "10643"
                                },
                                {
                                    "0": "1",
                                    "1": "10692"
                                },
                                {
                                    "0": "1",
                                    "1": "10702"
                                },
                                {
                                    "0": "1",
                                    "1": "10835"
                                },
                                {
                                    "0": "1",
                                    "1": "10952"
                                },
                                {
                                    "0": "1",
                                    "1": "11011"
                                }
                            ]
                        },
                        "text/html": "<table><tr><th>CustomerId</th><th>OrderId</th></tr><tr><td>1</td><td>10643</td></tr><tr><td>1</td><td>10692</td></tr><tr><td>1</td><td>10702</td></tr><tr><td>1</td><td>10835</td></tr><tr><td>1</td><td>10952</td></tr><tr><td>1</td><td>11011</td></tr></table>"
                    },
                    "metadata": {}
                },
                {
                    "output_type": "execute_result",
                    "execution_count": 91,
                    "data": {
                        "application/vnd.dataresource+json": {
                            "schema": {
                                "fields": [
                                    {
                                        "name": "CustomerId"
                                    },
                                    {
                                        "name": "OrderId"
                                    }
                                ]
                            },
                            "data": [
                                {
                                    "0": "2",
                                    "1": "10308"
                                },
                                {
                                    "0": "2",
                                    "1": "10625"
                                },
                                {
                                    "0": "2",
                                    "1": "10759"
                                },
                                {
                                    "0": "2",
                                    "1": "10926"
                                }
                            ]
                        },
                        "text/html": "<table><tr><th>CustomerId</th><th>OrderId</th></tr><tr><td>2</td><td>10308</td></tr><tr><td>2</td><td>10625</td></tr><tr><td>2</td><td>10759</td></tr><tr><td>2</td><td>10926</td></tr></table>"
                    },
                    "metadata": {}
                }
            ],
            "execution_count": 91
        },
        {
            "cell_type": "markdown",
            "source": [
                "23) **Return table of customer 1s orders and matching order details.**"
            ],
            "metadata": {
                "language": "sql",
                "azdata_cell_guid": "98b58192-b693-4b43-8c57-53db58cf5507"
            },
            "attachments": {}
        },
        {
            "cell_type": "code",
            "source": [
                "use Northwinds2022TSQLV7;\n",
                "\n",
                "select O.OrderId, O.CustomerId, OD.ProductId, OD.Quantity\n",
                "from dbo.GetCustOrders(1) as O\n",
                "    inner join\n",
                "    Sales.[OrderDetail] as OD\n",
                "        on O.OrderId = OD.OrderId\n",
                "go"
            ],
            "metadata": {
                "language": "sql",
                "azdata_cell_guid": "7a6d8e69-7ca2-4565-bd3c-4cf14182fc07"
            },
            "outputs": [
                {
                    "output_type": "display_data",
                    "data": {
                        "text/html": "(12 rows affected)"
                    },
                    "metadata": {}
                },
                {
                    "output_type": "display_data",
                    "data": {
                        "text/html": "Total execution time: 00:00:00.034"
                    },
                    "metadata": {}
                },
                {
                    "output_type": "execute_result",
                    "execution_count": 94,
                    "data": {
                        "application/vnd.dataresource+json": {
                            "schema": {
                                "fields": [
                                    {
                                        "name": "OrderId"
                                    },
                                    {
                                        "name": "CustomerId"
                                    },
                                    {
                                        "name": "ProductId"
                                    },
                                    {
                                        "name": "Quantity"
                                    }
                                ]
                            },
                            "data": [
                                {
                                    "0": "10643",
                                    "1": "1",
                                    "2": "28",
                                    "3": "15"
                                },
                                {
                                    "0": "10643",
                                    "1": "1",
                                    "2": "39",
                                    "3": "21"
                                },
                                {
                                    "0": "10643",
                                    "1": "1",
                                    "2": "46",
                                    "3": "2"
                                },
                                {
                                    "0": "10692",
                                    "1": "1",
                                    "2": "63",
                                    "3": "20"
                                },
                                {
                                    "0": "10702",
                                    "1": "1",
                                    "2": "3",
                                    "3": "6"
                                },
                                {
                                    "0": "10702",
                                    "1": "1",
                                    "2": "76",
                                    "3": "15"
                                },
                                {
                                    "0": "10835",
                                    "1": "1",
                                    "2": "59",
                                    "3": "15"
                                },
                                {
                                    "0": "10835",
                                    "1": "1",
                                    "2": "77",
                                    "3": "2"
                                },
                                {
                                    "0": "10952",
                                    "1": "1",
                                    "2": "6",
                                    "3": "16"
                                },
                                {
                                    "0": "10952",
                                    "1": "1",
                                    "2": "28",
                                    "3": "2"
                                },
                                {
                                    "0": "11011",
                                    "1": "1",
                                    "2": "58",
                                    "3": "40"
                                },
                                {
                                    "0": "11011",
                                    "1": "1",
                                    "2": "71",
                                    "3": "20"
                                }
                            ]
                        },
                        "text/html": "<table><tr><th>OrderId</th><th>CustomerId</th><th>ProductId</th><th>Quantity</th></tr><tr><td>10643</td><td>1</td><td>28</td><td>15</td></tr><tr><td>10643</td><td>1</td><td>39</td><td>21</td></tr><tr><td>10643</td><td>1</td><td>46</td><td>2</td></tr><tr><td>10692</td><td>1</td><td>63</td><td>20</td></tr><tr><td>10702</td><td>1</td><td>3</td><td>6</td></tr><tr><td>10702</td><td>1</td><td>76</td><td>15</td></tr><tr><td>10835</td><td>1</td><td>59</td><td>15</td></tr><tr><td>10835</td><td>1</td><td>77</td><td>2</td></tr><tr><td>10952</td><td>1</td><td>6</td><td>16</td></tr><tr><td>10952</td><td>1</td><td>28</td><td>2</td></tr><tr><td>11011</td><td>1</td><td>58</td><td>40</td></tr><tr><td>11011</td><td>1</td><td>71</td><td>20</td></tr></table>"
                    },
                    "metadata": {}
                }
            ],
            "execution_count": 94
        },
        {
            "cell_type": "code",
            "source": [
                "use Northwinds2022TSQLV7\n",
                "\n",
                "drop function if exists dbo.GetCustOrders\n",
                "go"
            ],
            "metadata": {
                "language": "sql",
                "azdata_cell_guid": "a26f3104-120e-4b0b-8ffb-93e222603bf6"
            },
            "outputs": [
                {
                    "output_type": "display_data",
                    "data": {
                        "text/html": "Commands completed successfully."
                    },
                    "metadata": {}
                },
                {
                    "output_type": "display_data",
                    "data": {
                        "text/html": "Total execution time: 00:00:00.018"
                    },
                    "metadata": {}
                }
            ],
            "execution_count": 95
        },
        {
            "cell_type": "markdown",
            "source": [
                "24. **All combinations of shipper ids and customer ids.**"
            ],
            "metadata": {
                "language": "sql",
                "azdata_cell_guid": "b0548707-2df3-4363-b49a-0526e9184066"
            },
            "attachments": {}
        },
        {
            "cell_type": "code",
            "source": [
                "use Northwinds2022TSQLV7\n",
                "\n",
                "select S.ShipperId, E.EmployeeId\n",
                "from Sales.[Shipper] as S\n",
                "    cross join \n",
                "    HumanResources.[Employee] AS E"
            ],
            "metadata": {
                "language": "sql",
                "azdata_cell_guid": "a0c432d7-5f9f-41ea-a106-b60c83e38dfe",
                "tags": []
            },
            "outputs": [
                {
                    "output_type": "display_data",
                    "data": {
                        "text/html": "(27 rows affected)"
                    },
                    "metadata": {}
                },
                {
                    "output_type": "display_data",
                    "data": {
                        "text/html": "Total execution time: 00:00:00.085"
                    },
                    "metadata": {}
                },
                {
                    "output_type": "execute_result",
                    "execution_count": 96,
                    "data": {
                        "application/vnd.dataresource+json": {
                            "schema": {
                                "fields": [
                                    {
                                        "name": "ShipperId"
                                    },
                                    {
                                        "name": "EmployeeId"
                                    }
                                ]
                            },
                            "data": [
                                {
                                    "0": "1",
                                    "1": "1"
                                },
                                {
                                    "0": "1",
                                    "1": "2"
                                },
                                {
                                    "0": "1",
                                    "1": "3"
                                },
                                {
                                    "0": "1",
                                    "1": "4"
                                },
                                {
                                    "0": "1",
                                    "1": "5"
                                },
                                {
                                    "0": "1",
                                    "1": "6"
                                },
                                {
                                    "0": "1",
                                    "1": "7"
                                },
                                {
                                    "0": "1",
                                    "1": "8"
                                },
                                {
                                    "0": "1",
                                    "1": "9"
                                },
                                {
                                    "0": "2",
                                    "1": "1"
                                },
                                {
                                    "0": "2",
                                    "1": "2"
                                },
                                {
                                    "0": "2",
                                    "1": "3"
                                },
                                {
                                    "0": "2",
                                    "1": "4"
                                },
                                {
                                    "0": "2",
                                    "1": "5"
                                },
                                {
                                    "0": "2",
                                    "1": "6"
                                },
                                {
                                    "0": "2",
                                    "1": "7"
                                },
                                {
                                    "0": "2",
                                    "1": "8"
                                },
                                {
                                    "0": "2",
                                    "1": "9"
                                },
                                {
                                    "0": "3",
                                    "1": "1"
                                },
                                {
                                    "0": "3",
                                    "1": "2"
                                },
                                {
                                    "0": "3",
                                    "1": "3"
                                },
                                {
                                    "0": "3",
                                    "1": "4"
                                },
                                {
                                    "0": "3",
                                    "1": "5"
                                },
                                {
                                    "0": "3",
                                    "1": "6"
                                },
                                {
                                    "0": "3",
                                    "1": "7"
                                },
                                {
                                    "0": "3",
                                    "1": "8"
                                },
                                {
                                    "0": "3",
                                    "1": "9"
                                }
                            ]
                        },
                        "text/html": "<table><tr><th>ShipperId</th><th>EmployeeId</th></tr><tr><td>1</td><td>1</td></tr><tr><td>1</td><td>2</td></tr><tr><td>1</td><td>3</td></tr><tr><td>1</td><td>4</td></tr><tr><td>1</td><td>5</td></tr><tr><td>1</td><td>6</td></tr><tr><td>1</td><td>7</td></tr><tr><td>1</td><td>8</td></tr><tr><td>1</td><td>9</td></tr><tr><td>2</td><td>1</td></tr><tr><td>2</td><td>2</td></tr><tr><td>2</td><td>3</td></tr><tr><td>2</td><td>4</td></tr><tr><td>2</td><td>5</td></tr><tr><td>2</td><td>6</td></tr><tr><td>2</td><td>7</td></tr><tr><td>2</td><td>8</td></tr><tr><td>2</td><td>9</td></tr><tr><td>3</td><td>1</td></tr><tr><td>3</td><td>2</td></tr><tr><td>3</td><td>3</td></tr><tr><td>3</td><td>4</td></tr><tr><td>3</td><td>5</td></tr><tr><td>3</td><td>6</td></tr><tr><td>3</td><td>7</td></tr><tr><td>3</td><td>8</td></tr><tr><td>3</td><td>9</td></tr></table>"
                    },
                    "metadata": {}
                }
            ],
            "execution_count": 96
        },
        {
            "cell_type": "markdown",
            "source": [
                "25. Apply. **Returns all combinations of shipper id and employee id.** Rather than cross join, it calculates the Employee table for each row and combines the two."
            ],
            "metadata": {
                "language": "sql",
                "azdata_cell_guid": "93ee72f4-269c-4b4d-b60a-359b5d51a6c5"
            },
            "attachments": {}
        },
        {
            "cell_type": "code",
            "source": [
                "use Northwinds2022TSQLV7\n",
                "\n",
                "select S.ShipperId, E.EmployeeId\n",
                "from Sales.[Shipper] as S\n",
                "    cross apply \n",
                "    HumanResources.[Employee] AS E"
            ],
            "metadata": {
                "language": "sql",
                "azdata_cell_guid": "8d19d545-8a0d-4010-810e-04fe666c89ce"
            },
            "outputs": [
                {
                    "output_type": "display_data",
                    "data": {
                        "text/html": "(27 rows affected)"
                    },
                    "metadata": {}
                },
                {
                    "output_type": "display_data",
                    "data": {
                        "text/html": "Total execution time: 00:00:00.018"
                    },
                    "metadata": {}
                },
                {
                    "output_type": "execute_result",
                    "execution_count": 97,
                    "data": {
                        "application/vnd.dataresource+json": {
                            "schema": {
                                "fields": [
                                    {
                                        "name": "ShipperId"
                                    },
                                    {
                                        "name": "EmployeeId"
                                    }
                                ]
                            },
                            "data": [
                                {
                                    "0": "1",
                                    "1": "1"
                                },
                                {
                                    "0": "1",
                                    "1": "2"
                                },
                                {
                                    "0": "1",
                                    "1": "3"
                                },
                                {
                                    "0": "1",
                                    "1": "4"
                                },
                                {
                                    "0": "1",
                                    "1": "5"
                                },
                                {
                                    "0": "1",
                                    "1": "6"
                                },
                                {
                                    "0": "1",
                                    "1": "7"
                                },
                                {
                                    "0": "1",
                                    "1": "8"
                                },
                                {
                                    "0": "1",
                                    "1": "9"
                                },
                                {
                                    "0": "2",
                                    "1": "1"
                                },
                                {
                                    "0": "2",
                                    "1": "2"
                                },
                                {
                                    "0": "2",
                                    "1": "3"
                                },
                                {
                                    "0": "2",
                                    "1": "4"
                                },
                                {
                                    "0": "2",
                                    "1": "5"
                                },
                                {
                                    "0": "2",
                                    "1": "6"
                                },
                                {
                                    "0": "2",
                                    "1": "7"
                                },
                                {
                                    "0": "2",
                                    "1": "8"
                                },
                                {
                                    "0": "2",
                                    "1": "9"
                                },
                                {
                                    "0": "3",
                                    "1": "1"
                                },
                                {
                                    "0": "3",
                                    "1": "2"
                                },
                                {
                                    "0": "3",
                                    "1": "3"
                                },
                                {
                                    "0": "3",
                                    "1": "4"
                                },
                                {
                                    "0": "3",
                                    "1": "5"
                                },
                                {
                                    "0": "3",
                                    "1": "6"
                                },
                                {
                                    "0": "3",
                                    "1": "7"
                                },
                                {
                                    "0": "3",
                                    "1": "8"
                                },
                                {
                                    "0": "3",
                                    "1": "9"
                                }
                            ]
                        },
                        "text/html": "<table><tr><th>ShipperId</th><th>EmployeeId</th></tr><tr><td>1</td><td>1</td></tr><tr><td>1</td><td>2</td></tr><tr><td>1</td><td>3</td></tr><tr><td>1</td><td>4</td></tr><tr><td>1</td><td>5</td></tr><tr><td>1</td><td>6</td></tr><tr><td>1</td><td>7</td></tr><tr><td>1</td><td>8</td></tr><tr><td>1</td><td>9</td></tr><tr><td>2</td><td>1</td></tr><tr><td>2</td><td>2</td></tr><tr><td>2</td><td>3</td></tr><tr><td>2</td><td>4</td></tr><tr><td>2</td><td>5</td></tr><tr><td>2</td><td>6</td></tr><tr><td>2</td><td>7</td></tr><tr><td>2</td><td>8</td></tr><tr><td>2</td><td>9</td></tr><tr><td>3</td><td>1</td></tr><tr><td>3</td><td>2</td></tr><tr><td>3</td><td>3</td></tr><tr><td>3</td><td>4</td></tr><tr><td>3</td><td>5</td></tr><tr><td>3</td><td>6</td></tr><tr><td>3</td><td>7</td></tr><tr><td>3</td><td>8</td></tr><tr><td>3</td><td>9</td></tr></table>"
                    },
                    "metadata": {}
                }
            ],
            "execution_count": 97
        },
        {
            "cell_type": "markdown",
            "source": [
                "26. **3 most recent orders for each customer.** For each implies cross apply."
            ],
            "metadata": {
                "language": "sql",
                "azdata_cell_guid": "05e17e9f-7005-41d3-9744-6ca0817537bf"
            },
            "attachments": {}
        },
        {
            "cell_type": "code",
            "source": [
                "use Northwinds2022TSQLV7\n",
                " \n",
                "select C.CustomerId, A.OrderId, A.OrderDate\n",
                "from Sales.[Customer] as C\n",
                "    cross apply (\n",
                "        select top (3) OrderId, EmployeeId, OrderDate, RequiredDate\n",
                "        from Sales.[Order] as O\n",
                "        where O.CustomerId = C.CustomerId\n",
                "        order by orderdate desc, orderid desc\n",
                "    ) as A"
            ],
            "metadata": {
                "language": "sql",
                "azdata_cell_guid": "0069ca28-28ed-476a-a8ce-5ad4978e543b"
            },
            "outputs": [
                {
                    "output_type": "display_data",
                    "data": {
                        "text/html": "(263 rows affected)"
                    },
                    "metadata": {}
                },
                {
                    "output_type": "display_data",
                    "data": {
                        "text/html": "Total execution time: 00:00:00.061"
                    },
                    "metadata": {}
                },
                {
                    "output_type": "execute_result",
                    "metadata": {},
                    "execution_count": 8,
                    "data": {
                        "application/vnd.dataresource+json": {
                            "schema": {
                                "fields": [
                                    {
                                        "name": "CustomerId"
                                    },
                                    {
                                        "name": "OrderId"
                                    },
                                    {
                                        "name": "OrderDate"
                                    }
                                ]
                            },
                            "data": [
                                {
                                    "0": "1",
                                    "1": "11011",
                                    "2": "2016-04-09"
                                },
                                {
                                    "0": "1",
                                    "1": "10952",
                                    "2": "2016-03-16"
                                },
                                {
                                    "0": "1",
                                    "1": "10835",
                                    "2": "2016-01-15"
                                },
                                {
                                    "0": "2",
                                    "1": "10926",
                                    "2": "2016-03-04"
                                },
                                {
                                    "0": "2",
                                    "1": "10759",
                                    "2": "2015-11-28"
                                },
                                {
                                    "0": "2",
                                    "1": "10625",
                                    "2": "2015-08-08"
                                },
                                {
                                    "0": "3",
                                    "1": "10856",
                                    "2": "2016-01-28"
                                },
                                {
                                    "0": "3",
                                    "1": "10682",
                                    "2": "2015-09-25"
                                },
                                {
                                    "0": "3",
                                    "1": "10677",
                                    "2": "2015-09-22"
                                },
                                {
                                    "0": "4",
                                    "1": "11016",
                                    "2": "2016-04-10"
                                },
                                {
                                    "0": "4",
                                    "1": "10953",
                                    "2": "2016-03-16"
                                },
                                {
                                    "0": "4",
                                    "1": "10920",
                                    "2": "2016-03-03"
                                },
                                {
                                    "0": "5",
                                    "1": "10924",
                                    "2": "2016-03-04"
                                },
                                {
                                    "0": "5",
                                    "1": "10875",
                                    "2": "2016-02-06"
                                },
                                {
                                    "0": "5",
                                    "1": "10866",
                                    "2": "2016-02-03"
                                },
                                {
                                    "0": "6",
                                    "1": "11058",
                                    "2": "2016-04-29"
                                },
                                {
                                    "0": "6",
                                    "1": "10956",
                                    "2": "2016-03-17"
                                },
                                {
                                    "0": "6",
                                    "1": "10853",
                                    "2": "2016-01-27"
                                },
                                {
                                    "0": "7",
                                    "1": "10826",
                                    "2": "2016-01-12"
                                },
                                {
                                    "0": "7",
                                    "1": "10679",
                                    "2": "2015-09-23"
                                },
                                {
                                    "0": "7",
                                    "1": "10628",
                                    "2": "2015-08-12"
                                },
                                {
                                    "0": "8",
                                    "1": "10970",
                                    "2": "2016-03-24"
                                },
                                {
                                    "0": "8",
                                    "1": "10801",
                                    "2": "2015-12-29"
                                },
                                {
                                    "0": "8",
                                    "1": "10326",
                                    "2": "2014-10-10"
                                },
                                {
                                    "0": "9",
                                    "1": "11076",
                                    "2": "2016-05-06"
                                },
                                {
                                    "0": "9",
                                    "1": "10940",
                                    "2": "2016-03-11"
                                },
                                {
                                    "0": "9",
                                    "1": "10932",
                                    "2": "2016-03-06"
                                },
                                {
                                    "0": "10",
                                    "1": "11048",
                                    "2": "2016-04-24"
                                },
                                {
                                    "0": "10",
                                    "1": "11045",
                                    "2": "2016-04-23"
                                },
                                {
                                    "0": "10",
                                    "1": "11027",
                                    "2": "2016-04-16"
                                },
                                {
                                    "0": "11",
                                    "1": "11023",
                                    "2": "2016-04-14"
                                },
                                {
                                    "0": "11",
                                    "1": "10947",
                                    "2": "2016-03-13"
                                },
                                {
                                    "0": "11",
                                    "1": "10943",
                                    "2": "2016-03-11"
                                },
                                {
                                    "0": "12",
                                    "1": "11054",
                                    "2": "2016-04-28"
                                },
                                {
                                    "0": "12",
                                    "1": "10937",
                                    "2": "2016-03-10"
                                },
                                {
                                    "0": "12",
                                    "1": "10881",
                                    "2": "2016-02-11"
                                },
                                {
                                    "0": "13",
                                    "1": "10259",
                                    "2": "2014-07-18"
                                },
                                {
                                    "0": "14",
                                    "1": "11041",
                                    "2": "2016-04-22"
                                },
                                {
                                    "0": "14",
                                    "1": "11029",
                                    "2": "2016-04-16"
                                },
                                {
                                    "0": "14",
                                    "1": "10966",
                                    "2": "2016-03-20"
                                },
                                {
                                    "0": "15",
                                    "1": "11042",
                                    "2": "2016-04-22"
                                },
                                {
                                    "0": "15",
                                    "1": "10969",
                                    "2": "2016-03-23"
                                },
                                {
                                    "0": "15",
                                    "1": "10494",
                                    "2": "2015-04-02"
                                },
                                {
                                    "0": "16",
                                    "1": "10848",
                                    "2": "2016-01-23"
                                },
                                {
                                    "0": "16",
                                    "1": "10462",
                                    "2": "2015-03-03"
                                },
                                {
                                    "0": "16",
                                    "1": "10435",
                                    "2": "2015-02-04"
                                },
                                {
                                    "0": "17",
                                    "1": "11067",
                                    "2": "2016-05-04"
                                },
                                {
                                    "0": "17",
                                    "1": "11036",
                                    "2": "2016-04-20"
                                },
                                {
                                    "0": "17",
                                    "1": "10825",
                                    "2": "2016-01-09"
                                },
                                {
                                    "0": "18",
                                    "1": "10890",
                                    "2": "2016-02-16"
                                },
                                {
                                    "0": "18",
                                    "1": "10683",
                                    "2": "2015-09-26"
                                },
                                {
                                    "0": "18",
                                    "1": "10609",
                                    "2": "2015-07-24"
                                },
                                {
                                    "0": "19",
                                    "1": "11056",
                                    "2": "2016-04-28"
                                },
                                {
                                    "0": "19",
                                    "1": "11047",
                                    "2": "2016-04-24"
                                },
                                {
                                    "0": "19",
                                    "1": "11024",
                                    "2": "2016-04-15"
                                },
                                {
                                    "0": "20",
                                    "1": "11072",
                                    "2": "2016-05-05"
                                },
                                {
                                    "0": "20",
                                    "1": "11017",
                                    "2": "2016-04-13"
                                },
                                {
                                    "0": "20",
                                    "1": "11008",
                                    "2": "2016-04-08"
                                },
                                {
                                    "0": "21",
                                    "1": "10725",
                                    "2": "2015-10-31"
                                },
                                {
                                    "0": "21",
                                    "1": "10650",
                                    "2": "2015-08-29"
                                },
                                {
                                    "0": "21",
                                    "1": "10581",
                                    "2": "2015-06-26"
                                },
                                {
                                    "0": "23",
                                    "1": "10789",
                                    "2": "2015-12-22"
                                },
                                {
                                    "0": "23",
                                    "1": "10763",
                                    "2": "2015-12-03"
                                },
                                {
                                    "0": "23",
                                    "1": "10634",
                                    "2": "2015-08-15"
                                },
                                {
                                    "0": "24",
                                    "1": "11050",
                                    "2": "2016-04-27"
                                },
                                {
                                    "0": "24",
                                    "1": "11001",
                                    "2": "2016-04-06"
                                },
                                {
                                    "0": "24",
                                    "1": "10993",
                                    "2": "2016-04-01"
                                },
                                {
                                    "0": "25",
                                    "1": "11012",
                                    "2": "2016-04-09"
                                },
                                {
                                    "0": "25",
                                    "1": "10929",
                                    "2": "2016-03-05"
                                },
                                {
                                    "0": "25",
                                    "1": "10859",
                                    "2": "2016-01-29"
                                },
                                {
                                    "0": "26",
                                    "1": "10971",
                                    "2": "2016-03-24"
                                },
                                {
                                    "0": "26",
                                    "1": "10860",
                                    "2": "2016-01-29"
                                },
                                {
                                    "0": "26",
                                    "1": "10671",
                                    "2": "2015-09-17"
                                },
                                {
                                    "0": "27",
                                    "1": "11060",
                                    "2": "2016-04-30"
                                },
                                {
                                    "0": "27",
                                    "1": "11026",
                                    "2": "2016-04-15"
                                },
                                {
                                    "0": "27",
                                    "1": "10807",
                                    "2": "2015-12-31"
                                },
                                {
                                    "0": "28",
                                    "1": "10963",
                                    "2": "2016-03-19"
                                },
                                {
                                    "0": "28",
                                    "1": "10664",
                                    "2": "2015-09-10"
                                },
                                {
                                    "0": "28",
                                    "1": "10604",
                                    "2": "2015-07-18"
                                },
                                {
                                    "0": "29",
                                    "1": "10928",
                                    "2": "2016-03-05"
                                },
                                {
                                    "0": "29",
                                    "1": "10887",
                                    "2": "2016-02-13"
                                },
                                {
                                    "0": "29",
                                    "1": "10568",
                                    "2": "2015-06-13"
                                },
                                {
                                    "0": "30",
                                    "1": "11037",
                                    "2": "2016-04-21"
                                },
                                {
                                    "0": "30",
                                    "1": "11009",
                                    "2": "2016-04-08"
                                },
                                {
                                    "0": "30",
                                    "1": "10948",
                                    "2": "2016-03-13"
                                },
                                {
                                    "0": "31",
                                    "1": "11049",
                                    "2": "2016-04-24"
                                },
                                {
                                    "0": "31",
                                    "1": "10959",
                                    "2": "2016-03-18"
                                },
                                {
                                    "0": "31",
                                    "1": "10790",
                                    "2": "2015-12-22"
                                },
                                {
                                    "0": "32",
                                    "1": "11061",
                                    "2": "2016-04-30"
                                },
                                {
                                    "0": "32",
                                    "1": "11040",
                                    "2": "2016-04-22"
                                },
                                {
                                    "0": "32",
                                    "1": "11006",
                                    "2": "2016-04-07"
                                },
                                {
                                    "0": "33",
                                    "1": "10785",
                                    "2": "2015-12-18"
                                },
                                {
                                    "0": "33",
                                    "1": "10268",
                                    "2": "2014-07-30"
                                },
                                {
                                    "0": "34",
                                    "1": "11052",
                                    "2": "2016-04-27"
                                },
                                {
                                    "0": "34",
                                    "1": "11022",
                                    "2": "2016-04-14"
                                },
                                {
                                    "0": "34",
                                    "1": "10981",
                                    "2": "2016-03-27"
                                },
                                {
                                    "0": "35",
                                    "1": "11055",
                                    "2": "2016-04-28"
                                },
                                {
                                    "0": "35",
                                    "1": "10976",
                                    "2": "2016-03-25"
                                },
                                {
                                    "0": "35",
                                    "1": "10960",
                                    "2": "2016-03-19"
                                },
                                {
                                    "0": "36",
                                    "1": "10660",
                                    "2": "2015-09-08"
                                },
                                {
                                    "0": "36",
                                    "1": "10600",
                                    "2": "2015-07-16"
                                },
                                {
                                    "0": "36",
                                    "1": "10415",
                                    "2": "2015-01-15"
                                },
                                {
                                    "0": "37",
                                    "1": "11063",
                                    "2": "2016-04-30"
                                },
                                {
                                    "0": "37",
                                    "1": "10985",
                                    "2": "2016-03-30"
                                },
                                {
                                    "0": "37",
                                    "1": "10912",
                                    "2": "2016-02-26"
                                },
                                {
                                    "0": "38",
                                    "1": "10933",
                                    "2": "2016-03-06"
                                },
                                {
                                    "0": "38",
                                    "1": "10829",
                                    "2": "2016-01-13"
                                },
                                {
                                    "0": "38",
                                    "1": "10798",
                                    "2": "2015-12-26"
                                },
                                {
                                    "0": "39",
                                    "1": "11028",
                                    "2": "2016-04-16"
                                },
                                {
                                    "0": "39",
                                    "1": "10893",
                                    "2": "2016-02-18"
                                },
                                {
                                    "0": "39",
                                    "1": "10849",
                                    "2": "2016-01-23"
                                },
                                {
                                    "0": "40",
                                    "1": "10973",
                                    "2": "2016-03-24"
                                },
                                {
                                    "0": "40",
                                    "1": "10972",
                                    "2": "2016-03-24"
                                },
                                {
                                    "0": "40",
                                    "1": "10927",
                                    "2": "2016-03-05"
                                },
                                {
                                    "0": "41",
                                    "1": "11051",
                                    "2": "2016-04-27"
                                },
                                {
                                    "0": "41",
                                    "1": "10923",
                                    "2": "2016-03-03"
                                },
                                {
                                    "0": "41",
                                    "1": "10832",
                                    "2": "2016-01-14"
                                },
                                {
                                    "0": "42",
                                    "1": "10810",
                                    "2": "2016-01-01"
                                },
                                {
                                    "0": "42",
                                    "1": "10620",
                                    "2": "2015-08-05"
                                },
                                {
                                    "0": "42",
                                    "1": "10495",
                                    "2": "2015-04-03"
                                },
                                {
                                    "0": "43",
                                    "1": "10545",
                                    "2": "2015-05-22"
                                },
                                {
                                    "0": "43",
                                    "1": "10482",
                                    "2": "2015-03-21"
                                },
                                {
                                    "0": "44",
                                    "1": "11070",
                                    "2": "2016-05-05"
                                },
                                {
                                    "0": "44",
                                    "1": "10934",
                                    "2": "2016-03-09"
                                },
                                {
                                    "0": "44",
                                    "1": "10891",
                                    "2": "2016-02-17"
                                },
                                {
                                    "0": "45",
                                    "1": "10884",
                                    "2": "2016-02-12"
                                },
                                {
                                    "0": "45",
                                    "1": "10735",
                                    "2": "2015-11-10"
                                },
                                {
                                    "0": "45",
                                    "1": "10719",
                                    "2": "2015-10-27"
                                },
                                {
                                    "0": "46",
                                    "1": "11071",
                                    "2": "2016-05-05"
                                },
                                {
                                    "0": "46",
                                    "1": "11065",
                                    "2": "2016-05-01"
                                },
                                {
                                    "0": "46",
                                    "1": "10997",
                                    "2": "2016-04-03"
                                },
                                {
                                    "0": "47",
                                    "1": "11039",
                                    "2": "2016-04-21"
                                },
                                {
                                    "0": "47",
                                    "1": "11014",
                                    "2": "2016-04-10"
                                },
                                {
                                    "0": "47",
                                    "1": "10954",
                                    "2": "2016-03-17"
                                },
                                {
                                    "0": "48",
                                    "1": "11018",
                                    "2": "2016-04-13"
                                },
                                {
                                    "0": "48",
                                    "1": "10883",
                                    "2": "2016-02-12"
                                },
                                {
                                    "0": "48",
                                    "1": "10867",
                                    "2": "2016-02-03"
                                },
                                {
                                    "0": "49",
                                    "1": "10950",
                                    "2": "2016-03-16"
                                },
                                {
                                    "0": "49",
                                    "1": "10939",
                                    "2": "2016-03-10"
                                },
                                {
                                    "0": "49",
                                    "1": "10818",
                                    "2": "2016-01-07"
                                },
                                {
                                    "0": "50",
                                    "1": "11004",
                                    "2": "2016-04-07"
                                },
                                {
                                    "0": "50",
                                    "1": "10978",
                                    "2": "2016-03-26"
                                },
                                {
                                    "0": "50",
                                    "1": "10896",
                                    "2": "2016-02-19"
                                },
                                {
                                    "0": "51",
                                    "1": "10724",
                                    "2": "2015-10-30"
                                },
                                {
                                    "0": "51",
                                    "1": "10619",
                                    "2": "2015-08-04"
                                },
                                {
                                    "0": "51",
                                    "1": "10618",
                                    "2": "2015-08-01"
                                },
                                {
                                    "0": "52",
                                    "1": "10945",
                                    "2": "2016-03-12"
                                },
                                {
                                    "0": "52",
                                    "1": "10779",
                                    "2": "2015-12-16"
                                },
                                {
                                    "0": "52",
                                    "1": "10699",
                                    "2": "2015-10-09"
                                },
                                {
                                    "0": "53",
                                    "1": "11057",
                                    "2": "2016-04-29"
                                },
                                {
                                    "0": "53",
                                    "1": "10752",
                                    "2": "2015-11-24"
                                },
                                {
                                    "0": "53",
                                    "1": "10517",
                                    "2": "2015-04-24"
                                },
                                {
                                    "0": "54",
                                    "1": "10986",
                                    "2": "2016-03-30"
                                },
                                {
                                    "0": "54",
                                    "1": "10958",
                                    "2": "2016-03-18"
                                },
                                {
                                    "0": "54",
                                    "1": "10898",
                                    "2": "2016-02-20"
                                },
                                {
                                    "0": "55",
                                    "1": "11034",
                                    "2": "2016-04-20"
                                },
                                {
                                    "0": "55",
                                    "1": "10965",
                                    "2": "2016-03-20"
                                },
                                {
                                    "0": "55",
                                    "1": "10855",
                                    "2": "2016-01-27"
                                },
                                {
                                    "0": "56",
                                    "1": "11020",
                                    "2": "2016-04-14"
                                },
                                {
                                    "0": "56",
                                    "1": "10999",
                                    "2": "2016-04-03"
                                },
                                {
                                    "0": "56",
                                    "1": "10833",
                                    "2": "2016-01-15"
                                },
                                {
                                    "0": "58",
                                    "1": "11073",
                                    "2": "2016-05-05"
                                },
                                {
                                    "0": "58",
                                    "1": "10995",
                                    "2": "2016-04-02"
                                },
                                {
                                    "0": "58",
                                    "1": "10502",
                                    "2": "2015-04-10"
                                },
                                {
                                    "0": "59",
                                    "1": "11053",
                                    "2": "2016-04-27"
                                },
                                {
                                    "0": "59",
                                    "1": "10844",
                                    "2": "2016-01-21"
                                },
                                {
                                    "0": "59",
                                    "1": "10747",
                                    "2": "2015-11-19"
                                },
                                {
                                    "0": "60",
                                    "1": "11007",
                                    "2": "2016-04-08"
                                },
                                {
                                    "0": "60",
                                    "1": "10477",
                                    "2": "2015-03-17"
                                },
                                {
                                    "0": "60",
                                    "1": "10433",
                                    "2": "2015-02-03"
                                },
                                {
                                    "0": "61",
                                    "1": "10989",
                                    "2": "2016-03-31"
                                },
                                {
                                    "0": "61",
                                    "1": "10794",
                                    "2": "2015-12-24"
                                },
                                {
                                    "0": "61",
                                    "1": "10720",
                                    "2": "2015-10-28"
                                },
                                {
                                    "0": "62",
                                    "1": "11068",
                                    "2": "2016-05-04"
                                },
                                {
                                    "0": "62",
                                    "1": "10961",
                                    "2": "2016-03-19"
                                },
                                {
                                    "0": "62",
                                    "1": "10914",
                                    "2": "2016-02-27"
                                },
                                {
                                    "0": "63",
                                    "1": "11021",
                                    "2": "2016-04-14"
                                },
                                {
                                    "0": "63",
                                    "1": "10996",
                                    "2": "2016-04-02"
                                },
                                {
                                    "0": "63",
                                    "1": "10991",
                                    "2": "2016-04-01"
                                },
                                {
                                    "0": "64",
                                    "1": "11019",
                                    "2": "2016-04-13"
                                },
                                {
                                    "0": "64",
                                    "1": "10916",
                                    "2": "2016-02-27"
                                },
                                {
                                    "0": "64",
                                    "1": "10828",
                                    "2": "2016-01-13"
                                },
                                {
                                    "0": "65",
                                    "1": "11077",
                                    "2": "2016-05-06"
                                },
                                {
                                    "0": "65",
                                    "1": "11000",
                                    "2": "2016-04-06"
                                },
                                {
                                    "0": "65",
                                    "1": "10988",
                                    "2": "2016-03-31"
                                },
                                {
                                    "0": "66",
                                    "1": "11062",
                                    "2": "2016-04-30"
                                },
                                {
                                    "0": "66",
                                    "1": "11010",
                                    "2": "2016-04-09"
                                },
                                {
                                    "0": "66",
                                    "1": "10942",
                                    "2": "2016-03-11"
                                },
                                {
                                    "0": "67",
                                    "1": "11059",
                                    "2": "2016-04-29"
                                },
                                {
                                    "0": "67",
                                    "1": "10877",
                                    "2": "2016-02-09"
                                },
                                {
                                    "0": "67",
                                    "1": "10851",
                                    "2": "2016-01-26"
                                },
                                {
                                    "0": "68",
                                    "1": "11075",
                                    "2": "2016-05-06"
                                },
                                {
                                    "0": "68",
                                    "1": "11033",
                                    "2": "2016-04-17"
                                },
                                {
                                    "0": "68",
                                    "1": "10951",
                                    "2": "2016-03-16"
                                },
                                {
                                    "0": "69",
                                    "1": "11013",
                                    "2": "2016-04-09"
                                },
                                {
                                    "0": "69",
                                    "1": "10917",
                                    "2": "2016-03-02"
                                },
                                {
                                    "0": "69",
                                    "1": "10306",
                                    "2": "2014-09-16"
                                },
                                {
                                    "0": "70",
                                    "1": "11015",
                                    "2": "2016-04-10"
                                },
                                {
                                    "0": "70",
                                    "1": "10909",
                                    "2": "2016-02-26"
                                },
                                {
                                    "0": "70",
                                    "1": "10831",
                                    "2": "2016-01-14"
                                },
                                {
                                    "0": "71",
                                    "1": "11064",
                                    "2": "2016-05-01"
                                },
                                {
                                    "0": "71",
                                    "1": "11031",
                                    "2": "2016-04-17"
                                },
                                {
                                    "0": "71",
                                    "1": "11030",
                                    "2": "2016-04-17"
                                },
                                {
                                    "0": "72",
                                    "1": "10869",
                                    "2": "2016-02-04"
                                },
                                {
                                    "0": "72",
                                    "1": "10804",
                                    "2": "2015-12-30"
                                },
                                {
                                    "0": "72",
                                    "1": "10800",
                                    "2": "2015-12-26"
                                },
                                {
                                    "0": "73",
                                    "1": "11074",
                                    "2": "2016-05-06"
                                },
                                {
                                    "0": "73",
                                    "1": "10802",
                                    "2": "2015-12-29"
                                },
                                {
                                    "0": "73",
                                    "1": "10669",
                                    "2": "2015-09-15"
                                },
                                {
                                    "0": "74",
                                    "1": "11043",
                                    "2": "2016-04-22"
                                },
                                {
                                    "0": "74",
                                    "1": "10964",
                                    "2": "2016-03-20"
                                },
                                {
                                    "0": "74",
                                    "1": "10907",
                                    "2": "2016-02-25"
                                },
                                {
                                    "0": "75",
                                    "1": "10974",
                                    "2": "2016-03-25"
                                },
                                {
                                    "0": "75",
                                    "1": "10821",
                                    "2": "2016-01-08"
                                },
                                {
                                    "0": "75",
                                    "1": "10756",
                                    "2": "2015-11-27"
                                },
                                {
                                    "0": "76",
                                    "1": "11038",
                                    "2": "2016-04-21"
                                },
                                {
                                    "0": "76",
                                    "1": "11035",
                                    "2": "2016-04-20"
                                },
                                {
                                    "0": "76",
                                    "1": "10930",
                                    "2": "2016-03-06"
                                },
                                {
                                    "0": "77",
                                    "1": "10992",
                                    "2": "2016-04-01"
                                },
                                {
                                    "0": "77",
                                    "1": "10805",
                                    "2": "2015-12-30"
                                },
                                {
                                    "0": "77",
                                    "1": "10708",
                                    "2": "2015-10-17"
                                },
                                {
                                    "0": "78",
                                    "1": "11003",
                                    "2": "2016-04-06"
                                },
                                {
                                    "0": "78",
                                    "1": "10775",
                                    "2": "2015-12-12"
                                },
                                {
                                    "0": "78",
                                    "1": "10624",
                                    "2": "2015-08-07"
                                },
                                {
                                    "0": "79",
                                    "1": "10967",
                                    "2": "2016-03-23"
                                },
                                {
                                    "0": "79",
                                    "1": "10608",
                                    "2": "2015-07-23"
                                },
                                {
                                    "0": "79",
                                    "1": "10548",
                                    "2": "2015-05-26"
                                },
                                {
                                    "0": "80",
                                    "1": "11069",
                                    "2": "2016-05-04"
                                },
                                {
                                    "0": "80",
                                    "1": "10915",
                                    "2": "2016-02-27"
                                },
                                {
                                    "0": "80",
                                    "1": "10842",
                                    "2": "2016-01-20"
                                },
                                {
                                    "0": "81",
                                    "1": "10839",
                                    "2": "2016-01-19"
                                },
                                {
                                    "0": "81",
                                    "1": "10834",
                                    "2": "2016-01-15"
                                },
                                {
                                    "0": "81",
                                    "1": "10830",
                                    "2": "2016-01-13"
                                },
                                {
                                    "0": "82",
                                    "1": "10822",
                                    "2": "2016-01-08"
                                },
                                {
                                    "0": "82",
                                    "1": "10577",
                                    "2": "2015-06-23"
                                },
                                {
                                    "0": "82",
                                    "1": "10574",
                                    "2": "2015-06-19"
                                },
                                {
                                    "0": "83",
                                    "1": "10994",
                                    "2": "2016-04-02"
                                },
                                {
                                    "0": "83",
                                    "1": "10946",
                                    "2": "2016-03-12"
                                },
                                {
                                    "0": "83",
                                    "1": "10921",
                                    "2": "2016-03-03"
                                },
                                {
                                    "0": "84",
                                    "1": "10850",
                                    "2": "2016-01-23"
                                },
                                {
                                    "0": "84",
                                    "1": "10843",
                                    "2": "2016-01-21"
                                },
                                {
                                    "0": "84",
                                    "1": "10814",
                                    "2": "2016-01-05"
                                },
                                {
                                    "0": "85",
                                    "1": "10739",
                                    "2": "2015-11-12"
                                },
                                {
                                    "0": "85",
                                    "1": "10737",
                                    "2": "2015-11-11"
                                },
                                {
                                    "0": "85",
                                    "1": "10295",
                                    "2": "2014-09-02"
                                },
                                {
                                    "0": "86",
                                    "1": "11046",
                                    "2": "2016-04-23"
                                },
                                {
                                    "0": "86",
                                    "1": "10668",
                                    "2": "2015-09-15"
                                },
                                {
                                    "0": "86",
                                    "1": "10651",
                                    "2": "2015-09-01"
                                },
                                {
                                    "0": "87",
                                    "1": "11025",
                                    "2": "2016-04-15"
                                },
                                {
                                    "0": "87",
                                    "1": "10781",
                                    "2": "2015-12-17"
                                },
                                {
                                    "0": "87",
                                    "1": "10750",
                                    "2": "2015-11-21"
                                },
                                {
                                    "0": "88",
                                    "1": "10935",
                                    "2": "2016-03-09"
                                },
                                {
                                    "0": "88",
                                    "1": "10905",
                                    "2": "2016-02-24"
                                },
                                {
                                    "0": "88",
                                    "1": "10900",
                                    "2": "2016-02-20"
                                },
                                {
                                    "0": "89",
                                    "1": "11066",
                                    "2": "2016-05-01"
                                },
                                {
                                    "0": "89",
                                    "1": "11032",
                                    "2": "2016-04-17"
                                },
                                {
                                    "0": "89",
                                    "1": "10904",
                                    "2": "2016-02-24"
                                },
                                {
                                    "0": "90",
                                    "1": "11005",
                                    "2": "2016-04-07"
                                },
                                {
                                    "0": "90",
                                    "1": "10910",
                                    "2": "2016-02-26"
                                },
                                {
                                    "0": "90",
                                    "1": "10879",
                                    "2": "2016-02-10"
                                },
                                {
                                    "0": "91",
                                    "1": "11044",
                                    "2": "2016-04-23"
                                },
                                {
                                    "0": "91",
                                    "1": "10998",
                                    "2": "2016-04-03"
                                },
                                {
                                    "0": "91",
                                    "1": "10906",
                                    "2": "2016-02-25"
                                }
                            ]
                        },
                        "text/html": [
                            "<table>",
                            "<tr><th>CustomerId</th><th>OrderId</th><th>OrderDate</th></tr>",
                            "<tr><td>1</td><td>11011</td><td>2016-04-09</td></tr>",
                            "<tr><td>1</td><td>10952</td><td>2016-03-16</td></tr>",
                            "<tr><td>1</td><td>10835</td><td>2016-01-15</td></tr>",
                            "<tr><td>2</td><td>10926</td><td>2016-03-04</td></tr>",
                            "<tr><td>2</td><td>10759</td><td>2015-11-28</td></tr>",
                            "<tr><td>2</td><td>10625</td><td>2015-08-08</td></tr>",
                            "<tr><td>3</td><td>10856</td><td>2016-01-28</td></tr>",
                            "<tr><td>3</td><td>10682</td><td>2015-09-25</td></tr>",
                            "<tr><td>3</td><td>10677</td><td>2015-09-22</td></tr>",
                            "<tr><td>4</td><td>11016</td><td>2016-04-10</td></tr>",
                            "<tr><td>4</td><td>10953</td><td>2016-03-16</td></tr>",
                            "<tr><td>4</td><td>10920</td><td>2016-03-03</td></tr>",
                            "<tr><td>5</td><td>10924</td><td>2016-03-04</td></tr>",
                            "<tr><td>5</td><td>10875</td><td>2016-02-06</td></tr>",
                            "<tr><td>5</td><td>10866</td><td>2016-02-03</td></tr>",
                            "<tr><td>6</td><td>11058</td><td>2016-04-29</td></tr>",
                            "<tr><td>6</td><td>10956</td><td>2016-03-17</td></tr>",
                            "<tr><td>6</td><td>10853</td><td>2016-01-27</td></tr>",
                            "<tr><td>7</td><td>10826</td><td>2016-01-12</td></tr>",
                            "<tr><td>7</td><td>10679</td><td>2015-09-23</td></tr>",
                            "<tr><td>7</td><td>10628</td><td>2015-08-12</td></tr>",
                            "<tr><td>8</td><td>10970</td><td>2016-03-24</td></tr>",
                            "<tr><td>8</td><td>10801</td><td>2015-12-29</td></tr>",
                            "<tr><td>8</td><td>10326</td><td>2014-10-10</td></tr>",
                            "<tr><td>9</td><td>11076</td><td>2016-05-06</td></tr>",
                            "<tr><td>9</td><td>10940</td><td>2016-03-11</td></tr>",
                            "<tr><td>9</td><td>10932</td><td>2016-03-06</td></tr>",
                            "<tr><td>10</td><td>11048</td><td>2016-04-24</td></tr>",
                            "<tr><td>10</td><td>11045</td><td>2016-04-23</td></tr>",
                            "<tr><td>10</td><td>11027</td><td>2016-04-16</td></tr>",
                            "<tr><td>11</td><td>11023</td><td>2016-04-14</td></tr>",
                            "<tr><td>11</td><td>10947</td><td>2016-03-13</td></tr>",
                            "<tr><td>11</td><td>10943</td><td>2016-03-11</td></tr>",
                            "<tr><td>12</td><td>11054</td><td>2016-04-28</td></tr>",
                            "<tr><td>12</td><td>10937</td><td>2016-03-10</td></tr>",
                            "<tr><td>12</td><td>10881</td><td>2016-02-11</td></tr>",
                            "<tr><td>13</td><td>10259</td><td>2014-07-18</td></tr>",
                            "<tr><td>14</td><td>11041</td><td>2016-04-22</td></tr>",
                            "<tr><td>14</td><td>11029</td><td>2016-04-16</td></tr>",
                            "<tr><td>14</td><td>10966</td><td>2016-03-20</td></tr>",
                            "<tr><td>15</td><td>11042</td><td>2016-04-22</td></tr>",
                            "<tr><td>15</td><td>10969</td><td>2016-03-23</td></tr>",
                            "<tr><td>15</td><td>10494</td><td>2015-04-02</td></tr>",
                            "<tr><td>16</td><td>10848</td><td>2016-01-23</td></tr>",
                            "<tr><td>16</td><td>10462</td><td>2015-03-03</td></tr>",
                            "<tr><td>16</td><td>10435</td><td>2015-02-04</td></tr>",
                            "<tr><td>17</td><td>11067</td><td>2016-05-04</td></tr>",
                            "<tr><td>17</td><td>11036</td><td>2016-04-20</td></tr>",
                            "<tr><td>17</td><td>10825</td><td>2016-01-09</td></tr>",
                            "<tr><td>18</td><td>10890</td><td>2016-02-16</td></tr>",
                            "<tr><td>18</td><td>10683</td><td>2015-09-26</td></tr>",
                            "<tr><td>18</td><td>10609</td><td>2015-07-24</td></tr>",
                            "<tr><td>19</td><td>11056</td><td>2016-04-28</td></tr>",
                            "<tr><td>19</td><td>11047</td><td>2016-04-24</td></tr>",
                            "<tr><td>19</td><td>11024</td><td>2016-04-15</td></tr>",
                            "<tr><td>20</td><td>11072</td><td>2016-05-05</td></tr>",
                            "<tr><td>20</td><td>11017</td><td>2016-04-13</td></tr>",
                            "<tr><td>20</td><td>11008</td><td>2016-04-08</td></tr>",
                            "<tr><td>21</td><td>10725</td><td>2015-10-31</td></tr>",
                            "<tr><td>21</td><td>10650</td><td>2015-08-29</td></tr>",
                            "<tr><td>21</td><td>10581</td><td>2015-06-26</td></tr>",
                            "<tr><td>23</td><td>10789</td><td>2015-12-22</td></tr>",
                            "<tr><td>23</td><td>10763</td><td>2015-12-03</td></tr>",
                            "<tr><td>23</td><td>10634</td><td>2015-08-15</td></tr>",
                            "<tr><td>24</td><td>11050</td><td>2016-04-27</td></tr>",
                            "<tr><td>24</td><td>11001</td><td>2016-04-06</td></tr>",
                            "<tr><td>24</td><td>10993</td><td>2016-04-01</td></tr>",
                            "<tr><td>25</td><td>11012</td><td>2016-04-09</td></tr>",
                            "<tr><td>25</td><td>10929</td><td>2016-03-05</td></tr>",
                            "<tr><td>25</td><td>10859</td><td>2016-01-29</td></tr>",
                            "<tr><td>26</td><td>10971</td><td>2016-03-24</td></tr>",
                            "<tr><td>26</td><td>10860</td><td>2016-01-29</td></tr>",
                            "<tr><td>26</td><td>10671</td><td>2015-09-17</td></tr>",
                            "<tr><td>27</td><td>11060</td><td>2016-04-30</td></tr>",
                            "<tr><td>27</td><td>11026</td><td>2016-04-15</td></tr>",
                            "<tr><td>27</td><td>10807</td><td>2015-12-31</td></tr>",
                            "<tr><td>28</td><td>10963</td><td>2016-03-19</td></tr>",
                            "<tr><td>28</td><td>10664</td><td>2015-09-10</td></tr>",
                            "<tr><td>28</td><td>10604</td><td>2015-07-18</td></tr>",
                            "<tr><td>29</td><td>10928</td><td>2016-03-05</td></tr>",
                            "<tr><td>29</td><td>10887</td><td>2016-02-13</td></tr>",
                            "<tr><td>29</td><td>10568</td><td>2015-06-13</td></tr>",
                            "<tr><td>30</td><td>11037</td><td>2016-04-21</td></tr>",
                            "<tr><td>30</td><td>11009</td><td>2016-04-08</td></tr>",
                            "<tr><td>30</td><td>10948</td><td>2016-03-13</td></tr>",
                            "<tr><td>31</td><td>11049</td><td>2016-04-24</td></tr>",
                            "<tr><td>31</td><td>10959</td><td>2016-03-18</td></tr>",
                            "<tr><td>31</td><td>10790</td><td>2015-12-22</td></tr>",
                            "<tr><td>32</td><td>11061</td><td>2016-04-30</td></tr>",
                            "<tr><td>32</td><td>11040</td><td>2016-04-22</td></tr>",
                            "<tr><td>32</td><td>11006</td><td>2016-04-07</td></tr>",
                            "<tr><td>33</td><td>10785</td><td>2015-12-18</td></tr>",
                            "<tr><td>33</td><td>10268</td><td>2014-07-30</td></tr>",
                            "<tr><td>34</td><td>11052</td><td>2016-04-27</td></tr>",
                            "<tr><td>34</td><td>11022</td><td>2016-04-14</td></tr>",
                            "<tr><td>34</td><td>10981</td><td>2016-03-27</td></tr>",
                            "<tr><td>35</td><td>11055</td><td>2016-04-28</td></tr>",
                            "<tr><td>35</td><td>10976</td><td>2016-03-25</td></tr>",
                            "<tr><td>35</td><td>10960</td><td>2016-03-19</td></tr>",
                            "<tr><td>36</td><td>10660</td><td>2015-09-08</td></tr>",
                            "<tr><td>36</td><td>10600</td><td>2015-07-16</td></tr>",
                            "<tr><td>36</td><td>10415</td><td>2015-01-15</td></tr>",
                            "<tr><td>37</td><td>11063</td><td>2016-04-30</td></tr>",
                            "<tr><td>37</td><td>10985</td><td>2016-03-30</td></tr>",
                            "<tr><td>37</td><td>10912</td><td>2016-02-26</td></tr>",
                            "<tr><td>38</td><td>10933</td><td>2016-03-06</td></tr>",
                            "<tr><td>38</td><td>10829</td><td>2016-01-13</td></tr>",
                            "<tr><td>38</td><td>10798</td><td>2015-12-26</td></tr>",
                            "<tr><td>39</td><td>11028</td><td>2016-04-16</td></tr>",
                            "<tr><td>39</td><td>10893</td><td>2016-02-18</td></tr>",
                            "<tr><td>39</td><td>10849</td><td>2016-01-23</td></tr>",
                            "<tr><td>40</td><td>10973</td><td>2016-03-24</td></tr>",
                            "<tr><td>40</td><td>10972</td><td>2016-03-24</td></tr>",
                            "<tr><td>40</td><td>10927</td><td>2016-03-05</td></tr>",
                            "<tr><td>41</td><td>11051</td><td>2016-04-27</td></tr>",
                            "<tr><td>41</td><td>10923</td><td>2016-03-03</td></tr>",
                            "<tr><td>41</td><td>10832</td><td>2016-01-14</td></tr>",
                            "<tr><td>42</td><td>10810</td><td>2016-01-01</td></tr>",
                            "<tr><td>42</td><td>10620</td><td>2015-08-05</td></tr>",
                            "<tr><td>42</td><td>10495</td><td>2015-04-03</td></tr>",
                            "<tr><td>43</td><td>10545</td><td>2015-05-22</td></tr>",
                            "<tr><td>43</td><td>10482</td><td>2015-03-21</td></tr>",
                            "<tr><td>44</td><td>11070</td><td>2016-05-05</td></tr>",
                            "<tr><td>44</td><td>10934</td><td>2016-03-09</td></tr>",
                            "<tr><td>44</td><td>10891</td><td>2016-02-17</td></tr>",
                            "<tr><td>45</td><td>10884</td><td>2016-02-12</td></tr>",
                            "<tr><td>45</td><td>10735</td><td>2015-11-10</td></tr>",
                            "<tr><td>45</td><td>10719</td><td>2015-10-27</td></tr>",
                            "<tr><td>46</td><td>11071</td><td>2016-05-05</td></tr>",
                            "<tr><td>46</td><td>11065</td><td>2016-05-01</td></tr>",
                            "<tr><td>46</td><td>10997</td><td>2016-04-03</td></tr>",
                            "<tr><td>47</td><td>11039</td><td>2016-04-21</td></tr>",
                            "<tr><td>47</td><td>11014</td><td>2016-04-10</td></tr>",
                            "<tr><td>47</td><td>10954</td><td>2016-03-17</td></tr>",
                            "<tr><td>48</td><td>11018</td><td>2016-04-13</td></tr>",
                            "<tr><td>48</td><td>10883</td><td>2016-02-12</td></tr>",
                            "<tr><td>48</td><td>10867</td><td>2016-02-03</td></tr>",
                            "<tr><td>49</td><td>10950</td><td>2016-03-16</td></tr>",
                            "<tr><td>49</td><td>10939</td><td>2016-03-10</td></tr>",
                            "<tr><td>49</td><td>10818</td><td>2016-01-07</td></tr>",
                            "<tr><td>50</td><td>11004</td><td>2016-04-07</td></tr>",
                            "<tr><td>50</td><td>10978</td><td>2016-03-26</td></tr>",
                            "<tr><td>50</td><td>10896</td><td>2016-02-19</td></tr>",
                            "<tr><td>51</td><td>10724</td><td>2015-10-30</td></tr>",
                            "<tr><td>51</td><td>10619</td><td>2015-08-04</td></tr>",
                            "<tr><td>51</td><td>10618</td><td>2015-08-01</td></tr>",
                            "<tr><td>52</td><td>10945</td><td>2016-03-12</td></tr>",
                            "<tr><td>52</td><td>10779</td><td>2015-12-16</td></tr>",
                            "<tr><td>52</td><td>10699</td><td>2015-10-09</td></tr>",
                            "<tr><td>53</td><td>11057</td><td>2016-04-29</td></tr>",
                            "<tr><td>53</td><td>10752</td><td>2015-11-24</td></tr>",
                            "<tr><td>53</td><td>10517</td><td>2015-04-24</td></tr>",
                            "<tr><td>54</td><td>10986</td><td>2016-03-30</td></tr>",
                            "<tr><td>54</td><td>10958</td><td>2016-03-18</td></tr>",
                            "<tr><td>54</td><td>10898</td><td>2016-02-20</td></tr>",
                            "<tr><td>55</td><td>11034</td><td>2016-04-20</td></tr>",
                            "<tr><td>55</td><td>10965</td><td>2016-03-20</td></tr>",
                            "<tr><td>55</td><td>10855</td><td>2016-01-27</td></tr>",
                            "<tr><td>56</td><td>11020</td><td>2016-04-14</td></tr>",
                            "<tr><td>56</td><td>10999</td><td>2016-04-03</td></tr>",
                            "<tr><td>56</td><td>10833</td><td>2016-01-15</td></tr>",
                            "<tr><td>58</td><td>11073</td><td>2016-05-05</td></tr>",
                            "<tr><td>58</td><td>10995</td><td>2016-04-02</td></tr>",
                            "<tr><td>58</td><td>10502</td><td>2015-04-10</td></tr>",
                            "<tr><td>59</td><td>11053</td><td>2016-04-27</td></tr>",
                            "<tr><td>59</td><td>10844</td><td>2016-01-21</td></tr>",
                            "<tr><td>59</td><td>10747</td><td>2015-11-19</td></tr>",
                            "<tr><td>60</td><td>11007</td><td>2016-04-08</td></tr>",
                            "<tr><td>60</td><td>10477</td><td>2015-03-17</td></tr>",
                            "<tr><td>60</td><td>10433</td><td>2015-02-03</td></tr>",
                            "<tr><td>61</td><td>10989</td><td>2016-03-31</td></tr>",
                            "<tr><td>61</td><td>10794</td><td>2015-12-24</td></tr>",
                            "<tr><td>61</td><td>10720</td><td>2015-10-28</td></tr>",
                            "<tr><td>62</td><td>11068</td><td>2016-05-04</td></tr>",
                            "<tr><td>62</td><td>10961</td><td>2016-03-19</td></tr>",
                            "<tr><td>62</td><td>10914</td><td>2016-02-27</td></tr>",
                            "<tr><td>63</td><td>11021</td><td>2016-04-14</td></tr>",
                            "<tr><td>63</td><td>10996</td><td>2016-04-02</td></tr>",
                            "<tr><td>63</td><td>10991</td><td>2016-04-01</td></tr>",
                            "<tr><td>64</td><td>11019</td><td>2016-04-13</td></tr>",
                            "<tr><td>64</td><td>10916</td><td>2016-02-27</td></tr>",
                            "<tr><td>64</td><td>10828</td><td>2016-01-13</td></tr>",
                            "<tr><td>65</td><td>11077</td><td>2016-05-06</td></tr>",
                            "<tr><td>65</td><td>11000</td><td>2016-04-06</td></tr>",
                            "<tr><td>65</td><td>10988</td><td>2016-03-31</td></tr>",
                            "<tr><td>66</td><td>11062</td><td>2016-04-30</td></tr>",
                            "<tr><td>66</td><td>11010</td><td>2016-04-09</td></tr>",
                            "<tr><td>66</td><td>10942</td><td>2016-03-11</td></tr>",
                            "<tr><td>67</td><td>11059</td><td>2016-04-29</td></tr>",
                            "<tr><td>67</td><td>10877</td><td>2016-02-09</td></tr>",
                            "<tr><td>67</td><td>10851</td><td>2016-01-26</td></tr>",
                            "<tr><td>68</td><td>11075</td><td>2016-05-06</td></tr>",
                            "<tr><td>68</td><td>11033</td><td>2016-04-17</td></tr>",
                            "<tr><td>68</td><td>10951</td><td>2016-03-16</td></tr>",
                            "<tr><td>69</td><td>11013</td><td>2016-04-09</td></tr>",
                            "<tr><td>69</td><td>10917</td><td>2016-03-02</td></tr>",
                            "<tr><td>69</td><td>10306</td><td>2014-09-16</td></tr>",
                            "<tr><td>70</td><td>11015</td><td>2016-04-10</td></tr>",
                            "<tr><td>70</td><td>10909</td><td>2016-02-26</td></tr>",
                            "<tr><td>70</td><td>10831</td><td>2016-01-14</td></tr>",
                            "<tr><td>71</td><td>11064</td><td>2016-05-01</td></tr>",
                            "<tr><td>71</td><td>11031</td><td>2016-04-17</td></tr>",
                            "<tr><td>71</td><td>11030</td><td>2016-04-17</td></tr>",
                            "<tr><td>72</td><td>10869</td><td>2016-02-04</td></tr>",
                            "<tr><td>72</td><td>10804</td><td>2015-12-30</td></tr>",
                            "<tr><td>72</td><td>10800</td><td>2015-12-26</td></tr>",
                            "<tr><td>73</td><td>11074</td><td>2016-05-06</td></tr>",
                            "<tr><td>73</td><td>10802</td><td>2015-12-29</td></tr>",
                            "<tr><td>73</td><td>10669</td><td>2015-09-15</td></tr>",
                            "<tr><td>74</td><td>11043</td><td>2016-04-22</td></tr>",
                            "<tr><td>74</td><td>10964</td><td>2016-03-20</td></tr>",
                            "<tr><td>74</td><td>10907</td><td>2016-02-25</td></tr>",
                            "<tr><td>75</td><td>10974</td><td>2016-03-25</td></tr>",
                            "<tr><td>75</td><td>10821</td><td>2016-01-08</td></tr>",
                            "<tr><td>75</td><td>10756</td><td>2015-11-27</td></tr>",
                            "<tr><td>76</td><td>11038</td><td>2016-04-21</td></tr>",
                            "<tr><td>76</td><td>11035</td><td>2016-04-20</td></tr>",
                            "<tr><td>76</td><td>10930</td><td>2016-03-06</td></tr>",
                            "<tr><td>77</td><td>10992</td><td>2016-04-01</td></tr>",
                            "<tr><td>77</td><td>10805</td><td>2015-12-30</td></tr>",
                            "<tr><td>77</td><td>10708</td><td>2015-10-17</td></tr>",
                            "<tr><td>78</td><td>11003</td><td>2016-04-06</td></tr>",
                            "<tr><td>78</td><td>10775</td><td>2015-12-12</td></tr>",
                            "<tr><td>78</td><td>10624</td><td>2015-08-07</td></tr>",
                            "<tr><td>79</td><td>10967</td><td>2016-03-23</td></tr>",
                            "<tr><td>79</td><td>10608</td><td>2015-07-23</td></tr>",
                            "<tr><td>79</td><td>10548</td><td>2015-05-26</td></tr>",
                            "<tr><td>80</td><td>11069</td><td>2016-05-04</td></tr>",
                            "<tr><td>80</td><td>10915</td><td>2016-02-27</td></tr>",
                            "<tr><td>80</td><td>10842</td><td>2016-01-20</td></tr>",
                            "<tr><td>81</td><td>10839</td><td>2016-01-19</td></tr>",
                            "<tr><td>81</td><td>10834</td><td>2016-01-15</td></tr>",
                            "<tr><td>81</td><td>10830</td><td>2016-01-13</td></tr>",
                            "<tr><td>82</td><td>10822</td><td>2016-01-08</td></tr>",
                            "<tr><td>82</td><td>10577</td><td>2015-06-23</td></tr>",
                            "<tr><td>82</td><td>10574</td><td>2015-06-19</td></tr>",
                            "<tr><td>83</td><td>10994</td><td>2016-04-02</td></tr>",
                            "<tr><td>83</td><td>10946</td><td>2016-03-12</td></tr>",
                            "<tr><td>83</td><td>10921</td><td>2016-03-03</td></tr>",
                            "<tr><td>84</td><td>10850</td><td>2016-01-23</td></tr>",
                            "<tr><td>84</td><td>10843</td><td>2016-01-21</td></tr>",
                            "<tr><td>84</td><td>10814</td><td>2016-01-05</td></tr>",
                            "<tr><td>85</td><td>10739</td><td>2015-11-12</td></tr>",
                            "<tr><td>85</td><td>10737</td><td>2015-11-11</td></tr>",
                            "<tr><td>85</td><td>10295</td><td>2014-09-02</td></tr>",
                            "<tr><td>86</td><td>11046</td><td>2016-04-23</td></tr>",
                            "<tr><td>86</td><td>10668</td><td>2015-09-15</td></tr>",
                            "<tr><td>86</td><td>10651</td><td>2015-09-01</td></tr>",
                            "<tr><td>87</td><td>11025</td><td>2016-04-15</td></tr>",
                            "<tr><td>87</td><td>10781</td><td>2015-12-17</td></tr>",
                            "<tr><td>87</td><td>10750</td><td>2015-11-21</td></tr>",
                            "<tr><td>88</td><td>10935</td><td>2016-03-09</td></tr>",
                            "<tr><td>88</td><td>10905</td><td>2016-02-24</td></tr>",
                            "<tr><td>88</td><td>10900</td><td>2016-02-20</td></tr>",
                            "<tr><td>89</td><td>11066</td><td>2016-05-01</td></tr>",
                            "<tr><td>89</td><td>11032</td><td>2016-04-17</td></tr>",
                            "<tr><td>89</td><td>10904</td><td>2016-02-24</td></tr>",
                            "<tr><td>90</td><td>11005</td><td>2016-04-07</td></tr>",
                            "<tr><td>90</td><td>10910</td><td>2016-02-26</td></tr>",
                            "<tr><td>90</td><td>10879</td><td>2016-02-10</td></tr>",
                            "<tr><td>91</td><td>11044</td><td>2016-04-23</td></tr>",
                            "<tr><td>91</td><td>10998</td><td>2016-04-03</td></tr>",
                            "<tr><td>91</td><td>10906</td><td>2016-02-25</td></tr>",
                            "</table>"
                        ]
                    }
                }
            ],
            "execution_count": 8
        }
    ]
}