{
    "metadata": {
        "kernelspec": {
            "name": "SQL",
            "display_name": "SQL",
            "language": "sql"
        },
        "language_info": {
            "name": "sql",
            "version": ""
        }
    },
    "nbformat_minor": 2,
    "nbformat": 4,
    "cells": [
        {
            "cell_type": "markdown",
            "source": [
                "1) **Derives a new table of US Customers called USACusts.** notice here we're using the derived table recieved from a subquery in our FROM clause."
            ],
            "metadata": {
                "language": "sql",
                "azdata_cell_guid": "b7cee0e1-50c5-495f-9991-14d84c9a213a"
            },
            "attachments": {}
        },
        {
            "cell_type": "code",
            "source": [
                "use Northwinds2022TSQLV7\n",
                "\n",
                "select *\n",
                "from (\n",
                "    select Customerid, CustomerCompanyName\n",
                "    from Sales.Customer\n",
                "    where CustomerCountry = N'USA'\n",
                ") as USACusts"
            ],
            "metadata": {
                "azdata_cell_guid": "2839f6a1-21e8-4ce8-a040-7189df42c2b6",
                "language": "sql"
            },
            "outputs": [
                {
                    "output_type": "display_data",
                    "data": {
                        "text/html": "(13 rows affected)"
                    },
                    "metadata": {}
                },
                {
                    "output_type": "display_data",
                    "data": {
                        "text/html": "Total execution time: 00:00:00.018"
                    },
                    "metadata": {}
                },
                {
                    "output_type": "execute_result",
                    "metadata": {},
                    "execution_count": 2,
                    "data": {
                        "application/vnd.dataresource+json": {
                            "schema": {
                                "fields": [
                                    {
                                        "name": "Customerid"
                                    },
                                    {
                                        "name": "CustomerCompanyName"
                                    }
                                ]
                            },
                            "data": [
                                {
                                    "0": "32",
                                    "1": "Customer YSIQX"
                                },
                                {
                                    "0": "36",
                                    "1": "Customer LVJSO"
                                },
                                {
                                    "0": "43",
                                    "1": "Customer UISOJ"
                                },
                                {
                                    "0": "45",
                                    "1": "Customer QXPPT"
                                },
                                {
                                    "0": "48",
                                    "1": "Customer DVFMB"
                                },
                                {
                                    "0": "55",
                                    "1": "Customer KZQZT"
                                },
                                {
                                    "0": "65",
                                    "1": "Customer NYUHS"
                                },
                                {
                                    "0": "71",
                                    "1": "Customer LCOUJ"
                                },
                                {
                                    "0": "75",
                                    "1": "Customer XOJYP"
                                },
                                {
                                    "0": "77",
                                    "1": "Customer LCYBZ"
                                },
                                {
                                    "0": "78",
                                    "1": "Customer NLTYP"
                                },
                                {
                                    "0": "82",
                                    "1": "Customer EYHKM"
                                },
                                {
                                    "0": "89",
                                    "1": "Customer YBQTI"
                                }
                            ]
                        },
                        "text/html": [
                            "<table>",
                            "<tr><th>Customerid</th><th>CustomerCompanyName</th></tr>",
                            "<tr><td>32</td><td>Customer YSIQX</td></tr>",
                            "<tr><td>36</td><td>Customer LVJSO</td></tr>",
                            "<tr><td>43</td><td>Customer UISOJ</td></tr>",
                            "<tr><td>45</td><td>Customer QXPPT</td></tr>",
                            "<tr><td>48</td><td>Customer DVFMB</td></tr>",
                            "<tr><td>55</td><td>Customer KZQZT</td></tr>",
                            "<tr><td>65</td><td>Customer NYUHS</td></tr>",
                            "<tr><td>71</td><td>Customer LCOUJ</td></tr>",
                            "<tr><td>75</td><td>Customer XOJYP</td></tr>",
                            "<tr><td>77</td><td>Customer LCYBZ</td></tr>",
                            "<tr><td>78</td><td>Customer NLTYP</td></tr>",
                            "<tr><td>82</td><td>Customer EYHKM</td></tr>",
                            "<tr><td>89</td><td>Customer YBQTI</td></tr>",
                            "</table>"
                        ]
                    }
                }
            ],
            "execution_count": 2
        },
        {
            "cell_type": "markdown",
            "source": [
                "2) **Derives a table for each years number of customers.** Makes use of inline aliasing, take a peek at comments."
            ],
            "metadata": {
                "language": "sql",
                "azdata_cell_guid": "0287d04d-9517-487a-9902-c6d613d87486"
            },
            "attachments": {}
        },
        {
            "cell_type": "code",
            "source": [
                "use Northwinds2022TSQLV7\n",
                "\n",
                "-- select YEAR(OrderDate) as orderyear,\n",
                "--     COUNT(distinct CustomerId) as numcusts\n",
                "-- from Sales.[Order]\n",
                "-- group by orderyear --obv we'll get a parsing error\n",
                "\n",
                "select orderyear,\n",
                "    COUNT(distinct custid) as numcusts\n",
                "from (\n",
                "    --years each customer has ordered\n",
                "    select YEAR(OrderDate) as orderyear,\n",
                "        CustomerId as custid --these lines will execute before our first statement so hence the aliasing is possible\n",
                "    from Sales.[Order]\n",
                ") as D\n",
                "group by orderyear"
            ],
            "metadata": {
                "language": "sql",
                "azdata_cell_guid": "aad8d8ee-7d48-4783-9dd1-f3b095a197fc"
            },
            "outputs": [
                {
                    "output_type": "display_data",
                    "data": {
                        "text/html": "(3 rows affected)"
                    },
                    "metadata": {}
                },
                {
                    "output_type": "display_data",
                    "data": {
                        "text/html": "Total execution time: 00:00:00.026"
                    },
                    "metadata": {}
                },
                {
                    "output_type": "execute_result",
                    "metadata": {},
                    "execution_count": 13,
                    "data": {
                        "application/vnd.dataresource+json": {
                            "schema": {
                                "fields": [
                                    {
                                        "name": "orderyear"
                                    },
                                    {
                                        "name": "numcusts"
                                    }
                                ]
                            },
                            "data": [
                                {
                                    "0": "2014",
                                    "1": "67"
                                },
                                {
                                    "0": "2015",
                                    "1": "86"
                                },
                                {
                                    "0": "2016",
                                    "1": "81"
                                }
                            ]
                        },
                        "text/html": [
                            "<table>",
                            "<tr><th>orderyear</th><th>numcusts</th></tr>",
                            "<tr><td>2014</td><td>67</td></tr>",
                            "<tr><td>2015</td><td>86</td></tr>",
                            "<tr><td>2016</td><td>81</td></tr>",
                            "</table>"
                        ]
                    }
                }
            ],
            "execution_count": 13
        },
        {
            "cell_type": "markdown",
            "source": [
                "3) **External column aliasing, does same as above.**"
            ],
            "metadata": {
                "language": "sql",
                "azdata_cell_guid": "a0fda836-1ecf-4577-8db9-71e3e830ed43"
            },
            "attachments": {}
        },
        {
            "cell_type": "code",
            "source": [
                "use Northwinds2022TSQLV7\n",
                "\n",
                "select orderyear, count(distinct custid) as numcusts\n",
                "from (\n",
                "    select year(OrderDate), CustomerId --notice we dont alias here\n",
                "    from Sales.[Order] \n",
                ") as D (orderyear, custid) -- but here after we return the derived table!\n",
                "group by orderyear"
            ],
            "metadata": {
                "language": "sql",
                "azdata_cell_guid": "8330e133-0340-4a4a-ae4d-4a7f0579a505"
            },
            "outputs": [
                {
                    "output_type": "display_data",
                    "data": {
                        "text/html": "(3 rows affected)"
                    },
                    "metadata": {}
                },
                {
                    "output_type": "display_data",
                    "data": {
                        "text/html": "Total execution time: 00:00:00.046"
                    },
                    "metadata": {}
                },
                {
                    "output_type": "execute_result",
                    "metadata": {},
                    "execution_count": 16,
                    "data": {
                        "application/vnd.dataresource+json": {
                            "schema": {
                                "fields": [
                                    {
                                        "name": "orderyear"
                                    },
                                    {
                                        "name": "numcusts"
                                    }
                                ]
                            },
                            "data": [
                                {
                                    "0": "2014",
                                    "1": "67"
                                },
                                {
                                    "0": "2015",
                                    "1": "86"
                                },
                                {
                                    "0": "2016",
                                    "1": "81"
                                }
                            ]
                        },
                        "text/html": [
                            "<table>",
                            "<tr><th>orderyear</th><th>numcusts</th></tr>",
                            "<tr><td>2014</td><td>67</td></tr>",
                            "<tr><td>2015</td><td>86</td></tr>",
                            "<tr><td>2016</td><td>81</td></tr>",
                            "</table>"
                        ]
                    }
                }
            ],
            "execution_count": 16
        },
        {
            "cell_type": "markdown",
            "source": [
                "4) **Yearly count of customers handled by Employee 3.** Uses arguments."
            ],
            "metadata": {
                "language": "sql",
                "azdata_cell_guid": "91337dda-ca6a-4a84-aedd-3b5fb18ffa8f"
            },
            "attachments": {}
        },
        {
            "cell_type": "code",
            "source": [
                "use Northwinds2022TSQLV7\n",
                "\n",
                "DECLARE @empid AS INT = 3; --used as an argument for the table we derive\n",
                "\n",
                "SELECT orderyear, COUNT(DISTINCT custid) AS numcusts\n",
                "FROM (SELECT YEAR(OrderDate) AS orderyear, \n",
                "        CustomerId as custid\n",
                "      FROM Sales.[Order]\n",
                "      WHERE EmployeeId = @empid) AS D\n",
                "GROUP BY orderyear;\n",
                "GO"
            ],
            "metadata": {
                "language": "sql",
                "azdata_cell_guid": "baee2a11-8da6-49ba-8f94-4a5ec8099829"
            },
            "outputs": [
                {
                    "output_type": "display_data",
                    "data": {
                        "text/html": "(3 rows affected)"
                    },
                    "metadata": {}
                },
                {
                    "output_type": "display_data",
                    "data": {
                        "text/html": "Total execution time: 00:00:00.017"
                    },
                    "metadata": {}
                },
                {
                    "output_type": "execute_result",
                    "metadata": {},
                    "execution_count": 20,
                    "data": {
                        "application/vnd.dataresource+json": {
                            "schema": {
                                "fields": [
                                    {
                                        "name": "orderyear"
                                    },
                                    {
                                        "name": "numcusts"
                                    }
                                ]
                            },
                            "data": [
                                {
                                    "0": "2014",
                                    "1": "16"
                                },
                                {
                                    "0": "2015",
                                    "1": "46"
                                },
                                {
                                    "0": "2016",
                                    "1": "30"
                                }
                            ]
                        },
                        "text/html": [
                            "<table>",
                            "<tr><th>orderyear</th><th>numcusts</th></tr>",
                            "<tr><td>2014</td><td>16</td></tr>",
                            "<tr><td>2015</td><td>46</td></tr>",
                            "<tr><td>2016</td><td>30</td></tr>",
                            "</table>"
                        ]
                    }
                }
            ],
            "execution_count": 20
        },
        {
            "cell_type": "markdown",
            "source": [
                "5) **Years where number of customers exceeds 70.** Using nested derived tables for inline aliasing, notice how the top layer is easiest to read."
            ],
            "metadata": {
                "language": "sql",
                "azdata_cell_guid": "c360cb7c-2f82-43fa-9a40-76a66928193a"
            },
            "attachments": {}
        },
        {
            "cell_type": "code",
            "source": [
                "use Northwinds2022TSQLV7\n",
                "\n",
                "SELECT orderyear, numcusts\n",
                "FROM (SELECT orderyear, COUNT(DISTINCT custid) AS numcusts\n",
                "      FROM (SELECT YEAR(OrderDate) AS orderyear, \n",
                "                CustomerId as custid\n",
                "            FROM Sales.[Order]) AS D1\n",
                "      GROUP BY orderyear) AS D2\n",
                "WHERE numcusts > 70;"
            ],
            "metadata": {
                "language": "sql",
                "azdata_cell_guid": "e5eea45d-ab0e-474d-a715-ec1ed7cb2765"
            },
            "outputs": [
                {
                    "output_type": "display_data",
                    "data": {
                        "text/html": "(2 rows affected)"
                    },
                    "metadata": {}
                },
                {
                    "output_type": "display_data",
                    "data": {
                        "text/html": "Total execution time: 00:00:00.033"
                    },
                    "metadata": {}
                },
                {
                    "output_type": "execute_result",
                    "metadata": {},
                    "execution_count": 21,
                    "data": {
                        "application/vnd.dataresource+json": {
                            "schema": {
                                "fields": [
                                    {
                                        "name": "orderyear"
                                    },
                                    {
                                        "name": "numcusts"
                                    }
                                ]
                            },
                            "data": [
                                {
                                    "0": "2015",
                                    "1": "86"
                                },
                                {
                                    "0": "2016",
                                    "1": "81"
                                }
                            ]
                        },
                        "text/html": [
                            "<table>",
                            "<tr><th>orderyear</th><th>numcusts</th></tr>",
                            "<tr><td>2015</td><td>86</td></tr>",
                            "<tr><td>2016</td><td>81</td></tr>",
                            "</table>"
                        ]
                    }
                }
            ],
            "execution_count": 21
        },
        {
            "cell_type": "markdown",
            "source": [
                "6) **Same as above, but not as readable as you can see due to top level aliasing.**"
            ],
            "metadata": {
                "language": "sql",
                "azdata_cell_guid": "565bff19-0a55-44bc-8e82-9e9ed530c1bc"
            },
            "attachments": {}
        },
        {
            "cell_type": "code",
            "source": [
                "use Northwinds2022TSQLV7\n",
                "\n",
                "SELECT YEAR(OrderDate) AS orderyear, COUNT(DISTINCT CustomerId) AS numcusts\n",
                "FROM Sales.[Order]\n",
                "GROUP BY YEAR(OrderDate)\n",
                "HAVING COUNT(DISTINCT CustomerId) > 70;"
            ],
            "metadata": {
                "language": "sql",
                "azdata_cell_guid": "1c9f4811-398f-4c18-a238-0fafa609954d"
            },
            "outputs": [
                {
                    "output_type": "display_data",
                    "data": {
                        "text/html": "(2 rows affected)"
                    },
                    "metadata": {}
                },
                {
                    "output_type": "display_data",
                    "data": {
                        "text/html": "Total execution time: 00:00:00.022"
                    },
                    "metadata": {}
                },
                {
                    "output_type": "execute_result",
                    "metadata": {},
                    "execution_count": 22,
                    "data": {
                        "application/vnd.dataresource+json": {
                            "schema": {
                                "fields": [
                                    {
                                        "name": "orderyear"
                                    },
                                    {
                                        "name": "numcusts"
                                    }
                                ]
                            },
                            "data": [
                                {
                                    "0": "2015",
                                    "1": "86"
                                },
                                {
                                    "0": "2016",
                                    "1": "81"
                                }
                            ]
                        },
                        "text/html": [
                            "<table>",
                            "<tr><th>orderyear</th><th>numcusts</th></tr>",
                            "<tr><td>2015</td><td>86</td></tr>",
                            "<tr><td>2016</td><td>81</td></tr>",
                            "</table>"
                        ]
                    }
                }
            ],
            "execution_count": 22
        }
    ]
}