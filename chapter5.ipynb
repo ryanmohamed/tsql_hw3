{
    "metadata": {
        "kernelspec": {
            "name": "SQL",
            "display_name": "SQL",
            "language": "sql"
        },
        "language_info": {
            "name": "sql",
            "version": ""
        }
    },
    "nbformat_minor": 2,
    "nbformat": 4,
    "cells": [
        {
            "cell_type": "markdown",
            "source": [
                "1) **Derives a new table of US Customers called USACusts.** notice here we're using the derived table recieved from a subquery in our FROM clause."
            ],
            "metadata": {
                "language": "sql",
                "azdata_cell_guid": "b7cee0e1-50c5-495f-9991-14d84c9a213a"
            },
            "attachments": {}
        },
        {
            "cell_type": "code",
            "source": [
                "use Northwinds2022TSQLV7\n",
                "\n",
                "select *\n",
                "from (\n",
                "    select Customerid, CustomerCompanyName\n",
                "    from Sales.Customer\n",
                "    where CustomerCountry = N'USA'\n",
                ") as USACusts"
            ],
            "metadata": {
                "azdata_cell_guid": "2839f6a1-21e8-4ce8-a040-7189df42c2b6",
                "language": "sql"
            },
            "outputs": [
                {
                    "output_type": "display_data",
                    "data": {
                        "text/html": "(13 rows affected)"
                    },
                    "metadata": {}
                },
                {
                    "output_type": "display_data",
                    "data": {
                        "text/html": "Total execution time: 00:00:00.018"
                    },
                    "metadata": {}
                },
                {
                    "output_type": "execute_result",
                    "metadata": {},
                    "execution_count": 2,
                    "data": {
                        "application/vnd.dataresource+json": {
                            "schema": {
                                "fields": [
                                    {
                                        "name": "Customerid"
                                    },
                                    {
                                        "name": "CustomerCompanyName"
                                    }
                                ]
                            },
                            "data": [
                                {
                                    "0": "32",
                                    "1": "Customer YSIQX"
                                },
                                {
                                    "0": "36",
                                    "1": "Customer LVJSO"
                                },
                                {
                                    "0": "43",
                                    "1": "Customer UISOJ"
                                },
                                {
                                    "0": "45",
                                    "1": "Customer QXPPT"
                                },
                                {
                                    "0": "48",
                                    "1": "Customer DVFMB"
                                },
                                {
                                    "0": "55",
                                    "1": "Customer KZQZT"
                                },
                                {
                                    "0": "65",
                                    "1": "Customer NYUHS"
                                },
                                {
                                    "0": "71",
                                    "1": "Customer LCOUJ"
                                },
                                {
                                    "0": "75",
                                    "1": "Customer XOJYP"
                                },
                                {
                                    "0": "77",
                                    "1": "Customer LCYBZ"
                                },
                                {
                                    "0": "78",
                                    "1": "Customer NLTYP"
                                },
                                {
                                    "0": "82",
                                    "1": "Customer EYHKM"
                                },
                                {
                                    "0": "89",
                                    "1": "Customer YBQTI"
                                }
                            ]
                        },
                        "text/html": [
                            "<table>",
                            "<tr><th>Customerid</th><th>CustomerCompanyName</th></tr>",
                            "<tr><td>32</td><td>Customer YSIQX</td></tr>",
                            "<tr><td>36</td><td>Customer LVJSO</td></tr>",
                            "<tr><td>43</td><td>Customer UISOJ</td></tr>",
                            "<tr><td>45</td><td>Customer QXPPT</td></tr>",
                            "<tr><td>48</td><td>Customer DVFMB</td></tr>",
                            "<tr><td>55</td><td>Customer KZQZT</td></tr>",
                            "<tr><td>65</td><td>Customer NYUHS</td></tr>",
                            "<tr><td>71</td><td>Customer LCOUJ</td></tr>",
                            "<tr><td>75</td><td>Customer XOJYP</td></tr>",
                            "<tr><td>77</td><td>Customer LCYBZ</td></tr>",
                            "<tr><td>78</td><td>Customer NLTYP</td></tr>",
                            "<tr><td>82</td><td>Customer EYHKM</td></tr>",
                            "<tr><td>89</td><td>Customer YBQTI</td></tr>",
                            "</table>"
                        ]
                    }
                }
            ],
            "execution_count": 2
        },
        {
            "cell_type": "markdown",
            "source": [
                "2) **Derives a table for each years number of customers.** Makes use of inline aliasing, take a peek at comments."
            ],
            "metadata": {
                "language": "sql",
                "azdata_cell_guid": "0287d04d-9517-487a-9902-c6d613d87486"
            },
            "attachments": {}
        },
        {
            "cell_type": "code",
            "source": [
                "use Northwinds2022TSQLV7\n",
                "\n",
                "-- select YEAR(OrderDate) as orderyear,\n",
                "--     COUNT(distinct CustomerId) as numcusts\n",
                "-- from Sales.[Order]\n",
                "-- group by orderyear --obv we'll get a parsing error\n",
                "\n",
                "select orderyear,\n",
                "    COUNT(distinct custid) as numcusts\n",
                "from (\n",
                "    --years each customer has ordered\n",
                "    select YEAR(OrderDate) as orderyear,\n",
                "        CustomerId as custid --these lines will execute before our first statement so hence the aliasing is possible\n",
                "    from Sales.[Order]\n",
                ") as D\n",
                "group by orderyear"
            ],
            "metadata": {
                "language": "sql",
                "azdata_cell_guid": "aad8d8ee-7d48-4783-9dd1-f3b095a197fc"
            },
            "outputs": [
                {
                    "output_type": "display_data",
                    "data": {
                        "text/html": "(3 rows affected)"
                    },
                    "metadata": {}
                },
                {
                    "output_type": "display_data",
                    "data": {
                        "text/html": "Total execution time: 00:00:00.026"
                    },
                    "metadata": {}
                },
                {
                    "output_type": "execute_result",
                    "metadata": {},
                    "execution_count": 13,
                    "data": {
                        "application/vnd.dataresource+json": {
                            "schema": {
                                "fields": [
                                    {
                                        "name": "orderyear"
                                    },
                                    {
                                        "name": "numcusts"
                                    }
                                ]
                            },
                            "data": [
                                {
                                    "0": "2014",
                                    "1": "67"
                                },
                                {
                                    "0": "2015",
                                    "1": "86"
                                },
                                {
                                    "0": "2016",
                                    "1": "81"
                                }
                            ]
                        },
                        "text/html": [
                            "<table>",
                            "<tr><th>orderyear</th><th>numcusts</th></tr>",
                            "<tr><td>2014</td><td>67</td></tr>",
                            "<tr><td>2015</td><td>86</td></tr>",
                            "<tr><td>2016</td><td>81</td></tr>",
                            "</table>"
                        ]
                    }
                }
            ],
            "execution_count": 13
        },
        {
            "cell_type": "markdown",
            "source": [
                "3) **External column aliasing, does same as above.**"
            ],
            "metadata": {
                "language": "sql",
                "azdata_cell_guid": "a0fda836-1ecf-4577-8db9-71e3e830ed43"
            },
            "attachments": {}
        },
        {
            "cell_type": "code",
            "source": [
                "use Northwinds2022TSQLV7\n",
                "\n",
                "select orderyear, count(distinct custid) as numcusts\n",
                "from (\n",
                "    select year(OrderDate), CustomerId --notice we dont alias here\n",
                "    from Sales.[Order] \n",
                ") as D (orderyear, custid) -- but here after we return the derived table!\n",
                "group by orderyear"
            ],
            "metadata": {
                "language": "sql",
                "azdata_cell_guid": "8330e133-0340-4a4a-ae4d-4a7f0579a505"
            },
            "outputs": [
                {
                    "output_type": "display_data",
                    "data": {
                        "text/html": "(3 rows affected)"
                    },
                    "metadata": {}
                },
                {
                    "output_type": "display_data",
                    "data": {
                        "text/html": "Total execution time: 00:00:00.046"
                    },
                    "metadata": {}
                },
                {
                    "output_type": "execute_result",
                    "metadata": {},
                    "execution_count": 16,
                    "data": {
                        "application/vnd.dataresource+json": {
                            "schema": {
                                "fields": [
                                    {
                                        "name": "orderyear"
                                    },
                                    {
                                        "name": "numcusts"
                                    }
                                ]
                            },
                            "data": [
                                {
                                    "0": "2014",
                                    "1": "67"
                                },
                                {
                                    "0": "2015",
                                    "1": "86"
                                },
                                {
                                    "0": "2016",
                                    "1": "81"
                                }
                            ]
                        },
                        "text/html": [
                            "<table>",
                            "<tr><th>orderyear</th><th>numcusts</th></tr>",
                            "<tr><td>2014</td><td>67</td></tr>",
                            "<tr><td>2015</td><td>86</td></tr>",
                            "<tr><td>2016</td><td>81</td></tr>",
                            "</table>"
                        ]
                    }
                }
            ],
            "execution_count": 16
        },
        {
            "cell_type": "markdown",
            "source": [
                "4) **Yearly count of customers handled by Employee 3.** Uses arguments."
            ],
            "metadata": {
                "language": "sql",
                "azdata_cell_guid": "91337dda-ca6a-4a84-aedd-3b5fb18ffa8f"
            },
            "attachments": {}
        },
        {
            "cell_type": "code",
            "source": [
                "use Northwinds2022TSQLV7\n",
                "\n",
                "DECLARE @empid AS INT = 3; --used as an argument for the table we derive\n",
                "\n",
                "SELECT orderyear, COUNT(DISTINCT custid) AS numcusts\n",
                "FROM (SELECT YEAR(OrderDate) AS orderyear, \n",
                "        CustomerId as custid\n",
                "      FROM Sales.[Order]\n",
                "      WHERE EmployeeId = @empid) AS D\n",
                "GROUP BY orderyear;\n",
                "GO"
            ],
            "metadata": {
                "language": "sql",
                "azdata_cell_guid": "baee2a11-8da6-49ba-8f94-4a5ec8099829"
            },
            "outputs": [
                {
                    "output_type": "display_data",
                    "data": {
                        "text/html": "(3 rows affected)"
                    },
                    "metadata": {}
                },
                {
                    "output_type": "display_data",
                    "data": {
                        "text/html": "Total execution time: 00:00:00.017"
                    },
                    "metadata": {}
                },
                {
                    "output_type": "execute_result",
                    "metadata": {},
                    "execution_count": 20,
                    "data": {
                        "application/vnd.dataresource+json": {
                            "schema": {
                                "fields": [
                                    {
                                        "name": "orderyear"
                                    },
                                    {
                                        "name": "numcusts"
                                    }
                                ]
                            },
                            "data": [
                                {
                                    "0": "2014",
                                    "1": "16"
                                },
                                {
                                    "0": "2015",
                                    "1": "46"
                                },
                                {
                                    "0": "2016",
                                    "1": "30"
                                }
                            ]
                        },
                        "text/html": [
                            "<table>",
                            "<tr><th>orderyear</th><th>numcusts</th></tr>",
                            "<tr><td>2014</td><td>16</td></tr>",
                            "<tr><td>2015</td><td>46</td></tr>",
                            "<tr><td>2016</td><td>30</td></tr>",
                            "</table>"
                        ]
                    }
                }
            ],
            "execution_count": 20
        },
        {
            "cell_type": "markdown",
            "source": [
                "5) **Years where number of customers exceeds 70.** Using nested derived tables for inline aliasing, notice how the top layer is easiest to read."
            ],
            "metadata": {
                "language": "sql",
                "azdata_cell_guid": "c360cb7c-2f82-43fa-9a40-76a66928193a"
            },
            "attachments": {}
        },
        {
            "cell_type": "code",
            "source": [
                "use Northwinds2022TSQLV7\n",
                "\n",
                "SELECT orderyear, numcusts\n",
                "FROM (SELECT orderyear, COUNT(DISTINCT custid) AS numcusts\n",
                "      FROM (SELECT YEAR(OrderDate) AS orderyear, \n",
                "                CustomerId as custid\n",
                "            FROM Sales.[Order]) AS D1\n",
                "      GROUP BY orderyear) AS D2\n",
                "WHERE numcusts > 70;"
            ],
            "metadata": {
                "language": "sql",
                "azdata_cell_guid": "e5eea45d-ab0e-474d-a715-ec1ed7cb2765"
            },
            "outputs": [
                {
                    "output_type": "display_data",
                    "data": {
                        "text/html": "(2 rows affected)"
                    },
                    "metadata": {}
                },
                {
                    "output_type": "display_data",
                    "data": {
                        "text/html": "Total execution time: 00:00:00.033"
                    },
                    "metadata": {}
                },
                {
                    "output_type": "execute_result",
                    "metadata": {},
                    "execution_count": 21,
                    "data": {
                        "application/vnd.dataresource+json": {
                            "schema": {
                                "fields": [
                                    {
                                        "name": "orderyear"
                                    },
                                    {
                                        "name": "numcusts"
                                    }
                                ]
                            },
                            "data": [
                                {
                                    "0": "2015",
                                    "1": "86"
                                },
                                {
                                    "0": "2016",
                                    "1": "81"
                                }
                            ]
                        },
                        "text/html": [
                            "<table>",
                            "<tr><th>orderyear</th><th>numcusts</th></tr>",
                            "<tr><td>2015</td><td>86</td></tr>",
                            "<tr><td>2016</td><td>81</td></tr>",
                            "</table>"
                        ]
                    }
                }
            ],
            "execution_count": 21
        },
        {
            "cell_type": "markdown",
            "source": [
                "6) **Same as above, but not as readable as you can see due to top level aliasing.**"
            ],
            "metadata": {
                "language": "sql",
                "azdata_cell_guid": "565bff19-0a55-44bc-8e82-9e9ed530c1bc"
            },
            "attachments": {}
        },
        {
            "cell_type": "code",
            "source": [
                "use Northwinds2022TSQLV7\n",
                "\n",
                "SELECT YEAR(OrderDate) AS orderyear, COUNT(DISTINCT CustomerId) AS numcusts\n",
                "FROM Sales.[Order]\n",
                "GROUP BY YEAR(OrderDate)\n",
                "HAVING COUNT(DISTINCT CustomerId) > 70;"
            ],
            "metadata": {
                "language": "sql",
                "azdata_cell_guid": "1c9f4811-398f-4c18-a238-0fafa609954d"
            },
            "outputs": [
                {
                    "output_type": "display_data",
                    "data": {
                        "text/html": "(2 rows affected)"
                    },
                    "metadata": {}
                },
                {
                    "output_type": "display_data",
                    "data": {
                        "text/html": "Total execution time: 00:00:00.022"
                    },
                    "metadata": {}
                },
                {
                    "output_type": "execute_result",
                    "metadata": {},
                    "execution_count": 22,
                    "data": {
                        "application/vnd.dataresource+json": {
                            "schema": {
                                "fields": [
                                    {
                                        "name": "orderyear"
                                    },
                                    {
                                        "name": "numcusts"
                                    }
                                ]
                            },
                            "data": [
                                {
                                    "0": "2015",
                                    "1": "86"
                                },
                                {
                                    "0": "2016",
                                    "1": "81"
                                }
                            ]
                        },
                        "text/html": [
                            "<table>",
                            "<tr><th>orderyear</th><th>numcusts</th></tr>",
                            "<tr><td>2015</td><td>86</td></tr>",
                            "<tr><td>2016</td><td>81</td></tr>",
                            "</table>"
                        ]
                    }
                }
            ],
            "execution_count": 22
        },
        {
            "cell_type": "markdown",
            "source": [
                "7. **Number of current customers, previous customer, and growth of customers for each year.** Using two subquery to create tables of current customers, previous customers, uses left join to combine row with certain criteria, preserves NULLS."
            ],
            "metadata": {
                "language": "sql",
                "azdata_cell_guid": "944823ba-03e3-434a-9b4c-624e6cda545d"
            },
            "attachments": {}
        },
        {
            "cell_type": "code",
            "source": [
                "use Northwinds2022TSQLV7\n",
                "\n",
                "SELECT Cur.orderyear, \n",
                "  Cur.numcusts AS curnumcusts, Prv.numcusts AS prvnumcusts,\n",
                "  Cur.numcusts - Prv.numcusts AS growth\n",
                "FROM (SELECT YEAR(OrderDate) AS orderyear,\n",
                "        COUNT(DISTINCT CustomerId) AS numcusts\n",
                "      FROM Sales.[Order]\n",
                "      GROUP BY YEAR(OrderDate)) AS Cur\n",
                "  LEFT OUTER JOIN --we use left join to preserve rows and nulls, so as to not discard\n",
                "     (SELECT YEAR(OrderDate) AS orderyear,\n",
                "        COUNT(DISTINCT CustomerId) AS numcusts\n",
                "      FROM Sales.[Order]\n",
                "      GROUP BY YEAR(OrderDate)) AS Prv\n",
                "    ON Cur.orderyear = Prv.orderyear + 1;\n",
                ""
            ],
            "metadata": {
                "language": "sql",
                "azdata_cell_guid": "657df046-f768-4876-bb8e-ea668de4f908",
                "tags": []
            },
            "outputs": [
                {
                    "output_type": "display_data",
                    "data": {
                        "text/html": "(3 rows affected)"
                    },
                    "metadata": {}
                },
                {
                    "output_type": "display_data",
                    "data": {
                        "text/html": "Total execution time: 00:00:00.036"
                    },
                    "metadata": {}
                },
                {
                    "output_type": "execute_result",
                    "metadata": {},
                    "execution_count": 31,
                    "data": {
                        "application/vnd.dataresource+json": {
                            "schema": {
                                "fields": [
                                    {
                                        "name": "orderyear"
                                    },
                                    {
                                        "name": "curnumcusts"
                                    },
                                    {
                                        "name": "prvnumcusts"
                                    },
                                    {
                                        "name": "growth"
                                    }
                                ]
                            },
                            "data": [
                                {
                                    "0": "2014",
                                    "1": "67",
                                    "2": "NULL",
                                    "3": "NULL"
                                },
                                {
                                    "0": "2015",
                                    "1": "86",
                                    "2": "67",
                                    "3": "19"
                                },
                                {
                                    "0": "2016",
                                    "1": "81",
                                    "2": "86",
                                    "3": "-5"
                                }
                            ]
                        },
                        "text/html": [
                            "<table>",
                            "<tr><th>orderyear</th><th>curnumcusts</th><th>prvnumcusts</th><th>growth</th></tr>",
                            "<tr><td>2014</td><td>67</td><td>NULL</td><td>NULL</td></tr>",
                            "<tr><td>2015</td><td>86</td><td>67</td><td>19</td></tr>",
                            "<tr><td>2016</td><td>81</td><td>86</td><td>-5</td></tr>",
                            "</table>"
                        ]
                    }
                }
            ],
            "execution_count": 31
        },
        {
            "cell_type": "markdown",
            "source": [
                "8. **Create USACusts as derived table using COMMON table expressions.**"
            ],
            "metadata": {
                "language": "sql",
                "azdata_cell_guid": "0a57a6dd-8f6e-49e7-9405-bb6fbdeb87da"
            },
            "attachments": {}
        },
        {
            "cell_type": "code",
            "source": [
                "use Northwinds2022TSQLV7;\n",
                "\n",
                "WITH USACusts AS\n",
                "(\n",
                "  SELECT CustomerId, CustomerCompanyName\n",
                "  FROM Sales.Customer\n",
                "  WHERE CustomerCountry = N'USA'\n",
                ")\n",
                "SELECT * FROM USACusts;"
            ],
            "metadata": {
                "language": "sql",
                "azdata_cell_guid": "48a865d0-ae07-48a5-a6e5-0a111697dced"
            },
            "outputs": [
                {
                    "output_type": "display_data",
                    "data": {
                        "text/html": "(13 rows affected)"
                    },
                    "metadata": {}
                },
                {
                    "output_type": "display_data",
                    "data": {
                        "text/html": "Total execution time: 00:00:00.027"
                    },
                    "metadata": {}
                },
                {
                    "output_type": "execute_result",
                    "metadata": {},
                    "execution_count": 24,
                    "data": {
                        "application/vnd.dataresource+json": {
                            "schema": {
                                "fields": [
                                    {
                                        "name": "CustomerId"
                                    },
                                    {
                                        "name": "CustomerCompanyName"
                                    }
                                ]
                            },
                            "data": [
                                {
                                    "0": "32",
                                    "1": "Customer YSIQX"
                                },
                                {
                                    "0": "36",
                                    "1": "Customer LVJSO"
                                },
                                {
                                    "0": "43",
                                    "1": "Customer UISOJ"
                                },
                                {
                                    "0": "45",
                                    "1": "Customer QXPPT"
                                },
                                {
                                    "0": "48",
                                    "1": "Customer DVFMB"
                                },
                                {
                                    "0": "55",
                                    "1": "Customer KZQZT"
                                },
                                {
                                    "0": "65",
                                    "1": "Customer NYUHS"
                                },
                                {
                                    "0": "71",
                                    "1": "Customer LCOUJ"
                                },
                                {
                                    "0": "75",
                                    "1": "Customer XOJYP"
                                },
                                {
                                    "0": "77",
                                    "1": "Customer LCYBZ"
                                },
                                {
                                    "0": "78",
                                    "1": "Customer NLTYP"
                                },
                                {
                                    "0": "82",
                                    "1": "Customer EYHKM"
                                },
                                {
                                    "0": "89",
                                    "1": "Customer YBQTI"
                                }
                            ]
                        },
                        "text/html": [
                            "<table>",
                            "<tr><th>CustomerId</th><th>CustomerCompanyName</th></tr>",
                            "<tr><td>32</td><td>Customer YSIQX</td></tr>",
                            "<tr><td>36</td><td>Customer LVJSO</td></tr>",
                            "<tr><td>43</td><td>Customer UISOJ</td></tr>",
                            "<tr><td>45</td><td>Customer QXPPT</td></tr>",
                            "<tr><td>48</td><td>Customer DVFMB</td></tr>",
                            "<tr><td>55</td><td>Customer KZQZT</td></tr>",
                            "<tr><td>65</td><td>Customer NYUHS</td></tr>",
                            "<tr><td>71</td><td>Customer LCOUJ</td></tr>",
                            "<tr><td>75</td><td>Customer XOJYP</td></tr>",
                            "<tr><td>77</td><td>Customer LCYBZ</td></tr>",
                            "<tr><td>78</td><td>Customer NLTYP</td></tr>",
                            "<tr><td>82</td><td>Customer EYHKM</td></tr>",
                            "<tr><td>89</td><td>Customer YBQTI</td></tr>",
                            "</table>"
                        ]
                    }
                }
            ],
            "execution_count": 24
        },
        {
            "cell_type": "markdown",
            "source": [
                "9. **Yearly count of customers.** Table expressions and INLINE column aliasing."
            ],
            "metadata": {
                "language": "sql",
                "azdata_cell_guid": "c408cf72-0d72-469d-ba52-8480f64a6cf4"
            },
            "attachments": {}
        },
        {
            "cell_type": "code",
            "source": [
                "use Northwinds2022TSQLV7;\n",
                "\n",
                "WITH C AS\n",
                "(\n",
                "  SELECT YEAR(OrderDate) AS orderyear, \n",
                "        CustomerId as custid\n",
                "  FROM Sales.[Order]\n",
                ")\n",
                "SELECT orderyear, COUNT(DISTINCT custid) AS numcusts\n",
                "FROM C\n",
                "GROUP BY orderyear;"
            ],
            "metadata": {
                "language": "sql",
                "azdata_cell_guid": "de118077-d481-449f-abf1-da4160482f55"
            },
            "outputs": [
                {
                    "output_type": "display_data",
                    "data": {
                        "text/html": "(3 rows affected)"
                    },
                    "metadata": {}
                },
                {
                    "output_type": "display_data",
                    "data": {
                        "text/html": "Total execution time: 00:00:00.030"
                    },
                    "metadata": {}
                },
                {
                    "output_type": "execute_result",
                    "metadata": {},
                    "execution_count": 26,
                    "data": {
                        "application/vnd.dataresource+json": {
                            "schema": {
                                "fields": [
                                    {
                                        "name": "orderyear"
                                    },
                                    {
                                        "name": "numcusts"
                                    }
                                ]
                            },
                            "data": [
                                {
                                    "0": "2014",
                                    "1": "67"
                                },
                                {
                                    "0": "2015",
                                    "1": "86"
                                },
                                {
                                    "0": "2016",
                                    "1": "81"
                                }
                            ]
                        },
                        "text/html": [
                            "<table>",
                            "<tr><th>orderyear</th><th>numcusts</th></tr>",
                            "<tr><td>2014</td><td>67</td></tr>",
                            "<tr><td>2015</td><td>86</td></tr>",
                            "<tr><td>2016</td><td>81</td></tr>",
                            "</table>"
                        ]
                    }
                }
            ],
            "execution_count": 26
        },
        {
            "cell_type": "markdown",
            "source": [
                "10) **Yearly count of customers.** Table expression and EXTERNAL column aliasing."
            ],
            "metadata": {
                "language": "sql",
                "azdata_cell_guid": "3ab9c162-f10b-49a4-9508-ad9f290a9c65"
            },
            "attachments": {}
        },
        {
            "cell_type": "code",
            "source": [
                "use Northwinds2022TSQLV7;\n",
                "\n",
                "WITH C(orderyear, custid) AS\n",
                "(\n",
                "  SELECT YEAR(OrderDate), CustomerId\n",
                "  FROM Sales.[Order]\n",
                ")\n",
                "SELECT orderyear, COUNT(DISTINCT custid) AS numcusts\n",
                "FROM C\n",
                "GROUP BY orderyear;"
            ],
            "metadata": {
                "language": "sql",
                "azdata_cell_guid": "701a5140-1891-472b-80dc-576a98276435"
            },
            "outputs": [
                {
                    "output_type": "display_data",
                    "data": {
                        "text/html": "(3 rows affected)"
                    },
                    "metadata": {}
                },
                {
                    "output_type": "display_data",
                    "data": {
                        "text/html": "Total execution time: 00:00:00.031"
                    },
                    "metadata": {}
                },
                {
                    "output_type": "execute_result",
                    "metadata": {},
                    "execution_count": 27,
                    "data": {
                        "application/vnd.dataresource+json": {
                            "schema": {
                                "fields": [
                                    {
                                        "name": "orderyear"
                                    },
                                    {
                                        "name": "numcusts"
                                    }
                                ]
                            },
                            "data": [
                                {
                                    "0": "2014",
                                    "1": "67"
                                },
                                {
                                    "0": "2015",
                                    "1": "86"
                                },
                                {
                                    "0": "2016",
                                    "1": "81"
                                }
                            ]
                        },
                        "text/html": [
                            "<table>",
                            "<tr><th>orderyear</th><th>numcusts</th></tr>",
                            "<tr><td>2014</td><td>67</td></tr>",
                            "<tr><td>2015</td><td>86</td></tr>",
                            "<tr><td>2016</td><td>81</td></tr>",
                            "</table>"
                        ]
                    }
                }
            ],
            "execution_count": 27
        },
        {
            "cell_type": "markdown",
            "source": [
                "11) **Yearly count of customers handled by employee 3.** Table expressions, inline column aliasing, and ARGUMENTS."
            ],
            "metadata": {
                "language": "sql",
                "azdata_cell_guid": "2e7ee706-161f-451d-b397-cd8b7763fb2e"
            },
            "attachments": {}
        },
        {
            "cell_type": "code",
            "source": [
                "use Northwinds2022TSQLV7;\n",
                "\n",
                "DECLARE @empid AS INT = 3;\n",
                "\n",
                "WITH C AS\n",
                "(\n",
                "  SELECT YEAR(OrderDate) AS orderyear, \n",
                "        CustomerId as custid\n",
                "  FROM Sales.[Order]\n",
                "  WHERE EmployeeId = @empid\n",
                ")\n",
                "SELECT orderyear, COUNT(DISTINCT custid) AS numcusts\n",
                "FROM C\n",
                "GROUP BY orderyear;"
            ],
            "metadata": {
                "language": "sql",
                "azdata_cell_guid": "f22a808a-0677-47d6-b510-4f0d634a478e"
            },
            "outputs": [
                {
                    "output_type": "display_data",
                    "data": {
                        "text/html": "(3 rows affected)"
                    },
                    "metadata": {}
                },
                {
                    "output_type": "display_data",
                    "data": {
                        "text/html": "Total execution time: 00:00:00.034"
                    },
                    "metadata": {}
                },
                {
                    "output_type": "execute_result",
                    "metadata": {},
                    "execution_count": 28,
                    "data": {
                        "application/vnd.dataresource+json": {
                            "schema": {
                                "fields": [
                                    {
                                        "name": "orderyear"
                                    },
                                    {
                                        "name": "numcusts"
                                    }
                                ]
                            },
                            "data": [
                                {
                                    "0": "2014",
                                    "1": "16"
                                },
                                {
                                    "0": "2015",
                                    "1": "46"
                                },
                                {
                                    "0": "2016",
                                    "1": "30"
                                }
                            ]
                        },
                        "text/html": [
                            "<table>",
                            "<tr><th>orderyear</th><th>numcusts</th></tr>",
                            "<tr><td>2014</td><td>16</td></tr>",
                            "<tr><td>2015</td><td>46</td></tr>",
                            "<tr><td>2016</td><td>30</td></tr>",
                            "</table>"
                        ]
                    }
                }
            ],
            "execution_count": 28
        },
        {
            "cell_type": "markdown",
            "source": [
                "12. Multiple CTES. High readibility. Creates a table of order years for each customer. Derives a table with column aliasing, we use this in another CTE. Derivies a table of the number of unique customers for each year. We use the final derived table to easily return **years where the cumber of customers exceeds 70.**"
            ],
            "metadata": {
                "language": "sql",
                "azdata_cell_guid": "0448da83-6ba0-40db-9ef9-012cfc7221dd"
            },
            "attachments": {}
        },
        {
            "cell_type": "code",
            "source": [
                "use Northwinds2022TSQLV7;\n",
                "\n",
                "WITH C1 AS\n",
                "(\n",
                "  SELECT YEAR(OrderDate) AS orderyear, \n",
                "    CustomerId as custid --readable aliasing\n",
                "  FROM Sales.[Order]\n",
                "),\n",
                "C2 AS\n",
                "(\n",
                "  SELECT orderyear, COUNT(DISTINCT custid) AS numcusts\n",
                "  FROM C1\n",
                "  GROUP BY orderyear\n",
                ")\n",
                "SELECT orderyear, numcusts\n",
                "FROM C2\n",
                "WHERE numcusts > 70;"
            ],
            "metadata": {
                "language": "sql",
                "azdata_cell_guid": "e65c81b1-a891-40a4-af14-b2abb96172f0"
            },
            "outputs": [
                {
                    "output_type": "display_data",
                    "data": {
                        "text/html": "(2 rows affected)"
                    },
                    "metadata": {}
                },
                {
                    "output_type": "display_data",
                    "data": {
                        "text/html": "Total execution time: 00:00:00.033"
                    },
                    "metadata": {}
                },
                {
                    "output_type": "execute_result",
                    "metadata": {},
                    "execution_count": 33,
                    "data": {
                        "application/vnd.dataresource+json": {
                            "schema": {
                                "fields": [
                                    {
                                        "name": "orderyear"
                                    },
                                    {
                                        "name": "numcusts"
                                    }
                                ]
                            },
                            "data": [
                                {
                                    "0": "2015",
                                    "1": "86"
                                },
                                {
                                    "0": "2016",
                                    "1": "81"
                                }
                            ]
                        },
                        "text/html": [
                            "<table>",
                            "<tr><th>orderyear</th><th>numcusts</th></tr>",
                            "<tr><td>2015</td><td>86</td></tr>",
                            "<tr><td>2016</td><td>81</td></tr>",
                            "</table>"
                        ]
                    }
                }
            ],
            "execution_count": 33
        },
        {
            "cell_type": "markdown",
            "source": [
                "13. Utilizing MULTIPLE references to **get each years current customers, previous customer, and growth.** Notice how the already named derived table can have more than one alias, to perform table operations like join."
            ],
            "metadata": {
                "language": "sql",
                "azdata_cell_guid": "de1f8a15-99da-42f2-95d2-8d86f596a9c4"
            },
            "attachments": {}
        },
        {
            "cell_type": "code",
            "source": [
                "use Northwinds2022TSQLV7;\n",
                "\n",
                "WITH YearlyCount AS\n",
                "(\n",
                "  SELECT YEAR(OrderDate) AS orderyear,\n",
                "    COUNT(DISTINCT CustomerId) AS numcusts\n",
                "  FROM Sales.[Order]\n",
                "  GROUP BY YEAR(OrderDate)\n",
                ")\n",
                "SELECT Cur.orderyear, \n",
                "  Cur.numcusts AS curnumcusts, Prv.numcusts AS prvnumcusts,\n",
                "  Cur.numcusts - Prv.numcusts AS growth\n",
                "FROM YearlyCount AS Cur -- the derived table has muliple references / aliases\n",
                "  LEFT OUTER JOIN YearlyCount AS Prv \n",
                "    ON Cur.orderyear = Prv.orderyear + 1;"
            ],
            "metadata": {
                "language": "sql",
                "azdata_cell_guid": "5731c4dd-67a7-48c6-b1d1-b20e69deec03"
            },
            "outputs": [
                {
                    "output_type": "display_data",
                    "data": {
                        "text/html": "(3 rows affected)"
                    },
                    "metadata": {}
                },
                {
                    "output_type": "display_data",
                    "data": {
                        "text/html": "Total execution time: 00:00:00.060"
                    },
                    "metadata": {}
                },
                {
                    "output_type": "execute_result",
                    "metadata": {},
                    "execution_count": 35,
                    "data": {
                        "application/vnd.dataresource+json": {
                            "schema": {
                                "fields": [
                                    {
                                        "name": "orderyear"
                                    },
                                    {
                                        "name": "curnumcusts"
                                    },
                                    {
                                        "name": "prvnumcusts"
                                    },
                                    {
                                        "name": "growth"
                                    }
                                ]
                            },
                            "data": [
                                {
                                    "0": "2014",
                                    "1": "67",
                                    "2": "NULL",
                                    "3": "NULL"
                                },
                                {
                                    "0": "2015",
                                    "1": "86",
                                    "2": "67",
                                    "3": "19"
                                },
                                {
                                    "0": "2016",
                                    "1": "81",
                                    "2": "86",
                                    "3": "-5"
                                }
                            ]
                        },
                        "text/html": [
                            "<table>",
                            "<tr><th>orderyear</th><th>curnumcusts</th><th>prvnumcusts</th><th>growth</th></tr>",
                            "<tr><td>2014</td><td>67</td><td>NULL</td><td>NULL</td></tr>",
                            "<tr><td>2015</td><td>86</td><td>67</td><td>19</td></tr>",
                            "<tr><td>2016</td><td>81</td><td>86</td><td>-5</td></tr>",
                            "</table>"
                        ]
                    }
                }
            ],
            "execution_count": 35
        },
        {
            "cell_type": "markdown",
            "source": [
                "14)"
            ],
            "metadata": {
                "language": "sql",
                "azdata_cell_guid": "96adf547-67fd-4793-963b-a1b7ace20274"
            },
            "attachments": {}
        },
        {
            "cell_type": "code",
            "source": [
                "use Northwinds2022TSQLV7;\n",
                "\n",
                "WITH EmpsCTE AS\n",
                "(\n",
                "  SELECT EmployeeId as empid, \n",
                "        EmployeeManagerId as  mgrid, \n",
                "        EmployeeFirstName as firstname,\n",
                "        EmployeeLastName as lastname\n",
                "  FROM HumanResources.Employee\n",
                "  WHERE EmployeeId = 2\n",
                "  \n",
                "  UNION ALL --union the two tables, unioning a table to an operation including itself!\n",
                "  \n",
                "  --use employee2 table and employees table to derive a new one\n",
                "  SELECT C.EmployeeId, C.EmployeeManagerId, C.EmployeeFirstName, C.EmployeeLastName\n",
                "  FROM EmpsCTE AS P\n",
                "    INNER JOIN HumanResources.Employee AS C\n",
                "      ON C.EmployeeManagerId = P.empid\n",
                ")\n",
                "SELECT empid, mgrid, firstname, lastname\n",
                "FROM EmpsCTE;"
            ],
            "metadata": {
                "language": "sql",
                "azdata_cell_guid": "33f63e4a-ff08-44ca-ba0b-572fa5a764e9"
            },
            "outputs": [
                {
                    "output_type": "display_data",
                    "data": {
                        "text/html": "(8 rows affected)"
                    },
                    "metadata": {}
                },
                {
                    "output_type": "display_data",
                    "data": {
                        "text/html": "Total execution time: 00:00:00.025"
                    },
                    "metadata": {}
                },
                {
                    "output_type": "execute_result",
                    "metadata": {},
                    "execution_count": 37,
                    "data": {
                        "application/vnd.dataresource+json": {
                            "schema": {
                                "fields": [
                                    {
                                        "name": "empid"
                                    },
                                    {
                                        "name": "mgrid"
                                    },
                                    {
                                        "name": "firstname"
                                    },
                                    {
                                        "name": "lastname"
                                    }
                                ]
                            },
                            "data": [
                                {
                                    "0": "2",
                                    "1": "1",
                                    "2": "Don",
                                    "3": "Funk"
                                },
                                {
                                    "0": "3",
                                    "1": "2",
                                    "2": "Judy",
                                    "3": "Lew"
                                },
                                {
                                    "0": "5",
                                    "1": "2",
                                    "2": "Sven",
                                    "3": "Mortensen"
                                },
                                {
                                    "0": "6",
                                    "1": "5",
                                    "2": "Paul",
                                    "3": "Suurs"
                                },
                                {
                                    "0": "7",
                                    "1": "5",
                                    "2": "Russell",
                                    "3": "King"
                                },
                                {
                                    "0": "9",
                                    "1": "5",
                                    "2": "Patricia",
                                    "3": "Doyle"
                                },
                                {
                                    "0": "4",
                                    "1": "3",
                                    "2": "Yael",
                                    "3": "Peled"
                                },
                                {
                                    "0": "8",
                                    "1": "3",
                                    "2": "Maria",
                                    "3": "Cameron"
                                }
                            ]
                        },
                        "text/html": [
                            "<table>",
                            "<tr><th>empid</th><th>mgrid</th><th>firstname</th><th>lastname</th></tr>",
                            "<tr><td>2</td><td>1</td><td>Don</td><td>Funk</td></tr>",
                            "<tr><td>3</td><td>2</td><td>Judy</td><td>Lew</td></tr>",
                            "<tr><td>5</td><td>2</td><td>Sven</td><td>Mortensen</td></tr>",
                            "<tr><td>6</td><td>5</td><td>Paul</td><td>Suurs</td></tr>",
                            "<tr><td>7</td><td>5</td><td>Russell</td><td>King</td></tr>",
                            "<tr><td>9</td><td>5</td><td>Patricia</td><td>Doyle</td></tr>",
                            "<tr><td>4</td><td>3</td><td>Yael</td><td>Peled</td></tr>",
                            "<tr><td>8</td><td>3</td><td>Maria</td><td>Cameron</td></tr>",
                            "</table>"
                        ]
                    }
                }
            ],
            "execution_count": 37
        }
    ]
}